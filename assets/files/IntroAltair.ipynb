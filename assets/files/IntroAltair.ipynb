{
 "cells": [
  {
   "cell_type": "code",
   "execution_count": 1,
   "metadata": {},
   "outputs": [],
   "source": [
    "import altair as alt"
   ]
  },
  {
   "cell_type": "code",
   "execution_count": 2,
   "metadata": {},
   "outputs": [
    {
     "data": {
      "text/plain": [
       "RendererRegistry.enable('mimetype')"
      ]
     },
     "execution_count": 2,
     "metadata": {},
     "output_type": "execute_result"
    }
   ],
   "source": [
    "alt.renderers.enable('mimetype')\n",
    "# alt.renderers.enable('default')\n",
    "# alt.renderers.enable('notebook')"
   ]
  },
  {
   "cell_type": "code",
   "execution_count": 5,
   "metadata": {},
   "outputs": [],
   "source": [
    "from vega_datasets import data"
   ]
  },
  {
   "cell_type": "code",
   "execution_count": 50,
   "metadata": {},
   "outputs": [
    {
     "data": {
      "application/vnd.vegalite.v4+json": {
       "$schema": "https://vega.github.io/schema/vega-lite/v4.17.0.json",
       "config": {
        "view": {
         "continuousHeight": 300,
         "continuousWidth": 400
        }
       },
       "data": {
        "name": "data-f02450ab61490a1363517a0190416235"
       },
       "datasets": {
        "data-f02450ab61490a1363517a0190416235": [
         {
          "Acceleration": 12,
          "Cylinders": 8,
          "Displacement": 307,
          "Horsepower": 130,
          "Miles_per_Gallon": 18,
          "Name": "chevrolet chevelle malibu",
          "Origin": "USA",
          "Weight_in_lbs": 3504,
          "Year": "1970-01-01T00:00:00"
         },
         {
          "Acceleration": 11.5,
          "Cylinders": 8,
          "Displacement": 350,
          "Horsepower": 165,
          "Miles_per_Gallon": 15,
          "Name": "buick skylark 320",
          "Origin": "USA",
          "Weight_in_lbs": 3693,
          "Year": "1970-01-01T00:00:00"
         },
         {
          "Acceleration": 11,
          "Cylinders": 8,
          "Displacement": 318,
          "Horsepower": 150,
          "Miles_per_Gallon": 18,
          "Name": "plymouth satellite",
          "Origin": "USA",
          "Weight_in_lbs": 3436,
          "Year": "1970-01-01T00:00:00"
         },
         {
          "Acceleration": 12,
          "Cylinders": 8,
          "Displacement": 304,
          "Horsepower": 150,
          "Miles_per_Gallon": 16,
          "Name": "amc rebel sst",
          "Origin": "USA",
          "Weight_in_lbs": 3433,
          "Year": "1970-01-01T00:00:00"
         },
         {
          "Acceleration": 10.5,
          "Cylinders": 8,
          "Displacement": 302,
          "Horsepower": 140,
          "Miles_per_Gallon": 17,
          "Name": "ford torino",
          "Origin": "USA",
          "Weight_in_lbs": 3449,
          "Year": "1970-01-01T00:00:00"
         },
         {
          "Acceleration": 10,
          "Cylinders": 8,
          "Displacement": 429,
          "Horsepower": 198,
          "Miles_per_Gallon": 15,
          "Name": "ford galaxie 500",
          "Origin": "USA",
          "Weight_in_lbs": 4341,
          "Year": "1970-01-01T00:00:00"
         },
         {
          "Acceleration": 9,
          "Cylinders": 8,
          "Displacement": 454,
          "Horsepower": 220,
          "Miles_per_Gallon": 14,
          "Name": "chevrolet impala",
          "Origin": "USA",
          "Weight_in_lbs": 4354,
          "Year": "1970-01-01T00:00:00"
         },
         {
          "Acceleration": 8.5,
          "Cylinders": 8,
          "Displacement": 440,
          "Horsepower": 215,
          "Miles_per_Gallon": 14,
          "Name": "plymouth fury iii",
          "Origin": "USA",
          "Weight_in_lbs": 4312,
          "Year": "1970-01-01T00:00:00"
         },
         {
          "Acceleration": 10,
          "Cylinders": 8,
          "Displacement": 455,
          "Horsepower": 225,
          "Miles_per_Gallon": 14,
          "Name": "pontiac catalina",
          "Origin": "USA",
          "Weight_in_lbs": 4425,
          "Year": "1970-01-01T00:00:00"
         },
         {
          "Acceleration": 8.5,
          "Cylinders": 8,
          "Displacement": 390,
          "Horsepower": 190,
          "Miles_per_Gallon": 15,
          "Name": "amc ambassador dpl",
          "Origin": "USA",
          "Weight_in_lbs": 3850,
          "Year": "1970-01-01T00:00:00"
         },
         {
          "Acceleration": 17.5,
          "Cylinders": 4,
          "Displacement": 133,
          "Horsepower": 115,
          "Miles_per_Gallon": null,
          "Name": "citroen ds-21 pallas",
          "Origin": "Europe",
          "Weight_in_lbs": 3090,
          "Year": "1970-01-01T00:00:00"
         },
         {
          "Acceleration": 11.5,
          "Cylinders": 8,
          "Displacement": 350,
          "Horsepower": 165,
          "Miles_per_Gallon": null,
          "Name": "chevrolet chevelle concours (sw)",
          "Origin": "USA",
          "Weight_in_lbs": 4142,
          "Year": "1970-01-01T00:00:00"
         },
         {
          "Acceleration": 11,
          "Cylinders": 8,
          "Displacement": 351,
          "Horsepower": 153,
          "Miles_per_Gallon": null,
          "Name": "ford torino (sw)",
          "Origin": "USA",
          "Weight_in_lbs": 4034,
          "Year": "1970-01-01T00:00:00"
         },
         {
          "Acceleration": 10.5,
          "Cylinders": 8,
          "Displacement": 383,
          "Horsepower": 175,
          "Miles_per_Gallon": null,
          "Name": "plymouth satellite (sw)",
          "Origin": "USA",
          "Weight_in_lbs": 4166,
          "Year": "1970-01-01T00:00:00"
         },
         {
          "Acceleration": 11,
          "Cylinders": 8,
          "Displacement": 360,
          "Horsepower": 175,
          "Miles_per_Gallon": null,
          "Name": "amc rebel sst (sw)",
          "Origin": "USA",
          "Weight_in_lbs": 3850,
          "Year": "1970-01-01T00:00:00"
         },
         {
          "Acceleration": 10,
          "Cylinders": 8,
          "Displacement": 383,
          "Horsepower": 170,
          "Miles_per_Gallon": 15,
          "Name": "dodge challenger se",
          "Origin": "USA",
          "Weight_in_lbs": 3563,
          "Year": "1970-01-01T00:00:00"
         },
         {
          "Acceleration": 8,
          "Cylinders": 8,
          "Displacement": 340,
          "Horsepower": 160,
          "Miles_per_Gallon": 14,
          "Name": "plymouth 'cuda 340",
          "Origin": "USA",
          "Weight_in_lbs": 3609,
          "Year": "1970-01-01T00:00:00"
         },
         {
          "Acceleration": 8,
          "Cylinders": 8,
          "Displacement": 302,
          "Horsepower": 140,
          "Miles_per_Gallon": null,
          "Name": "ford mustang boss 302",
          "Origin": "USA",
          "Weight_in_lbs": 3353,
          "Year": "1970-01-01T00:00:00"
         },
         {
          "Acceleration": 9.5,
          "Cylinders": 8,
          "Displacement": 400,
          "Horsepower": 150,
          "Miles_per_Gallon": 15,
          "Name": "chevrolet monte carlo",
          "Origin": "USA",
          "Weight_in_lbs": 3761,
          "Year": "1970-01-01T00:00:00"
         },
         {
          "Acceleration": 10,
          "Cylinders": 8,
          "Displacement": 455,
          "Horsepower": 225,
          "Miles_per_Gallon": 14,
          "Name": "buick estate wagon (sw)",
          "Origin": "USA",
          "Weight_in_lbs": 3086,
          "Year": "1970-01-01T00:00:00"
         },
         {
          "Acceleration": 15,
          "Cylinders": 4,
          "Displacement": 113,
          "Horsepower": 95,
          "Miles_per_Gallon": 24,
          "Name": "toyota corona mark ii",
          "Origin": "Japan",
          "Weight_in_lbs": 2372,
          "Year": "1970-01-01T00:00:00"
         },
         {
          "Acceleration": 15.5,
          "Cylinders": 6,
          "Displacement": 198,
          "Horsepower": 95,
          "Miles_per_Gallon": 22,
          "Name": "plymouth duster",
          "Origin": "USA",
          "Weight_in_lbs": 2833,
          "Year": "1970-01-01T00:00:00"
         },
         {
          "Acceleration": 15.5,
          "Cylinders": 6,
          "Displacement": 199,
          "Horsepower": 97,
          "Miles_per_Gallon": 18,
          "Name": "amc hornet",
          "Origin": "USA",
          "Weight_in_lbs": 2774,
          "Year": "1970-01-01T00:00:00"
         },
         {
          "Acceleration": 16,
          "Cylinders": 6,
          "Displacement": 200,
          "Horsepower": 85,
          "Miles_per_Gallon": 21,
          "Name": "ford maverick",
          "Origin": "USA",
          "Weight_in_lbs": 2587,
          "Year": "1970-01-01T00:00:00"
         },
         {
          "Acceleration": 14.5,
          "Cylinders": 4,
          "Displacement": 97,
          "Horsepower": 88,
          "Miles_per_Gallon": 27,
          "Name": "datsun pl510",
          "Origin": "Japan",
          "Weight_in_lbs": 2130,
          "Year": "1970-01-01T00:00:00"
         },
         {
          "Acceleration": 20.5,
          "Cylinders": 4,
          "Displacement": 97,
          "Horsepower": 46,
          "Miles_per_Gallon": 26,
          "Name": "volkswagen 1131 deluxe sedan",
          "Origin": "Europe",
          "Weight_in_lbs": 1835,
          "Year": "1970-01-01T00:00:00"
         },
         {
          "Acceleration": 17.5,
          "Cylinders": 4,
          "Displacement": 110,
          "Horsepower": 87,
          "Miles_per_Gallon": 25,
          "Name": "peugeot 504",
          "Origin": "Europe",
          "Weight_in_lbs": 2672,
          "Year": "1970-01-01T00:00:00"
         },
         {
          "Acceleration": 14.5,
          "Cylinders": 4,
          "Displacement": 107,
          "Horsepower": 90,
          "Miles_per_Gallon": 24,
          "Name": "audi 100 ls",
          "Origin": "Europe",
          "Weight_in_lbs": 2430,
          "Year": "1970-01-01T00:00:00"
         },
         {
          "Acceleration": 17.5,
          "Cylinders": 4,
          "Displacement": 104,
          "Horsepower": 95,
          "Miles_per_Gallon": 25,
          "Name": "saab 99e",
          "Origin": "Europe",
          "Weight_in_lbs": 2375,
          "Year": "1970-01-01T00:00:00"
         },
         {
          "Acceleration": 12.5,
          "Cylinders": 4,
          "Displacement": 121,
          "Horsepower": 113,
          "Miles_per_Gallon": 26,
          "Name": "bmw 2002",
          "Origin": "Europe",
          "Weight_in_lbs": 2234,
          "Year": "1970-01-01T00:00:00"
         },
         {
          "Acceleration": 15,
          "Cylinders": 6,
          "Displacement": 199,
          "Horsepower": 90,
          "Miles_per_Gallon": 21,
          "Name": "amc gremlin",
          "Origin": "USA",
          "Weight_in_lbs": 2648,
          "Year": "1970-01-01T00:00:00"
         },
         {
          "Acceleration": 14,
          "Cylinders": 8,
          "Displacement": 360,
          "Horsepower": 215,
          "Miles_per_Gallon": 10,
          "Name": "ford f250",
          "Origin": "USA",
          "Weight_in_lbs": 4615,
          "Year": "1970-01-01T00:00:00"
         },
         {
          "Acceleration": 15,
          "Cylinders": 8,
          "Displacement": 307,
          "Horsepower": 200,
          "Miles_per_Gallon": 10,
          "Name": "chevy c20",
          "Origin": "USA",
          "Weight_in_lbs": 4376,
          "Year": "1970-01-01T00:00:00"
         },
         {
          "Acceleration": 13.5,
          "Cylinders": 8,
          "Displacement": 318,
          "Horsepower": 210,
          "Miles_per_Gallon": 11,
          "Name": "dodge d200",
          "Origin": "USA",
          "Weight_in_lbs": 4382,
          "Year": "1970-01-01T00:00:00"
         },
         {
          "Acceleration": 18.5,
          "Cylinders": 8,
          "Displacement": 304,
          "Horsepower": 193,
          "Miles_per_Gallon": 9,
          "Name": "hi 1200d",
          "Origin": "USA",
          "Weight_in_lbs": 4732,
          "Year": "1970-01-01T00:00:00"
         },
         {
          "Acceleration": 14.5,
          "Cylinders": 4,
          "Displacement": 97,
          "Horsepower": 88,
          "Miles_per_Gallon": 27,
          "Name": "datsun pl510",
          "Origin": "Japan",
          "Weight_in_lbs": 2130,
          "Year": "1971-01-01T00:00:00"
         },
         {
          "Acceleration": 15.5,
          "Cylinders": 4,
          "Displacement": 140,
          "Horsepower": 90,
          "Miles_per_Gallon": 28,
          "Name": "chevrolet vega 2300",
          "Origin": "USA",
          "Weight_in_lbs": 2264,
          "Year": "1971-01-01T00:00:00"
         },
         {
          "Acceleration": 14,
          "Cylinders": 4,
          "Displacement": 113,
          "Horsepower": 95,
          "Miles_per_Gallon": 25,
          "Name": "toyota corona",
          "Origin": "Japan",
          "Weight_in_lbs": 2228,
          "Year": "1971-01-01T00:00:00"
         },
         {
          "Acceleration": 19,
          "Cylinders": 4,
          "Displacement": 98,
          "Horsepower": null,
          "Miles_per_Gallon": 25,
          "Name": "ford pinto",
          "Origin": "USA",
          "Weight_in_lbs": 2046,
          "Year": "1971-01-01T00:00:00"
         },
         {
          "Acceleration": 20,
          "Cylinders": 4,
          "Displacement": 97,
          "Horsepower": 48,
          "Miles_per_Gallon": null,
          "Name": "volkswagen super beetle 117",
          "Origin": "Europe",
          "Weight_in_lbs": 1978,
          "Year": "1971-01-01T00:00:00"
         },
         {
          "Acceleration": 13,
          "Cylinders": 6,
          "Displacement": 232,
          "Horsepower": 100,
          "Miles_per_Gallon": 19,
          "Name": "amc gremlin",
          "Origin": "USA",
          "Weight_in_lbs": 2634,
          "Year": "1971-01-01T00:00:00"
         },
         {
          "Acceleration": 15.5,
          "Cylinders": 6,
          "Displacement": 225,
          "Horsepower": 105,
          "Miles_per_Gallon": 16,
          "Name": "plymouth satellite custom",
          "Origin": "USA",
          "Weight_in_lbs": 3439,
          "Year": "1971-01-01T00:00:00"
         },
         {
          "Acceleration": 15.5,
          "Cylinders": 6,
          "Displacement": 250,
          "Horsepower": 100,
          "Miles_per_Gallon": 17,
          "Name": "chevrolet chevelle malibu",
          "Origin": "USA",
          "Weight_in_lbs": 3329,
          "Year": "1971-01-01T00:00:00"
         },
         {
          "Acceleration": 15.5,
          "Cylinders": 6,
          "Displacement": 250,
          "Horsepower": 88,
          "Miles_per_Gallon": 19,
          "Name": "ford torino 500",
          "Origin": "USA",
          "Weight_in_lbs": 3302,
          "Year": "1971-01-01T00:00:00"
         },
         {
          "Acceleration": 15.5,
          "Cylinders": 6,
          "Displacement": 232,
          "Horsepower": 100,
          "Miles_per_Gallon": 18,
          "Name": "amc matador",
          "Origin": "USA",
          "Weight_in_lbs": 3288,
          "Year": "1971-01-01T00:00:00"
         },
         {
          "Acceleration": 12,
          "Cylinders": 8,
          "Displacement": 350,
          "Horsepower": 165,
          "Miles_per_Gallon": 14,
          "Name": "chevrolet impala",
          "Origin": "USA",
          "Weight_in_lbs": 4209,
          "Year": "1971-01-01T00:00:00"
         },
         {
          "Acceleration": 11.5,
          "Cylinders": 8,
          "Displacement": 400,
          "Horsepower": 175,
          "Miles_per_Gallon": 14,
          "Name": "pontiac catalina brougham",
          "Origin": "USA",
          "Weight_in_lbs": 4464,
          "Year": "1971-01-01T00:00:00"
         },
         {
          "Acceleration": 13.5,
          "Cylinders": 8,
          "Displacement": 351,
          "Horsepower": 153,
          "Miles_per_Gallon": 14,
          "Name": "ford galaxie 500",
          "Origin": "USA",
          "Weight_in_lbs": 4154,
          "Year": "1971-01-01T00:00:00"
         },
         {
          "Acceleration": 13,
          "Cylinders": 8,
          "Displacement": 318,
          "Horsepower": 150,
          "Miles_per_Gallon": 14,
          "Name": "plymouth fury iii",
          "Origin": "USA",
          "Weight_in_lbs": 4096,
          "Year": "1971-01-01T00:00:00"
         },
         {
          "Acceleration": 11.5,
          "Cylinders": 8,
          "Displacement": 383,
          "Horsepower": 180,
          "Miles_per_Gallon": 12,
          "Name": "dodge monaco (sw)",
          "Origin": "USA",
          "Weight_in_lbs": 4955,
          "Year": "1971-01-01T00:00:00"
         },
         {
          "Acceleration": 12,
          "Cylinders": 8,
          "Displacement": 400,
          "Horsepower": 170,
          "Miles_per_Gallon": 13,
          "Name": "ford country squire (sw)",
          "Origin": "USA",
          "Weight_in_lbs": 4746,
          "Year": "1971-01-01T00:00:00"
         },
         {
          "Acceleration": 12,
          "Cylinders": 8,
          "Displacement": 400,
          "Horsepower": 175,
          "Miles_per_Gallon": 13,
          "Name": "pontiac safari (sw)",
          "Origin": "USA",
          "Weight_in_lbs": 5140,
          "Year": "1971-01-01T00:00:00"
         },
         {
          "Acceleration": 13.5,
          "Cylinders": 6,
          "Displacement": 258,
          "Horsepower": 110,
          "Miles_per_Gallon": 18,
          "Name": "amc hornet sportabout (sw)",
          "Origin": "USA",
          "Weight_in_lbs": 2962,
          "Year": "1971-01-01T00:00:00"
         },
         {
          "Acceleration": 19,
          "Cylinders": 4,
          "Displacement": 140,
          "Horsepower": 72,
          "Miles_per_Gallon": 22,
          "Name": "chevrolet vega (sw)",
          "Origin": "USA",
          "Weight_in_lbs": 2408,
          "Year": "1971-01-01T00:00:00"
         },
         {
          "Acceleration": 15,
          "Cylinders": 6,
          "Displacement": 250,
          "Horsepower": 100,
          "Miles_per_Gallon": 19,
          "Name": "pontiac firebird",
          "Origin": "USA",
          "Weight_in_lbs": 3282,
          "Year": "1971-01-01T00:00:00"
         },
         {
          "Acceleration": 14.5,
          "Cylinders": 6,
          "Displacement": 250,
          "Horsepower": 88,
          "Miles_per_Gallon": 18,
          "Name": "ford mustang",
          "Origin": "USA",
          "Weight_in_lbs": 3139,
          "Year": "1971-01-01T00:00:00"
         },
         {
          "Acceleration": 14,
          "Cylinders": 4,
          "Displacement": 122,
          "Horsepower": 86,
          "Miles_per_Gallon": 23,
          "Name": "mercury capri 2000",
          "Origin": "USA",
          "Weight_in_lbs": 2220,
          "Year": "1971-01-01T00:00:00"
         },
         {
          "Acceleration": 14,
          "Cylinders": 4,
          "Displacement": 116,
          "Horsepower": 90,
          "Miles_per_Gallon": 28,
          "Name": "opel 1900",
          "Origin": "Europe",
          "Weight_in_lbs": 2123,
          "Year": "1971-01-01T00:00:00"
         },
         {
          "Acceleration": 19.5,
          "Cylinders": 4,
          "Displacement": 79,
          "Horsepower": 70,
          "Miles_per_Gallon": 30,
          "Name": "peugeot 304",
          "Origin": "Europe",
          "Weight_in_lbs": 2074,
          "Year": "1971-01-01T00:00:00"
         },
         {
          "Acceleration": 14.5,
          "Cylinders": 4,
          "Displacement": 88,
          "Horsepower": 76,
          "Miles_per_Gallon": 30,
          "Name": "fiat 124b",
          "Origin": "Europe",
          "Weight_in_lbs": 2065,
          "Year": "1971-01-01T00:00:00"
         },
         {
          "Acceleration": 19,
          "Cylinders": 4,
          "Displacement": 71,
          "Horsepower": 65,
          "Miles_per_Gallon": 31,
          "Name": "toyota corolla 1200",
          "Origin": "Japan",
          "Weight_in_lbs": 1773,
          "Year": "1971-01-01T00:00:00"
         },
         {
          "Acceleration": 18,
          "Cylinders": 4,
          "Displacement": 72,
          "Horsepower": 69,
          "Miles_per_Gallon": 35,
          "Name": "datsun 1200",
          "Origin": "Japan",
          "Weight_in_lbs": 1613,
          "Year": "1971-01-01T00:00:00"
         },
         {
          "Acceleration": 19,
          "Cylinders": 4,
          "Displacement": 97,
          "Horsepower": 60,
          "Miles_per_Gallon": 27,
          "Name": "volkswagen model 111",
          "Origin": "Europe",
          "Weight_in_lbs": 1834,
          "Year": "1971-01-01T00:00:00"
         },
         {
          "Acceleration": 20.5,
          "Cylinders": 4,
          "Displacement": 91,
          "Horsepower": 70,
          "Miles_per_Gallon": 26,
          "Name": "plymouth cricket",
          "Origin": "USA",
          "Weight_in_lbs": 1955,
          "Year": "1971-01-01T00:00:00"
         },
         {
          "Acceleration": 15.5,
          "Cylinders": 4,
          "Displacement": 113,
          "Horsepower": 95,
          "Miles_per_Gallon": 24,
          "Name": "toyota corona hardtop",
          "Origin": "Japan",
          "Weight_in_lbs": 2278,
          "Year": "1972-01-01T00:00:00"
         },
         {
          "Acceleration": 17,
          "Cylinders": 4,
          "Displacement": 97.5,
          "Horsepower": 80,
          "Miles_per_Gallon": 25,
          "Name": "dodge colt hardtop",
          "Origin": "USA",
          "Weight_in_lbs": 2126,
          "Year": "1972-01-01T00:00:00"
         },
         {
          "Acceleration": 23.5,
          "Cylinders": 4,
          "Displacement": 97,
          "Horsepower": 54,
          "Miles_per_Gallon": 23,
          "Name": "volkswagen type 3",
          "Origin": "Europe",
          "Weight_in_lbs": 2254,
          "Year": "1972-01-01T00:00:00"
         },
         {
          "Acceleration": 19.5,
          "Cylinders": 4,
          "Displacement": 140,
          "Horsepower": 90,
          "Miles_per_Gallon": 20,
          "Name": "chevrolet vega",
          "Origin": "USA",
          "Weight_in_lbs": 2408,
          "Year": "1972-01-01T00:00:00"
         },
         {
          "Acceleration": 16.5,
          "Cylinders": 4,
          "Displacement": 122,
          "Horsepower": 86,
          "Miles_per_Gallon": 21,
          "Name": "ford pinto runabout",
          "Origin": "USA",
          "Weight_in_lbs": 2226,
          "Year": "1972-01-01T00:00:00"
         },
         {
          "Acceleration": 12,
          "Cylinders": 8,
          "Displacement": 350,
          "Horsepower": 165,
          "Miles_per_Gallon": 13,
          "Name": "chevrolet impala",
          "Origin": "USA",
          "Weight_in_lbs": 4274,
          "Year": "1972-01-01T00:00:00"
         },
         {
          "Acceleration": 12,
          "Cylinders": 8,
          "Displacement": 400,
          "Horsepower": 175,
          "Miles_per_Gallon": 14,
          "Name": "pontiac catalina",
          "Origin": "USA",
          "Weight_in_lbs": 4385,
          "Year": "1972-01-01T00:00:00"
         },
         {
          "Acceleration": 13.5,
          "Cylinders": 8,
          "Displacement": 318,
          "Horsepower": 150,
          "Miles_per_Gallon": 15,
          "Name": "plymouth fury iii",
          "Origin": "USA",
          "Weight_in_lbs": 4135,
          "Year": "1972-01-01T00:00:00"
         },
         {
          "Acceleration": 13,
          "Cylinders": 8,
          "Displacement": 351,
          "Horsepower": 153,
          "Miles_per_Gallon": 14,
          "Name": "ford galaxie 500",
          "Origin": "USA",
          "Weight_in_lbs": 4129,
          "Year": "1972-01-01T00:00:00"
         },
         {
          "Acceleration": 11.5,
          "Cylinders": 8,
          "Displacement": 304,
          "Horsepower": 150,
          "Miles_per_Gallon": 17,
          "Name": "amc ambassador sst",
          "Origin": "USA",
          "Weight_in_lbs": 3672,
          "Year": "1972-01-01T00:00:00"
         },
         {
          "Acceleration": 11,
          "Cylinders": 8,
          "Displacement": 429,
          "Horsepower": 208,
          "Miles_per_Gallon": 11,
          "Name": "mercury marquis",
          "Origin": "USA",
          "Weight_in_lbs": 4633,
          "Year": "1972-01-01T00:00:00"
         },
         {
          "Acceleration": 13.5,
          "Cylinders": 8,
          "Displacement": 350,
          "Horsepower": 155,
          "Miles_per_Gallon": 13,
          "Name": "buick lesabre custom",
          "Origin": "USA",
          "Weight_in_lbs": 4502,
          "Year": "1972-01-01T00:00:00"
         },
         {
          "Acceleration": 13.5,
          "Cylinders": 8,
          "Displacement": 350,
          "Horsepower": 160,
          "Miles_per_Gallon": 12,
          "Name": "oldsmobile delta 88 royale",
          "Origin": "USA",
          "Weight_in_lbs": 4456,
          "Year": "1972-01-01T00:00:00"
         },
         {
          "Acceleration": 12.5,
          "Cylinders": 8,
          "Displacement": 400,
          "Horsepower": 190,
          "Miles_per_Gallon": 13,
          "Name": "chrysler newport royal",
          "Origin": "USA",
          "Weight_in_lbs": 4422,
          "Year": "1972-01-01T00:00:00"
         },
         {
          "Acceleration": 13.5,
          "Cylinders": 3,
          "Displacement": 70,
          "Horsepower": 97,
          "Miles_per_Gallon": 19,
          "Name": "mazda rx2 coupe",
          "Origin": "Japan",
          "Weight_in_lbs": 2330,
          "Year": "1972-01-01T00:00:00"
         },
         {
          "Acceleration": 12.5,
          "Cylinders": 8,
          "Displacement": 304,
          "Horsepower": 150,
          "Miles_per_Gallon": 15,
          "Name": "amc matador (sw)",
          "Origin": "USA",
          "Weight_in_lbs": 3892,
          "Year": "1972-01-01T00:00:00"
         },
         {
          "Acceleration": 14,
          "Cylinders": 8,
          "Displacement": 307,
          "Horsepower": 130,
          "Miles_per_Gallon": 13,
          "Name": "chevrolet chevelle concours (sw)",
          "Origin": "USA",
          "Weight_in_lbs": 4098,
          "Year": "1972-01-01T00:00:00"
         },
         {
          "Acceleration": 16,
          "Cylinders": 8,
          "Displacement": 302,
          "Horsepower": 140,
          "Miles_per_Gallon": 13,
          "Name": "ford gran torino (sw)",
          "Origin": "USA",
          "Weight_in_lbs": 4294,
          "Year": "1972-01-01T00:00:00"
         },
         {
          "Acceleration": 14,
          "Cylinders": 8,
          "Displacement": 318,
          "Horsepower": 150,
          "Miles_per_Gallon": 14,
          "Name": "plymouth satellite custom (sw)",
          "Origin": "USA",
          "Weight_in_lbs": 4077,
          "Year": "1972-01-01T00:00:00"
         },
         {
          "Acceleration": 14.5,
          "Cylinders": 4,
          "Displacement": 121,
          "Horsepower": 112,
          "Miles_per_Gallon": 18,
          "Name": "volvo 145e (sw)",
          "Origin": "Europe",
          "Weight_in_lbs": 2933,
          "Year": "1972-01-01T00:00:00"
         },
         {
          "Acceleration": 18,
          "Cylinders": 4,
          "Displacement": 121,
          "Horsepower": 76,
          "Miles_per_Gallon": 22,
          "Name": "volkswagen 411 (sw)",
          "Origin": "Europe",
          "Weight_in_lbs": 2511,
          "Year": "1972-01-01T00:00:00"
         },
         {
          "Acceleration": 19.5,
          "Cylinders": 4,
          "Displacement": 120,
          "Horsepower": 87,
          "Miles_per_Gallon": 21,
          "Name": "peugeot 504 (sw)",
          "Origin": "Europe",
          "Weight_in_lbs": 2979,
          "Year": "1972-01-01T00:00:00"
         },
         {
          "Acceleration": 18,
          "Cylinders": 4,
          "Displacement": 96,
          "Horsepower": 69,
          "Miles_per_Gallon": 26,
          "Name": "renault 12 (sw)",
          "Origin": "Europe",
          "Weight_in_lbs": 2189,
          "Year": "1972-01-01T00:00:00"
         },
         {
          "Acceleration": 16,
          "Cylinders": 4,
          "Displacement": 122,
          "Horsepower": 86,
          "Miles_per_Gallon": 22,
          "Name": "ford pinto (sw)",
          "Origin": "USA",
          "Weight_in_lbs": 2395,
          "Year": "1972-01-01T00:00:00"
         },
         {
          "Acceleration": 17,
          "Cylinders": 4,
          "Displacement": 97,
          "Horsepower": 92,
          "Miles_per_Gallon": 28,
          "Name": "datsun 510 (sw)",
          "Origin": "Japan",
          "Weight_in_lbs": 2288,
          "Year": "1972-01-01T00:00:00"
         },
         {
          "Acceleration": 14.5,
          "Cylinders": 4,
          "Displacement": 120,
          "Horsepower": 97,
          "Miles_per_Gallon": 23,
          "Name": "toyouta corona mark ii (sw)",
          "Origin": "Japan",
          "Weight_in_lbs": 2506,
          "Year": "1972-01-01T00:00:00"
         },
         {
          "Acceleration": 15,
          "Cylinders": 4,
          "Displacement": 98,
          "Horsepower": 80,
          "Miles_per_Gallon": 28,
          "Name": "dodge colt (sw)",
          "Origin": "USA",
          "Weight_in_lbs": 2164,
          "Year": "1972-01-01T00:00:00"
         },
         {
          "Acceleration": 16.5,
          "Cylinders": 4,
          "Displacement": 97,
          "Horsepower": 88,
          "Miles_per_Gallon": 27,
          "Name": "toyota corolla 1600 (sw)",
          "Origin": "Japan",
          "Weight_in_lbs": 2100,
          "Year": "1972-01-01T00:00:00"
         },
         {
          "Acceleration": 13,
          "Cylinders": 8,
          "Displacement": 350,
          "Horsepower": 175,
          "Miles_per_Gallon": 13,
          "Name": "buick century 350",
          "Origin": "USA",
          "Weight_in_lbs": 4100,
          "Year": "1973-01-01T00:00:00"
         },
         {
          "Acceleration": 11.5,
          "Cylinders": 8,
          "Displacement": 304,
          "Horsepower": 150,
          "Miles_per_Gallon": 14,
          "Name": "amc matador",
          "Origin": "USA",
          "Weight_in_lbs": 3672,
          "Year": "1973-01-01T00:00:00"
         },
         {
          "Acceleration": 13,
          "Cylinders": 8,
          "Displacement": 350,
          "Horsepower": 145,
          "Miles_per_Gallon": 13,
          "Name": "chevrolet malibu",
          "Origin": "USA",
          "Weight_in_lbs": 3988,
          "Year": "1973-01-01T00:00:00"
         },
         {
          "Acceleration": 14.5,
          "Cylinders": 8,
          "Displacement": 302,
          "Horsepower": 137,
          "Miles_per_Gallon": 14,
          "Name": "ford gran torino",
          "Origin": "USA",
          "Weight_in_lbs": 4042,
          "Year": "1973-01-01T00:00:00"
         },
         {
          "Acceleration": 12.5,
          "Cylinders": 8,
          "Displacement": 318,
          "Horsepower": 150,
          "Miles_per_Gallon": 15,
          "Name": "dodge coronet custom",
          "Origin": "USA",
          "Weight_in_lbs": 3777,
          "Year": "1973-01-01T00:00:00"
         },
         {
          "Acceleration": 11.5,
          "Cylinders": 8,
          "Displacement": 429,
          "Horsepower": 198,
          "Miles_per_Gallon": 12,
          "Name": "mercury marquis brougham",
          "Origin": "USA",
          "Weight_in_lbs": 4952,
          "Year": "1973-01-01T00:00:00"
         },
         {
          "Acceleration": 12,
          "Cylinders": 8,
          "Displacement": 400,
          "Horsepower": 150,
          "Miles_per_Gallon": 13,
          "Name": "chevrolet caprice classic",
          "Origin": "USA",
          "Weight_in_lbs": 4464,
          "Year": "1973-01-01T00:00:00"
         },
         {
          "Acceleration": 13,
          "Cylinders": 8,
          "Displacement": 351,
          "Horsepower": 158,
          "Miles_per_Gallon": 13,
          "Name": "ford ltd",
          "Origin": "USA",
          "Weight_in_lbs": 4363,
          "Year": "1973-01-01T00:00:00"
         },
         {
          "Acceleration": 14.5,
          "Cylinders": 8,
          "Displacement": 318,
          "Horsepower": 150,
          "Miles_per_Gallon": 14,
          "Name": "plymouth fury gran sedan",
          "Origin": "USA",
          "Weight_in_lbs": 4237,
          "Year": "1973-01-01T00:00:00"
         },
         {
          "Acceleration": 11,
          "Cylinders": 8,
          "Displacement": 440,
          "Horsepower": 215,
          "Miles_per_Gallon": 13,
          "Name": "chrysler new yorker brougham",
          "Origin": "USA",
          "Weight_in_lbs": 4735,
          "Year": "1973-01-01T00:00:00"
         },
         {
          "Acceleration": 11,
          "Cylinders": 8,
          "Displacement": 455,
          "Horsepower": 225,
          "Miles_per_Gallon": 12,
          "Name": "buick electra 225 custom",
          "Origin": "USA",
          "Weight_in_lbs": 4951,
          "Year": "1973-01-01T00:00:00"
         },
         {
          "Acceleration": 11,
          "Cylinders": 8,
          "Displacement": 360,
          "Horsepower": 175,
          "Miles_per_Gallon": 13,
          "Name": "amc ambassador brougham",
          "Origin": "USA",
          "Weight_in_lbs": 3821,
          "Year": "1973-01-01T00:00:00"
         },
         {
          "Acceleration": 16.5,
          "Cylinders": 6,
          "Displacement": 225,
          "Horsepower": 105,
          "Miles_per_Gallon": 18,
          "Name": "plymouth valiant",
          "Origin": "USA",
          "Weight_in_lbs": 3121,
          "Year": "1973-01-01T00:00:00"
         },
         {
          "Acceleration": 18,
          "Cylinders": 6,
          "Displacement": 250,
          "Horsepower": 100,
          "Miles_per_Gallon": 16,
          "Name": "chevrolet nova custom",
          "Origin": "USA",
          "Weight_in_lbs": 3278,
          "Year": "1973-01-01T00:00:00"
         },
         {
          "Acceleration": 16,
          "Cylinders": 6,
          "Displacement": 232,
          "Horsepower": 100,
          "Miles_per_Gallon": 18,
          "Name": "amc hornet",
          "Origin": "USA",
          "Weight_in_lbs": 2945,
          "Year": "1973-01-01T00:00:00"
         },
         {
          "Acceleration": 16.5,
          "Cylinders": 6,
          "Displacement": 250,
          "Horsepower": 88,
          "Miles_per_Gallon": 18,
          "Name": "ford maverick",
          "Origin": "USA",
          "Weight_in_lbs": 3021,
          "Year": "1973-01-01T00:00:00"
         },
         {
          "Acceleration": 16,
          "Cylinders": 6,
          "Displacement": 198,
          "Horsepower": 95,
          "Miles_per_Gallon": 23,
          "Name": "plymouth duster",
          "Origin": "USA",
          "Weight_in_lbs": 2904,
          "Year": "1973-01-01T00:00:00"
         },
         {
          "Acceleration": 21,
          "Cylinders": 4,
          "Displacement": 97,
          "Horsepower": 46,
          "Miles_per_Gallon": 26,
          "Name": "volkswagen super beetle",
          "Origin": "Europe",
          "Weight_in_lbs": 1950,
          "Year": "1973-01-01T00:00:00"
         },
         {
          "Acceleration": 14,
          "Cylinders": 8,
          "Displacement": 400,
          "Horsepower": 150,
          "Miles_per_Gallon": 11,
          "Name": "chevrolet impala",
          "Origin": "USA",
          "Weight_in_lbs": 4997,
          "Year": "1973-01-01T00:00:00"
         },
         {
          "Acceleration": 12.5,
          "Cylinders": 8,
          "Displacement": 400,
          "Horsepower": 167,
          "Miles_per_Gallon": 12,
          "Name": "ford country",
          "Origin": "USA",
          "Weight_in_lbs": 4906,
          "Year": "1973-01-01T00:00:00"
         },
         {
          "Acceleration": 13,
          "Cylinders": 8,
          "Displacement": 360,
          "Horsepower": 170,
          "Miles_per_Gallon": 13,
          "Name": "plymouth custom suburb",
          "Origin": "USA",
          "Weight_in_lbs": 4654,
          "Year": "1973-01-01T00:00:00"
         },
         {
          "Acceleration": 12.5,
          "Cylinders": 8,
          "Displacement": 350,
          "Horsepower": 180,
          "Miles_per_Gallon": 12,
          "Name": "oldsmobile vista cruiser",
          "Origin": "USA",
          "Weight_in_lbs": 4499,
          "Year": "1973-01-01T00:00:00"
         },
         {
          "Acceleration": 15,
          "Cylinders": 6,
          "Displacement": 232,
          "Horsepower": 100,
          "Miles_per_Gallon": 18,
          "Name": "amc gremlin",
          "Origin": "USA",
          "Weight_in_lbs": 2789,
          "Year": "1973-01-01T00:00:00"
         },
         {
          "Acceleration": 19,
          "Cylinders": 4,
          "Displacement": 97,
          "Horsepower": 88,
          "Miles_per_Gallon": 20,
          "Name": "toyota carina",
          "Origin": "Japan",
          "Weight_in_lbs": 2279,
          "Year": "1973-01-01T00:00:00"
         },
         {
          "Acceleration": 19.5,
          "Cylinders": 4,
          "Displacement": 140,
          "Horsepower": 72,
          "Miles_per_Gallon": 21,
          "Name": "chevrolet vega",
          "Origin": "USA",
          "Weight_in_lbs": 2401,
          "Year": "1973-01-01T00:00:00"
         },
         {
          "Acceleration": 16.5,
          "Cylinders": 4,
          "Displacement": 108,
          "Horsepower": 94,
          "Miles_per_Gallon": 22,
          "Name": "datsun 610",
          "Origin": "Japan",
          "Weight_in_lbs": 2379,
          "Year": "1973-01-01T00:00:00"
         },
         {
          "Acceleration": 13.5,
          "Cylinders": 3,
          "Displacement": 70,
          "Horsepower": 90,
          "Miles_per_Gallon": 18,
          "Name": "maxda rx3",
          "Origin": "Japan",
          "Weight_in_lbs": 2124,
          "Year": "1973-01-01T00:00:00"
         },
         {
          "Acceleration": 18.5,
          "Cylinders": 4,
          "Displacement": 122,
          "Horsepower": 85,
          "Miles_per_Gallon": 19,
          "Name": "ford pinto",
          "Origin": "USA",
          "Weight_in_lbs": 2310,
          "Year": "1973-01-01T00:00:00"
         },
         {
          "Acceleration": 14,
          "Cylinders": 6,
          "Displacement": 155,
          "Horsepower": 107,
          "Miles_per_Gallon": 21,
          "Name": "mercury capri v6",
          "Origin": "USA",
          "Weight_in_lbs": 2472,
          "Year": "1973-01-01T00:00:00"
         },
         {
          "Acceleration": 15.5,
          "Cylinders": 4,
          "Displacement": 98,
          "Horsepower": 90,
          "Miles_per_Gallon": 26,
          "Name": "fiat 124 sport coupe",
          "Origin": "Europe",
          "Weight_in_lbs": 2265,
          "Year": "1973-01-01T00:00:00"
         },
         {
          "Acceleration": 13,
          "Cylinders": 8,
          "Displacement": 350,
          "Horsepower": 145,
          "Miles_per_Gallon": 15,
          "Name": "chevrolet monte carlo s",
          "Origin": "USA",
          "Weight_in_lbs": 4082,
          "Year": "1973-01-01T00:00:00"
         },
         {
          "Acceleration": 9.5,
          "Cylinders": 8,
          "Displacement": 400,
          "Horsepower": 230,
          "Miles_per_Gallon": 16,
          "Name": "pontiac grand prix",
          "Origin": "USA",
          "Weight_in_lbs": 4278,
          "Year": "1973-01-01T00:00:00"
         },
         {
          "Acceleration": 19.5,
          "Cylinders": 4,
          "Displacement": 68,
          "Horsepower": 49,
          "Miles_per_Gallon": 29,
          "Name": "fiat 128",
          "Origin": "Europe",
          "Weight_in_lbs": 1867,
          "Year": "1973-01-01T00:00:00"
         },
         {
          "Acceleration": 15.5,
          "Cylinders": 4,
          "Displacement": 116,
          "Horsepower": 75,
          "Miles_per_Gallon": 24,
          "Name": "opel manta",
          "Origin": "Europe",
          "Weight_in_lbs": 2158,
          "Year": "1973-01-01T00:00:00"
         },
         {
          "Acceleration": 14,
          "Cylinders": 4,
          "Displacement": 114,
          "Horsepower": 91,
          "Miles_per_Gallon": 20,
          "Name": "audi 100ls",
          "Origin": "Europe",
          "Weight_in_lbs": 2582,
          "Year": "1973-01-01T00:00:00"
         },
         {
          "Acceleration": 15.5,
          "Cylinders": 4,
          "Displacement": 121,
          "Horsepower": 112,
          "Miles_per_Gallon": 19,
          "Name": "volvo 144ea",
          "Origin": "Europe",
          "Weight_in_lbs": 2868,
          "Year": "1973-01-01T00:00:00"
         },
         {
          "Acceleration": 11,
          "Cylinders": 8,
          "Displacement": 318,
          "Horsepower": 150,
          "Miles_per_Gallon": 15,
          "Name": "dodge dart custom",
          "Origin": "USA",
          "Weight_in_lbs": 3399,
          "Year": "1973-01-01T00:00:00"
         },
         {
          "Acceleration": 14,
          "Cylinders": 4,
          "Displacement": 121,
          "Horsepower": 110,
          "Miles_per_Gallon": 24,
          "Name": "saab 99le",
          "Origin": "Europe",
          "Weight_in_lbs": 2660,
          "Year": "1973-01-01T00:00:00"
         },
         {
          "Acceleration": 13.5,
          "Cylinders": 6,
          "Displacement": 156,
          "Horsepower": 122,
          "Miles_per_Gallon": 20,
          "Name": "toyota mark ii",
          "Origin": "Japan",
          "Weight_in_lbs": 2807,
          "Year": "1973-01-01T00:00:00"
         },
         {
          "Acceleration": 11,
          "Cylinders": 8,
          "Displacement": 350,
          "Horsepower": 180,
          "Miles_per_Gallon": 11,
          "Name": "oldsmobile omega",
          "Origin": "USA",
          "Weight_in_lbs": 3664,
          "Year": "1973-01-01T00:00:00"
         },
         {
          "Acceleration": 16.5,
          "Cylinders": 6,
          "Displacement": 198,
          "Horsepower": 95,
          "Miles_per_Gallon": 20,
          "Name": "plymouth duster",
          "Origin": "USA",
          "Weight_in_lbs": 3102,
          "Year": "1974-01-01T00:00:00"
         },
         {
          "Acceleration": 17,
          "Cylinders": 6,
          "Displacement": 200,
          "Horsepower": null,
          "Miles_per_Gallon": 21,
          "Name": "ford maverick",
          "Origin": "USA",
          "Weight_in_lbs": 2875,
          "Year": "1974-01-01T00:00:00"
         },
         {
          "Acceleration": 16,
          "Cylinders": 6,
          "Displacement": 232,
          "Horsepower": 100,
          "Miles_per_Gallon": 19,
          "Name": "amc hornet",
          "Origin": "USA",
          "Weight_in_lbs": 2901,
          "Year": "1974-01-01T00:00:00"
         },
         {
          "Acceleration": 17,
          "Cylinders": 6,
          "Displacement": 250,
          "Horsepower": 100,
          "Miles_per_Gallon": 15,
          "Name": "chevrolet nova",
          "Origin": "USA",
          "Weight_in_lbs": 3336,
          "Year": "1974-01-01T00:00:00"
         },
         {
          "Acceleration": 19,
          "Cylinders": 4,
          "Displacement": 79,
          "Horsepower": 67,
          "Miles_per_Gallon": 31,
          "Name": "datsun b210",
          "Origin": "Japan",
          "Weight_in_lbs": 1950,
          "Year": "1974-01-01T00:00:00"
         },
         {
          "Acceleration": 16.5,
          "Cylinders": 4,
          "Displacement": 122,
          "Horsepower": 80,
          "Miles_per_Gallon": 26,
          "Name": "ford pinto",
          "Origin": "USA",
          "Weight_in_lbs": 2451,
          "Year": "1974-01-01T00:00:00"
         },
         {
          "Acceleration": 21,
          "Cylinders": 4,
          "Displacement": 71,
          "Horsepower": 65,
          "Miles_per_Gallon": 32,
          "Name": "toyota corolla 1200",
          "Origin": "Japan",
          "Weight_in_lbs": 1836,
          "Year": "1974-01-01T00:00:00"
         },
         {
          "Acceleration": 17,
          "Cylinders": 4,
          "Displacement": 140,
          "Horsepower": 75,
          "Miles_per_Gallon": 25,
          "Name": "chevrolet vega",
          "Origin": "USA",
          "Weight_in_lbs": 2542,
          "Year": "1974-01-01T00:00:00"
         },
         {
          "Acceleration": 17,
          "Cylinders": 6,
          "Displacement": 250,
          "Horsepower": 100,
          "Miles_per_Gallon": 16,
          "Name": "chevrolet chevelle malibu classic",
          "Origin": "USA",
          "Weight_in_lbs": 3781,
          "Year": "1974-01-01T00:00:00"
         },
         {
          "Acceleration": 18,
          "Cylinders": 6,
          "Displacement": 258,
          "Horsepower": 110,
          "Miles_per_Gallon": 16,
          "Name": "amc matador",
          "Origin": "USA",
          "Weight_in_lbs": 3632,
          "Year": "1974-01-01T00:00:00"
         },
         {
          "Acceleration": 16.5,
          "Cylinders": 6,
          "Displacement": 225,
          "Horsepower": 105,
          "Miles_per_Gallon": 18,
          "Name": "plymouth satellite sebring",
          "Origin": "USA",
          "Weight_in_lbs": 3613,
          "Year": "1974-01-01T00:00:00"
         },
         {
          "Acceleration": 14,
          "Cylinders": 8,
          "Displacement": 302,
          "Horsepower": 140,
          "Miles_per_Gallon": 16,
          "Name": "ford gran torino",
          "Origin": "USA",
          "Weight_in_lbs": 4141,
          "Year": "1974-01-01T00:00:00"
         },
         {
          "Acceleration": 14.5,
          "Cylinders": 8,
          "Displacement": 350,
          "Horsepower": 150,
          "Miles_per_Gallon": 13,
          "Name": "buick century luxus (sw)",
          "Origin": "USA",
          "Weight_in_lbs": 4699,
          "Year": "1974-01-01T00:00:00"
         },
         {
          "Acceleration": 13.5,
          "Cylinders": 8,
          "Displacement": 318,
          "Horsepower": 150,
          "Miles_per_Gallon": 14,
          "Name": "dodge coronet custom (sw)",
          "Origin": "USA",
          "Weight_in_lbs": 4457,
          "Year": "1974-01-01T00:00:00"
         },
         {
          "Acceleration": 16,
          "Cylinders": 8,
          "Displacement": 302,
          "Horsepower": 140,
          "Miles_per_Gallon": 14,
          "Name": "ford gran torino (sw)",
          "Origin": "USA",
          "Weight_in_lbs": 4638,
          "Year": "1974-01-01T00:00:00"
         },
         {
          "Acceleration": 15.5,
          "Cylinders": 8,
          "Displacement": 304,
          "Horsepower": 150,
          "Miles_per_Gallon": 14,
          "Name": "amc matador (sw)",
          "Origin": "USA",
          "Weight_in_lbs": 4257,
          "Year": "1974-01-01T00:00:00"
         },
         {
          "Acceleration": 16.5,
          "Cylinders": 4,
          "Displacement": 98,
          "Horsepower": 83,
          "Miles_per_Gallon": 29,
          "Name": "audi fox",
          "Origin": "Europe",
          "Weight_in_lbs": 2219,
          "Year": "1974-01-01T00:00:00"
         },
         {
          "Acceleration": 15.5,
          "Cylinders": 4,
          "Displacement": 79,
          "Horsepower": 67,
          "Miles_per_Gallon": 26,
          "Name": "volkswagen dasher",
          "Origin": "Europe",
          "Weight_in_lbs": 1963,
          "Year": "1974-01-01T00:00:00"
         },
         {
          "Acceleration": 14.5,
          "Cylinders": 4,
          "Displacement": 97,
          "Horsepower": 78,
          "Miles_per_Gallon": 26,
          "Name": "opel manta",
          "Origin": "Europe",
          "Weight_in_lbs": 2300,
          "Year": "1974-01-01T00:00:00"
         },
         {
          "Acceleration": 16.5,
          "Cylinders": 4,
          "Displacement": 76,
          "Horsepower": 52,
          "Miles_per_Gallon": 31,
          "Name": "toyota corona",
          "Origin": "Japan",
          "Weight_in_lbs": 1649,
          "Year": "1974-01-01T00:00:00"
         },
         {
          "Acceleration": 19,
          "Cylinders": 4,
          "Displacement": 83,
          "Horsepower": 61,
          "Miles_per_Gallon": 32,
          "Name": "datsun 710",
          "Origin": "Japan",
          "Weight_in_lbs": 2003,
          "Year": "1974-01-01T00:00:00"
         },
         {
          "Acceleration": 14.5,
          "Cylinders": 4,
          "Displacement": 90,
          "Horsepower": 75,
          "Miles_per_Gallon": 28,
          "Name": "dodge colt",
          "Origin": "USA",
          "Weight_in_lbs": 2125,
          "Year": "1974-01-01T00:00:00"
         },
         {
          "Acceleration": 15.5,
          "Cylinders": 4,
          "Displacement": 90,
          "Horsepower": 75,
          "Miles_per_Gallon": 24,
          "Name": "fiat 128",
          "Origin": "Europe",
          "Weight_in_lbs": 2108,
          "Year": "1974-01-01T00:00:00"
         },
         {
          "Acceleration": 14,
          "Cylinders": 4,
          "Displacement": 116,
          "Horsepower": 75,
          "Miles_per_Gallon": 26,
          "Name": "fiat 124 tc",
          "Origin": "Europe",
          "Weight_in_lbs": 2246,
          "Year": "1974-01-01T00:00:00"
         },
         {
          "Acceleration": 15,
          "Cylinders": 4,
          "Displacement": 120,
          "Horsepower": 97,
          "Miles_per_Gallon": 24,
          "Name": "honda civic",
          "Origin": "Japan",
          "Weight_in_lbs": 2489,
          "Year": "1974-01-01T00:00:00"
         },
         {
          "Acceleration": 15.5,
          "Cylinders": 4,
          "Displacement": 108,
          "Horsepower": 93,
          "Miles_per_Gallon": 26,
          "Name": "subaru",
          "Origin": "Japan",
          "Weight_in_lbs": 2391,
          "Year": "1974-01-01T00:00:00"
         },
         {
          "Acceleration": 16,
          "Cylinders": 4,
          "Displacement": 79,
          "Horsepower": 67,
          "Miles_per_Gallon": 31,
          "Name": "fiat x1.9",
          "Origin": "Europe",
          "Weight_in_lbs": 2000,
          "Year": "1974-01-01T00:00:00"
         },
         {
          "Acceleration": 16,
          "Cylinders": 6,
          "Displacement": 225,
          "Horsepower": 95,
          "Miles_per_Gallon": 19,
          "Name": "plymouth valiant custom",
          "Origin": "USA",
          "Weight_in_lbs": 3264,
          "Year": "1975-01-01T00:00:00"
         },
         {
          "Acceleration": 16,
          "Cylinders": 6,
          "Displacement": 250,
          "Horsepower": 105,
          "Miles_per_Gallon": 18,
          "Name": "chevrolet nova",
          "Origin": "USA",
          "Weight_in_lbs": 3459,
          "Year": "1975-01-01T00:00:00"
         },
         {
          "Acceleration": 21,
          "Cylinders": 6,
          "Displacement": 250,
          "Horsepower": 72,
          "Miles_per_Gallon": 15,
          "Name": "mercury monarch",
          "Origin": "USA",
          "Weight_in_lbs": 3432,
          "Year": "1975-01-01T00:00:00"
         },
         {
          "Acceleration": 19.5,
          "Cylinders": 6,
          "Displacement": 250,
          "Horsepower": 72,
          "Miles_per_Gallon": 15,
          "Name": "ford maverick",
          "Origin": "USA",
          "Weight_in_lbs": 3158,
          "Year": "1975-01-01T00:00:00"
         },
         {
          "Acceleration": 11.5,
          "Cylinders": 8,
          "Displacement": 400,
          "Horsepower": 170,
          "Miles_per_Gallon": 16,
          "Name": "pontiac catalina",
          "Origin": "USA",
          "Weight_in_lbs": 4668,
          "Year": "1975-01-01T00:00:00"
         },
         {
          "Acceleration": 14,
          "Cylinders": 8,
          "Displacement": 350,
          "Horsepower": 145,
          "Miles_per_Gallon": 15,
          "Name": "chevrolet bel air",
          "Origin": "USA",
          "Weight_in_lbs": 4440,
          "Year": "1975-01-01T00:00:00"
         },
         {
          "Acceleration": 14.5,
          "Cylinders": 8,
          "Displacement": 318,
          "Horsepower": 150,
          "Miles_per_Gallon": 16,
          "Name": "plymouth grand fury",
          "Origin": "USA",
          "Weight_in_lbs": 4498,
          "Year": "1975-01-01T00:00:00"
         },
         {
          "Acceleration": 13.5,
          "Cylinders": 8,
          "Displacement": 351,
          "Horsepower": 148,
          "Miles_per_Gallon": 14,
          "Name": "ford ltd",
          "Origin": "USA",
          "Weight_in_lbs": 4657,
          "Year": "1975-01-01T00:00:00"
         },
         {
          "Acceleration": 21,
          "Cylinders": 6,
          "Displacement": 231,
          "Horsepower": 110,
          "Miles_per_Gallon": 17,
          "Name": "buick century",
          "Origin": "USA",
          "Weight_in_lbs": 3907,
          "Year": "1975-01-01T00:00:00"
         },
         {
          "Acceleration": 18.5,
          "Cylinders": 6,
          "Displacement": 250,
          "Horsepower": 105,
          "Miles_per_Gallon": 16,
          "Name": "chevroelt chevelle malibu",
          "Origin": "USA",
          "Weight_in_lbs": 3897,
          "Year": "1975-01-01T00:00:00"
         },
         {
          "Acceleration": 19,
          "Cylinders": 6,
          "Displacement": 258,
          "Horsepower": 110,
          "Miles_per_Gallon": 15,
          "Name": "amc matador",
          "Origin": "USA",
          "Weight_in_lbs": 3730,
          "Year": "1975-01-01T00:00:00"
         },
         {
          "Acceleration": 19,
          "Cylinders": 6,
          "Displacement": 225,
          "Horsepower": 95,
          "Miles_per_Gallon": 18,
          "Name": "plymouth fury",
          "Origin": "USA",
          "Weight_in_lbs": 3785,
          "Year": "1975-01-01T00:00:00"
         },
         {
          "Acceleration": 15,
          "Cylinders": 6,
          "Displacement": 231,
          "Horsepower": 110,
          "Miles_per_Gallon": 21,
          "Name": "buick skyhawk",
          "Origin": "USA",
          "Weight_in_lbs": 3039,
          "Year": "1975-01-01T00:00:00"
         },
         {
          "Acceleration": 13.5,
          "Cylinders": 8,
          "Displacement": 262,
          "Horsepower": 110,
          "Miles_per_Gallon": 20,
          "Name": "chevrolet monza 2+2",
          "Origin": "USA",
          "Weight_in_lbs": 3221,
          "Year": "1975-01-01T00:00:00"
         },
         {
          "Acceleration": 12,
          "Cylinders": 8,
          "Displacement": 302,
          "Horsepower": 129,
          "Miles_per_Gallon": 13,
          "Name": "ford mustang ii",
          "Origin": "USA",
          "Weight_in_lbs": 3169,
          "Year": "1975-01-01T00:00:00"
         },
         {
          "Acceleration": 16,
          "Cylinders": 4,
          "Displacement": 97,
          "Horsepower": 75,
          "Miles_per_Gallon": 29,
          "Name": "toyota corolla",
          "Origin": "Japan",
          "Weight_in_lbs": 2171,
          "Year": "1975-01-01T00:00:00"
         },
         {
          "Acceleration": 17,
          "Cylinders": 4,
          "Displacement": 140,
          "Horsepower": 83,
          "Miles_per_Gallon": 23,
          "Name": "ford pinto",
          "Origin": "USA",
          "Weight_in_lbs": 2639,
          "Year": "1975-01-01T00:00:00"
         },
         {
          "Acceleration": 16,
          "Cylinders": 6,
          "Displacement": 232,
          "Horsepower": 100,
          "Miles_per_Gallon": 20,
          "Name": "amc gremlin",
          "Origin": "USA",
          "Weight_in_lbs": 2914,
          "Year": "1975-01-01T00:00:00"
         },
         {
          "Acceleration": 18.5,
          "Cylinders": 4,
          "Displacement": 140,
          "Horsepower": 78,
          "Miles_per_Gallon": 23,
          "Name": "pontiac astro",
          "Origin": "USA",
          "Weight_in_lbs": 2592,
          "Year": "1975-01-01T00:00:00"
         },
         {
          "Acceleration": 13.5,
          "Cylinders": 4,
          "Displacement": 134,
          "Horsepower": 96,
          "Miles_per_Gallon": 24,
          "Name": "toyota corona",
          "Origin": "Japan",
          "Weight_in_lbs": 2702,
          "Year": "1975-01-01T00:00:00"
         },
         {
          "Acceleration": 16.5,
          "Cylinders": 4,
          "Displacement": 90,
          "Horsepower": 71,
          "Miles_per_Gallon": 25,
          "Name": "volkswagen dasher",
          "Origin": "Europe",
          "Weight_in_lbs": 2223,
          "Year": "1975-01-01T00:00:00"
         },
         {
          "Acceleration": 17,
          "Cylinders": 4,
          "Displacement": 119,
          "Horsepower": 97,
          "Miles_per_Gallon": 24,
          "Name": "datsun 710",
          "Origin": "Japan",
          "Weight_in_lbs": 2545,
          "Year": "1975-01-01T00:00:00"
         },
         {
          "Acceleration": 14.5,
          "Cylinders": 6,
          "Displacement": 171,
          "Horsepower": 97,
          "Miles_per_Gallon": 18,
          "Name": "ford pinto",
          "Origin": "USA",
          "Weight_in_lbs": 2984,
          "Year": "1975-01-01T00:00:00"
         },
         {
          "Acceleration": 14,
          "Cylinders": 4,
          "Displacement": 90,
          "Horsepower": 70,
          "Miles_per_Gallon": 29,
          "Name": "volkswagen rabbit",
          "Origin": "Europe",
          "Weight_in_lbs": 1937,
          "Year": "1975-01-01T00:00:00"
         },
         {
          "Acceleration": 17,
          "Cylinders": 6,
          "Displacement": 232,
          "Horsepower": 90,
          "Miles_per_Gallon": 19,
          "Name": "amc pacer",
          "Origin": "USA",
          "Weight_in_lbs": 3211,
          "Year": "1975-01-01T00:00:00"
         },
         {
          "Acceleration": 15,
          "Cylinders": 4,
          "Displacement": 115,
          "Horsepower": 95,
          "Miles_per_Gallon": 23,
          "Name": "audi 100ls",
          "Origin": "Europe",
          "Weight_in_lbs": 2694,
          "Year": "1975-01-01T00:00:00"
         },
         {
          "Acceleration": 17,
          "Cylinders": 4,
          "Displacement": 120,
          "Horsepower": 88,
          "Miles_per_Gallon": 23,
          "Name": "peugeot 504",
          "Origin": "Europe",
          "Weight_in_lbs": 2957,
          "Year": "1975-01-01T00:00:00"
         },
         {
          "Acceleration": 14.5,
          "Cylinders": 4,
          "Displacement": 121,
          "Horsepower": 98,
          "Miles_per_Gallon": 22,
          "Name": "volvo 244dl",
          "Origin": "Europe",
          "Weight_in_lbs": 2945,
          "Year": "1975-01-01T00:00:00"
         },
         {
          "Acceleration": 13.5,
          "Cylinders": 4,
          "Displacement": 121,
          "Horsepower": 115,
          "Miles_per_Gallon": 25,
          "Name": "saab 99le",
          "Origin": "Europe",
          "Weight_in_lbs": 2671,
          "Year": "1975-01-01T00:00:00"
         },
         {
          "Acceleration": 17.5,
          "Cylinders": 4,
          "Displacement": 91,
          "Horsepower": 53,
          "Miles_per_Gallon": 33,
          "Name": "honda civic cvcc",
          "Origin": "Japan",
          "Weight_in_lbs": 1795,
          "Year": "1975-01-01T00:00:00"
         },
         {
          "Acceleration": 15.5,
          "Cylinders": 4,
          "Displacement": 107,
          "Horsepower": 86,
          "Miles_per_Gallon": 28,
          "Name": "fiat 131",
          "Origin": "Europe",
          "Weight_in_lbs": 2464,
          "Year": "1976-01-01T00:00:00"
         },
         {
          "Acceleration": 16.9,
          "Cylinders": 4,
          "Displacement": 116,
          "Horsepower": 81,
          "Miles_per_Gallon": 25,
          "Name": "opel 1900",
          "Origin": "Europe",
          "Weight_in_lbs": 2220,
          "Year": "1976-01-01T00:00:00"
         },
         {
          "Acceleration": 14.9,
          "Cylinders": 4,
          "Displacement": 140,
          "Horsepower": 92,
          "Miles_per_Gallon": 25,
          "Name": "capri ii",
          "Origin": "USA",
          "Weight_in_lbs": 2572,
          "Year": "1976-01-01T00:00:00"
         },
         {
          "Acceleration": 17.7,
          "Cylinders": 4,
          "Displacement": 98,
          "Horsepower": 79,
          "Miles_per_Gallon": 26,
          "Name": "dodge colt",
          "Origin": "USA",
          "Weight_in_lbs": 2255,
          "Year": "1976-01-01T00:00:00"
         },
         {
          "Acceleration": 15.3,
          "Cylinders": 4,
          "Displacement": 101,
          "Horsepower": 83,
          "Miles_per_Gallon": 27,
          "Name": "renault 12tl",
          "Origin": "Europe",
          "Weight_in_lbs": 2202,
          "Year": "1976-01-01T00:00:00"
         },
         {
          "Acceleration": 13,
          "Cylinders": 8,
          "Displacement": 305,
          "Horsepower": 140,
          "Miles_per_Gallon": 17.5,
          "Name": "chevrolet chevelle malibu classic",
          "Origin": "USA",
          "Weight_in_lbs": 4215,
          "Year": "1976-01-01T00:00:00"
         },
         {
          "Acceleration": 13,
          "Cylinders": 8,
          "Displacement": 318,
          "Horsepower": 150,
          "Miles_per_Gallon": 16,
          "Name": "dodge coronet brougham",
          "Origin": "USA",
          "Weight_in_lbs": 4190,
          "Year": "1976-01-01T00:00:00"
         },
         {
          "Acceleration": 13.9,
          "Cylinders": 8,
          "Displacement": 304,
          "Horsepower": 120,
          "Miles_per_Gallon": 15.5,
          "Name": "amc matador",
          "Origin": "USA",
          "Weight_in_lbs": 3962,
          "Year": "1976-01-01T00:00:00"
         },
         {
          "Acceleration": 12.8,
          "Cylinders": 8,
          "Displacement": 351,
          "Horsepower": 152,
          "Miles_per_Gallon": 14.5,
          "Name": "ford gran torino",
          "Origin": "USA",
          "Weight_in_lbs": 4215,
          "Year": "1976-01-01T00:00:00"
         },
         {
          "Acceleration": 15.4,
          "Cylinders": 6,
          "Displacement": 225,
          "Horsepower": 100,
          "Miles_per_Gallon": 22,
          "Name": "plymouth valiant",
          "Origin": "USA",
          "Weight_in_lbs": 3233,
          "Year": "1976-01-01T00:00:00"
         },
         {
          "Acceleration": 14.5,
          "Cylinders": 6,
          "Displacement": 250,
          "Horsepower": 105,
          "Miles_per_Gallon": 22,
          "Name": "chevrolet nova",
          "Origin": "USA",
          "Weight_in_lbs": 3353,
          "Year": "1976-01-01T00:00:00"
         },
         {
          "Acceleration": 17.6,
          "Cylinders": 6,
          "Displacement": 200,
          "Horsepower": 81,
          "Miles_per_Gallon": 24,
          "Name": "ford maverick",
          "Origin": "USA",
          "Weight_in_lbs": 3012,
          "Year": "1976-01-01T00:00:00"
         },
         {
          "Acceleration": 17.6,
          "Cylinders": 6,
          "Displacement": 232,
          "Horsepower": 90,
          "Miles_per_Gallon": 22.5,
          "Name": "amc hornet",
          "Origin": "USA",
          "Weight_in_lbs": 3085,
          "Year": "1976-01-01T00:00:00"
         },
         {
          "Acceleration": 22.2,
          "Cylinders": 4,
          "Displacement": 85,
          "Horsepower": 52,
          "Miles_per_Gallon": 29,
          "Name": "chevrolet chevette",
          "Origin": "USA",
          "Weight_in_lbs": 2035,
          "Year": "1976-01-01T00:00:00"
         },
         {
          "Acceleration": 22.1,
          "Cylinders": 4,
          "Displacement": 98,
          "Horsepower": 60,
          "Miles_per_Gallon": 24.5,
          "Name": "chevrolet woody",
          "Origin": "USA",
          "Weight_in_lbs": 2164,
          "Year": "1976-01-01T00:00:00"
         },
         {
          "Acceleration": 14.2,
          "Cylinders": 4,
          "Displacement": 90,
          "Horsepower": 70,
          "Miles_per_Gallon": 29,
          "Name": "vw rabbit",
          "Origin": "Europe",
          "Weight_in_lbs": 1937,
          "Year": "1976-01-01T00:00:00"
         },
         {
          "Acceleration": 17.4,
          "Cylinders": 4,
          "Displacement": 91,
          "Horsepower": 53,
          "Miles_per_Gallon": 33,
          "Name": "honda civic",
          "Origin": "Japan",
          "Weight_in_lbs": 1795,
          "Year": "1976-01-01T00:00:00"
         },
         {
          "Acceleration": 17.7,
          "Cylinders": 6,
          "Displacement": 225,
          "Horsepower": 100,
          "Miles_per_Gallon": 20,
          "Name": "dodge aspen se",
          "Origin": "USA",
          "Weight_in_lbs": 3651,
          "Year": "1976-01-01T00:00:00"
         },
         {
          "Acceleration": 21,
          "Cylinders": 6,
          "Displacement": 250,
          "Horsepower": 78,
          "Miles_per_Gallon": 18,
          "Name": "ford granada ghia",
          "Origin": "USA",
          "Weight_in_lbs": 3574,
          "Year": "1976-01-01T00:00:00"
         },
         {
          "Acceleration": 16.2,
          "Cylinders": 6,
          "Displacement": 250,
          "Horsepower": 110,
          "Miles_per_Gallon": 18.5,
          "Name": "pontiac ventura sj",
          "Origin": "USA",
          "Weight_in_lbs": 3645,
          "Year": "1976-01-01T00:00:00"
         },
         {
          "Acceleration": 17.8,
          "Cylinders": 6,
          "Displacement": 258,
          "Horsepower": 95,
          "Miles_per_Gallon": 17.5,
          "Name": "amc pacer d/l",
          "Origin": "USA",
          "Weight_in_lbs": 3193,
          "Year": "1976-01-01T00:00:00"
         },
         {
          "Acceleration": 12.2,
          "Cylinders": 4,
          "Displacement": 97,
          "Horsepower": 71,
          "Miles_per_Gallon": 29.5,
          "Name": "volkswagen rabbit",
          "Origin": "Europe",
          "Weight_in_lbs": 1825,
          "Year": "1976-01-01T00:00:00"
         },
         {
          "Acceleration": 17,
          "Cylinders": 4,
          "Displacement": 85,
          "Horsepower": 70,
          "Miles_per_Gallon": 32,
          "Name": "datsun b-210",
          "Origin": "Japan",
          "Weight_in_lbs": 1990,
          "Year": "1976-01-01T00:00:00"
         },
         {
          "Acceleration": 16.4,
          "Cylinders": 4,
          "Displacement": 97,
          "Horsepower": 75,
          "Miles_per_Gallon": 28,
          "Name": "toyota corolla",
          "Origin": "Japan",
          "Weight_in_lbs": 2155,
          "Year": "1976-01-01T00:00:00"
         },
         {
          "Acceleration": 13.6,
          "Cylinders": 4,
          "Displacement": 140,
          "Horsepower": 72,
          "Miles_per_Gallon": 26.5,
          "Name": "ford pinto",
          "Origin": "USA",
          "Weight_in_lbs": 2565,
          "Year": "1976-01-01T00:00:00"
         },
         {
          "Acceleration": 15.7,
          "Cylinders": 4,
          "Displacement": 130,
          "Horsepower": 102,
          "Miles_per_Gallon": 20,
          "Name": "volvo 245",
          "Origin": "Europe",
          "Weight_in_lbs": 3150,
          "Year": "1976-01-01T00:00:00"
         },
         {
          "Acceleration": 13.2,
          "Cylinders": 8,
          "Displacement": 318,
          "Horsepower": 150,
          "Miles_per_Gallon": 13,
          "Name": "plymouth volare premier v8",
          "Origin": "USA",
          "Weight_in_lbs": 3940,
          "Year": "1976-01-01T00:00:00"
         },
         {
          "Acceleration": 21.9,
          "Cylinders": 4,
          "Displacement": 120,
          "Horsepower": 88,
          "Miles_per_Gallon": 19,
          "Name": "peugeot 504",
          "Origin": "Europe",
          "Weight_in_lbs": 3270,
          "Year": "1976-01-01T00:00:00"
         },
         {
          "Acceleration": 15.5,
          "Cylinders": 6,
          "Displacement": 156,
          "Horsepower": 108,
          "Miles_per_Gallon": 19,
          "Name": "toyota mark ii",
          "Origin": "Japan",
          "Weight_in_lbs": 2930,
          "Year": "1976-01-01T00:00:00"
         },
         {
          "Acceleration": 16.7,
          "Cylinders": 6,
          "Displacement": 168,
          "Horsepower": 120,
          "Miles_per_Gallon": 16.5,
          "Name": "mercedes-benz 280s",
          "Origin": "Europe",
          "Weight_in_lbs": 3820,
          "Year": "1976-01-01T00:00:00"
         },
         {
          "Acceleration": 12.1,
          "Cylinders": 8,
          "Displacement": 350,
          "Horsepower": 180,
          "Miles_per_Gallon": 16.5,
          "Name": "cadillac seville",
          "Origin": "USA",
          "Weight_in_lbs": 4380,
          "Year": "1976-01-01T00:00:00"
         },
         {
          "Acceleration": 12,
          "Cylinders": 8,
          "Displacement": 350,
          "Horsepower": 145,
          "Miles_per_Gallon": 13,
          "Name": "chevy c10",
          "Origin": "USA",
          "Weight_in_lbs": 4055,
          "Year": "1976-01-01T00:00:00"
         },
         {
          "Acceleration": 15,
          "Cylinders": 8,
          "Displacement": 302,
          "Horsepower": 130,
          "Miles_per_Gallon": 13,
          "Name": "ford f108",
          "Origin": "USA",
          "Weight_in_lbs": 3870,
          "Year": "1976-01-01T00:00:00"
         },
         {
          "Acceleration": 14,
          "Cylinders": 8,
          "Displacement": 318,
          "Horsepower": 150,
          "Miles_per_Gallon": 13,
          "Name": "dodge d100",
          "Origin": "USA",
          "Weight_in_lbs": 3755,
          "Year": "1976-01-01T00:00:00"
         },
         {
          "Acceleration": 18.5,
          "Cylinders": 4,
          "Displacement": 98,
          "Horsepower": 68,
          "Miles_per_Gallon": 31.5,
          "Name": "honda Accelerationord cvcc",
          "Origin": "Japan",
          "Weight_in_lbs": 2045,
          "Year": "1977-01-01T00:00:00"
         },
         {
          "Acceleration": 14.8,
          "Cylinders": 4,
          "Displacement": 111,
          "Horsepower": 80,
          "Miles_per_Gallon": 30,
          "Name": "buick opel isuzu deluxe",
          "Origin": "USA",
          "Weight_in_lbs": 2155,
          "Year": "1977-01-01T00:00:00"
         },
         {
          "Acceleration": 18.6,
          "Cylinders": 4,
          "Displacement": 79,
          "Horsepower": 58,
          "Miles_per_Gallon": 36,
          "Name": "renault 5 gtl",
          "Origin": "Europe",
          "Weight_in_lbs": 1825,
          "Year": "1977-01-01T00:00:00"
         },
         {
          "Acceleration": 15.5,
          "Cylinders": 4,
          "Displacement": 122,
          "Horsepower": 96,
          "Miles_per_Gallon": 25.5,
          "Name": "plymouth arrow gs",
          "Origin": "USA",
          "Weight_in_lbs": 2300,
          "Year": "1977-01-01T00:00:00"
         },
         {
          "Acceleration": 16.8,
          "Cylinders": 4,
          "Displacement": 85,
          "Horsepower": 70,
          "Miles_per_Gallon": 33.5,
          "Name": "datsun f-10 hatchback",
          "Origin": "Japan",
          "Weight_in_lbs": 1945,
          "Year": "1977-01-01T00:00:00"
         },
         {
          "Acceleration": 12.5,
          "Cylinders": 8,
          "Displacement": 305,
          "Horsepower": 145,
          "Miles_per_Gallon": 17.5,
          "Name": "chevrolet caprice classic",
          "Origin": "USA",
          "Weight_in_lbs": 3880,
          "Year": "1977-01-01T00:00:00"
         },
         {
          "Acceleration": 19,
          "Cylinders": 8,
          "Displacement": 260,
          "Horsepower": 110,
          "Miles_per_Gallon": 17,
          "Name": "oldsmobile cutlass supreme",
          "Origin": "USA",
          "Weight_in_lbs": 4060,
          "Year": "1977-01-01T00:00:00"
         },
         {
          "Acceleration": 13.7,
          "Cylinders": 8,
          "Displacement": 318,
          "Horsepower": 145,
          "Miles_per_Gallon": 15.5,
          "Name": "dodge monaco brougham",
          "Origin": "USA",
          "Weight_in_lbs": 4140,
          "Year": "1977-01-01T00:00:00"
         },
         {
          "Acceleration": 14.9,
          "Cylinders": 8,
          "Displacement": 302,
          "Horsepower": 130,
          "Miles_per_Gallon": 15,
          "Name": "mercury cougar brougham",
          "Origin": "USA",
          "Weight_in_lbs": 4295,
          "Year": "1977-01-01T00:00:00"
         },
         {
          "Acceleration": 16.4,
          "Cylinders": 6,
          "Displacement": 250,
          "Horsepower": 110,
          "Miles_per_Gallon": 17.5,
          "Name": "chevrolet concours",
          "Origin": "USA",
          "Weight_in_lbs": 3520,
          "Year": "1977-01-01T00:00:00"
         },
         {
          "Acceleration": 16.9,
          "Cylinders": 6,
          "Displacement": 231,
          "Horsepower": 105,
          "Miles_per_Gallon": 20.5,
          "Name": "buick skylark",
          "Origin": "USA",
          "Weight_in_lbs": 3425,
          "Year": "1977-01-01T00:00:00"
         },
         {
          "Acceleration": 17.7,
          "Cylinders": 6,
          "Displacement": 225,
          "Horsepower": 100,
          "Miles_per_Gallon": 19,
          "Name": "plymouth volare custom",
          "Origin": "USA",
          "Weight_in_lbs": 3630,
          "Year": "1977-01-01T00:00:00"
         },
         {
          "Acceleration": 19,
          "Cylinders": 6,
          "Displacement": 250,
          "Horsepower": 98,
          "Miles_per_Gallon": 18.5,
          "Name": "ford granada",
          "Origin": "USA",
          "Weight_in_lbs": 3525,
          "Year": "1977-01-01T00:00:00"
         },
         {
          "Acceleration": 11.1,
          "Cylinders": 8,
          "Displacement": 400,
          "Horsepower": 180,
          "Miles_per_Gallon": 16,
          "Name": "pontiac grand prix lj",
          "Origin": "USA",
          "Weight_in_lbs": 4220,
          "Year": "1977-01-01T00:00:00"
         },
         {
          "Acceleration": 11.4,
          "Cylinders": 8,
          "Displacement": 350,
          "Horsepower": 170,
          "Miles_per_Gallon": 15.5,
          "Name": "chevrolet monte carlo landau",
          "Origin": "USA",
          "Weight_in_lbs": 4165,
          "Year": "1977-01-01T00:00:00"
         },
         {
          "Acceleration": 12.2,
          "Cylinders": 8,
          "Displacement": 400,
          "Horsepower": 190,
          "Miles_per_Gallon": 15.5,
          "Name": "chrysler cordoba",
          "Origin": "USA",
          "Weight_in_lbs": 4325,
          "Year": "1977-01-01T00:00:00"
         },
         {
          "Acceleration": 14.5,
          "Cylinders": 8,
          "Displacement": 351,
          "Horsepower": 149,
          "Miles_per_Gallon": 16,
          "Name": "ford thunderbird",
          "Origin": "USA",
          "Weight_in_lbs": 4335,
          "Year": "1977-01-01T00:00:00"
         },
         {
          "Acceleration": 14.5,
          "Cylinders": 4,
          "Displacement": 97,
          "Horsepower": 78,
          "Miles_per_Gallon": 29,
          "Name": "volkswagen rabbit custom",
          "Origin": "Europe",
          "Weight_in_lbs": 1940,
          "Year": "1977-01-01T00:00:00"
         },
         {
          "Acceleration": 16,
          "Cylinders": 4,
          "Displacement": 151,
          "Horsepower": 88,
          "Miles_per_Gallon": 24.5,
          "Name": "pontiac sunbird coupe",
          "Origin": "USA",
          "Weight_in_lbs": 2740,
          "Year": "1977-01-01T00:00:00"
         },
         {
          "Acceleration": 18.2,
          "Cylinders": 4,
          "Displacement": 97,
          "Horsepower": 75,
          "Miles_per_Gallon": 26,
          "Name": "toyota corolla liftback",
          "Origin": "Japan",
          "Weight_in_lbs": 2265,
          "Year": "1977-01-01T00:00:00"
         },
         {
          "Acceleration": 15.8,
          "Cylinders": 4,
          "Displacement": 140,
          "Horsepower": 89,
          "Miles_per_Gallon": 25.5,
          "Name": "ford mustang ii 2+2",
          "Origin": "USA",
          "Weight_in_lbs": 2755,
          "Year": "1977-01-01T00:00:00"
         },
         {
          "Acceleration": 17,
          "Cylinders": 4,
          "Displacement": 98,
          "Horsepower": 63,
          "Miles_per_Gallon": 30.5,
          "Name": "chevrolet chevette",
          "Origin": "USA",
          "Weight_in_lbs": 2051,
          "Year": "1977-01-01T00:00:00"
         },
         {
          "Acceleration": 15.9,
          "Cylinders": 4,
          "Displacement": 98,
          "Horsepower": 83,
          "Miles_per_Gallon": 33.5,
          "Name": "dodge colt m/m",
          "Origin": "USA",
          "Weight_in_lbs": 2075,
          "Year": "1977-01-01T00:00:00"
         },
         {
          "Acceleration": 16.4,
          "Cylinders": 4,
          "Displacement": 97,
          "Horsepower": 67,
          "Miles_per_Gallon": 30,
          "Name": "subaru dl",
          "Origin": "Japan",
          "Weight_in_lbs": 1985,
          "Year": "1977-01-01T00:00:00"
         },
         {
          "Acceleration": 14.1,
          "Cylinders": 4,
          "Displacement": 97,
          "Horsepower": 78,
          "Miles_per_Gallon": 30.5,
          "Name": "volkswagen dasher",
          "Origin": "Europe",
          "Weight_in_lbs": 2190,
          "Year": "1977-01-01T00:00:00"
         },
         {
          "Acceleration": 14.5,
          "Cylinders": 6,
          "Displacement": 146,
          "Horsepower": 97,
          "Miles_per_Gallon": 22,
          "Name": "datsun 810",
          "Origin": "Japan",
          "Weight_in_lbs": 2815,
          "Year": "1977-01-01T00:00:00"
         },
         {
          "Acceleration": 12.8,
          "Cylinders": 4,
          "Displacement": 121,
          "Horsepower": 110,
          "Miles_per_Gallon": 21.5,
          "Name": "bmw 320i",
          "Origin": "Europe",
          "Weight_in_lbs": 2600,
          "Year": "1977-01-01T00:00:00"
         },
         {
          "Acceleration": 13.5,
          "Cylinders": 3,
          "Displacement": 80,
          "Horsepower": 110,
          "Miles_per_Gallon": 21.5,
          "Name": "mazda rx-4",
          "Origin": "Japan",
          "Weight_in_lbs": 2720,
          "Year": "1977-01-01T00:00:00"
         },
         {
          "Acceleration": 21.5,
          "Cylinders": 4,
          "Displacement": 90,
          "Horsepower": 48,
          "Miles_per_Gallon": 43.1,
          "Name": "volkswagen rabbit custom diesel",
          "Origin": "Europe",
          "Weight_in_lbs": 1985,
          "Year": "1978-01-01T00:00:00"
         },
         {
          "Acceleration": 14.4,
          "Cylinders": 4,
          "Displacement": 98,
          "Horsepower": 66,
          "Miles_per_Gallon": 36.1,
          "Name": "ford fiesta",
          "Origin": "USA",
          "Weight_in_lbs": 1800,
          "Year": "1978-01-01T00:00:00"
         },
         {
          "Acceleration": 19.4,
          "Cylinders": 4,
          "Displacement": 78,
          "Horsepower": 52,
          "Miles_per_Gallon": 32.8,
          "Name": "mazda glc deluxe",
          "Origin": "Japan",
          "Weight_in_lbs": 1985,
          "Year": "1978-01-01T00:00:00"
         },
         {
          "Acceleration": 18.6,
          "Cylinders": 4,
          "Displacement": 85,
          "Horsepower": 70,
          "Miles_per_Gallon": 39.4,
          "Name": "datsun b210 gx",
          "Origin": "Japan",
          "Weight_in_lbs": 2070,
          "Year": "1978-01-01T00:00:00"
         },
         {
          "Acceleration": 16.4,
          "Cylinders": 4,
          "Displacement": 91,
          "Horsepower": 60,
          "Miles_per_Gallon": 36.1,
          "Name": "honda civic cvcc",
          "Origin": "Japan",
          "Weight_in_lbs": 1800,
          "Year": "1978-01-01T00:00:00"
         },
         {
          "Acceleration": 15.5,
          "Cylinders": 8,
          "Displacement": 260,
          "Horsepower": 110,
          "Miles_per_Gallon": 19.9,
          "Name": "oldsmobile cutlass salon brougham",
          "Origin": "USA",
          "Weight_in_lbs": 3365,
          "Year": "1978-01-01T00:00:00"
         },
         {
          "Acceleration": 13.2,
          "Cylinders": 8,
          "Displacement": 318,
          "Horsepower": 140,
          "Miles_per_Gallon": 19.4,
          "Name": "dodge diplomat",
          "Origin": "USA",
          "Weight_in_lbs": 3735,
          "Year": "1978-01-01T00:00:00"
         },
         {
          "Acceleration": 12.8,
          "Cylinders": 8,
          "Displacement": 302,
          "Horsepower": 139,
          "Miles_per_Gallon": 20.2,
          "Name": "mercury monarch ghia",
          "Origin": "USA",
          "Weight_in_lbs": 3570,
          "Year": "1978-01-01T00:00:00"
         },
         {
          "Acceleration": 19.2,
          "Cylinders": 6,
          "Displacement": 231,
          "Horsepower": 105,
          "Miles_per_Gallon": 19.2,
          "Name": "pontiac phoenix lj",
          "Origin": "USA",
          "Weight_in_lbs": 3535,
          "Year": "1978-01-01T00:00:00"
         },
         {
          "Acceleration": 18.2,
          "Cylinders": 6,
          "Displacement": 200,
          "Horsepower": 95,
          "Miles_per_Gallon": 20.5,
          "Name": "chevrolet malibu",
          "Origin": "USA",
          "Weight_in_lbs": 3155,
          "Year": "1978-01-01T00:00:00"
         },
         {
          "Acceleration": 15.8,
          "Cylinders": 6,
          "Displacement": 200,
          "Horsepower": 85,
          "Miles_per_Gallon": 20.2,
          "Name": "ford fairmont (auto)",
          "Origin": "USA",
          "Weight_in_lbs": 2965,
          "Year": "1978-01-01T00:00:00"
         },
         {
          "Acceleration": 15.4,
          "Cylinders": 4,
          "Displacement": 140,
          "Horsepower": 88,
          "Miles_per_Gallon": 25.1,
          "Name": "ford fairmont (man)",
          "Origin": "USA",
          "Weight_in_lbs": 2720,
          "Year": "1978-01-01T00:00:00"
         },
         {
          "Acceleration": 17.2,
          "Cylinders": 6,
          "Displacement": 225,
          "Horsepower": 100,
          "Miles_per_Gallon": 20.5,
          "Name": "plymouth volare",
          "Origin": "USA",
          "Weight_in_lbs": 3430,
          "Year": "1978-01-01T00:00:00"
         },
         {
          "Acceleration": 17.2,
          "Cylinders": 6,
          "Displacement": 232,
          "Horsepower": 90,
          "Miles_per_Gallon": 19.4,
          "Name": "amc concord",
          "Origin": "USA",
          "Weight_in_lbs": 3210,
          "Year": "1978-01-01T00:00:00"
         },
         {
          "Acceleration": 15.8,
          "Cylinders": 6,
          "Displacement": 231,
          "Horsepower": 105,
          "Miles_per_Gallon": 20.6,
          "Name": "buick century special",
          "Origin": "USA",
          "Weight_in_lbs": 3380,
          "Year": "1978-01-01T00:00:00"
         },
         {
          "Acceleration": 16.7,
          "Cylinders": 6,
          "Displacement": 200,
          "Horsepower": 85,
          "Miles_per_Gallon": 20.8,
          "Name": "mercury zephyr",
          "Origin": "USA",
          "Weight_in_lbs": 3070,
          "Year": "1978-01-01T00:00:00"
         },
         {
          "Acceleration": 18.7,
          "Cylinders": 6,
          "Displacement": 225,
          "Horsepower": 110,
          "Miles_per_Gallon": 18.6,
          "Name": "dodge aspen",
          "Origin": "USA",
          "Weight_in_lbs": 3620,
          "Year": "1978-01-01T00:00:00"
         },
         {
          "Acceleration": 15.1,
          "Cylinders": 6,
          "Displacement": 258,
          "Horsepower": 120,
          "Miles_per_Gallon": 18.1,
          "Name": "amc concord d/l",
          "Origin": "USA",
          "Weight_in_lbs": 3410,
          "Year": "1978-01-01T00:00:00"
         },
         {
          "Acceleration": 13.2,
          "Cylinders": 8,
          "Displacement": 305,
          "Horsepower": 145,
          "Miles_per_Gallon": 19.2,
          "Name": "chevrolet monte carlo landau",
          "Origin": "USA",
          "Weight_in_lbs": 3425,
          "Year": "1978-01-01T00:00:00"
         },
         {
          "Acceleration": 13.4,
          "Cylinders": 6,
          "Displacement": 231,
          "Horsepower": 165,
          "Miles_per_Gallon": 17.7,
          "Name": "buick regal sport coupe (turbo)",
          "Origin": "USA",
          "Weight_in_lbs": 3445,
          "Year": "1978-01-01T00:00:00"
         },
         {
          "Acceleration": 11.2,
          "Cylinders": 8,
          "Displacement": 302,
          "Horsepower": 139,
          "Miles_per_Gallon": 18.1,
          "Name": "ford futura",
          "Origin": "USA",
          "Weight_in_lbs": 3205,
          "Year": "1978-01-01T00:00:00"
         },
         {
          "Acceleration": 13.7,
          "Cylinders": 8,
          "Displacement": 318,
          "Horsepower": 140,
          "Miles_per_Gallon": 17.5,
          "Name": "dodge magnum xe",
          "Origin": "USA",
          "Weight_in_lbs": 4080,
          "Year": "1978-01-01T00:00:00"
         },
         {
          "Acceleration": 16.5,
          "Cylinders": 4,
          "Displacement": 98,
          "Horsepower": 68,
          "Miles_per_Gallon": 30,
          "Name": "chevrolet chevette",
          "Origin": "USA",
          "Weight_in_lbs": 2155,
          "Year": "1978-01-01T00:00:00"
         },
         {
          "Acceleration": 14.2,
          "Cylinders": 4,
          "Displacement": 134,
          "Horsepower": 95,
          "Miles_per_Gallon": 27.5,
          "Name": "toyota corona",
          "Origin": "Japan",
          "Weight_in_lbs": 2560,
          "Year": "1978-01-01T00:00:00"
         },
         {
          "Acceleration": 14.7,
          "Cylinders": 4,
          "Displacement": 119,
          "Horsepower": 97,
          "Miles_per_Gallon": 27.2,
          "Name": "datsun 510",
          "Origin": "Japan",
          "Weight_in_lbs": 2300,
          "Year": "1978-01-01T00:00:00"
         },
         {
          "Acceleration": 14.5,
          "Cylinders": 4,
          "Displacement": 105,
          "Horsepower": 75,
          "Miles_per_Gallon": 30.9,
          "Name": "dodge omni",
          "Origin": "USA",
          "Weight_in_lbs": 2230,
          "Year": "1978-01-01T00:00:00"
         },
         {
          "Acceleration": 14.8,
          "Cylinders": 4,
          "Displacement": 134,
          "Horsepower": 95,
          "Miles_per_Gallon": 21.1,
          "Name": "toyota celica gt liftback",
          "Origin": "Japan",
          "Weight_in_lbs": 2515,
          "Year": "1978-01-01T00:00:00"
         },
         {
          "Acceleration": 16.7,
          "Cylinders": 4,
          "Displacement": 156,
          "Horsepower": 105,
          "Miles_per_Gallon": 23.2,
          "Name": "plymouth sapporo",
          "Origin": "USA",
          "Weight_in_lbs": 2745,
          "Year": "1978-01-01T00:00:00"
         },
         {
          "Acceleration": 17.6,
          "Cylinders": 4,
          "Displacement": 151,
          "Horsepower": 85,
          "Miles_per_Gallon": 23.8,
          "Name": "oldsmobile starfire sx",
          "Origin": "USA",
          "Weight_in_lbs": 2855,
          "Year": "1978-01-01T00:00:00"
         },
         {
          "Acceleration": 14.9,
          "Cylinders": 4,
          "Displacement": 119,
          "Horsepower": 97,
          "Miles_per_Gallon": 23.9,
          "Name": "datsun 200-sx",
          "Origin": "Japan",
          "Weight_in_lbs": 2405,
          "Year": "1978-01-01T00:00:00"
         },
         {
          "Acceleration": 15.9,
          "Cylinders": 5,
          "Displacement": 131,
          "Horsepower": 103,
          "Miles_per_Gallon": 20.3,
          "Name": "audi 5000",
          "Origin": "Europe",
          "Weight_in_lbs": 2830,
          "Year": "1978-01-01T00:00:00"
         },
         {
          "Acceleration": 13.6,
          "Cylinders": 6,
          "Displacement": 163,
          "Horsepower": 125,
          "Miles_per_Gallon": 17,
          "Name": "volvo 264gl",
          "Origin": "Europe",
          "Weight_in_lbs": 3140,
          "Year": "1978-01-01T00:00:00"
         },
         {
          "Acceleration": 15.7,
          "Cylinders": 4,
          "Displacement": 121,
          "Horsepower": 115,
          "Miles_per_Gallon": 21.6,
          "Name": "saab 99gle",
          "Origin": "Europe",
          "Weight_in_lbs": 2795,
          "Year": "1978-01-01T00:00:00"
         },
         {
          "Acceleration": 15.8,
          "Cylinders": 6,
          "Displacement": 163,
          "Horsepower": 133,
          "Miles_per_Gallon": 16.2,
          "Name": "peugeot 604sl",
          "Origin": "Europe",
          "Weight_in_lbs": 3410,
          "Year": "1978-01-01T00:00:00"
         },
         {
          "Acceleration": 14.9,
          "Cylinders": 4,
          "Displacement": 89,
          "Horsepower": 71,
          "Miles_per_Gallon": 31.5,
          "Name": "volkswagen scirocco",
          "Origin": "Europe",
          "Weight_in_lbs": 1990,
          "Year": "1978-01-01T00:00:00"
         },
         {
          "Acceleration": 16.6,
          "Cylinders": 4,
          "Displacement": 98,
          "Horsepower": 68,
          "Miles_per_Gallon": 29.5,
          "Name": "honda Accelerationord lx",
          "Origin": "Japan",
          "Weight_in_lbs": 2135,
          "Year": "1978-01-01T00:00:00"
         },
         {
          "Acceleration": 15.4,
          "Cylinders": 6,
          "Displacement": 231,
          "Horsepower": 115,
          "Miles_per_Gallon": 21.5,
          "Name": "pontiac lemans v6",
          "Origin": "USA",
          "Weight_in_lbs": 3245,
          "Year": "1979-01-01T00:00:00"
         },
         {
          "Acceleration": 18.2,
          "Cylinders": 6,
          "Displacement": 200,
          "Horsepower": 85,
          "Miles_per_Gallon": 19.8,
          "Name": "mercury zephyr 6",
          "Origin": "USA",
          "Weight_in_lbs": 2990,
          "Year": "1979-01-01T00:00:00"
         },
         {
          "Acceleration": 17.3,
          "Cylinders": 4,
          "Displacement": 140,
          "Horsepower": 88,
          "Miles_per_Gallon": 22.3,
          "Name": "ford fairmont 4",
          "Origin": "USA",
          "Weight_in_lbs": 2890,
          "Year": "1979-01-01T00:00:00"
         },
         {
          "Acceleration": 18.2,
          "Cylinders": 6,
          "Displacement": 232,
          "Horsepower": 90,
          "Miles_per_Gallon": 20.2,
          "Name": "amc concord dl 6",
          "Origin": "USA",
          "Weight_in_lbs": 3265,
          "Year": "1979-01-01T00:00:00"
         },
         {
          "Acceleration": 16.6,
          "Cylinders": 6,
          "Displacement": 225,
          "Horsepower": 110,
          "Miles_per_Gallon": 20.6,
          "Name": "dodge aspen 6",
          "Origin": "USA",
          "Weight_in_lbs": 3360,
          "Year": "1979-01-01T00:00:00"
         },
         {
          "Acceleration": 15.4,
          "Cylinders": 8,
          "Displacement": 305,
          "Horsepower": 130,
          "Miles_per_Gallon": 17,
          "Name": "chevrolet caprice classic",
          "Origin": "USA",
          "Weight_in_lbs": 3840,
          "Year": "1979-01-01T00:00:00"
         },
         {
          "Acceleration": 13.4,
          "Cylinders": 8,
          "Displacement": 302,
          "Horsepower": 129,
          "Miles_per_Gallon": 17.6,
          "Name": "ford ltd landau",
          "Origin": "USA",
          "Weight_in_lbs": 3725,
          "Year": "1979-01-01T00:00:00"
         },
         {
          "Acceleration": 13.2,
          "Cylinders": 8,
          "Displacement": 351,
          "Horsepower": 138,
          "Miles_per_Gallon": 16.5,
          "Name": "mercury grand marquis",
          "Origin": "USA",
          "Weight_in_lbs": 3955,
          "Year": "1979-01-01T00:00:00"
         },
         {
          "Acceleration": 15.2,
          "Cylinders": 8,
          "Displacement": 318,
          "Horsepower": 135,
          "Miles_per_Gallon": 18.2,
          "Name": "dodge st. regis",
          "Origin": "USA",
          "Weight_in_lbs": 3830,
          "Year": "1979-01-01T00:00:00"
         },
         {
          "Acceleration": 14.9,
          "Cylinders": 8,
          "Displacement": 350,
          "Horsepower": 155,
          "Miles_per_Gallon": 16.9,
          "Name": "buick estate wagon (sw)",
          "Origin": "USA",
          "Weight_in_lbs": 4360,
          "Year": "1979-01-01T00:00:00"
         },
         {
          "Acceleration": 14.3,
          "Cylinders": 8,
          "Displacement": 351,
          "Horsepower": 142,
          "Miles_per_Gallon": 15.5,
          "Name": "ford country squire (sw)",
          "Origin": "USA",
          "Weight_in_lbs": 4054,
          "Year": "1979-01-01T00:00:00"
         },
         {
          "Acceleration": 15,
          "Cylinders": 8,
          "Displacement": 267,
          "Horsepower": 125,
          "Miles_per_Gallon": 19.2,
          "Name": "chevrolet malibu classic (sw)",
          "Origin": "USA",
          "Weight_in_lbs": 3605,
          "Year": "1979-01-01T00:00:00"
         },
         {
          "Acceleration": 13,
          "Cylinders": 8,
          "Displacement": 360,
          "Horsepower": 150,
          "Miles_per_Gallon": 18.5,
          "Name": "chrysler lebaron town @ country (sw)",
          "Origin": "USA",
          "Weight_in_lbs": 3940,
          "Year": "1979-01-01T00:00:00"
         },
         {
          "Acceleration": 14,
          "Cylinders": 4,
          "Displacement": 89,
          "Horsepower": 71,
          "Miles_per_Gallon": 31.9,
          "Name": "vw rabbit custom",
          "Origin": "Europe",
          "Weight_in_lbs": 1925,
          "Year": "1979-01-01T00:00:00"
         },
         {
          "Acceleration": 15.2,
          "Cylinders": 4,
          "Displacement": 86,
          "Horsepower": 65,
          "Miles_per_Gallon": 34.1,
          "Name": "maxda glc deluxe",
          "Origin": "Japan",
          "Weight_in_lbs": 1975,
          "Year": "1979-01-01T00:00:00"
         },
         {
          "Acceleration": 14.4,
          "Cylinders": 4,
          "Displacement": 98,
          "Horsepower": 80,
          "Miles_per_Gallon": 35.7,
          "Name": "dodge colt hatchback custom",
          "Origin": "USA",
          "Weight_in_lbs": 1915,
          "Year": "1979-01-01T00:00:00"
         },
         {
          "Acceleration": 15,
          "Cylinders": 4,
          "Displacement": 121,
          "Horsepower": 80,
          "Miles_per_Gallon": 27.4,
          "Name": "amc spirit dl",
          "Origin": "USA",
          "Weight_in_lbs": 2670,
          "Year": "1979-01-01T00:00:00"
         },
         {
          "Acceleration": 20.1,
          "Cylinders": 5,
          "Displacement": 183,
          "Horsepower": 77,
          "Miles_per_Gallon": 25.4,
          "Name": "mercedes benz 300d",
          "Origin": "Europe",
          "Weight_in_lbs": 3530,
          "Year": "1979-01-01T00:00:00"
         },
         {
          "Acceleration": 17.4,
          "Cylinders": 8,
          "Displacement": 350,
          "Horsepower": 125,
          "Miles_per_Gallon": 23,
          "Name": "cadillac eldorado",
          "Origin": "USA",
          "Weight_in_lbs": 3900,
          "Year": "1979-01-01T00:00:00"
         },
         {
          "Acceleration": 24.8,
          "Cylinders": 4,
          "Displacement": 141,
          "Horsepower": 71,
          "Miles_per_Gallon": 27.2,
          "Name": "peugeot 504",
          "Origin": "Europe",
          "Weight_in_lbs": 3190,
          "Year": "1979-01-01T00:00:00"
         },
         {
          "Acceleration": 22.2,
          "Cylinders": 8,
          "Displacement": 260,
          "Horsepower": 90,
          "Miles_per_Gallon": 23.9,
          "Name": "oldsmobile cutlass salon brougham",
          "Origin": "USA",
          "Weight_in_lbs": 3420,
          "Year": "1979-01-01T00:00:00"
         },
         {
          "Acceleration": 13.2,
          "Cylinders": 4,
          "Displacement": 105,
          "Horsepower": 70,
          "Miles_per_Gallon": 34.2,
          "Name": "plymouth horizon",
          "Origin": "USA",
          "Weight_in_lbs": 2200,
          "Year": "1979-01-01T00:00:00"
         },
         {
          "Acceleration": 14.9,
          "Cylinders": 4,
          "Displacement": 105,
          "Horsepower": 70,
          "Miles_per_Gallon": 34.5,
          "Name": "plymouth horizon tc3",
          "Origin": "USA",
          "Weight_in_lbs": 2150,
          "Year": "1979-01-01T00:00:00"
         },
         {
          "Acceleration": 19.2,
          "Cylinders": 4,
          "Displacement": 85,
          "Horsepower": 65,
          "Miles_per_Gallon": 31.8,
          "Name": "datsun 210",
          "Origin": "Japan",
          "Weight_in_lbs": 2020,
          "Year": "1979-01-01T00:00:00"
         },
         {
          "Acceleration": 14.7,
          "Cylinders": 4,
          "Displacement": 91,
          "Horsepower": 69,
          "Miles_per_Gallon": 37.3,
          "Name": "fiat strada custom",
          "Origin": "Europe",
          "Weight_in_lbs": 2130,
          "Year": "1979-01-01T00:00:00"
         },
         {
          "Acceleration": 16,
          "Cylinders": 4,
          "Displacement": 151,
          "Horsepower": 90,
          "Miles_per_Gallon": 28.4,
          "Name": "buick skylark limited",
          "Origin": "USA",
          "Weight_in_lbs": 2670,
          "Year": "1979-01-01T00:00:00"
         },
         {
          "Acceleration": 11.3,
          "Cylinders": 6,
          "Displacement": 173,
          "Horsepower": 115,
          "Miles_per_Gallon": 28.8,
          "Name": "chevrolet citation",
          "Origin": "USA",
          "Weight_in_lbs": 2595,
          "Year": "1979-01-01T00:00:00"
         },
         {
          "Acceleration": 12.9,
          "Cylinders": 6,
          "Displacement": 173,
          "Horsepower": 115,
          "Miles_per_Gallon": 26.8,
          "Name": "oldsmobile omega brougham",
          "Origin": "USA",
          "Weight_in_lbs": 2700,
          "Year": "1979-01-01T00:00:00"
         },
         {
          "Acceleration": 13.2,
          "Cylinders": 4,
          "Displacement": 151,
          "Horsepower": 90,
          "Miles_per_Gallon": 33.5,
          "Name": "pontiac phoenix",
          "Origin": "USA",
          "Weight_in_lbs": 2556,
          "Year": "1979-01-01T00:00:00"
         },
         {
          "Acceleration": 14.7,
          "Cylinders": 4,
          "Displacement": 98,
          "Horsepower": 76,
          "Miles_per_Gallon": 41.5,
          "Name": "vw rabbit",
          "Origin": "Europe",
          "Weight_in_lbs": 2144,
          "Year": "1980-01-01T00:00:00"
         },
         {
          "Acceleration": 18.8,
          "Cylinders": 4,
          "Displacement": 89,
          "Horsepower": 60,
          "Miles_per_Gallon": 38.1,
          "Name": "toyota corolla tercel",
          "Origin": "Japan",
          "Weight_in_lbs": 1968,
          "Year": "1980-01-01T00:00:00"
         },
         {
          "Acceleration": 15.5,
          "Cylinders": 4,
          "Displacement": 98,
          "Horsepower": 70,
          "Miles_per_Gallon": 32.1,
          "Name": "chevrolet chevette",
          "Origin": "USA",
          "Weight_in_lbs": 2120,
          "Year": "1980-01-01T00:00:00"
         },
         {
          "Acceleration": 16.4,
          "Cylinders": 4,
          "Displacement": 86,
          "Horsepower": 65,
          "Miles_per_Gallon": 37.2,
          "Name": "datsun 310",
          "Origin": "Japan",
          "Weight_in_lbs": 2019,
          "Year": "1980-01-01T00:00:00"
         },
         {
          "Acceleration": 16.5,
          "Cylinders": 4,
          "Displacement": 151,
          "Horsepower": 90,
          "Miles_per_Gallon": 28,
          "Name": "chevrolet citation",
          "Origin": "USA",
          "Weight_in_lbs": 2678,
          "Year": "1980-01-01T00:00:00"
         },
         {
          "Acceleration": 18.1,
          "Cylinders": 4,
          "Displacement": 140,
          "Horsepower": 88,
          "Miles_per_Gallon": 26.4,
          "Name": "ford fairmont",
          "Origin": "USA",
          "Weight_in_lbs": 2870,
          "Year": "1980-01-01T00:00:00"
         },
         {
          "Acceleration": 20.1,
          "Cylinders": 4,
          "Displacement": 151,
          "Horsepower": 90,
          "Miles_per_Gallon": 24.3,
          "Name": "amc concord",
          "Origin": "USA",
          "Weight_in_lbs": 3003,
          "Year": "1980-01-01T00:00:00"
         },
         {
          "Acceleration": 18.7,
          "Cylinders": 6,
          "Displacement": 225,
          "Horsepower": 90,
          "Miles_per_Gallon": 19.1,
          "Name": "dodge aspen",
          "Origin": "USA",
          "Weight_in_lbs": 3381,
          "Year": "1980-01-01T00:00:00"
         },
         {
          "Acceleration": 15.8,
          "Cylinders": 4,
          "Displacement": 97,
          "Horsepower": 78,
          "Miles_per_Gallon": 34.3,
          "Name": "audi 4000",
          "Origin": "Europe",
          "Weight_in_lbs": 2188,
          "Year": "1980-01-01T00:00:00"
         },
         {
          "Acceleration": 15.5,
          "Cylinders": 4,
          "Displacement": 134,
          "Horsepower": 90,
          "Miles_per_Gallon": 29.8,
          "Name": "toyota corona liftback",
          "Origin": "Japan",
          "Weight_in_lbs": 2711,
          "Year": "1980-01-01T00:00:00"
         },
         {
          "Acceleration": 17.5,
          "Cylinders": 4,
          "Displacement": 120,
          "Horsepower": 75,
          "Miles_per_Gallon": 31.3,
          "Name": "mazda 626",
          "Origin": "Japan",
          "Weight_in_lbs": 2542,
          "Year": "1980-01-01T00:00:00"
         },
         {
          "Acceleration": 15,
          "Cylinders": 4,
          "Displacement": 119,
          "Horsepower": 92,
          "Miles_per_Gallon": 37,
          "Name": "datsun 510 hatchback",
          "Origin": "Japan",
          "Weight_in_lbs": 2434,
          "Year": "1980-01-01T00:00:00"
         },
         {
          "Acceleration": 15.2,
          "Cylinders": 4,
          "Displacement": 108,
          "Horsepower": 75,
          "Miles_per_Gallon": 32.2,
          "Name": "toyota corolla",
          "Origin": "Japan",
          "Weight_in_lbs": 2265,
          "Year": "1980-01-01T00:00:00"
         },
         {
          "Acceleration": 17.9,
          "Cylinders": 4,
          "Displacement": 86,
          "Horsepower": 65,
          "Miles_per_Gallon": 46.6,
          "Name": "mazda glc",
          "Origin": "Japan",
          "Weight_in_lbs": 2110,
          "Year": "1980-01-01T00:00:00"
         },
         {
          "Acceleration": 14.4,
          "Cylinders": 4,
          "Displacement": 156,
          "Horsepower": 105,
          "Miles_per_Gallon": 27.9,
          "Name": "dodge colt",
          "Origin": "USA",
          "Weight_in_lbs": 2800,
          "Year": "1980-01-01T00:00:00"
         },
         {
          "Acceleration": 19.2,
          "Cylinders": 4,
          "Displacement": 85,
          "Horsepower": 65,
          "Miles_per_Gallon": 40.8,
          "Name": "datsun 210",
          "Origin": "Japan",
          "Weight_in_lbs": 2110,
          "Year": "1980-01-01T00:00:00"
         },
         {
          "Acceleration": 21.7,
          "Cylinders": 4,
          "Displacement": 90,
          "Horsepower": 48,
          "Miles_per_Gallon": 44.3,
          "Name": "vw rabbit c (diesel)",
          "Origin": "Europe",
          "Weight_in_lbs": 2085,
          "Year": "1980-01-01T00:00:00"
         },
         {
          "Acceleration": 23.7,
          "Cylinders": 4,
          "Displacement": 90,
          "Horsepower": 48,
          "Miles_per_Gallon": 43.4,
          "Name": "vw dasher (diesel)",
          "Origin": "Europe",
          "Weight_in_lbs": 2335,
          "Year": "1980-01-01T00:00:00"
         },
         {
          "Acceleration": 19.9,
          "Cylinders": 5,
          "Displacement": 121,
          "Horsepower": 67,
          "Miles_per_Gallon": 36.4,
          "Name": "audi 5000s (diesel)",
          "Origin": "Europe",
          "Weight_in_lbs": 2950,
          "Year": "1980-01-01T00:00:00"
         },
         {
          "Acceleration": 21.8,
          "Cylinders": 4,
          "Displacement": 146,
          "Horsepower": 67,
          "Miles_per_Gallon": 30,
          "Name": "mercedes-benz 240d",
          "Origin": "Europe",
          "Weight_in_lbs": 3250,
          "Year": "1980-01-01T00:00:00"
         },
         {
          "Acceleration": 13.8,
          "Cylinders": 4,
          "Displacement": 91,
          "Horsepower": 67,
          "Miles_per_Gallon": 44.6,
          "Name": "honda civic 1500 gl",
          "Origin": "Japan",
          "Weight_in_lbs": 1850,
          "Year": "1980-01-01T00:00:00"
         },
         {
          "Acceleration": 17.3,
          "Cylinders": 4,
          "Displacement": 85,
          "Horsepower": null,
          "Miles_per_Gallon": 40.9,
          "Name": "renault lecar deluxe",
          "Origin": "Europe",
          "Weight_in_lbs": 1835,
          "Year": "1980-01-01T00:00:00"
         },
         {
          "Acceleration": 18,
          "Cylinders": 4,
          "Displacement": 97,
          "Horsepower": 67,
          "Miles_per_Gallon": 33.8,
          "Name": "subaru dl",
          "Origin": "Japan",
          "Weight_in_lbs": 2145,
          "Year": "1980-01-01T00:00:00"
         },
         {
          "Acceleration": 15.3,
          "Cylinders": 4,
          "Displacement": 89,
          "Horsepower": 62,
          "Miles_per_Gallon": 29.8,
          "Name": "vokswagen rabbit",
          "Origin": "Europe",
          "Weight_in_lbs": 1845,
          "Year": "1980-01-01T00:00:00"
         },
         {
          "Acceleration": 11.4,
          "Cylinders": 6,
          "Displacement": 168,
          "Horsepower": 132,
          "Miles_per_Gallon": 32.7,
          "Name": "datsun 280-zx",
          "Origin": "Japan",
          "Weight_in_lbs": 2910,
          "Year": "1980-01-01T00:00:00"
         },
         {
          "Acceleration": 12.5,
          "Cylinders": 3,
          "Displacement": 70,
          "Horsepower": 100,
          "Miles_per_Gallon": 23.7,
          "Name": "mazda rx-7 gs",
          "Origin": "Japan",
          "Weight_in_lbs": 2420,
          "Year": "1980-01-01T00:00:00"
         },
         {
          "Acceleration": 15.1,
          "Cylinders": 4,
          "Displacement": 122,
          "Horsepower": 88,
          "Miles_per_Gallon": 35,
          "Name": "triumph tr7 coupe",
          "Origin": "Europe",
          "Weight_in_lbs": 2500,
          "Year": "1980-01-01T00:00:00"
         },
         {
          "Acceleration": 14.3,
          "Cylinders": 4,
          "Displacement": 140,
          "Horsepower": null,
          "Miles_per_Gallon": 23.6,
          "Name": "ford mustang cobra",
          "Origin": "USA",
          "Weight_in_lbs": 2905,
          "Year": "1980-01-01T00:00:00"
         },
         {
          "Acceleration": 17,
          "Cylinders": 4,
          "Displacement": 107,
          "Horsepower": 72,
          "Miles_per_Gallon": 32.4,
          "Name": "honda Accelerationord",
          "Origin": "Japan",
          "Weight_in_lbs": 2290,
          "Year": "1980-01-01T00:00:00"
         },
         {
          "Acceleration": 15.7,
          "Cylinders": 4,
          "Displacement": 135,
          "Horsepower": 84,
          "Miles_per_Gallon": 27.2,
          "Name": "plymouth reliant",
          "Origin": "USA",
          "Weight_in_lbs": 2490,
          "Year": "1982-01-01T00:00:00"
         },
         {
          "Acceleration": 16.4,
          "Cylinders": 4,
          "Displacement": 151,
          "Horsepower": 84,
          "Miles_per_Gallon": 26.6,
          "Name": "buick skylark",
          "Origin": "USA",
          "Weight_in_lbs": 2635,
          "Year": "1982-01-01T00:00:00"
         },
         {
          "Acceleration": 14.4,
          "Cylinders": 4,
          "Displacement": 156,
          "Horsepower": 92,
          "Miles_per_Gallon": 25.8,
          "Name": "dodge aries wagon (sw)",
          "Origin": "USA",
          "Weight_in_lbs": 2620,
          "Year": "1982-01-01T00:00:00"
         },
         {
          "Acceleration": 12.6,
          "Cylinders": 6,
          "Displacement": 173,
          "Horsepower": 110,
          "Miles_per_Gallon": 23.5,
          "Name": "chevrolet citation",
          "Origin": "USA",
          "Weight_in_lbs": 2725,
          "Year": "1982-01-01T00:00:00"
         },
         {
          "Acceleration": 12.9,
          "Cylinders": 4,
          "Displacement": 135,
          "Horsepower": 84,
          "Miles_per_Gallon": 30,
          "Name": "plymouth reliant",
          "Origin": "USA",
          "Weight_in_lbs": 2385,
          "Year": "1982-01-01T00:00:00"
         },
         {
          "Acceleration": 16.9,
          "Cylinders": 4,
          "Displacement": 79,
          "Horsepower": 58,
          "Miles_per_Gallon": 39.1,
          "Name": "toyota starlet",
          "Origin": "Japan",
          "Weight_in_lbs": 1755,
          "Year": "1982-01-01T00:00:00"
         },
         {
          "Acceleration": 16.4,
          "Cylinders": 4,
          "Displacement": 86,
          "Horsepower": 64,
          "Miles_per_Gallon": 39,
          "Name": "plymouth champ",
          "Origin": "USA",
          "Weight_in_lbs": 1875,
          "Year": "1982-01-01T00:00:00"
         },
         {
          "Acceleration": 16.1,
          "Cylinders": 4,
          "Displacement": 81,
          "Horsepower": 60,
          "Miles_per_Gallon": 35.1,
          "Name": "honda civic 1300",
          "Origin": "Japan",
          "Weight_in_lbs": 1760,
          "Year": "1982-01-01T00:00:00"
         },
         {
          "Acceleration": 17.8,
          "Cylinders": 4,
          "Displacement": 97,
          "Horsepower": 67,
          "Miles_per_Gallon": 32.3,
          "Name": "subaru",
          "Origin": "Japan",
          "Weight_in_lbs": 2065,
          "Year": "1982-01-01T00:00:00"
         },
         {
          "Acceleration": 19.4,
          "Cylinders": 4,
          "Displacement": 85,
          "Horsepower": 65,
          "Miles_per_Gallon": 37,
          "Name": "datsun 210",
          "Origin": "Japan",
          "Weight_in_lbs": 1975,
          "Year": "1982-01-01T00:00:00"
         },
         {
          "Acceleration": 17.3,
          "Cylinders": 4,
          "Displacement": 89,
          "Horsepower": 62,
          "Miles_per_Gallon": 37.7,
          "Name": "toyota tercel",
          "Origin": "Japan",
          "Weight_in_lbs": 2050,
          "Year": "1982-01-01T00:00:00"
         },
         {
          "Acceleration": 16,
          "Cylinders": 4,
          "Displacement": 91,
          "Horsepower": 68,
          "Miles_per_Gallon": 34.1,
          "Name": "mazda glc 4",
          "Origin": "Japan",
          "Weight_in_lbs": 1985,
          "Year": "1982-01-01T00:00:00"
         },
         {
          "Acceleration": 14.9,
          "Cylinders": 4,
          "Displacement": 105,
          "Horsepower": 63,
          "Miles_per_Gallon": 34.7,
          "Name": "plymouth horizon 4",
          "Origin": "USA",
          "Weight_in_lbs": 2215,
          "Year": "1982-01-01T00:00:00"
         },
         {
          "Acceleration": 16.2,
          "Cylinders": 4,
          "Displacement": 98,
          "Horsepower": 65,
          "Miles_per_Gallon": 34.4,
          "Name": "ford escort 4w",
          "Origin": "USA",
          "Weight_in_lbs": 2045,
          "Year": "1982-01-01T00:00:00"
         },
         {
          "Acceleration": 20.7,
          "Cylinders": 4,
          "Displacement": 98,
          "Horsepower": 65,
          "Miles_per_Gallon": 29.9,
          "Name": "ford escort 2h",
          "Origin": "USA",
          "Weight_in_lbs": 2380,
          "Year": "1982-01-01T00:00:00"
         },
         {
          "Acceleration": 14.2,
          "Cylinders": 4,
          "Displacement": 105,
          "Horsepower": 74,
          "Miles_per_Gallon": 33,
          "Name": "volkswagen jetta",
          "Origin": "Europe",
          "Weight_in_lbs": 2190,
          "Year": "1982-01-01T00:00:00"
         },
         {
          "Acceleration": 15.8,
          "Cylinders": 4,
          "Displacement": 100,
          "Horsepower": null,
          "Miles_per_Gallon": 34.5,
          "Name": "renault 18i",
          "Origin": "Europe",
          "Weight_in_lbs": 2320,
          "Year": "1982-01-01T00:00:00"
         },
         {
          "Acceleration": 14.4,
          "Cylinders": 4,
          "Displacement": 107,
          "Horsepower": 75,
          "Miles_per_Gallon": 33.7,
          "Name": "honda prelude",
          "Origin": "Japan",
          "Weight_in_lbs": 2210,
          "Year": "1982-01-01T00:00:00"
         },
         {
          "Acceleration": 16.8,
          "Cylinders": 4,
          "Displacement": 108,
          "Horsepower": 75,
          "Miles_per_Gallon": 32.4,
          "Name": "toyota corolla",
          "Origin": "Japan",
          "Weight_in_lbs": 2350,
          "Year": "1982-01-01T00:00:00"
         },
         {
          "Acceleration": 14.8,
          "Cylinders": 4,
          "Displacement": 119,
          "Horsepower": 100,
          "Miles_per_Gallon": 32.9,
          "Name": "datsun 200sx",
          "Origin": "Japan",
          "Weight_in_lbs": 2615,
          "Year": "1982-01-01T00:00:00"
         },
         {
          "Acceleration": 18.3,
          "Cylinders": 4,
          "Displacement": 120,
          "Horsepower": 74,
          "Miles_per_Gallon": 31.6,
          "Name": "mazda 626",
          "Origin": "Japan",
          "Weight_in_lbs": 2635,
          "Year": "1982-01-01T00:00:00"
         },
         {
          "Acceleration": 20.4,
          "Cylinders": 4,
          "Displacement": 141,
          "Horsepower": 80,
          "Miles_per_Gallon": 28.1,
          "Name": "peugeot 505s turbo diesel",
          "Origin": "Europe",
          "Weight_in_lbs": 3230,
          "Year": "1982-01-01T00:00:00"
         },
         {
          "Acceleration": 15.4,
          "Cylinders": 4,
          "Displacement": 121,
          "Horsepower": 110,
          "Miles_per_Gallon": null,
          "Name": "saab 900s",
          "Origin": "Europe",
          "Weight_in_lbs": 2800,
          "Year": "1982-01-01T00:00:00"
         },
         {
          "Acceleration": 19.6,
          "Cylinders": 6,
          "Displacement": 145,
          "Horsepower": 76,
          "Miles_per_Gallon": 30.7,
          "Name": "volvo diesel",
          "Origin": "Europe",
          "Weight_in_lbs": 3160,
          "Year": "1982-01-01T00:00:00"
         },
         {
          "Acceleration": 12.6,
          "Cylinders": 6,
          "Displacement": 168,
          "Horsepower": 116,
          "Miles_per_Gallon": 25.4,
          "Name": "toyota cressida",
          "Origin": "Japan",
          "Weight_in_lbs": 2900,
          "Year": "1982-01-01T00:00:00"
         },
         {
          "Acceleration": 13.8,
          "Cylinders": 6,
          "Displacement": 146,
          "Horsepower": 120,
          "Miles_per_Gallon": 24.2,
          "Name": "datsun 810 maxima",
          "Origin": "Japan",
          "Weight_in_lbs": 2930,
          "Year": "1982-01-01T00:00:00"
         },
         {
          "Acceleration": 15.8,
          "Cylinders": 6,
          "Displacement": 231,
          "Horsepower": 110,
          "Miles_per_Gallon": 22.4,
          "Name": "buick century",
          "Origin": "USA",
          "Weight_in_lbs": 3415,
          "Year": "1982-01-01T00:00:00"
         },
         {
          "Acceleration": 19,
          "Cylinders": 8,
          "Displacement": 350,
          "Horsepower": 105,
          "Miles_per_Gallon": 26.6,
          "Name": "oldsmobile cutlass ls",
          "Origin": "USA",
          "Weight_in_lbs": 3725,
          "Year": "1982-01-01T00:00:00"
         },
         {
          "Acceleration": 17.1,
          "Cylinders": 6,
          "Displacement": 200,
          "Horsepower": 88,
          "Miles_per_Gallon": 20.2,
          "Name": "ford granada gl",
          "Origin": "USA",
          "Weight_in_lbs": 3060,
          "Year": "1982-01-01T00:00:00"
         },
         {
          "Acceleration": 16.6,
          "Cylinders": 6,
          "Displacement": 225,
          "Horsepower": 85,
          "Miles_per_Gallon": 17.6,
          "Name": "chrysler lebaron salon",
          "Origin": "USA",
          "Weight_in_lbs": 3465,
          "Year": "1982-01-01T00:00:00"
         },
         {
          "Acceleration": 19.6,
          "Cylinders": 4,
          "Displacement": 112,
          "Horsepower": 88,
          "Miles_per_Gallon": 28,
          "Name": "chevrolet cavalier",
          "Origin": "USA",
          "Weight_in_lbs": 2605,
          "Year": "1982-01-01T00:00:00"
         },
         {
          "Acceleration": 18.6,
          "Cylinders": 4,
          "Displacement": 112,
          "Horsepower": 88,
          "Miles_per_Gallon": 27,
          "Name": "chevrolet cavalier wagon",
          "Origin": "USA",
          "Weight_in_lbs": 2640,
          "Year": "1982-01-01T00:00:00"
         },
         {
          "Acceleration": 18,
          "Cylinders": 4,
          "Displacement": 112,
          "Horsepower": 88,
          "Miles_per_Gallon": 34,
          "Name": "chevrolet cavalier 2-door",
          "Origin": "USA",
          "Weight_in_lbs": 2395,
          "Year": "1982-01-01T00:00:00"
         },
         {
          "Acceleration": 16.2,
          "Cylinders": 4,
          "Displacement": 112,
          "Horsepower": 85,
          "Miles_per_Gallon": 31,
          "Name": "pontiac j2000 se hatchback",
          "Origin": "USA",
          "Weight_in_lbs": 2575,
          "Year": "1982-01-01T00:00:00"
         },
         {
          "Acceleration": 16,
          "Cylinders": 4,
          "Displacement": 135,
          "Horsepower": 84,
          "Miles_per_Gallon": 29,
          "Name": "dodge aries se",
          "Origin": "USA",
          "Weight_in_lbs": 2525,
          "Year": "1982-01-01T00:00:00"
         },
         {
          "Acceleration": 18,
          "Cylinders": 4,
          "Displacement": 151,
          "Horsepower": 90,
          "Miles_per_Gallon": 27,
          "Name": "pontiac phoenix",
          "Origin": "USA",
          "Weight_in_lbs": 2735,
          "Year": "1982-01-01T00:00:00"
         },
         {
          "Acceleration": 16.4,
          "Cylinders": 4,
          "Displacement": 140,
          "Horsepower": 92,
          "Miles_per_Gallon": 24,
          "Name": "ford fairmont futura",
          "Origin": "USA",
          "Weight_in_lbs": 2865,
          "Year": "1982-01-01T00:00:00"
         },
         {
          "Acceleration": 20.5,
          "Cylinders": 4,
          "Displacement": 151,
          "Horsepower": null,
          "Miles_per_Gallon": 23,
          "Name": "amc concord dl",
          "Origin": "USA",
          "Weight_in_lbs": 3035,
          "Year": "1982-01-01T00:00:00"
         },
         {
          "Acceleration": 15.3,
          "Cylinders": 4,
          "Displacement": 105,
          "Horsepower": 74,
          "Miles_per_Gallon": 36,
          "Name": "volkswagen rabbit l",
          "Origin": "Europe",
          "Weight_in_lbs": 1980,
          "Year": "1982-01-01T00:00:00"
         },
         {
          "Acceleration": 18.2,
          "Cylinders": 4,
          "Displacement": 91,
          "Horsepower": 68,
          "Miles_per_Gallon": 37,
          "Name": "mazda glc custom l",
          "Origin": "Japan",
          "Weight_in_lbs": 2025,
          "Year": "1982-01-01T00:00:00"
         },
         {
          "Acceleration": 17.6,
          "Cylinders": 4,
          "Displacement": 91,
          "Horsepower": 68,
          "Miles_per_Gallon": 31,
          "Name": "mazda glc custom",
          "Origin": "Japan",
          "Weight_in_lbs": 1970,
          "Year": "1982-01-01T00:00:00"
         },
         {
          "Acceleration": 14.7,
          "Cylinders": 4,
          "Displacement": 105,
          "Horsepower": 63,
          "Miles_per_Gallon": 38,
          "Name": "plymouth horizon miser",
          "Origin": "USA",
          "Weight_in_lbs": 2125,
          "Year": "1982-01-01T00:00:00"
         },
         {
          "Acceleration": 17.3,
          "Cylinders": 4,
          "Displacement": 98,
          "Horsepower": 70,
          "Miles_per_Gallon": 36,
          "Name": "mercury lynx l",
          "Origin": "USA",
          "Weight_in_lbs": 2125,
          "Year": "1982-01-01T00:00:00"
         },
         {
          "Acceleration": 14.5,
          "Cylinders": 4,
          "Displacement": 120,
          "Horsepower": 88,
          "Miles_per_Gallon": 36,
          "Name": "nissan stanza xe",
          "Origin": "Japan",
          "Weight_in_lbs": 2160,
          "Year": "1982-01-01T00:00:00"
         },
         {
          "Acceleration": 14.5,
          "Cylinders": 4,
          "Displacement": 107,
          "Horsepower": 75,
          "Miles_per_Gallon": 36,
          "Name": "honda Accelerationord",
          "Origin": "Japan",
          "Weight_in_lbs": 2205,
          "Year": "1982-01-01T00:00:00"
         },
         {
          "Acceleration": 16.9,
          "Cylinders": 4,
          "Displacement": 108,
          "Horsepower": 70,
          "Miles_per_Gallon": 34,
          "Name": "toyota corolla",
          "Origin": "Japan",
          "Weight_in_lbs": 2245,
          "Year": "1982-01-01T00:00:00"
         },
         {
          "Acceleration": 15,
          "Cylinders": 4,
          "Displacement": 91,
          "Horsepower": 67,
          "Miles_per_Gallon": 38,
          "Name": "honda civic",
          "Origin": "Japan",
          "Weight_in_lbs": 1965,
          "Year": "1982-01-01T00:00:00"
         },
         {
          "Acceleration": 15.7,
          "Cylinders": 4,
          "Displacement": 91,
          "Horsepower": 67,
          "Miles_per_Gallon": 32,
          "Name": "honda civic (auto)",
          "Origin": "Japan",
          "Weight_in_lbs": 1965,
          "Year": "1982-01-01T00:00:00"
         },
         {
          "Acceleration": 16.2,
          "Cylinders": 4,
          "Displacement": 91,
          "Horsepower": 67,
          "Miles_per_Gallon": 38,
          "Name": "datsun 310 gx",
          "Origin": "Japan",
          "Weight_in_lbs": 1995,
          "Year": "1982-01-01T00:00:00"
         },
         {
          "Acceleration": 16.4,
          "Cylinders": 6,
          "Displacement": 181,
          "Horsepower": 110,
          "Miles_per_Gallon": 25,
          "Name": "buick century limited",
          "Origin": "USA",
          "Weight_in_lbs": 2945,
          "Year": "1982-01-01T00:00:00"
         },
         {
          "Acceleration": 17,
          "Cylinders": 6,
          "Displacement": 262,
          "Horsepower": 85,
          "Miles_per_Gallon": 38,
          "Name": "oldsmobile cutlass ciera (diesel)",
          "Origin": "USA",
          "Weight_in_lbs": 3015,
          "Year": "1982-01-01T00:00:00"
         },
         {
          "Acceleration": 14.5,
          "Cylinders": 4,
          "Displacement": 156,
          "Horsepower": 92,
          "Miles_per_Gallon": 26,
          "Name": "chrysler lebaron medallion",
          "Origin": "USA",
          "Weight_in_lbs": 2585,
          "Year": "1982-01-01T00:00:00"
         },
         {
          "Acceleration": 14.7,
          "Cylinders": 6,
          "Displacement": 232,
          "Horsepower": 112,
          "Miles_per_Gallon": 22,
          "Name": "ford granada l",
          "Origin": "USA",
          "Weight_in_lbs": 2835,
          "Year": "1982-01-01T00:00:00"
         },
         {
          "Acceleration": 13.9,
          "Cylinders": 4,
          "Displacement": 144,
          "Horsepower": 96,
          "Miles_per_Gallon": 32,
          "Name": "toyota celica gt",
          "Origin": "Japan",
          "Weight_in_lbs": 2665,
          "Year": "1982-01-01T00:00:00"
         },
         {
          "Acceleration": 13,
          "Cylinders": 4,
          "Displacement": 135,
          "Horsepower": 84,
          "Miles_per_Gallon": 36,
          "Name": "dodge charger 2.2",
          "Origin": "USA",
          "Weight_in_lbs": 2370,
          "Year": "1982-01-01T00:00:00"
         },
         {
          "Acceleration": 17.3,
          "Cylinders": 4,
          "Displacement": 151,
          "Horsepower": 90,
          "Miles_per_Gallon": 27,
          "Name": "chevrolet camaro",
          "Origin": "USA",
          "Weight_in_lbs": 2950,
          "Year": "1982-01-01T00:00:00"
         },
         {
          "Acceleration": 15.6,
          "Cylinders": 4,
          "Displacement": 140,
          "Horsepower": 86,
          "Miles_per_Gallon": 27,
          "Name": "ford mustang gl",
          "Origin": "USA",
          "Weight_in_lbs": 2790,
          "Year": "1982-01-01T00:00:00"
         },
         {
          "Acceleration": 24.6,
          "Cylinders": 4,
          "Displacement": 97,
          "Horsepower": 52,
          "Miles_per_Gallon": 44,
          "Name": "vw pickup",
          "Origin": "Europe",
          "Weight_in_lbs": 2130,
          "Year": "1982-01-01T00:00:00"
         },
         {
          "Acceleration": 11.6,
          "Cylinders": 4,
          "Displacement": 135,
          "Horsepower": 84,
          "Miles_per_Gallon": 32,
          "Name": "dodge rampage",
          "Origin": "USA",
          "Weight_in_lbs": 2295,
          "Year": "1982-01-01T00:00:00"
         },
         {
          "Acceleration": 18.6,
          "Cylinders": 4,
          "Displacement": 120,
          "Horsepower": 79,
          "Miles_per_Gallon": 28,
          "Name": "ford ranger",
          "Origin": "USA",
          "Weight_in_lbs": 2625,
          "Year": "1982-01-01T00:00:00"
         },
         {
          "Acceleration": 19.4,
          "Cylinders": 4,
          "Displacement": 119,
          "Horsepower": 82,
          "Miles_per_Gallon": 31,
          "Name": "chevy s-10",
          "Origin": "USA",
          "Weight_in_lbs": 2720,
          "Year": "1982-01-01T00:00:00"
         }
        ]
       },
       "encoding": {
        "color": {
         "field": "Origin",
         "scale": {
          "scheme": "accent"
         },
         "type": "nominal"
        },
        "x": {
         "field": "Horsepower",
         "type": "quantitative"
        },
        "y": {
         "field": "Miles_per_Gallon",
         "type": "quantitative"
        }
       },
       "mark": "circle"
      },
      "text/plain": [
       "<VegaLite 4 object>\n",
       "\n",
       "If you see this message, it means the renderer has not been properly enabled\n",
       "for the frontend that you are using. For more information, see\n",
       "https://altair-viz.github.io/user_guide/troubleshooting.html\n"
      ]
     },
     "execution_count": 50,
     "metadata": {},
     "output_type": "execute_result"
    }
   ],
   "source": [
    "# cars = alt.load_dataset('cars')\n",
    "cars = data.cars()\n",
    "alt.Chart(cars).mark_circle().encode(\n",
    "    x='Horsepower',\n",
    "    y='Miles_per_Gallon',\n",
    "    color=alt.Color('Origin', scale=alt.Scale(scheme='accent'), sort=alt.Sort()),\n",
    ")\n"
   ]
  },
  {
   "cell_type": "code",
   "execution_count": 25,
   "metadata": {},
   "outputs": [],
   "source": [
    "melted_cars = cars.melt(id_vars=['Name', 'Year', 'Origin'])"
   ]
  },
  {
   "cell_type": "code",
   "execution_count": 27,
   "metadata": {},
   "outputs": [
    {
     "data": {
      "application/vnd.vegalite.v4+json": {
       "$schema": "https://vega.github.io/schema/vega-lite/v4.17.0.json",
       "config": {
        "view": {
         "continuousHeight": 300,
         "continuousWidth": 400
        }
       },
       "data": {
        "name": "data-8316b6bdd6cf4a14509dee878114669d"
       },
       "datasets": {
        "data-8316b6bdd6cf4a14509dee878114669d": [
         {
          "Name": "chevrolet chevelle malibu",
          "Origin": "USA",
          "Year": "1970-01-01T00:00:00",
          "value": 18,
          "variable": "Miles_per_Gallon"
         },
         {
          "Name": "buick skylark 320",
          "Origin": "USA",
          "Year": "1970-01-01T00:00:00",
          "value": 15,
          "variable": "Miles_per_Gallon"
         },
         {
          "Name": "plymouth satellite",
          "Origin": "USA",
          "Year": "1970-01-01T00:00:00",
          "value": 18,
          "variable": "Miles_per_Gallon"
         },
         {
          "Name": "amc rebel sst",
          "Origin": "USA",
          "Year": "1970-01-01T00:00:00",
          "value": 16,
          "variable": "Miles_per_Gallon"
         },
         {
          "Name": "ford torino",
          "Origin": "USA",
          "Year": "1970-01-01T00:00:00",
          "value": 17,
          "variable": "Miles_per_Gallon"
         },
         {
          "Name": "ford galaxie 500",
          "Origin": "USA",
          "Year": "1970-01-01T00:00:00",
          "value": 15,
          "variable": "Miles_per_Gallon"
         },
         {
          "Name": "chevrolet impala",
          "Origin": "USA",
          "Year": "1970-01-01T00:00:00",
          "value": 14,
          "variable": "Miles_per_Gallon"
         },
         {
          "Name": "plymouth fury iii",
          "Origin": "USA",
          "Year": "1970-01-01T00:00:00",
          "value": 14,
          "variable": "Miles_per_Gallon"
         },
         {
          "Name": "pontiac catalina",
          "Origin": "USA",
          "Year": "1970-01-01T00:00:00",
          "value": 14,
          "variable": "Miles_per_Gallon"
         },
         {
          "Name": "amc ambassador dpl",
          "Origin": "USA",
          "Year": "1970-01-01T00:00:00",
          "value": 15,
          "variable": "Miles_per_Gallon"
         },
         {
          "Name": "citroen ds-21 pallas",
          "Origin": "Europe",
          "Year": "1970-01-01T00:00:00",
          "value": null,
          "variable": "Miles_per_Gallon"
         },
         {
          "Name": "chevrolet chevelle concours (sw)",
          "Origin": "USA",
          "Year": "1970-01-01T00:00:00",
          "value": null,
          "variable": "Miles_per_Gallon"
         },
         {
          "Name": "ford torino (sw)",
          "Origin": "USA",
          "Year": "1970-01-01T00:00:00",
          "value": null,
          "variable": "Miles_per_Gallon"
         },
         {
          "Name": "plymouth satellite (sw)",
          "Origin": "USA",
          "Year": "1970-01-01T00:00:00",
          "value": null,
          "variable": "Miles_per_Gallon"
         },
         {
          "Name": "amc rebel sst (sw)",
          "Origin": "USA",
          "Year": "1970-01-01T00:00:00",
          "value": null,
          "variable": "Miles_per_Gallon"
         },
         {
          "Name": "dodge challenger se",
          "Origin": "USA",
          "Year": "1970-01-01T00:00:00",
          "value": 15,
          "variable": "Miles_per_Gallon"
         },
         {
          "Name": "plymouth 'cuda 340",
          "Origin": "USA",
          "Year": "1970-01-01T00:00:00",
          "value": 14,
          "variable": "Miles_per_Gallon"
         },
         {
          "Name": "ford mustang boss 302",
          "Origin": "USA",
          "Year": "1970-01-01T00:00:00",
          "value": null,
          "variable": "Miles_per_Gallon"
         },
         {
          "Name": "chevrolet monte carlo",
          "Origin": "USA",
          "Year": "1970-01-01T00:00:00",
          "value": 15,
          "variable": "Miles_per_Gallon"
         },
         {
          "Name": "buick estate wagon (sw)",
          "Origin": "USA",
          "Year": "1970-01-01T00:00:00",
          "value": 14,
          "variable": "Miles_per_Gallon"
         },
         {
          "Name": "toyota corona mark ii",
          "Origin": "Japan",
          "Year": "1970-01-01T00:00:00",
          "value": 24,
          "variable": "Miles_per_Gallon"
         },
         {
          "Name": "plymouth duster",
          "Origin": "USA",
          "Year": "1970-01-01T00:00:00",
          "value": 22,
          "variable": "Miles_per_Gallon"
         },
         {
          "Name": "amc hornet",
          "Origin": "USA",
          "Year": "1970-01-01T00:00:00",
          "value": 18,
          "variable": "Miles_per_Gallon"
         },
         {
          "Name": "ford maverick",
          "Origin": "USA",
          "Year": "1970-01-01T00:00:00",
          "value": 21,
          "variable": "Miles_per_Gallon"
         },
         {
          "Name": "datsun pl510",
          "Origin": "Japan",
          "Year": "1970-01-01T00:00:00",
          "value": 27,
          "variable": "Miles_per_Gallon"
         },
         {
          "Name": "volkswagen 1131 deluxe sedan",
          "Origin": "Europe",
          "Year": "1970-01-01T00:00:00",
          "value": 26,
          "variable": "Miles_per_Gallon"
         },
         {
          "Name": "peugeot 504",
          "Origin": "Europe",
          "Year": "1970-01-01T00:00:00",
          "value": 25,
          "variable": "Miles_per_Gallon"
         },
         {
          "Name": "audi 100 ls",
          "Origin": "Europe",
          "Year": "1970-01-01T00:00:00",
          "value": 24,
          "variable": "Miles_per_Gallon"
         },
         {
          "Name": "saab 99e",
          "Origin": "Europe",
          "Year": "1970-01-01T00:00:00",
          "value": 25,
          "variable": "Miles_per_Gallon"
         },
         {
          "Name": "bmw 2002",
          "Origin": "Europe",
          "Year": "1970-01-01T00:00:00",
          "value": 26,
          "variable": "Miles_per_Gallon"
         },
         {
          "Name": "amc gremlin",
          "Origin": "USA",
          "Year": "1970-01-01T00:00:00",
          "value": 21,
          "variable": "Miles_per_Gallon"
         },
         {
          "Name": "ford f250",
          "Origin": "USA",
          "Year": "1970-01-01T00:00:00",
          "value": 10,
          "variable": "Miles_per_Gallon"
         },
         {
          "Name": "chevy c20",
          "Origin": "USA",
          "Year": "1970-01-01T00:00:00",
          "value": 10,
          "variable": "Miles_per_Gallon"
         },
         {
          "Name": "dodge d200",
          "Origin": "USA",
          "Year": "1970-01-01T00:00:00",
          "value": 11,
          "variable": "Miles_per_Gallon"
         },
         {
          "Name": "hi 1200d",
          "Origin": "USA",
          "Year": "1970-01-01T00:00:00",
          "value": 9,
          "variable": "Miles_per_Gallon"
         },
         {
          "Name": "datsun pl510",
          "Origin": "Japan",
          "Year": "1971-01-01T00:00:00",
          "value": 27,
          "variable": "Miles_per_Gallon"
         },
         {
          "Name": "chevrolet vega 2300",
          "Origin": "USA",
          "Year": "1971-01-01T00:00:00",
          "value": 28,
          "variable": "Miles_per_Gallon"
         },
         {
          "Name": "toyota corona",
          "Origin": "Japan",
          "Year": "1971-01-01T00:00:00",
          "value": 25,
          "variable": "Miles_per_Gallon"
         },
         {
          "Name": "ford pinto",
          "Origin": "USA",
          "Year": "1971-01-01T00:00:00",
          "value": 25,
          "variable": "Miles_per_Gallon"
         },
         {
          "Name": "volkswagen super beetle 117",
          "Origin": "Europe",
          "Year": "1971-01-01T00:00:00",
          "value": null,
          "variable": "Miles_per_Gallon"
         },
         {
          "Name": "amc gremlin",
          "Origin": "USA",
          "Year": "1971-01-01T00:00:00",
          "value": 19,
          "variable": "Miles_per_Gallon"
         },
         {
          "Name": "plymouth satellite custom",
          "Origin": "USA",
          "Year": "1971-01-01T00:00:00",
          "value": 16,
          "variable": "Miles_per_Gallon"
         },
         {
          "Name": "chevrolet chevelle malibu",
          "Origin": "USA",
          "Year": "1971-01-01T00:00:00",
          "value": 17,
          "variable": "Miles_per_Gallon"
         },
         {
          "Name": "ford torino 500",
          "Origin": "USA",
          "Year": "1971-01-01T00:00:00",
          "value": 19,
          "variable": "Miles_per_Gallon"
         },
         {
          "Name": "amc matador",
          "Origin": "USA",
          "Year": "1971-01-01T00:00:00",
          "value": 18,
          "variable": "Miles_per_Gallon"
         },
         {
          "Name": "chevrolet impala",
          "Origin": "USA",
          "Year": "1971-01-01T00:00:00",
          "value": 14,
          "variable": "Miles_per_Gallon"
         },
         {
          "Name": "pontiac catalina brougham",
          "Origin": "USA",
          "Year": "1971-01-01T00:00:00",
          "value": 14,
          "variable": "Miles_per_Gallon"
         },
         {
          "Name": "ford galaxie 500",
          "Origin": "USA",
          "Year": "1971-01-01T00:00:00",
          "value": 14,
          "variable": "Miles_per_Gallon"
         },
         {
          "Name": "plymouth fury iii",
          "Origin": "USA",
          "Year": "1971-01-01T00:00:00",
          "value": 14,
          "variable": "Miles_per_Gallon"
         },
         {
          "Name": "dodge monaco (sw)",
          "Origin": "USA",
          "Year": "1971-01-01T00:00:00",
          "value": 12,
          "variable": "Miles_per_Gallon"
         },
         {
          "Name": "ford country squire (sw)",
          "Origin": "USA",
          "Year": "1971-01-01T00:00:00",
          "value": 13,
          "variable": "Miles_per_Gallon"
         },
         {
          "Name": "pontiac safari (sw)",
          "Origin": "USA",
          "Year": "1971-01-01T00:00:00",
          "value": 13,
          "variable": "Miles_per_Gallon"
         },
         {
          "Name": "amc hornet sportabout (sw)",
          "Origin": "USA",
          "Year": "1971-01-01T00:00:00",
          "value": 18,
          "variable": "Miles_per_Gallon"
         },
         {
          "Name": "chevrolet vega (sw)",
          "Origin": "USA",
          "Year": "1971-01-01T00:00:00",
          "value": 22,
          "variable": "Miles_per_Gallon"
         },
         {
          "Name": "pontiac firebird",
          "Origin": "USA",
          "Year": "1971-01-01T00:00:00",
          "value": 19,
          "variable": "Miles_per_Gallon"
         },
         {
          "Name": "ford mustang",
          "Origin": "USA",
          "Year": "1971-01-01T00:00:00",
          "value": 18,
          "variable": "Miles_per_Gallon"
         },
         {
          "Name": "mercury capri 2000",
          "Origin": "USA",
          "Year": "1971-01-01T00:00:00",
          "value": 23,
          "variable": "Miles_per_Gallon"
         },
         {
          "Name": "opel 1900",
          "Origin": "Europe",
          "Year": "1971-01-01T00:00:00",
          "value": 28,
          "variable": "Miles_per_Gallon"
         },
         {
          "Name": "peugeot 304",
          "Origin": "Europe",
          "Year": "1971-01-01T00:00:00",
          "value": 30,
          "variable": "Miles_per_Gallon"
         },
         {
          "Name": "fiat 124b",
          "Origin": "Europe",
          "Year": "1971-01-01T00:00:00",
          "value": 30,
          "variable": "Miles_per_Gallon"
         },
         {
          "Name": "toyota corolla 1200",
          "Origin": "Japan",
          "Year": "1971-01-01T00:00:00",
          "value": 31,
          "variable": "Miles_per_Gallon"
         },
         {
          "Name": "datsun 1200",
          "Origin": "Japan",
          "Year": "1971-01-01T00:00:00",
          "value": 35,
          "variable": "Miles_per_Gallon"
         },
         {
          "Name": "volkswagen model 111",
          "Origin": "Europe",
          "Year": "1971-01-01T00:00:00",
          "value": 27,
          "variable": "Miles_per_Gallon"
         },
         {
          "Name": "plymouth cricket",
          "Origin": "USA",
          "Year": "1971-01-01T00:00:00",
          "value": 26,
          "variable": "Miles_per_Gallon"
         },
         {
          "Name": "toyota corona hardtop",
          "Origin": "Japan",
          "Year": "1972-01-01T00:00:00",
          "value": 24,
          "variable": "Miles_per_Gallon"
         },
         {
          "Name": "dodge colt hardtop",
          "Origin": "USA",
          "Year": "1972-01-01T00:00:00",
          "value": 25,
          "variable": "Miles_per_Gallon"
         },
         {
          "Name": "volkswagen type 3",
          "Origin": "Europe",
          "Year": "1972-01-01T00:00:00",
          "value": 23,
          "variable": "Miles_per_Gallon"
         },
         {
          "Name": "chevrolet vega",
          "Origin": "USA",
          "Year": "1972-01-01T00:00:00",
          "value": 20,
          "variable": "Miles_per_Gallon"
         },
         {
          "Name": "ford pinto runabout",
          "Origin": "USA",
          "Year": "1972-01-01T00:00:00",
          "value": 21,
          "variable": "Miles_per_Gallon"
         },
         {
          "Name": "chevrolet impala",
          "Origin": "USA",
          "Year": "1972-01-01T00:00:00",
          "value": 13,
          "variable": "Miles_per_Gallon"
         },
         {
          "Name": "pontiac catalina",
          "Origin": "USA",
          "Year": "1972-01-01T00:00:00",
          "value": 14,
          "variable": "Miles_per_Gallon"
         },
         {
          "Name": "plymouth fury iii",
          "Origin": "USA",
          "Year": "1972-01-01T00:00:00",
          "value": 15,
          "variable": "Miles_per_Gallon"
         },
         {
          "Name": "ford galaxie 500",
          "Origin": "USA",
          "Year": "1972-01-01T00:00:00",
          "value": 14,
          "variable": "Miles_per_Gallon"
         },
         {
          "Name": "amc ambassador sst",
          "Origin": "USA",
          "Year": "1972-01-01T00:00:00",
          "value": 17,
          "variable": "Miles_per_Gallon"
         },
         {
          "Name": "mercury marquis",
          "Origin": "USA",
          "Year": "1972-01-01T00:00:00",
          "value": 11,
          "variable": "Miles_per_Gallon"
         },
         {
          "Name": "buick lesabre custom",
          "Origin": "USA",
          "Year": "1972-01-01T00:00:00",
          "value": 13,
          "variable": "Miles_per_Gallon"
         },
         {
          "Name": "oldsmobile delta 88 royale",
          "Origin": "USA",
          "Year": "1972-01-01T00:00:00",
          "value": 12,
          "variable": "Miles_per_Gallon"
         },
         {
          "Name": "chrysler newport royal",
          "Origin": "USA",
          "Year": "1972-01-01T00:00:00",
          "value": 13,
          "variable": "Miles_per_Gallon"
         },
         {
          "Name": "mazda rx2 coupe",
          "Origin": "Japan",
          "Year": "1972-01-01T00:00:00",
          "value": 19,
          "variable": "Miles_per_Gallon"
         },
         {
          "Name": "amc matador (sw)",
          "Origin": "USA",
          "Year": "1972-01-01T00:00:00",
          "value": 15,
          "variable": "Miles_per_Gallon"
         },
         {
          "Name": "chevrolet chevelle concours (sw)",
          "Origin": "USA",
          "Year": "1972-01-01T00:00:00",
          "value": 13,
          "variable": "Miles_per_Gallon"
         },
         {
          "Name": "ford gran torino (sw)",
          "Origin": "USA",
          "Year": "1972-01-01T00:00:00",
          "value": 13,
          "variable": "Miles_per_Gallon"
         },
         {
          "Name": "plymouth satellite custom (sw)",
          "Origin": "USA",
          "Year": "1972-01-01T00:00:00",
          "value": 14,
          "variable": "Miles_per_Gallon"
         },
         {
          "Name": "volvo 145e (sw)",
          "Origin": "Europe",
          "Year": "1972-01-01T00:00:00",
          "value": 18,
          "variable": "Miles_per_Gallon"
         },
         {
          "Name": "volkswagen 411 (sw)",
          "Origin": "Europe",
          "Year": "1972-01-01T00:00:00",
          "value": 22,
          "variable": "Miles_per_Gallon"
         },
         {
          "Name": "peugeot 504 (sw)",
          "Origin": "Europe",
          "Year": "1972-01-01T00:00:00",
          "value": 21,
          "variable": "Miles_per_Gallon"
         },
         {
          "Name": "renault 12 (sw)",
          "Origin": "Europe",
          "Year": "1972-01-01T00:00:00",
          "value": 26,
          "variable": "Miles_per_Gallon"
         },
         {
          "Name": "ford pinto (sw)",
          "Origin": "USA",
          "Year": "1972-01-01T00:00:00",
          "value": 22,
          "variable": "Miles_per_Gallon"
         },
         {
          "Name": "datsun 510 (sw)",
          "Origin": "Japan",
          "Year": "1972-01-01T00:00:00",
          "value": 28,
          "variable": "Miles_per_Gallon"
         },
         {
          "Name": "toyouta corona mark ii (sw)",
          "Origin": "Japan",
          "Year": "1972-01-01T00:00:00",
          "value": 23,
          "variable": "Miles_per_Gallon"
         },
         {
          "Name": "dodge colt (sw)",
          "Origin": "USA",
          "Year": "1972-01-01T00:00:00",
          "value": 28,
          "variable": "Miles_per_Gallon"
         },
         {
          "Name": "toyota corolla 1600 (sw)",
          "Origin": "Japan",
          "Year": "1972-01-01T00:00:00",
          "value": 27,
          "variable": "Miles_per_Gallon"
         },
         {
          "Name": "buick century 350",
          "Origin": "USA",
          "Year": "1973-01-01T00:00:00",
          "value": 13,
          "variable": "Miles_per_Gallon"
         },
         {
          "Name": "amc matador",
          "Origin": "USA",
          "Year": "1973-01-01T00:00:00",
          "value": 14,
          "variable": "Miles_per_Gallon"
         },
         {
          "Name": "chevrolet malibu",
          "Origin": "USA",
          "Year": "1973-01-01T00:00:00",
          "value": 13,
          "variable": "Miles_per_Gallon"
         },
         {
          "Name": "ford gran torino",
          "Origin": "USA",
          "Year": "1973-01-01T00:00:00",
          "value": 14,
          "variable": "Miles_per_Gallon"
         },
         {
          "Name": "dodge coronet custom",
          "Origin": "USA",
          "Year": "1973-01-01T00:00:00",
          "value": 15,
          "variable": "Miles_per_Gallon"
         },
         {
          "Name": "mercury marquis brougham",
          "Origin": "USA",
          "Year": "1973-01-01T00:00:00",
          "value": 12,
          "variable": "Miles_per_Gallon"
         },
         {
          "Name": "chevrolet caprice classic",
          "Origin": "USA",
          "Year": "1973-01-01T00:00:00",
          "value": 13,
          "variable": "Miles_per_Gallon"
         },
         {
          "Name": "ford ltd",
          "Origin": "USA",
          "Year": "1973-01-01T00:00:00",
          "value": 13,
          "variable": "Miles_per_Gallon"
         },
         {
          "Name": "plymouth fury gran sedan",
          "Origin": "USA",
          "Year": "1973-01-01T00:00:00",
          "value": 14,
          "variable": "Miles_per_Gallon"
         },
         {
          "Name": "chrysler new yorker brougham",
          "Origin": "USA",
          "Year": "1973-01-01T00:00:00",
          "value": 13,
          "variable": "Miles_per_Gallon"
         },
         {
          "Name": "buick electra 225 custom",
          "Origin": "USA",
          "Year": "1973-01-01T00:00:00",
          "value": 12,
          "variable": "Miles_per_Gallon"
         },
         {
          "Name": "amc ambassador brougham",
          "Origin": "USA",
          "Year": "1973-01-01T00:00:00",
          "value": 13,
          "variable": "Miles_per_Gallon"
         },
         {
          "Name": "plymouth valiant",
          "Origin": "USA",
          "Year": "1973-01-01T00:00:00",
          "value": 18,
          "variable": "Miles_per_Gallon"
         },
         {
          "Name": "chevrolet nova custom",
          "Origin": "USA",
          "Year": "1973-01-01T00:00:00",
          "value": 16,
          "variable": "Miles_per_Gallon"
         },
         {
          "Name": "amc hornet",
          "Origin": "USA",
          "Year": "1973-01-01T00:00:00",
          "value": 18,
          "variable": "Miles_per_Gallon"
         },
         {
          "Name": "ford maverick",
          "Origin": "USA",
          "Year": "1973-01-01T00:00:00",
          "value": 18,
          "variable": "Miles_per_Gallon"
         },
         {
          "Name": "plymouth duster",
          "Origin": "USA",
          "Year": "1973-01-01T00:00:00",
          "value": 23,
          "variable": "Miles_per_Gallon"
         },
         {
          "Name": "volkswagen super beetle",
          "Origin": "Europe",
          "Year": "1973-01-01T00:00:00",
          "value": 26,
          "variable": "Miles_per_Gallon"
         },
         {
          "Name": "chevrolet impala",
          "Origin": "USA",
          "Year": "1973-01-01T00:00:00",
          "value": 11,
          "variable": "Miles_per_Gallon"
         },
         {
          "Name": "ford country",
          "Origin": "USA",
          "Year": "1973-01-01T00:00:00",
          "value": 12,
          "variable": "Miles_per_Gallon"
         },
         {
          "Name": "plymouth custom suburb",
          "Origin": "USA",
          "Year": "1973-01-01T00:00:00",
          "value": 13,
          "variable": "Miles_per_Gallon"
         },
         {
          "Name": "oldsmobile vista cruiser",
          "Origin": "USA",
          "Year": "1973-01-01T00:00:00",
          "value": 12,
          "variable": "Miles_per_Gallon"
         },
         {
          "Name": "amc gremlin",
          "Origin": "USA",
          "Year": "1973-01-01T00:00:00",
          "value": 18,
          "variable": "Miles_per_Gallon"
         },
         {
          "Name": "toyota carina",
          "Origin": "Japan",
          "Year": "1973-01-01T00:00:00",
          "value": 20,
          "variable": "Miles_per_Gallon"
         },
         {
          "Name": "chevrolet vega",
          "Origin": "USA",
          "Year": "1973-01-01T00:00:00",
          "value": 21,
          "variable": "Miles_per_Gallon"
         },
         {
          "Name": "datsun 610",
          "Origin": "Japan",
          "Year": "1973-01-01T00:00:00",
          "value": 22,
          "variable": "Miles_per_Gallon"
         },
         {
          "Name": "maxda rx3",
          "Origin": "Japan",
          "Year": "1973-01-01T00:00:00",
          "value": 18,
          "variable": "Miles_per_Gallon"
         },
         {
          "Name": "ford pinto",
          "Origin": "USA",
          "Year": "1973-01-01T00:00:00",
          "value": 19,
          "variable": "Miles_per_Gallon"
         },
         {
          "Name": "mercury capri v6",
          "Origin": "USA",
          "Year": "1973-01-01T00:00:00",
          "value": 21,
          "variable": "Miles_per_Gallon"
         },
         {
          "Name": "fiat 124 sport coupe",
          "Origin": "Europe",
          "Year": "1973-01-01T00:00:00",
          "value": 26,
          "variable": "Miles_per_Gallon"
         },
         {
          "Name": "chevrolet monte carlo s",
          "Origin": "USA",
          "Year": "1973-01-01T00:00:00",
          "value": 15,
          "variable": "Miles_per_Gallon"
         },
         {
          "Name": "pontiac grand prix",
          "Origin": "USA",
          "Year": "1973-01-01T00:00:00",
          "value": 16,
          "variable": "Miles_per_Gallon"
         },
         {
          "Name": "fiat 128",
          "Origin": "Europe",
          "Year": "1973-01-01T00:00:00",
          "value": 29,
          "variable": "Miles_per_Gallon"
         },
         {
          "Name": "opel manta",
          "Origin": "Europe",
          "Year": "1973-01-01T00:00:00",
          "value": 24,
          "variable": "Miles_per_Gallon"
         },
         {
          "Name": "audi 100ls",
          "Origin": "Europe",
          "Year": "1973-01-01T00:00:00",
          "value": 20,
          "variable": "Miles_per_Gallon"
         },
         {
          "Name": "volvo 144ea",
          "Origin": "Europe",
          "Year": "1973-01-01T00:00:00",
          "value": 19,
          "variable": "Miles_per_Gallon"
         },
         {
          "Name": "dodge dart custom",
          "Origin": "USA",
          "Year": "1973-01-01T00:00:00",
          "value": 15,
          "variable": "Miles_per_Gallon"
         },
         {
          "Name": "saab 99le",
          "Origin": "Europe",
          "Year": "1973-01-01T00:00:00",
          "value": 24,
          "variable": "Miles_per_Gallon"
         },
         {
          "Name": "toyota mark ii",
          "Origin": "Japan",
          "Year": "1973-01-01T00:00:00",
          "value": 20,
          "variable": "Miles_per_Gallon"
         },
         {
          "Name": "oldsmobile omega",
          "Origin": "USA",
          "Year": "1973-01-01T00:00:00",
          "value": 11,
          "variable": "Miles_per_Gallon"
         },
         {
          "Name": "plymouth duster",
          "Origin": "USA",
          "Year": "1974-01-01T00:00:00",
          "value": 20,
          "variable": "Miles_per_Gallon"
         },
         {
          "Name": "ford maverick",
          "Origin": "USA",
          "Year": "1974-01-01T00:00:00",
          "value": 21,
          "variable": "Miles_per_Gallon"
         },
         {
          "Name": "amc hornet",
          "Origin": "USA",
          "Year": "1974-01-01T00:00:00",
          "value": 19,
          "variable": "Miles_per_Gallon"
         },
         {
          "Name": "chevrolet nova",
          "Origin": "USA",
          "Year": "1974-01-01T00:00:00",
          "value": 15,
          "variable": "Miles_per_Gallon"
         },
         {
          "Name": "datsun b210",
          "Origin": "Japan",
          "Year": "1974-01-01T00:00:00",
          "value": 31,
          "variable": "Miles_per_Gallon"
         },
         {
          "Name": "ford pinto",
          "Origin": "USA",
          "Year": "1974-01-01T00:00:00",
          "value": 26,
          "variable": "Miles_per_Gallon"
         },
         {
          "Name": "toyota corolla 1200",
          "Origin": "Japan",
          "Year": "1974-01-01T00:00:00",
          "value": 32,
          "variable": "Miles_per_Gallon"
         },
         {
          "Name": "chevrolet vega",
          "Origin": "USA",
          "Year": "1974-01-01T00:00:00",
          "value": 25,
          "variable": "Miles_per_Gallon"
         },
         {
          "Name": "chevrolet chevelle malibu classic",
          "Origin": "USA",
          "Year": "1974-01-01T00:00:00",
          "value": 16,
          "variable": "Miles_per_Gallon"
         },
         {
          "Name": "amc matador",
          "Origin": "USA",
          "Year": "1974-01-01T00:00:00",
          "value": 16,
          "variable": "Miles_per_Gallon"
         },
         {
          "Name": "plymouth satellite sebring",
          "Origin": "USA",
          "Year": "1974-01-01T00:00:00",
          "value": 18,
          "variable": "Miles_per_Gallon"
         },
         {
          "Name": "ford gran torino",
          "Origin": "USA",
          "Year": "1974-01-01T00:00:00",
          "value": 16,
          "variable": "Miles_per_Gallon"
         },
         {
          "Name": "buick century luxus (sw)",
          "Origin": "USA",
          "Year": "1974-01-01T00:00:00",
          "value": 13,
          "variable": "Miles_per_Gallon"
         },
         {
          "Name": "dodge coronet custom (sw)",
          "Origin": "USA",
          "Year": "1974-01-01T00:00:00",
          "value": 14,
          "variable": "Miles_per_Gallon"
         },
         {
          "Name": "ford gran torino (sw)",
          "Origin": "USA",
          "Year": "1974-01-01T00:00:00",
          "value": 14,
          "variable": "Miles_per_Gallon"
         },
         {
          "Name": "amc matador (sw)",
          "Origin": "USA",
          "Year": "1974-01-01T00:00:00",
          "value": 14,
          "variable": "Miles_per_Gallon"
         },
         {
          "Name": "audi fox",
          "Origin": "Europe",
          "Year": "1974-01-01T00:00:00",
          "value": 29,
          "variable": "Miles_per_Gallon"
         },
         {
          "Name": "volkswagen dasher",
          "Origin": "Europe",
          "Year": "1974-01-01T00:00:00",
          "value": 26,
          "variable": "Miles_per_Gallon"
         },
         {
          "Name": "opel manta",
          "Origin": "Europe",
          "Year": "1974-01-01T00:00:00",
          "value": 26,
          "variable": "Miles_per_Gallon"
         },
         {
          "Name": "toyota corona",
          "Origin": "Japan",
          "Year": "1974-01-01T00:00:00",
          "value": 31,
          "variable": "Miles_per_Gallon"
         },
         {
          "Name": "datsun 710",
          "Origin": "Japan",
          "Year": "1974-01-01T00:00:00",
          "value": 32,
          "variable": "Miles_per_Gallon"
         },
         {
          "Name": "dodge colt",
          "Origin": "USA",
          "Year": "1974-01-01T00:00:00",
          "value": 28,
          "variable": "Miles_per_Gallon"
         },
         {
          "Name": "fiat 128",
          "Origin": "Europe",
          "Year": "1974-01-01T00:00:00",
          "value": 24,
          "variable": "Miles_per_Gallon"
         },
         {
          "Name": "fiat 124 tc",
          "Origin": "Europe",
          "Year": "1974-01-01T00:00:00",
          "value": 26,
          "variable": "Miles_per_Gallon"
         },
         {
          "Name": "honda civic",
          "Origin": "Japan",
          "Year": "1974-01-01T00:00:00",
          "value": 24,
          "variable": "Miles_per_Gallon"
         },
         {
          "Name": "subaru",
          "Origin": "Japan",
          "Year": "1974-01-01T00:00:00",
          "value": 26,
          "variable": "Miles_per_Gallon"
         },
         {
          "Name": "fiat x1.9",
          "Origin": "Europe",
          "Year": "1974-01-01T00:00:00",
          "value": 31,
          "variable": "Miles_per_Gallon"
         },
         {
          "Name": "plymouth valiant custom",
          "Origin": "USA",
          "Year": "1975-01-01T00:00:00",
          "value": 19,
          "variable": "Miles_per_Gallon"
         },
         {
          "Name": "chevrolet nova",
          "Origin": "USA",
          "Year": "1975-01-01T00:00:00",
          "value": 18,
          "variable": "Miles_per_Gallon"
         },
         {
          "Name": "mercury monarch",
          "Origin": "USA",
          "Year": "1975-01-01T00:00:00",
          "value": 15,
          "variable": "Miles_per_Gallon"
         },
         {
          "Name": "ford maverick",
          "Origin": "USA",
          "Year": "1975-01-01T00:00:00",
          "value": 15,
          "variable": "Miles_per_Gallon"
         },
         {
          "Name": "pontiac catalina",
          "Origin": "USA",
          "Year": "1975-01-01T00:00:00",
          "value": 16,
          "variable": "Miles_per_Gallon"
         },
         {
          "Name": "chevrolet bel air",
          "Origin": "USA",
          "Year": "1975-01-01T00:00:00",
          "value": 15,
          "variable": "Miles_per_Gallon"
         },
         {
          "Name": "plymouth grand fury",
          "Origin": "USA",
          "Year": "1975-01-01T00:00:00",
          "value": 16,
          "variable": "Miles_per_Gallon"
         },
         {
          "Name": "ford ltd",
          "Origin": "USA",
          "Year": "1975-01-01T00:00:00",
          "value": 14,
          "variable": "Miles_per_Gallon"
         },
         {
          "Name": "buick century",
          "Origin": "USA",
          "Year": "1975-01-01T00:00:00",
          "value": 17,
          "variable": "Miles_per_Gallon"
         },
         {
          "Name": "chevroelt chevelle malibu",
          "Origin": "USA",
          "Year": "1975-01-01T00:00:00",
          "value": 16,
          "variable": "Miles_per_Gallon"
         },
         {
          "Name": "amc matador",
          "Origin": "USA",
          "Year": "1975-01-01T00:00:00",
          "value": 15,
          "variable": "Miles_per_Gallon"
         },
         {
          "Name": "plymouth fury",
          "Origin": "USA",
          "Year": "1975-01-01T00:00:00",
          "value": 18,
          "variable": "Miles_per_Gallon"
         },
         {
          "Name": "buick skyhawk",
          "Origin": "USA",
          "Year": "1975-01-01T00:00:00",
          "value": 21,
          "variable": "Miles_per_Gallon"
         },
         {
          "Name": "chevrolet monza 2+2",
          "Origin": "USA",
          "Year": "1975-01-01T00:00:00",
          "value": 20,
          "variable": "Miles_per_Gallon"
         },
         {
          "Name": "ford mustang ii",
          "Origin": "USA",
          "Year": "1975-01-01T00:00:00",
          "value": 13,
          "variable": "Miles_per_Gallon"
         },
         {
          "Name": "toyota corolla",
          "Origin": "Japan",
          "Year": "1975-01-01T00:00:00",
          "value": 29,
          "variable": "Miles_per_Gallon"
         },
         {
          "Name": "ford pinto",
          "Origin": "USA",
          "Year": "1975-01-01T00:00:00",
          "value": 23,
          "variable": "Miles_per_Gallon"
         },
         {
          "Name": "amc gremlin",
          "Origin": "USA",
          "Year": "1975-01-01T00:00:00",
          "value": 20,
          "variable": "Miles_per_Gallon"
         },
         {
          "Name": "pontiac astro",
          "Origin": "USA",
          "Year": "1975-01-01T00:00:00",
          "value": 23,
          "variable": "Miles_per_Gallon"
         },
         {
          "Name": "toyota corona",
          "Origin": "Japan",
          "Year": "1975-01-01T00:00:00",
          "value": 24,
          "variable": "Miles_per_Gallon"
         },
         {
          "Name": "volkswagen dasher",
          "Origin": "Europe",
          "Year": "1975-01-01T00:00:00",
          "value": 25,
          "variable": "Miles_per_Gallon"
         },
         {
          "Name": "datsun 710",
          "Origin": "Japan",
          "Year": "1975-01-01T00:00:00",
          "value": 24,
          "variable": "Miles_per_Gallon"
         },
         {
          "Name": "ford pinto",
          "Origin": "USA",
          "Year": "1975-01-01T00:00:00",
          "value": 18,
          "variable": "Miles_per_Gallon"
         },
         {
          "Name": "volkswagen rabbit",
          "Origin": "Europe",
          "Year": "1975-01-01T00:00:00",
          "value": 29,
          "variable": "Miles_per_Gallon"
         },
         {
          "Name": "amc pacer",
          "Origin": "USA",
          "Year": "1975-01-01T00:00:00",
          "value": 19,
          "variable": "Miles_per_Gallon"
         },
         {
          "Name": "audi 100ls",
          "Origin": "Europe",
          "Year": "1975-01-01T00:00:00",
          "value": 23,
          "variable": "Miles_per_Gallon"
         },
         {
          "Name": "peugeot 504",
          "Origin": "Europe",
          "Year": "1975-01-01T00:00:00",
          "value": 23,
          "variable": "Miles_per_Gallon"
         },
         {
          "Name": "volvo 244dl",
          "Origin": "Europe",
          "Year": "1975-01-01T00:00:00",
          "value": 22,
          "variable": "Miles_per_Gallon"
         },
         {
          "Name": "saab 99le",
          "Origin": "Europe",
          "Year": "1975-01-01T00:00:00",
          "value": 25,
          "variable": "Miles_per_Gallon"
         },
         {
          "Name": "honda civic cvcc",
          "Origin": "Japan",
          "Year": "1975-01-01T00:00:00",
          "value": 33,
          "variable": "Miles_per_Gallon"
         },
         {
          "Name": "fiat 131",
          "Origin": "Europe",
          "Year": "1976-01-01T00:00:00",
          "value": 28,
          "variable": "Miles_per_Gallon"
         },
         {
          "Name": "opel 1900",
          "Origin": "Europe",
          "Year": "1976-01-01T00:00:00",
          "value": 25,
          "variable": "Miles_per_Gallon"
         },
         {
          "Name": "capri ii",
          "Origin": "USA",
          "Year": "1976-01-01T00:00:00",
          "value": 25,
          "variable": "Miles_per_Gallon"
         },
         {
          "Name": "dodge colt",
          "Origin": "USA",
          "Year": "1976-01-01T00:00:00",
          "value": 26,
          "variable": "Miles_per_Gallon"
         },
         {
          "Name": "renault 12tl",
          "Origin": "Europe",
          "Year": "1976-01-01T00:00:00",
          "value": 27,
          "variable": "Miles_per_Gallon"
         },
         {
          "Name": "chevrolet chevelle malibu classic",
          "Origin": "USA",
          "Year": "1976-01-01T00:00:00",
          "value": 17.5,
          "variable": "Miles_per_Gallon"
         },
         {
          "Name": "dodge coronet brougham",
          "Origin": "USA",
          "Year": "1976-01-01T00:00:00",
          "value": 16,
          "variable": "Miles_per_Gallon"
         },
         {
          "Name": "amc matador",
          "Origin": "USA",
          "Year": "1976-01-01T00:00:00",
          "value": 15.5,
          "variable": "Miles_per_Gallon"
         },
         {
          "Name": "ford gran torino",
          "Origin": "USA",
          "Year": "1976-01-01T00:00:00",
          "value": 14.5,
          "variable": "Miles_per_Gallon"
         },
         {
          "Name": "plymouth valiant",
          "Origin": "USA",
          "Year": "1976-01-01T00:00:00",
          "value": 22,
          "variable": "Miles_per_Gallon"
         },
         {
          "Name": "chevrolet nova",
          "Origin": "USA",
          "Year": "1976-01-01T00:00:00",
          "value": 22,
          "variable": "Miles_per_Gallon"
         },
         {
          "Name": "ford maverick",
          "Origin": "USA",
          "Year": "1976-01-01T00:00:00",
          "value": 24,
          "variable": "Miles_per_Gallon"
         },
         {
          "Name": "amc hornet",
          "Origin": "USA",
          "Year": "1976-01-01T00:00:00",
          "value": 22.5,
          "variable": "Miles_per_Gallon"
         },
         {
          "Name": "chevrolet chevette",
          "Origin": "USA",
          "Year": "1976-01-01T00:00:00",
          "value": 29,
          "variable": "Miles_per_Gallon"
         },
         {
          "Name": "chevrolet woody",
          "Origin": "USA",
          "Year": "1976-01-01T00:00:00",
          "value": 24.5,
          "variable": "Miles_per_Gallon"
         },
         {
          "Name": "vw rabbit",
          "Origin": "Europe",
          "Year": "1976-01-01T00:00:00",
          "value": 29,
          "variable": "Miles_per_Gallon"
         },
         {
          "Name": "honda civic",
          "Origin": "Japan",
          "Year": "1976-01-01T00:00:00",
          "value": 33,
          "variable": "Miles_per_Gallon"
         },
         {
          "Name": "dodge aspen se",
          "Origin": "USA",
          "Year": "1976-01-01T00:00:00",
          "value": 20,
          "variable": "Miles_per_Gallon"
         },
         {
          "Name": "ford granada ghia",
          "Origin": "USA",
          "Year": "1976-01-01T00:00:00",
          "value": 18,
          "variable": "Miles_per_Gallon"
         },
         {
          "Name": "pontiac ventura sj",
          "Origin": "USA",
          "Year": "1976-01-01T00:00:00",
          "value": 18.5,
          "variable": "Miles_per_Gallon"
         },
         {
          "Name": "amc pacer d/l",
          "Origin": "USA",
          "Year": "1976-01-01T00:00:00",
          "value": 17.5,
          "variable": "Miles_per_Gallon"
         },
         {
          "Name": "volkswagen rabbit",
          "Origin": "Europe",
          "Year": "1976-01-01T00:00:00",
          "value": 29.5,
          "variable": "Miles_per_Gallon"
         },
         {
          "Name": "datsun b-210",
          "Origin": "Japan",
          "Year": "1976-01-01T00:00:00",
          "value": 32,
          "variable": "Miles_per_Gallon"
         },
         {
          "Name": "toyota corolla",
          "Origin": "Japan",
          "Year": "1976-01-01T00:00:00",
          "value": 28,
          "variable": "Miles_per_Gallon"
         },
         {
          "Name": "ford pinto",
          "Origin": "USA",
          "Year": "1976-01-01T00:00:00",
          "value": 26.5,
          "variable": "Miles_per_Gallon"
         },
         {
          "Name": "volvo 245",
          "Origin": "Europe",
          "Year": "1976-01-01T00:00:00",
          "value": 20,
          "variable": "Miles_per_Gallon"
         },
         {
          "Name": "plymouth volare premier v8",
          "Origin": "USA",
          "Year": "1976-01-01T00:00:00",
          "value": 13,
          "variable": "Miles_per_Gallon"
         },
         {
          "Name": "peugeot 504",
          "Origin": "Europe",
          "Year": "1976-01-01T00:00:00",
          "value": 19,
          "variable": "Miles_per_Gallon"
         },
         {
          "Name": "toyota mark ii",
          "Origin": "Japan",
          "Year": "1976-01-01T00:00:00",
          "value": 19,
          "variable": "Miles_per_Gallon"
         },
         {
          "Name": "mercedes-benz 280s",
          "Origin": "Europe",
          "Year": "1976-01-01T00:00:00",
          "value": 16.5,
          "variable": "Miles_per_Gallon"
         },
         {
          "Name": "cadillac seville",
          "Origin": "USA",
          "Year": "1976-01-01T00:00:00",
          "value": 16.5,
          "variable": "Miles_per_Gallon"
         },
         {
          "Name": "chevy c10",
          "Origin": "USA",
          "Year": "1976-01-01T00:00:00",
          "value": 13,
          "variable": "Miles_per_Gallon"
         },
         {
          "Name": "ford f108",
          "Origin": "USA",
          "Year": "1976-01-01T00:00:00",
          "value": 13,
          "variable": "Miles_per_Gallon"
         },
         {
          "Name": "dodge d100",
          "Origin": "USA",
          "Year": "1976-01-01T00:00:00",
          "value": 13,
          "variable": "Miles_per_Gallon"
         },
         {
          "Name": "honda Accelerationord cvcc",
          "Origin": "Japan",
          "Year": "1977-01-01T00:00:00",
          "value": 31.5,
          "variable": "Miles_per_Gallon"
         },
         {
          "Name": "buick opel isuzu deluxe",
          "Origin": "USA",
          "Year": "1977-01-01T00:00:00",
          "value": 30,
          "variable": "Miles_per_Gallon"
         },
         {
          "Name": "renault 5 gtl",
          "Origin": "Europe",
          "Year": "1977-01-01T00:00:00",
          "value": 36,
          "variable": "Miles_per_Gallon"
         },
         {
          "Name": "plymouth arrow gs",
          "Origin": "USA",
          "Year": "1977-01-01T00:00:00",
          "value": 25.5,
          "variable": "Miles_per_Gallon"
         },
         {
          "Name": "datsun f-10 hatchback",
          "Origin": "Japan",
          "Year": "1977-01-01T00:00:00",
          "value": 33.5,
          "variable": "Miles_per_Gallon"
         },
         {
          "Name": "chevrolet caprice classic",
          "Origin": "USA",
          "Year": "1977-01-01T00:00:00",
          "value": 17.5,
          "variable": "Miles_per_Gallon"
         },
         {
          "Name": "oldsmobile cutlass supreme",
          "Origin": "USA",
          "Year": "1977-01-01T00:00:00",
          "value": 17,
          "variable": "Miles_per_Gallon"
         },
         {
          "Name": "dodge monaco brougham",
          "Origin": "USA",
          "Year": "1977-01-01T00:00:00",
          "value": 15.5,
          "variable": "Miles_per_Gallon"
         },
         {
          "Name": "mercury cougar brougham",
          "Origin": "USA",
          "Year": "1977-01-01T00:00:00",
          "value": 15,
          "variable": "Miles_per_Gallon"
         },
         {
          "Name": "chevrolet concours",
          "Origin": "USA",
          "Year": "1977-01-01T00:00:00",
          "value": 17.5,
          "variable": "Miles_per_Gallon"
         },
         {
          "Name": "buick skylark",
          "Origin": "USA",
          "Year": "1977-01-01T00:00:00",
          "value": 20.5,
          "variable": "Miles_per_Gallon"
         },
         {
          "Name": "plymouth volare custom",
          "Origin": "USA",
          "Year": "1977-01-01T00:00:00",
          "value": 19,
          "variable": "Miles_per_Gallon"
         },
         {
          "Name": "ford granada",
          "Origin": "USA",
          "Year": "1977-01-01T00:00:00",
          "value": 18.5,
          "variable": "Miles_per_Gallon"
         },
         {
          "Name": "pontiac grand prix lj",
          "Origin": "USA",
          "Year": "1977-01-01T00:00:00",
          "value": 16,
          "variable": "Miles_per_Gallon"
         },
         {
          "Name": "chevrolet monte carlo landau",
          "Origin": "USA",
          "Year": "1977-01-01T00:00:00",
          "value": 15.5,
          "variable": "Miles_per_Gallon"
         },
         {
          "Name": "chrysler cordoba",
          "Origin": "USA",
          "Year": "1977-01-01T00:00:00",
          "value": 15.5,
          "variable": "Miles_per_Gallon"
         },
         {
          "Name": "ford thunderbird",
          "Origin": "USA",
          "Year": "1977-01-01T00:00:00",
          "value": 16,
          "variable": "Miles_per_Gallon"
         },
         {
          "Name": "volkswagen rabbit custom",
          "Origin": "Europe",
          "Year": "1977-01-01T00:00:00",
          "value": 29,
          "variable": "Miles_per_Gallon"
         },
         {
          "Name": "pontiac sunbird coupe",
          "Origin": "USA",
          "Year": "1977-01-01T00:00:00",
          "value": 24.5,
          "variable": "Miles_per_Gallon"
         },
         {
          "Name": "toyota corolla liftback",
          "Origin": "Japan",
          "Year": "1977-01-01T00:00:00",
          "value": 26,
          "variable": "Miles_per_Gallon"
         },
         {
          "Name": "ford mustang ii 2+2",
          "Origin": "USA",
          "Year": "1977-01-01T00:00:00",
          "value": 25.5,
          "variable": "Miles_per_Gallon"
         },
         {
          "Name": "chevrolet chevette",
          "Origin": "USA",
          "Year": "1977-01-01T00:00:00",
          "value": 30.5,
          "variable": "Miles_per_Gallon"
         },
         {
          "Name": "dodge colt m/m",
          "Origin": "USA",
          "Year": "1977-01-01T00:00:00",
          "value": 33.5,
          "variable": "Miles_per_Gallon"
         },
         {
          "Name": "subaru dl",
          "Origin": "Japan",
          "Year": "1977-01-01T00:00:00",
          "value": 30,
          "variable": "Miles_per_Gallon"
         },
         {
          "Name": "volkswagen dasher",
          "Origin": "Europe",
          "Year": "1977-01-01T00:00:00",
          "value": 30.5,
          "variable": "Miles_per_Gallon"
         },
         {
          "Name": "datsun 810",
          "Origin": "Japan",
          "Year": "1977-01-01T00:00:00",
          "value": 22,
          "variable": "Miles_per_Gallon"
         },
         {
          "Name": "bmw 320i",
          "Origin": "Europe",
          "Year": "1977-01-01T00:00:00",
          "value": 21.5,
          "variable": "Miles_per_Gallon"
         },
         {
          "Name": "mazda rx-4",
          "Origin": "Japan",
          "Year": "1977-01-01T00:00:00",
          "value": 21.5,
          "variable": "Miles_per_Gallon"
         },
         {
          "Name": "volkswagen rabbit custom diesel",
          "Origin": "Europe",
          "Year": "1978-01-01T00:00:00",
          "value": 43.1,
          "variable": "Miles_per_Gallon"
         },
         {
          "Name": "ford fiesta",
          "Origin": "USA",
          "Year": "1978-01-01T00:00:00",
          "value": 36.1,
          "variable": "Miles_per_Gallon"
         },
         {
          "Name": "mazda glc deluxe",
          "Origin": "Japan",
          "Year": "1978-01-01T00:00:00",
          "value": 32.8,
          "variable": "Miles_per_Gallon"
         },
         {
          "Name": "datsun b210 gx",
          "Origin": "Japan",
          "Year": "1978-01-01T00:00:00",
          "value": 39.4,
          "variable": "Miles_per_Gallon"
         },
         {
          "Name": "honda civic cvcc",
          "Origin": "Japan",
          "Year": "1978-01-01T00:00:00",
          "value": 36.1,
          "variable": "Miles_per_Gallon"
         },
         {
          "Name": "oldsmobile cutlass salon brougham",
          "Origin": "USA",
          "Year": "1978-01-01T00:00:00",
          "value": 19.9,
          "variable": "Miles_per_Gallon"
         },
         {
          "Name": "dodge diplomat",
          "Origin": "USA",
          "Year": "1978-01-01T00:00:00",
          "value": 19.4,
          "variable": "Miles_per_Gallon"
         },
         {
          "Name": "mercury monarch ghia",
          "Origin": "USA",
          "Year": "1978-01-01T00:00:00",
          "value": 20.2,
          "variable": "Miles_per_Gallon"
         },
         {
          "Name": "pontiac phoenix lj",
          "Origin": "USA",
          "Year": "1978-01-01T00:00:00",
          "value": 19.2,
          "variable": "Miles_per_Gallon"
         },
         {
          "Name": "chevrolet malibu",
          "Origin": "USA",
          "Year": "1978-01-01T00:00:00",
          "value": 20.5,
          "variable": "Miles_per_Gallon"
         },
         {
          "Name": "ford fairmont (auto)",
          "Origin": "USA",
          "Year": "1978-01-01T00:00:00",
          "value": 20.2,
          "variable": "Miles_per_Gallon"
         },
         {
          "Name": "ford fairmont (man)",
          "Origin": "USA",
          "Year": "1978-01-01T00:00:00",
          "value": 25.1,
          "variable": "Miles_per_Gallon"
         },
         {
          "Name": "plymouth volare",
          "Origin": "USA",
          "Year": "1978-01-01T00:00:00",
          "value": 20.5,
          "variable": "Miles_per_Gallon"
         },
         {
          "Name": "amc concord",
          "Origin": "USA",
          "Year": "1978-01-01T00:00:00",
          "value": 19.4,
          "variable": "Miles_per_Gallon"
         },
         {
          "Name": "buick century special",
          "Origin": "USA",
          "Year": "1978-01-01T00:00:00",
          "value": 20.6,
          "variable": "Miles_per_Gallon"
         },
         {
          "Name": "mercury zephyr",
          "Origin": "USA",
          "Year": "1978-01-01T00:00:00",
          "value": 20.8,
          "variable": "Miles_per_Gallon"
         },
         {
          "Name": "dodge aspen",
          "Origin": "USA",
          "Year": "1978-01-01T00:00:00",
          "value": 18.6,
          "variable": "Miles_per_Gallon"
         },
         {
          "Name": "amc concord d/l",
          "Origin": "USA",
          "Year": "1978-01-01T00:00:00",
          "value": 18.1,
          "variable": "Miles_per_Gallon"
         },
         {
          "Name": "chevrolet monte carlo landau",
          "Origin": "USA",
          "Year": "1978-01-01T00:00:00",
          "value": 19.2,
          "variable": "Miles_per_Gallon"
         },
         {
          "Name": "buick regal sport coupe (turbo)",
          "Origin": "USA",
          "Year": "1978-01-01T00:00:00",
          "value": 17.7,
          "variable": "Miles_per_Gallon"
         },
         {
          "Name": "ford futura",
          "Origin": "USA",
          "Year": "1978-01-01T00:00:00",
          "value": 18.1,
          "variable": "Miles_per_Gallon"
         },
         {
          "Name": "dodge magnum xe",
          "Origin": "USA",
          "Year": "1978-01-01T00:00:00",
          "value": 17.5,
          "variable": "Miles_per_Gallon"
         },
         {
          "Name": "chevrolet chevette",
          "Origin": "USA",
          "Year": "1978-01-01T00:00:00",
          "value": 30,
          "variable": "Miles_per_Gallon"
         },
         {
          "Name": "toyota corona",
          "Origin": "Japan",
          "Year": "1978-01-01T00:00:00",
          "value": 27.5,
          "variable": "Miles_per_Gallon"
         },
         {
          "Name": "datsun 510",
          "Origin": "Japan",
          "Year": "1978-01-01T00:00:00",
          "value": 27.2,
          "variable": "Miles_per_Gallon"
         },
         {
          "Name": "dodge omni",
          "Origin": "USA",
          "Year": "1978-01-01T00:00:00",
          "value": 30.9,
          "variable": "Miles_per_Gallon"
         },
         {
          "Name": "toyota celica gt liftback",
          "Origin": "Japan",
          "Year": "1978-01-01T00:00:00",
          "value": 21.1,
          "variable": "Miles_per_Gallon"
         },
         {
          "Name": "plymouth sapporo",
          "Origin": "USA",
          "Year": "1978-01-01T00:00:00",
          "value": 23.2,
          "variable": "Miles_per_Gallon"
         },
         {
          "Name": "oldsmobile starfire sx",
          "Origin": "USA",
          "Year": "1978-01-01T00:00:00",
          "value": 23.8,
          "variable": "Miles_per_Gallon"
         },
         {
          "Name": "datsun 200-sx",
          "Origin": "Japan",
          "Year": "1978-01-01T00:00:00",
          "value": 23.9,
          "variable": "Miles_per_Gallon"
         },
         {
          "Name": "audi 5000",
          "Origin": "Europe",
          "Year": "1978-01-01T00:00:00",
          "value": 20.3,
          "variable": "Miles_per_Gallon"
         },
         {
          "Name": "volvo 264gl",
          "Origin": "Europe",
          "Year": "1978-01-01T00:00:00",
          "value": 17,
          "variable": "Miles_per_Gallon"
         },
         {
          "Name": "saab 99gle",
          "Origin": "Europe",
          "Year": "1978-01-01T00:00:00",
          "value": 21.6,
          "variable": "Miles_per_Gallon"
         },
         {
          "Name": "peugeot 604sl",
          "Origin": "Europe",
          "Year": "1978-01-01T00:00:00",
          "value": 16.2,
          "variable": "Miles_per_Gallon"
         },
         {
          "Name": "volkswagen scirocco",
          "Origin": "Europe",
          "Year": "1978-01-01T00:00:00",
          "value": 31.5,
          "variable": "Miles_per_Gallon"
         },
         {
          "Name": "honda Accelerationord lx",
          "Origin": "Japan",
          "Year": "1978-01-01T00:00:00",
          "value": 29.5,
          "variable": "Miles_per_Gallon"
         },
         {
          "Name": "pontiac lemans v6",
          "Origin": "USA",
          "Year": "1979-01-01T00:00:00",
          "value": 21.5,
          "variable": "Miles_per_Gallon"
         },
         {
          "Name": "mercury zephyr 6",
          "Origin": "USA",
          "Year": "1979-01-01T00:00:00",
          "value": 19.8,
          "variable": "Miles_per_Gallon"
         },
         {
          "Name": "ford fairmont 4",
          "Origin": "USA",
          "Year": "1979-01-01T00:00:00",
          "value": 22.3,
          "variable": "Miles_per_Gallon"
         },
         {
          "Name": "amc concord dl 6",
          "Origin": "USA",
          "Year": "1979-01-01T00:00:00",
          "value": 20.2,
          "variable": "Miles_per_Gallon"
         },
         {
          "Name": "dodge aspen 6",
          "Origin": "USA",
          "Year": "1979-01-01T00:00:00",
          "value": 20.6,
          "variable": "Miles_per_Gallon"
         },
         {
          "Name": "chevrolet caprice classic",
          "Origin": "USA",
          "Year": "1979-01-01T00:00:00",
          "value": 17,
          "variable": "Miles_per_Gallon"
         },
         {
          "Name": "ford ltd landau",
          "Origin": "USA",
          "Year": "1979-01-01T00:00:00",
          "value": 17.6,
          "variable": "Miles_per_Gallon"
         },
         {
          "Name": "mercury grand marquis",
          "Origin": "USA",
          "Year": "1979-01-01T00:00:00",
          "value": 16.5,
          "variable": "Miles_per_Gallon"
         },
         {
          "Name": "dodge st. regis",
          "Origin": "USA",
          "Year": "1979-01-01T00:00:00",
          "value": 18.2,
          "variable": "Miles_per_Gallon"
         },
         {
          "Name": "buick estate wagon (sw)",
          "Origin": "USA",
          "Year": "1979-01-01T00:00:00",
          "value": 16.9,
          "variable": "Miles_per_Gallon"
         },
         {
          "Name": "ford country squire (sw)",
          "Origin": "USA",
          "Year": "1979-01-01T00:00:00",
          "value": 15.5,
          "variable": "Miles_per_Gallon"
         },
         {
          "Name": "chevrolet malibu classic (sw)",
          "Origin": "USA",
          "Year": "1979-01-01T00:00:00",
          "value": 19.2,
          "variable": "Miles_per_Gallon"
         },
         {
          "Name": "chrysler lebaron town @ country (sw)",
          "Origin": "USA",
          "Year": "1979-01-01T00:00:00",
          "value": 18.5,
          "variable": "Miles_per_Gallon"
         },
         {
          "Name": "vw rabbit custom",
          "Origin": "Europe",
          "Year": "1979-01-01T00:00:00",
          "value": 31.9,
          "variable": "Miles_per_Gallon"
         },
         {
          "Name": "maxda glc deluxe",
          "Origin": "Japan",
          "Year": "1979-01-01T00:00:00",
          "value": 34.1,
          "variable": "Miles_per_Gallon"
         },
         {
          "Name": "dodge colt hatchback custom",
          "Origin": "USA",
          "Year": "1979-01-01T00:00:00",
          "value": 35.7,
          "variable": "Miles_per_Gallon"
         },
         {
          "Name": "amc spirit dl",
          "Origin": "USA",
          "Year": "1979-01-01T00:00:00",
          "value": 27.4,
          "variable": "Miles_per_Gallon"
         },
         {
          "Name": "mercedes benz 300d",
          "Origin": "Europe",
          "Year": "1979-01-01T00:00:00",
          "value": 25.4,
          "variable": "Miles_per_Gallon"
         },
         {
          "Name": "cadillac eldorado",
          "Origin": "USA",
          "Year": "1979-01-01T00:00:00",
          "value": 23,
          "variable": "Miles_per_Gallon"
         },
         {
          "Name": "peugeot 504",
          "Origin": "Europe",
          "Year": "1979-01-01T00:00:00",
          "value": 27.2,
          "variable": "Miles_per_Gallon"
         },
         {
          "Name": "oldsmobile cutlass salon brougham",
          "Origin": "USA",
          "Year": "1979-01-01T00:00:00",
          "value": 23.9,
          "variable": "Miles_per_Gallon"
         },
         {
          "Name": "plymouth horizon",
          "Origin": "USA",
          "Year": "1979-01-01T00:00:00",
          "value": 34.2,
          "variable": "Miles_per_Gallon"
         },
         {
          "Name": "plymouth horizon tc3",
          "Origin": "USA",
          "Year": "1979-01-01T00:00:00",
          "value": 34.5,
          "variable": "Miles_per_Gallon"
         },
         {
          "Name": "datsun 210",
          "Origin": "Japan",
          "Year": "1979-01-01T00:00:00",
          "value": 31.8,
          "variable": "Miles_per_Gallon"
         },
         {
          "Name": "fiat strada custom",
          "Origin": "Europe",
          "Year": "1979-01-01T00:00:00",
          "value": 37.3,
          "variable": "Miles_per_Gallon"
         },
         {
          "Name": "buick skylark limited",
          "Origin": "USA",
          "Year": "1979-01-01T00:00:00",
          "value": 28.4,
          "variable": "Miles_per_Gallon"
         },
         {
          "Name": "chevrolet citation",
          "Origin": "USA",
          "Year": "1979-01-01T00:00:00",
          "value": 28.8,
          "variable": "Miles_per_Gallon"
         },
         {
          "Name": "oldsmobile omega brougham",
          "Origin": "USA",
          "Year": "1979-01-01T00:00:00",
          "value": 26.8,
          "variable": "Miles_per_Gallon"
         },
         {
          "Name": "pontiac phoenix",
          "Origin": "USA",
          "Year": "1979-01-01T00:00:00",
          "value": 33.5,
          "variable": "Miles_per_Gallon"
         },
         {
          "Name": "vw rabbit",
          "Origin": "Europe",
          "Year": "1980-01-01T00:00:00",
          "value": 41.5,
          "variable": "Miles_per_Gallon"
         },
         {
          "Name": "toyota corolla tercel",
          "Origin": "Japan",
          "Year": "1980-01-01T00:00:00",
          "value": 38.1,
          "variable": "Miles_per_Gallon"
         },
         {
          "Name": "chevrolet chevette",
          "Origin": "USA",
          "Year": "1980-01-01T00:00:00",
          "value": 32.1,
          "variable": "Miles_per_Gallon"
         },
         {
          "Name": "datsun 310",
          "Origin": "Japan",
          "Year": "1980-01-01T00:00:00",
          "value": 37.2,
          "variable": "Miles_per_Gallon"
         },
         {
          "Name": "chevrolet citation",
          "Origin": "USA",
          "Year": "1980-01-01T00:00:00",
          "value": 28,
          "variable": "Miles_per_Gallon"
         },
         {
          "Name": "ford fairmont",
          "Origin": "USA",
          "Year": "1980-01-01T00:00:00",
          "value": 26.4,
          "variable": "Miles_per_Gallon"
         },
         {
          "Name": "amc concord",
          "Origin": "USA",
          "Year": "1980-01-01T00:00:00",
          "value": 24.3,
          "variable": "Miles_per_Gallon"
         },
         {
          "Name": "dodge aspen",
          "Origin": "USA",
          "Year": "1980-01-01T00:00:00",
          "value": 19.1,
          "variable": "Miles_per_Gallon"
         },
         {
          "Name": "audi 4000",
          "Origin": "Europe",
          "Year": "1980-01-01T00:00:00",
          "value": 34.3,
          "variable": "Miles_per_Gallon"
         },
         {
          "Name": "toyota corona liftback",
          "Origin": "Japan",
          "Year": "1980-01-01T00:00:00",
          "value": 29.8,
          "variable": "Miles_per_Gallon"
         },
         {
          "Name": "mazda 626",
          "Origin": "Japan",
          "Year": "1980-01-01T00:00:00",
          "value": 31.3,
          "variable": "Miles_per_Gallon"
         },
         {
          "Name": "datsun 510 hatchback",
          "Origin": "Japan",
          "Year": "1980-01-01T00:00:00",
          "value": 37,
          "variable": "Miles_per_Gallon"
         },
         {
          "Name": "toyota corolla",
          "Origin": "Japan",
          "Year": "1980-01-01T00:00:00",
          "value": 32.2,
          "variable": "Miles_per_Gallon"
         },
         {
          "Name": "mazda glc",
          "Origin": "Japan",
          "Year": "1980-01-01T00:00:00",
          "value": 46.6,
          "variable": "Miles_per_Gallon"
         },
         {
          "Name": "dodge colt",
          "Origin": "USA",
          "Year": "1980-01-01T00:00:00",
          "value": 27.9,
          "variable": "Miles_per_Gallon"
         },
         {
          "Name": "datsun 210",
          "Origin": "Japan",
          "Year": "1980-01-01T00:00:00",
          "value": 40.8,
          "variable": "Miles_per_Gallon"
         },
         {
          "Name": "vw rabbit c (diesel)",
          "Origin": "Europe",
          "Year": "1980-01-01T00:00:00",
          "value": 44.3,
          "variable": "Miles_per_Gallon"
         },
         {
          "Name": "vw dasher (diesel)",
          "Origin": "Europe",
          "Year": "1980-01-01T00:00:00",
          "value": 43.4,
          "variable": "Miles_per_Gallon"
         },
         {
          "Name": "audi 5000s (diesel)",
          "Origin": "Europe",
          "Year": "1980-01-01T00:00:00",
          "value": 36.4,
          "variable": "Miles_per_Gallon"
         },
         {
          "Name": "mercedes-benz 240d",
          "Origin": "Europe",
          "Year": "1980-01-01T00:00:00",
          "value": 30,
          "variable": "Miles_per_Gallon"
         },
         {
          "Name": "honda civic 1500 gl",
          "Origin": "Japan",
          "Year": "1980-01-01T00:00:00",
          "value": 44.6,
          "variable": "Miles_per_Gallon"
         },
         {
          "Name": "renault lecar deluxe",
          "Origin": "Europe",
          "Year": "1980-01-01T00:00:00",
          "value": 40.9,
          "variable": "Miles_per_Gallon"
         },
         {
          "Name": "subaru dl",
          "Origin": "Japan",
          "Year": "1980-01-01T00:00:00",
          "value": 33.8,
          "variable": "Miles_per_Gallon"
         },
         {
          "Name": "vokswagen rabbit",
          "Origin": "Europe",
          "Year": "1980-01-01T00:00:00",
          "value": 29.8,
          "variable": "Miles_per_Gallon"
         },
         {
          "Name": "datsun 280-zx",
          "Origin": "Japan",
          "Year": "1980-01-01T00:00:00",
          "value": 32.7,
          "variable": "Miles_per_Gallon"
         },
         {
          "Name": "mazda rx-7 gs",
          "Origin": "Japan",
          "Year": "1980-01-01T00:00:00",
          "value": 23.7,
          "variable": "Miles_per_Gallon"
         },
         {
          "Name": "triumph tr7 coupe",
          "Origin": "Europe",
          "Year": "1980-01-01T00:00:00",
          "value": 35,
          "variable": "Miles_per_Gallon"
         },
         {
          "Name": "ford mustang cobra",
          "Origin": "USA",
          "Year": "1980-01-01T00:00:00",
          "value": 23.6,
          "variable": "Miles_per_Gallon"
         },
         {
          "Name": "honda Accelerationord",
          "Origin": "Japan",
          "Year": "1980-01-01T00:00:00",
          "value": 32.4,
          "variable": "Miles_per_Gallon"
         },
         {
          "Name": "plymouth reliant",
          "Origin": "USA",
          "Year": "1982-01-01T00:00:00",
          "value": 27.2,
          "variable": "Miles_per_Gallon"
         },
         {
          "Name": "buick skylark",
          "Origin": "USA",
          "Year": "1982-01-01T00:00:00",
          "value": 26.6,
          "variable": "Miles_per_Gallon"
         },
         {
          "Name": "dodge aries wagon (sw)",
          "Origin": "USA",
          "Year": "1982-01-01T00:00:00",
          "value": 25.8,
          "variable": "Miles_per_Gallon"
         },
         {
          "Name": "chevrolet citation",
          "Origin": "USA",
          "Year": "1982-01-01T00:00:00",
          "value": 23.5,
          "variable": "Miles_per_Gallon"
         },
         {
          "Name": "plymouth reliant",
          "Origin": "USA",
          "Year": "1982-01-01T00:00:00",
          "value": 30,
          "variable": "Miles_per_Gallon"
         },
         {
          "Name": "toyota starlet",
          "Origin": "Japan",
          "Year": "1982-01-01T00:00:00",
          "value": 39.1,
          "variable": "Miles_per_Gallon"
         },
         {
          "Name": "plymouth champ",
          "Origin": "USA",
          "Year": "1982-01-01T00:00:00",
          "value": 39,
          "variable": "Miles_per_Gallon"
         },
         {
          "Name": "honda civic 1300",
          "Origin": "Japan",
          "Year": "1982-01-01T00:00:00",
          "value": 35.1,
          "variable": "Miles_per_Gallon"
         },
         {
          "Name": "subaru",
          "Origin": "Japan",
          "Year": "1982-01-01T00:00:00",
          "value": 32.3,
          "variable": "Miles_per_Gallon"
         },
         {
          "Name": "datsun 210",
          "Origin": "Japan",
          "Year": "1982-01-01T00:00:00",
          "value": 37,
          "variable": "Miles_per_Gallon"
         },
         {
          "Name": "toyota tercel",
          "Origin": "Japan",
          "Year": "1982-01-01T00:00:00",
          "value": 37.7,
          "variable": "Miles_per_Gallon"
         },
         {
          "Name": "mazda glc 4",
          "Origin": "Japan",
          "Year": "1982-01-01T00:00:00",
          "value": 34.1,
          "variable": "Miles_per_Gallon"
         },
         {
          "Name": "plymouth horizon 4",
          "Origin": "USA",
          "Year": "1982-01-01T00:00:00",
          "value": 34.7,
          "variable": "Miles_per_Gallon"
         },
         {
          "Name": "ford escort 4w",
          "Origin": "USA",
          "Year": "1982-01-01T00:00:00",
          "value": 34.4,
          "variable": "Miles_per_Gallon"
         },
         {
          "Name": "ford escort 2h",
          "Origin": "USA",
          "Year": "1982-01-01T00:00:00",
          "value": 29.9,
          "variable": "Miles_per_Gallon"
         },
         {
          "Name": "volkswagen jetta",
          "Origin": "Europe",
          "Year": "1982-01-01T00:00:00",
          "value": 33,
          "variable": "Miles_per_Gallon"
         },
         {
          "Name": "renault 18i",
          "Origin": "Europe",
          "Year": "1982-01-01T00:00:00",
          "value": 34.5,
          "variable": "Miles_per_Gallon"
         },
         {
          "Name": "honda prelude",
          "Origin": "Japan",
          "Year": "1982-01-01T00:00:00",
          "value": 33.7,
          "variable": "Miles_per_Gallon"
         },
         {
          "Name": "toyota corolla",
          "Origin": "Japan",
          "Year": "1982-01-01T00:00:00",
          "value": 32.4,
          "variable": "Miles_per_Gallon"
         },
         {
          "Name": "datsun 200sx",
          "Origin": "Japan",
          "Year": "1982-01-01T00:00:00",
          "value": 32.9,
          "variable": "Miles_per_Gallon"
         },
         {
          "Name": "mazda 626",
          "Origin": "Japan",
          "Year": "1982-01-01T00:00:00",
          "value": 31.6,
          "variable": "Miles_per_Gallon"
         },
         {
          "Name": "peugeot 505s turbo diesel",
          "Origin": "Europe",
          "Year": "1982-01-01T00:00:00",
          "value": 28.1,
          "variable": "Miles_per_Gallon"
         },
         {
          "Name": "saab 900s",
          "Origin": "Europe",
          "Year": "1982-01-01T00:00:00",
          "value": null,
          "variable": "Miles_per_Gallon"
         },
         {
          "Name": "volvo diesel",
          "Origin": "Europe",
          "Year": "1982-01-01T00:00:00",
          "value": 30.7,
          "variable": "Miles_per_Gallon"
         },
         {
          "Name": "toyota cressida",
          "Origin": "Japan",
          "Year": "1982-01-01T00:00:00",
          "value": 25.4,
          "variable": "Miles_per_Gallon"
         },
         {
          "Name": "datsun 810 maxima",
          "Origin": "Japan",
          "Year": "1982-01-01T00:00:00",
          "value": 24.2,
          "variable": "Miles_per_Gallon"
         },
         {
          "Name": "buick century",
          "Origin": "USA",
          "Year": "1982-01-01T00:00:00",
          "value": 22.4,
          "variable": "Miles_per_Gallon"
         },
         {
          "Name": "oldsmobile cutlass ls",
          "Origin": "USA",
          "Year": "1982-01-01T00:00:00",
          "value": 26.6,
          "variable": "Miles_per_Gallon"
         },
         {
          "Name": "ford granada gl",
          "Origin": "USA",
          "Year": "1982-01-01T00:00:00",
          "value": 20.2,
          "variable": "Miles_per_Gallon"
         },
         {
          "Name": "chrysler lebaron salon",
          "Origin": "USA",
          "Year": "1982-01-01T00:00:00",
          "value": 17.6,
          "variable": "Miles_per_Gallon"
         },
         {
          "Name": "chevrolet cavalier",
          "Origin": "USA",
          "Year": "1982-01-01T00:00:00",
          "value": 28,
          "variable": "Miles_per_Gallon"
         },
         {
          "Name": "chevrolet cavalier wagon",
          "Origin": "USA",
          "Year": "1982-01-01T00:00:00",
          "value": 27,
          "variable": "Miles_per_Gallon"
         },
         {
          "Name": "chevrolet cavalier 2-door",
          "Origin": "USA",
          "Year": "1982-01-01T00:00:00",
          "value": 34,
          "variable": "Miles_per_Gallon"
         },
         {
          "Name": "pontiac j2000 se hatchback",
          "Origin": "USA",
          "Year": "1982-01-01T00:00:00",
          "value": 31,
          "variable": "Miles_per_Gallon"
         },
         {
          "Name": "dodge aries se",
          "Origin": "USA",
          "Year": "1982-01-01T00:00:00",
          "value": 29,
          "variable": "Miles_per_Gallon"
         },
         {
          "Name": "pontiac phoenix",
          "Origin": "USA",
          "Year": "1982-01-01T00:00:00",
          "value": 27,
          "variable": "Miles_per_Gallon"
         },
         {
          "Name": "ford fairmont futura",
          "Origin": "USA",
          "Year": "1982-01-01T00:00:00",
          "value": 24,
          "variable": "Miles_per_Gallon"
         },
         {
          "Name": "amc concord dl",
          "Origin": "USA",
          "Year": "1982-01-01T00:00:00",
          "value": 23,
          "variable": "Miles_per_Gallon"
         },
         {
          "Name": "volkswagen rabbit l",
          "Origin": "Europe",
          "Year": "1982-01-01T00:00:00",
          "value": 36,
          "variable": "Miles_per_Gallon"
         },
         {
          "Name": "mazda glc custom l",
          "Origin": "Japan",
          "Year": "1982-01-01T00:00:00",
          "value": 37,
          "variable": "Miles_per_Gallon"
         },
         {
          "Name": "mazda glc custom",
          "Origin": "Japan",
          "Year": "1982-01-01T00:00:00",
          "value": 31,
          "variable": "Miles_per_Gallon"
         },
         {
          "Name": "plymouth horizon miser",
          "Origin": "USA",
          "Year": "1982-01-01T00:00:00",
          "value": 38,
          "variable": "Miles_per_Gallon"
         },
         {
          "Name": "mercury lynx l",
          "Origin": "USA",
          "Year": "1982-01-01T00:00:00",
          "value": 36,
          "variable": "Miles_per_Gallon"
         },
         {
          "Name": "nissan stanza xe",
          "Origin": "Japan",
          "Year": "1982-01-01T00:00:00",
          "value": 36,
          "variable": "Miles_per_Gallon"
         },
         {
          "Name": "honda Accelerationord",
          "Origin": "Japan",
          "Year": "1982-01-01T00:00:00",
          "value": 36,
          "variable": "Miles_per_Gallon"
         },
         {
          "Name": "toyota corolla",
          "Origin": "Japan",
          "Year": "1982-01-01T00:00:00",
          "value": 34,
          "variable": "Miles_per_Gallon"
         },
         {
          "Name": "honda civic",
          "Origin": "Japan",
          "Year": "1982-01-01T00:00:00",
          "value": 38,
          "variable": "Miles_per_Gallon"
         },
         {
          "Name": "honda civic (auto)",
          "Origin": "Japan",
          "Year": "1982-01-01T00:00:00",
          "value": 32,
          "variable": "Miles_per_Gallon"
         },
         {
          "Name": "datsun 310 gx",
          "Origin": "Japan",
          "Year": "1982-01-01T00:00:00",
          "value": 38,
          "variable": "Miles_per_Gallon"
         },
         {
          "Name": "buick century limited",
          "Origin": "USA",
          "Year": "1982-01-01T00:00:00",
          "value": 25,
          "variable": "Miles_per_Gallon"
         },
         {
          "Name": "oldsmobile cutlass ciera (diesel)",
          "Origin": "USA",
          "Year": "1982-01-01T00:00:00",
          "value": 38,
          "variable": "Miles_per_Gallon"
         },
         {
          "Name": "chrysler lebaron medallion",
          "Origin": "USA",
          "Year": "1982-01-01T00:00:00",
          "value": 26,
          "variable": "Miles_per_Gallon"
         },
         {
          "Name": "ford granada l",
          "Origin": "USA",
          "Year": "1982-01-01T00:00:00",
          "value": 22,
          "variable": "Miles_per_Gallon"
         },
         {
          "Name": "toyota celica gt",
          "Origin": "Japan",
          "Year": "1982-01-01T00:00:00",
          "value": 32,
          "variable": "Miles_per_Gallon"
         },
         {
          "Name": "dodge charger 2.2",
          "Origin": "USA",
          "Year": "1982-01-01T00:00:00",
          "value": 36,
          "variable": "Miles_per_Gallon"
         },
         {
          "Name": "chevrolet camaro",
          "Origin": "USA",
          "Year": "1982-01-01T00:00:00",
          "value": 27,
          "variable": "Miles_per_Gallon"
         },
         {
          "Name": "ford mustang gl",
          "Origin": "USA",
          "Year": "1982-01-01T00:00:00",
          "value": 27,
          "variable": "Miles_per_Gallon"
         },
         {
          "Name": "vw pickup",
          "Origin": "Europe",
          "Year": "1982-01-01T00:00:00",
          "value": 44,
          "variable": "Miles_per_Gallon"
         },
         {
          "Name": "dodge rampage",
          "Origin": "USA",
          "Year": "1982-01-01T00:00:00",
          "value": 32,
          "variable": "Miles_per_Gallon"
         },
         {
          "Name": "ford ranger",
          "Origin": "USA",
          "Year": "1982-01-01T00:00:00",
          "value": 28,
          "variable": "Miles_per_Gallon"
         },
         {
          "Name": "chevy s-10",
          "Origin": "USA",
          "Year": "1982-01-01T00:00:00",
          "value": 31,
          "variable": "Miles_per_Gallon"
         },
         {
          "Name": "chevrolet chevelle malibu",
          "Origin": "USA",
          "Year": "1970-01-01T00:00:00",
          "value": 8,
          "variable": "Cylinders"
         },
         {
          "Name": "buick skylark 320",
          "Origin": "USA",
          "Year": "1970-01-01T00:00:00",
          "value": 8,
          "variable": "Cylinders"
         },
         {
          "Name": "plymouth satellite",
          "Origin": "USA",
          "Year": "1970-01-01T00:00:00",
          "value": 8,
          "variable": "Cylinders"
         },
         {
          "Name": "amc rebel sst",
          "Origin": "USA",
          "Year": "1970-01-01T00:00:00",
          "value": 8,
          "variable": "Cylinders"
         },
         {
          "Name": "ford torino",
          "Origin": "USA",
          "Year": "1970-01-01T00:00:00",
          "value": 8,
          "variable": "Cylinders"
         },
         {
          "Name": "ford galaxie 500",
          "Origin": "USA",
          "Year": "1970-01-01T00:00:00",
          "value": 8,
          "variable": "Cylinders"
         },
         {
          "Name": "chevrolet impala",
          "Origin": "USA",
          "Year": "1970-01-01T00:00:00",
          "value": 8,
          "variable": "Cylinders"
         },
         {
          "Name": "plymouth fury iii",
          "Origin": "USA",
          "Year": "1970-01-01T00:00:00",
          "value": 8,
          "variable": "Cylinders"
         },
         {
          "Name": "pontiac catalina",
          "Origin": "USA",
          "Year": "1970-01-01T00:00:00",
          "value": 8,
          "variable": "Cylinders"
         },
         {
          "Name": "amc ambassador dpl",
          "Origin": "USA",
          "Year": "1970-01-01T00:00:00",
          "value": 8,
          "variable": "Cylinders"
         },
         {
          "Name": "citroen ds-21 pallas",
          "Origin": "Europe",
          "Year": "1970-01-01T00:00:00",
          "value": 4,
          "variable": "Cylinders"
         },
         {
          "Name": "chevrolet chevelle concours (sw)",
          "Origin": "USA",
          "Year": "1970-01-01T00:00:00",
          "value": 8,
          "variable": "Cylinders"
         },
         {
          "Name": "ford torino (sw)",
          "Origin": "USA",
          "Year": "1970-01-01T00:00:00",
          "value": 8,
          "variable": "Cylinders"
         },
         {
          "Name": "plymouth satellite (sw)",
          "Origin": "USA",
          "Year": "1970-01-01T00:00:00",
          "value": 8,
          "variable": "Cylinders"
         },
         {
          "Name": "amc rebel sst (sw)",
          "Origin": "USA",
          "Year": "1970-01-01T00:00:00",
          "value": 8,
          "variable": "Cylinders"
         },
         {
          "Name": "dodge challenger se",
          "Origin": "USA",
          "Year": "1970-01-01T00:00:00",
          "value": 8,
          "variable": "Cylinders"
         },
         {
          "Name": "plymouth 'cuda 340",
          "Origin": "USA",
          "Year": "1970-01-01T00:00:00",
          "value": 8,
          "variable": "Cylinders"
         },
         {
          "Name": "ford mustang boss 302",
          "Origin": "USA",
          "Year": "1970-01-01T00:00:00",
          "value": 8,
          "variable": "Cylinders"
         },
         {
          "Name": "chevrolet monte carlo",
          "Origin": "USA",
          "Year": "1970-01-01T00:00:00",
          "value": 8,
          "variable": "Cylinders"
         },
         {
          "Name": "buick estate wagon (sw)",
          "Origin": "USA",
          "Year": "1970-01-01T00:00:00",
          "value": 8,
          "variable": "Cylinders"
         },
         {
          "Name": "toyota corona mark ii",
          "Origin": "Japan",
          "Year": "1970-01-01T00:00:00",
          "value": 4,
          "variable": "Cylinders"
         },
         {
          "Name": "plymouth duster",
          "Origin": "USA",
          "Year": "1970-01-01T00:00:00",
          "value": 6,
          "variable": "Cylinders"
         },
         {
          "Name": "amc hornet",
          "Origin": "USA",
          "Year": "1970-01-01T00:00:00",
          "value": 6,
          "variable": "Cylinders"
         },
         {
          "Name": "ford maverick",
          "Origin": "USA",
          "Year": "1970-01-01T00:00:00",
          "value": 6,
          "variable": "Cylinders"
         },
         {
          "Name": "datsun pl510",
          "Origin": "Japan",
          "Year": "1970-01-01T00:00:00",
          "value": 4,
          "variable": "Cylinders"
         },
         {
          "Name": "volkswagen 1131 deluxe sedan",
          "Origin": "Europe",
          "Year": "1970-01-01T00:00:00",
          "value": 4,
          "variable": "Cylinders"
         },
         {
          "Name": "peugeot 504",
          "Origin": "Europe",
          "Year": "1970-01-01T00:00:00",
          "value": 4,
          "variable": "Cylinders"
         },
         {
          "Name": "audi 100 ls",
          "Origin": "Europe",
          "Year": "1970-01-01T00:00:00",
          "value": 4,
          "variable": "Cylinders"
         },
         {
          "Name": "saab 99e",
          "Origin": "Europe",
          "Year": "1970-01-01T00:00:00",
          "value": 4,
          "variable": "Cylinders"
         },
         {
          "Name": "bmw 2002",
          "Origin": "Europe",
          "Year": "1970-01-01T00:00:00",
          "value": 4,
          "variable": "Cylinders"
         },
         {
          "Name": "amc gremlin",
          "Origin": "USA",
          "Year": "1970-01-01T00:00:00",
          "value": 6,
          "variable": "Cylinders"
         },
         {
          "Name": "ford f250",
          "Origin": "USA",
          "Year": "1970-01-01T00:00:00",
          "value": 8,
          "variable": "Cylinders"
         },
         {
          "Name": "chevy c20",
          "Origin": "USA",
          "Year": "1970-01-01T00:00:00",
          "value": 8,
          "variable": "Cylinders"
         },
         {
          "Name": "dodge d200",
          "Origin": "USA",
          "Year": "1970-01-01T00:00:00",
          "value": 8,
          "variable": "Cylinders"
         },
         {
          "Name": "hi 1200d",
          "Origin": "USA",
          "Year": "1970-01-01T00:00:00",
          "value": 8,
          "variable": "Cylinders"
         },
         {
          "Name": "datsun pl510",
          "Origin": "Japan",
          "Year": "1971-01-01T00:00:00",
          "value": 4,
          "variable": "Cylinders"
         },
         {
          "Name": "chevrolet vega 2300",
          "Origin": "USA",
          "Year": "1971-01-01T00:00:00",
          "value": 4,
          "variable": "Cylinders"
         },
         {
          "Name": "toyota corona",
          "Origin": "Japan",
          "Year": "1971-01-01T00:00:00",
          "value": 4,
          "variable": "Cylinders"
         },
         {
          "Name": "ford pinto",
          "Origin": "USA",
          "Year": "1971-01-01T00:00:00",
          "value": 4,
          "variable": "Cylinders"
         },
         {
          "Name": "volkswagen super beetle 117",
          "Origin": "Europe",
          "Year": "1971-01-01T00:00:00",
          "value": 4,
          "variable": "Cylinders"
         },
         {
          "Name": "amc gremlin",
          "Origin": "USA",
          "Year": "1971-01-01T00:00:00",
          "value": 6,
          "variable": "Cylinders"
         },
         {
          "Name": "plymouth satellite custom",
          "Origin": "USA",
          "Year": "1971-01-01T00:00:00",
          "value": 6,
          "variable": "Cylinders"
         },
         {
          "Name": "chevrolet chevelle malibu",
          "Origin": "USA",
          "Year": "1971-01-01T00:00:00",
          "value": 6,
          "variable": "Cylinders"
         },
         {
          "Name": "ford torino 500",
          "Origin": "USA",
          "Year": "1971-01-01T00:00:00",
          "value": 6,
          "variable": "Cylinders"
         },
         {
          "Name": "amc matador",
          "Origin": "USA",
          "Year": "1971-01-01T00:00:00",
          "value": 6,
          "variable": "Cylinders"
         },
         {
          "Name": "chevrolet impala",
          "Origin": "USA",
          "Year": "1971-01-01T00:00:00",
          "value": 8,
          "variable": "Cylinders"
         },
         {
          "Name": "pontiac catalina brougham",
          "Origin": "USA",
          "Year": "1971-01-01T00:00:00",
          "value": 8,
          "variable": "Cylinders"
         },
         {
          "Name": "ford galaxie 500",
          "Origin": "USA",
          "Year": "1971-01-01T00:00:00",
          "value": 8,
          "variable": "Cylinders"
         },
         {
          "Name": "plymouth fury iii",
          "Origin": "USA",
          "Year": "1971-01-01T00:00:00",
          "value": 8,
          "variable": "Cylinders"
         },
         {
          "Name": "dodge monaco (sw)",
          "Origin": "USA",
          "Year": "1971-01-01T00:00:00",
          "value": 8,
          "variable": "Cylinders"
         },
         {
          "Name": "ford country squire (sw)",
          "Origin": "USA",
          "Year": "1971-01-01T00:00:00",
          "value": 8,
          "variable": "Cylinders"
         },
         {
          "Name": "pontiac safari (sw)",
          "Origin": "USA",
          "Year": "1971-01-01T00:00:00",
          "value": 8,
          "variable": "Cylinders"
         },
         {
          "Name": "amc hornet sportabout (sw)",
          "Origin": "USA",
          "Year": "1971-01-01T00:00:00",
          "value": 6,
          "variable": "Cylinders"
         },
         {
          "Name": "chevrolet vega (sw)",
          "Origin": "USA",
          "Year": "1971-01-01T00:00:00",
          "value": 4,
          "variable": "Cylinders"
         },
         {
          "Name": "pontiac firebird",
          "Origin": "USA",
          "Year": "1971-01-01T00:00:00",
          "value": 6,
          "variable": "Cylinders"
         },
         {
          "Name": "ford mustang",
          "Origin": "USA",
          "Year": "1971-01-01T00:00:00",
          "value": 6,
          "variable": "Cylinders"
         },
         {
          "Name": "mercury capri 2000",
          "Origin": "USA",
          "Year": "1971-01-01T00:00:00",
          "value": 4,
          "variable": "Cylinders"
         },
         {
          "Name": "opel 1900",
          "Origin": "Europe",
          "Year": "1971-01-01T00:00:00",
          "value": 4,
          "variable": "Cylinders"
         },
         {
          "Name": "peugeot 304",
          "Origin": "Europe",
          "Year": "1971-01-01T00:00:00",
          "value": 4,
          "variable": "Cylinders"
         },
         {
          "Name": "fiat 124b",
          "Origin": "Europe",
          "Year": "1971-01-01T00:00:00",
          "value": 4,
          "variable": "Cylinders"
         },
         {
          "Name": "toyota corolla 1200",
          "Origin": "Japan",
          "Year": "1971-01-01T00:00:00",
          "value": 4,
          "variable": "Cylinders"
         },
         {
          "Name": "datsun 1200",
          "Origin": "Japan",
          "Year": "1971-01-01T00:00:00",
          "value": 4,
          "variable": "Cylinders"
         },
         {
          "Name": "volkswagen model 111",
          "Origin": "Europe",
          "Year": "1971-01-01T00:00:00",
          "value": 4,
          "variable": "Cylinders"
         },
         {
          "Name": "plymouth cricket",
          "Origin": "USA",
          "Year": "1971-01-01T00:00:00",
          "value": 4,
          "variable": "Cylinders"
         },
         {
          "Name": "toyota corona hardtop",
          "Origin": "Japan",
          "Year": "1972-01-01T00:00:00",
          "value": 4,
          "variable": "Cylinders"
         },
         {
          "Name": "dodge colt hardtop",
          "Origin": "USA",
          "Year": "1972-01-01T00:00:00",
          "value": 4,
          "variable": "Cylinders"
         },
         {
          "Name": "volkswagen type 3",
          "Origin": "Europe",
          "Year": "1972-01-01T00:00:00",
          "value": 4,
          "variable": "Cylinders"
         },
         {
          "Name": "chevrolet vega",
          "Origin": "USA",
          "Year": "1972-01-01T00:00:00",
          "value": 4,
          "variable": "Cylinders"
         },
         {
          "Name": "ford pinto runabout",
          "Origin": "USA",
          "Year": "1972-01-01T00:00:00",
          "value": 4,
          "variable": "Cylinders"
         },
         {
          "Name": "chevrolet impala",
          "Origin": "USA",
          "Year": "1972-01-01T00:00:00",
          "value": 8,
          "variable": "Cylinders"
         },
         {
          "Name": "pontiac catalina",
          "Origin": "USA",
          "Year": "1972-01-01T00:00:00",
          "value": 8,
          "variable": "Cylinders"
         },
         {
          "Name": "plymouth fury iii",
          "Origin": "USA",
          "Year": "1972-01-01T00:00:00",
          "value": 8,
          "variable": "Cylinders"
         },
         {
          "Name": "ford galaxie 500",
          "Origin": "USA",
          "Year": "1972-01-01T00:00:00",
          "value": 8,
          "variable": "Cylinders"
         },
         {
          "Name": "amc ambassador sst",
          "Origin": "USA",
          "Year": "1972-01-01T00:00:00",
          "value": 8,
          "variable": "Cylinders"
         },
         {
          "Name": "mercury marquis",
          "Origin": "USA",
          "Year": "1972-01-01T00:00:00",
          "value": 8,
          "variable": "Cylinders"
         },
         {
          "Name": "buick lesabre custom",
          "Origin": "USA",
          "Year": "1972-01-01T00:00:00",
          "value": 8,
          "variable": "Cylinders"
         },
         {
          "Name": "oldsmobile delta 88 royale",
          "Origin": "USA",
          "Year": "1972-01-01T00:00:00",
          "value": 8,
          "variable": "Cylinders"
         },
         {
          "Name": "chrysler newport royal",
          "Origin": "USA",
          "Year": "1972-01-01T00:00:00",
          "value": 8,
          "variable": "Cylinders"
         },
         {
          "Name": "mazda rx2 coupe",
          "Origin": "Japan",
          "Year": "1972-01-01T00:00:00",
          "value": 3,
          "variable": "Cylinders"
         },
         {
          "Name": "amc matador (sw)",
          "Origin": "USA",
          "Year": "1972-01-01T00:00:00",
          "value": 8,
          "variable": "Cylinders"
         },
         {
          "Name": "chevrolet chevelle concours (sw)",
          "Origin": "USA",
          "Year": "1972-01-01T00:00:00",
          "value": 8,
          "variable": "Cylinders"
         },
         {
          "Name": "ford gran torino (sw)",
          "Origin": "USA",
          "Year": "1972-01-01T00:00:00",
          "value": 8,
          "variable": "Cylinders"
         },
         {
          "Name": "plymouth satellite custom (sw)",
          "Origin": "USA",
          "Year": "1972-01-01T00:00:00",
          "value": 8,
          "variable": "Cylinders"
         },
         {
          "Name": "volvo 145e (sw)",
          "Origin": "Europe",
          "Year": "1972-01-01T00:00:00",
          "value": 4,
          "variable": "Cylinders"
         },
         {
          "Name": "volkswagen 411 (sw)",
          "Origin": "Europe",
          "Year": "1972-01-01T00:00:00",
          "value": 4,
          "variable": "Cylinders"
         },
         {
          "Name": "peugeot 504 (sw)",
          "Origin": "Europe",
          "Year": "1972-01-01T00:00:00",
          "value": 4,
          "variable": "Cylinders"
         },
         {
          "Name": "renault 12 (sw)",
          "Origin": "Europe",
          "Year": "1972-01-01T00:00:00",
          "value": 4,
          "variable": "Cylinders"
         },
         {
          "Name": "ford pinto (sw)",
          "Origin": "USA",
          "Year": "1972-01-01T00:00:00",
          "value": 4,
          "variable": "Cylinders"
         },
         {
          "Name": "datsun 510 (sw)",
          "Origin": "Japan",
          "Year": "1972-01-01T00:00:00",
          "value": 4,
          "variable": "Cylinders"
         },
         {
          "Name": "toyouta corona mark ii (sw)",
          "Origin": "Japan",
          "Year": "1972-01-01T00:00:00",
          "value": 4,
          "variable": "Cylinders"
         },
         {
          "Name": "dodge colt (sw)",
          "Origin": "USA",
          "Year": "1972-01-01T00:00:00",
          "value": 4,
          "variable": "Cylinders"
         },
         {
          "Name": "toyota corolla 1600 (sw)",
          "Origin": "Japan",
          "Year": "1972-01-01T00:00:00",
          "value": 4,
          "variable": "Cylinders"
         },
         {
          "Name": "buick century 350",
          "Origin": "USA",
          "Year": "1973-01-01T00:00:00",
          "value": 8,
          "variable": "Cylinders"
         },
         {
          "Name": "amc matador",
          "Origin": "USA",
          "Year": "1973-01-01T00:00:00",
          "value": 8,
          "variable": "Cylinders"
         },
         {
          "Name": "chevrolet malibu",
          "Origin": "USA",
          "Year": "1973-01-01T00:00:00",
          "value": 8,
          "variable": "Cylinders"
         },
         {
          "Name": "ford gran torino",
          "Origin": "USA",
          "Year": "1973-01-01T00:00:00",
          "value": 8,
          "variable": "Cylinders"
         },
         {
          "Name": "dodge coronet custom",
          "Origin": "USA",
          "Year": "1973-01-01T00:00:00",
          "value": 8,
          "variable": "Cylinders"
         },
         {
          "Name": "mercury marquis brougham",
          "Origin": "USA",
          "Year": "1973-01-01T00:00:00",
          "value": 8,
          "variable": "Cylinders"
         },
         {
          "Name": "chevrolet caprice classic",
          "Origin": "USA",
          "Year": "1973-01-01T00:00:00",
          "value": 8,
          "variable": "Cylinders"
         },
         {
          "Name": "ford ltd",
          "Origin": "USA",
          "Year": "1973-01-01T00:00:00",
          "value": 8,
          "variable": "Cylinders"
         },
         {
          "Name": "plymouth fury gran sedan",
          "Origin": "USA",
          "Year": "1973-01-01T00:00:00",
          "value": 8,
          "variable": "Cylinders"
         },
         {
          "Name": "chrysler new yorker brougham",
          "Origin": "USA",
          "Year": "1973-01-01T00:00:00",
          "value": 8,
          "variable": "Cylinders"
         },
         {
          "Name": "buick electra 225 custom",
          "Origin": "USA",
          "Year": "1973-01-01T00:00:00",
          "value": 8,
          "variable": "Cylinders"
         },
         {
          "Name": "amc ambassador brougham",
          "Origin": "USA",
          "Year": "1973-01-01T00:00:00",
          "value": 8,
          "variable": "Cylinders"
         },
         {
          "Name": "plymouth valiant",
          "Origin": "USA",
          "Year": "1973-01-01T00:00:00",
          "value": 6,
          "variable": "Cylinders"
         },
         {
          "Name": "chevrolet nova custom",
          "Origin": "USA",
          "Year": "1973-01-01T00:00:00",
          "value": 6,
          "variable": "Cylinders"
         },
         {
          "Name": "amc hornet",
          "Origin": "USA",
          "Year": "1973-01-01T00:00:00",
          "value": 6,
          "variable": "Cylinders"
         },
         {
          "Name": "ford maverick",
          "Origin": "USA",
          "Year": "1973-01-01T00:00:00",
          "value": 6,
          "variable": "Cylinders"
         },
         {
          "Name": "plymouth duster",
          "Origin": "USA",
          "Year": "1973-01-01T00:00:00",
          "value": 6,
          "variable": "Cylinders"
         },
         {
          "Name": "volkswagen super beetle",
          "Origin": "Europe",
          "Year": "1973-01-01T00:00:00",
          "value": 4,
          "variable": "Cylinders"
         },
         {
          "Name": "chevrolet impala",
          "Origin": "USA",
          "Year": "1973-01-01T00:00:00",
          "value": 8,
          "variable": "Cylinders"
         },
         {
          "Name": "ford country",
          "Origin": "USA",
          "Year": "1973-01-01T00:00:00",
          "value": 8,
          "variable": "Cylinders"
         },
         {
          "Name": "plymouth custom suburb",
          "Origin": "USA",
          "Year": "1973-01-01T00:00:00",
          "value": 8,
          "variable": "Cylinders"
         },
         {
          "Name": "oldsmobile vista cruiser",
          "Origin": "USA",
          "Year": "1973-01-01T00:00:00",
          "value": 8,
          "variable": "Cylinders"
         },
         {
          "Name": "amc gremlin",
          "Origin": "USA",
          "Year": "1973-01-01T00:00:00",
          "value": 6,
          "variable": "Cylinders"
         },
         {
          "Name": "toyota carina",
          "Origin": "Japan",
          "Year": "1973-01-01T00:00:00",
          "value": 4,
          "variable": "Cylinders"
         },
         {
          "Name": "chevrolet vega",
          "Origin": "USA",
          "Year": "1973-01-01T00:00:00",
          "value": 4,
          "variable": "Cylinders"
         },
         {
          "Name": "datsun 610",
          "Origin": "Japan",
          "Year": "1973-01-01T00:00:00",
          "value": 4,
          "variable": "Cylinders"
         },
         {
          "Name": "maxda rx3",
          "Origin": "Japan",
          "Year": "1973-01-01T00:00:00",
          "value": 3,
          "variable": "Cylinders"
         },
         {
          "Name": "ford pinto",
          "Origin": "USA",
          "Year": "1973-01-01T00:00:00",
          "value": 4,
          "variable": "Cylinders"
         },
         {
          "Name": "mercury capri v6",
          "Origin": "USA",
          "Year": "1973-01-01T00:00:00",
          "value": 6,
          "variable": "Cylinders"
         },
         {
          "Name": "fiat 124 sport coupe",
          "Origin": "Europe",
          "Year": "1973-01-01T00:00:00",
          "value": 4,
          "variable": "Cylinders"
         },
         {
          "Name": "chevrolet monte carlo s",
          "Origin": "USA",
          "Year": "1973-01-01T00:00:00",
          "value": 8,
          "variable": "Cylinders"
         },
         {
          "Name": "pontiac grand prix",
          "Origin": "USA",
          "Year": "1973-01-01T00:00:00",
          "value": 8,
          "variable": "Cylinders"
         },
         {
          "Name": "fiat 128",
          "Origin": "Europe",
          "Year": "1973-01-01T00:00:00",
          "value": 4,
          "variable": "Cylinders"
         },
         {
          "Name": "opel manta",
          "Origin": "Europe",
          "Year": "1973-01-01T00:00:00",
          "value": 4,
          "variable": "Cylinders"
         },
         {
          "Name": "audi 100ls",
          "Origin": "Europe",
          "Year": "1973-01-01T00:00:00",
          "value": 4,
          "variable": "Cylinders"
         },
         {
          "Name": "volvo 144ea",
          "Origin": "Europe",
          "Year": "1973-01-01T00:00:00",
          "value": 4,
          "variable": "Cylinders"
         },
         {
          "Name": "dodge dart custom",
          "Origin": "USA",
          "Year": "1973-01-01T00:00:00",
          "value": 8,
          "variable": "Cylinders"
         },
         {
          "Name": "saab 99le",
          "Origin": "Europe",
          "Year": "1973-01-01T00:00:00",
          "value": 4,
          "variable": "Cylinders"
         },
         {
          "Name": "toyota mark ii",
          "Origin": "Japan",
          "Year": "1973-01-01T00:00:00",
          "value": 6,
          "variable": "Cylinders"
         },
         {
          "Name": "oldsmobile omega",
          "Origin": "USA",
          "Year": "1973-01-01T00:00:00",
          "value": 8,
          "variable": "Cylinders"
         },
         {
          "Name": "plymouth duster",
          "Origin": "USA",
          "Year": "1974-01-01T00:00:00",
          "value": 6,
          "variable": "Cylinders"
         },
         {
          "Name": "ford maverick",
          "Origin": "USA",
          "Year": "1974-01-01T00:00:00",
          "value": 6,
          "variable": "Cylinders"
         },
         {
          "Name": "amc hornet",
          "Origin": "USA",
          "Year": "1974-01-01T00:00:00",
          "value": 6,
          "variable": "Cylinders"
         },
         {
          "Name": "chevrolet nova",
          "Origin": "USA",
          "Year": "1974-01-01T00:00:00",
          "value": 6,
          "variable": "Cylinders"
         },
         {
          "Name": "datsun b210",
          "Origin": "Japan",
          "Year": "1974-01-01T00:00:00",
          "value": 4,
          "variable": "Cylinders"
         },
         {
          "Name": "ford pinto",
          "Origin": "USA",
          "Year": "1974-01-01T00:00:00",
          "value": 4,
          "variable": "Cylinders"
         },
         {
          "Name": "toyota corolla 1200",
          "Origin": "Japan",
          "Year": "1974-01-01T00:00:00",
          "value": 4,
          "variable": "Cylinders"
         },
         {
          "Name": "chevrolet vega",
          "Origin": "USA",
          "Year": "1974-01-01T00:00:00",
          "value": 4,
          "variable": "Cylinders"
         },
         {
          "Name": "chevrolet chevelle malibu classic",
          "Origin": "USA",
          "Year": "1974-01-01T00:00:00",
          "value": 6,
          "variable": "Cylinders"
         },
         {
          "Name": "amc matador",
          "Origin": "USA",
          "Year": "1974-01-01T00:00:00",
          "value": 6,
          "variable": "Cylinders"
         },
         {
          "Name": "plymouth satellite sebring",
          "Origin": "USA",
          "Year": "1974-01-01T00:00:00",
          "value": 6,
          "variable": "Cylinders"
         },
         {
          "Name": "ford gran torino",
          "Origin": "USA",
          "Year": "1974-01-01T00:00:00",
          "value": 8,
          "variable": "Cylinders"
         },
         {
          "Name": "buick century luxus (sw)",
          "Origin": "USA",
          "Year": "1974-01-01T00:00:00",
          "value": 8,
          "variable": "Cylinders"
         },
         {
          "Name": "dodge coronet custom (sw)",
          "Origin": "USA",
          "Year": "1974-01-01T00:00:00",
          "value": 8,
          "variable": "Cylinders"
         },
         {
          "Name": "ford gran torino (sw)",
          "Origin": "USA",
          "Year": "1974-01-01T00:00:00",
          "value": 8,
          "variable": "Cylinders"
         },
         {
          "Name": "amc matador (sw)",
          "Origin": "USA",
          "Year": "1974-01-01T00:00:00",
          "value": 8,
          "variable": "Cylinders"
         },
         {
          "Name": "audi fox",
          "Origin": "Europe",
          "Year": "1974-01-01T00:00:00",
          "value": 4,
          "variable": "Cylinders"
         },
         {
          "Name": "volkswagen dasher",
          "Origin": "Europe",
          "Year": "1974-01-01T00:00:00",
          "value": 4,
          "variable": "Cylinders"
         },
         {
          "Name": "opel manta",
          "Origin": "Europe",
          "Year": "1974-01-01T00:00:00",
          "value": 4,
          "variable": "Cylinders"
         },
         {
          "Name": "toyota corona",
          "Origin": "Japan",
          "Year": "1974-01-01T00:00:00",
          "value": 4,
          "variable": "Cylinders"
         },
         {
          "Name": "datsun 710",
          "Origin": "Japan",
          "Year": "1974-01-01T00:00:00",
          "value": 4,
          "variable": "Cylinders"
         },
         {
          "Name": "dodge colt",
          "Origin": "USA",
          "Year": "1974-01-01T00:00:00",
          "value": 4,
          "variable": "Cylinders"
         },
         {
          "Name": "fiat 128",
          "Origin": "Europe",
          "Year": "1974-01-01T00:00:00",
          "value": 4,
          "variable": "Cylinders"
         },
         {
          "Name": "fiat 124 tc",
          "Origin": "Europe",
          "Year": "1974-01-01T00:00:00",
          "value": 4,
          "variable": "Cylinders"
         },
         {
          "Name": "honda civic",
          "Origin": "Japan",
          "Year": "1974-01-01T00:00:00",
          "value": 4,
          "variable": "Cylinders"
         },
         {
          "Name": "subaru",
          "Origin": "Japan",
          "Year": "1974-01-01T00:00:00",
          "value": 4,
          "variable": "Cylinders"
         },
         {
          "Name": "fiat x1.9",
          "Origin": "Europe",
          "Year": "1974-01-01T00:00:00",
          "value": 4,
          "variable": "Cylinders"
         },
         {
          "Name": "plymouth valiant custom",
          "Origin": "USA",
          "Year": "1975-01-01T00:00:00",
          "value": 6,
          "variable": "Cylinders"
         },
         {
          "Name": "chevrolet nova",
          "Origin": "USA",
          "Year": "1975-01-01T00:00:00",
          "value": 6,
          "variable": "Cylinders"
         },
         {
          "Name": "mercury monarch",
          "Origin": "USA",
          "Year": "1975-01-01T00:00:00",
          "value": 6,
          "variable": "Cylinders"
         },
         {
          "Name": "ford maverick",
          "Origin": "USA",
          "Year": "1975-01-01T00:00:00",
          "value": 6,
          "variable": "Cylinders"
         },
         {
          "Name": "pontiac catalina",
          "Origin": "USA",
          "Year": "1975-01-01T00:00:00",
          "value": 8,
          "variable": "Cylinders"
         },
         {
          "Name": "chevrolet bel air",
          "Origin": "USA",
          "Year": "1975-01-01T00:00:00",
          "value": 8,
          "variable": "Cylinders"
         },
         {
          "Name": "plymouth grand fury",
          "Origin": "USA",
          "Year": "1975-01-01T00:00:00",
          "value": 8,
          "variable": "Cylinders"
         },
         {
          "Name": "ford ltd",
          "Origin": "USA",
          "Year": "1975-01-01T00:00:00",
          "value": 8,
          "variable": "Cylinders"
         },
         {
          "Name": "buick century",
          "Origin": "USA",
          "Year": "1975-01-01T00:00:00",
          "value": 6,
          "variable": "Cylinders"
         },
         {
          "Name": "chevroelt chevelle malibu",
          "Origin": "USA",
          "Year": "1975-01-01T00:00:00",
          "value": 6,
          "variable": "Cylinders"
         },
         {
          "Name": "amc matador",
          "Origin": "USA",
          "Year": "1975-01-01T00:00:00",
          "value": 6,
          "variable": "Cylinders"
         },
         {
          "Name": "plymouth fury",
          "Origin": "USA",
          "Year": "1975-01-01T00:00:00",
          "value": 6,
          "variable": "Cylinders"
         },
         {
          "Name": "buick skyhawk",
          "Origin": "USA",
          "Year": "1975-01-01T00:00:00",
          "value": 6,
          "variable": "Cylinders"
         },
         {
          "Name": "chevrolet monza 2+2",
          "Origin": "USA",
          "Year": "1975-01-01T00:00:00",
          "value": 8,
          "variable": "Cylinders"
         },
         {
          "Name": "ford mustang ii",
          "Origin": "USA",
          "Year": "1975-01-01T00:00:00",
          "value": 8,
          "variable": "Cylinders"
         },
         {
          "Name": "toyota corolla",
          "Origin": "Japan",
          "Year": "1975-01-01T00:00:00",
          "value": 4,
          "variable": "Cylinders"
         },
         {
          "Name": "ford pinto",
          "Origin": "USA",
          "Year": "1975-01-01T00:00:00",
          "value": 4,
          "variable": "Cylinders"
         },
         {
          "Name": "amc gremlin",
          "Origin": "USA",
          "Year": "1975-01-01T00:00:00",
          "value": 6,
          "variable": "Cylinders"
         },
         {
          "Name": "pontiac astro",
          "Origin": "USA",
          "Year": "1975-01-01T00:00:00",
          "value": 4,
          "variable": "Cylinders"
         },
         {
          "Name": "toyota corona",
          "Origin": "Japan",
          "Year": "1975-01-01T00:00:00",
          "value": 4,
          "variable": "Cylinders"
         },
         {
          "Name": "volkswagen dasher",
          "Origin": "Europe",
          "Year": "1975-01-01T00:00:00",
          "value": 4,
          "variable": "Cylinders"
         },
         {
          "Name": "datsun 710",
          "Origin": "Japan",
          "Year": "1975-01-01T00:00:00",
          "value": 4,
          "variable": "Cylinders"
         },
         {
          "Name": "ford pinto",
          "Origin": "USA",
          "Year": "1975-01-01T00:00:00",
          "value": 6,
          "variable": "Cylinders"
         },
         {
          "Name": "volkswagen rabbit",
          "Origin": "Europe",
          "Year": "1975-01-01T00:00:00",
          "value": 4,
          "variable": "Cylinders"
         },
         {
          "Name": "amc pacer",
          "Origin": "USA",
          "Year": "1975-01-01T00:00:00",
          "value": 6,
          "variable": "Cylinders"
         },
         {
          "Name": "audi 100ls",
          "Origin": "Europe",
          "Year": "1975-01-01T00:00:00",
          "value": 4,
          "variable": "Cylinders"
         },
         {
          "Name": "peugeot 504",
          "Origin": "Europe",
          "Year": "1975-01-01T00:00:00",
          "value": 4,
          "variable": "Cylinders"
         },
         {
          "Name": "volvo 244dl",
          "Origin": "Europe",
          "Year": "1975-01-01T00:00:00",
          "value": 4,
          "variable": "Cylinders"
         },
         {
          "Name": "saab 99le",
          "Origin": "Europe",
          "Year": "1975-01-01T00:00:00",
          "value": 4,
          "variable": "Cylinders"
         },
         {
          "Name": "honda civic cvcc",
          "Origin": "Japan",
          "Year": "1975-01-01T00:00:00",
          "value": 4,
          "variable": "Cylinders"
         },
         {
          "Name": "fiat 131",
          "Origin": "Europe",
          "Year": "1976-01-01T00:00:00",
          "value": 4,
          "variable": "Cylinders"
         },
         {
          "Name": "opel 1900",
          "Origin": "Europe",
          "Year": "1976-01-01T00:00:00",
          "value": 4,
          "variable": "Cylinders"
         },
         {
          "Name": "capri ii",
          "Origin": "USA",
          "Year": "1976-01-01T00:00:00",
          "value": 4,
          "variable": "Cylinders"
         },
         {
          "Name": "dodge colt",
          "Origin": "USA",
          "Year": "1976-01-01T00:00:00",
          "value": 4,
          "variable": "Cylinders"
         },
         {
          "Name": "renault 12tl",
          "Origin": "Europe",
          "Year": "1976-01-01T00:00:00",
          "value": 4,
          "variable": "Cylinders"
         },
         {
          "Name": "chevrolet chevelle malibu classic",
          "Origin": "USA",
          "Year": "1976-01-01T00:00:00",
          "value": 8,
          "variable": "Cylinders"
         },
         {
          "Name": "dodge coronet brougham",
          "Origin": "USA",
          "Year": "1976-01-01T00:00:00",
          "value": 8,
          "variable": "Cylinders"
         },
         {
          "Name": "amc matador",
          "Origin": "USA",
          "Year": "1976-01-01T00:00:00",
          "value": 8,
          "variable": "Cylinders"
         },
         {
          "Name": "ford gran torino",
          "Origin": "USA",
          "Year": "1976-01-01T00:00:00",
          "value": 8,
          "variable": "Cylinders"
         },
         {
          "Name": "plymouth valiant",
          "Origin": "USA",
          "Year": "1976-01-01T00:00:00",
          "value": 6,
          "variable": "Cylinders"
         },
         {
          "Name": "chevrolet nova",
          "Origin": "USA",
          "Year": "1976-01-01T00:00:00",
          "value": 6,
          "variable": "Cylinders"
         },
         {
          "Name": "ford maverick",
          "Origin": "USA",
          "Year": "1976-01-01T00:00:00",
          "value": 6,
          "variable": "Cylinders"
         },
         {
          "Name": "amc hornet",
          "Origin": "USA",
          "Year": "1976-01-01T00:00:00",
          "value": 6,
          "variable": "Cylinders"
         },
         {
          "Name": "chevrolet chevette",
          "Origin": "USA",
          "Year": "1976-01-01T00:00:00",
          "value": 4,
          "variable": "Cylinders"
         },
         {
          "Name": "chevrolet woody",
          "Origin": "USA",
          "Year": "1976-01-01T00:00:00",
          "value": 4,
          "variable": "Cylinders"
         },
         {
          "Name": "vw rabbit",
          "Origin": "Europe",
          "Year": "1976-01-01T00:00:00",
          "value": 4,
          "variable": "Cylinders"
         },
         {
          "Name": "honda civic",
          "Origin": "Japan",
          "Year": "1976-01-01T00:00:00",
          "value": 4,
          "variable": "Cylinders"
         },
         {
          "Name": "dodge aspen se",
          "Origin": "USA",
          "Year": "1976-01-01T00:00:00",
          "value": 6,
          "variable": "Cylinders"
         },
         {
          "Name": "ford granada ghia",
          "Origin": "USA",
          "Year": "1976-01-01T00:00:00",
          "value": 6,
          "variable": "Cylinders"
         },
         {
          "Name": "pontiac ventura sj",
          "Origin": "USA",
          "Year": "1976-01-01T00:00:00",
          "value": 6,
          "variable": "Cylinders"
         },
         {
          "Name": "amc pacer d/l",
          "Origin": "USA",
          "Year": "1976-01-01T00:00:00",
          "value": 6,
          "variable": "Cylinders"
         },
         {
          "Name": "volkswagen rabbit",
          "Origin": "Europe",
          "Year": "1976-01-01T00:00:00",
          "value": 4,
          "variable": "Cylinders"
         },
         {
          "Name": "datsun b-210",
          "Origin": "Japan",
          "Year": "1976-01-01T00:00:00",
          "value": 4,
          "variable": "Cylinders"
         },
         {
          "Name": "toyota corolla",
          "Origin": "Japan",
          "Year": "1976-01-01T00:00:00",
          "value": 4,
          "variable": "Cylinders"
         },
         {
          "Name": "ford pinto",
          "Origin": "USA",
          "Year": "1976-01-01T00:00:00",
          "value": 4,
          "variable": "Cylinders"
         },
         {
          "Name": "volvo 245",
          "Origin": "Europe",
          "Year": "1976-01-01T00:00:00",
          "value": 4,
          "variable": "Cylinders"
         },
         {
          "Name": "plymouth volare premier v8",
          "Origin": "USA",
          "Year": "1976-01-01T00:00:00",
          "value": 8,
          "variable": "Cylinders"
         },
         {
          "Name": "peugeot 504",
          "Origin": "Europe",
          "Year": "1976-01-01T00:00:00",
          "value": 4,
          "variable": "Cylinders"
         },
         {
          "Name": "toyota mark ii",
          "Origin": "Japan",
          "Year": "1976-01-01T00:00:00",
          "value": 6,
          "variable": "Cylinders"
         },
         {
          "Name": "mercedes-benz 280s",
          "Origin": "Europe",
          "Year": "1976-01-01T00:00:00",
          "value": 6,
          "variable": "Cylinders"
         },
         {
          "Name": "cadillac seville",
          "Origin": "USA",
          "Year": "1976-01-01T00:00:00",
          "value": 8,
          "variable": "Cylinders"
         },
         {
          "Name": "chevy c10",
          "Origin": "USA",
          "Year": "1976-01-01T00:00:00",
          "value": 8,
          "variable": "Cylinders"
         },
         {
          "Name": "ford f108",
          "Origin": "USA",
          "Year": "1976-01-01T00:00:00",
          "value": 8,
          "variable": "Cylinders"
         },
         {
          "Name": "dodge d100",
          "Origin": "USA",
          "Year": "1976-01-01T00:00:00",
          "value": 8,
          "variable": "Cylinders"
         },
         {
          "Name": "honda Accelerationord cvcc",
          "Origin": "Japan",
          "Year": "1977-01-01T00:00:00",
          "value": 4,
          "variable": "Cylinders"
         },
         {
          "Name": "buick opel isuzu deluxe",
          "Origin": "USA",
          "Year": "1977-01-01T00:00:00",
          "value": 4,
          "variable": "Cylinders"
         },
         {
          "Name": "renault 5 gtl",
          "Origin": "Europe",
          "Year": "1977-01-01T00:00:00",
          "value": 4,
          "variable": "Cylinders"
         },
         {
          "Name": "plymouth arrow gs",
          "Origin": "USA",
          "Year": "1977-01-01T00:00:00",
          "value": 4,
          "variable": "Cylinders"
         },
         {
          "Name": "datsun f-10 hatchback",
          "Origin": "Japan",
          "Year": "1977-01-01T00:00:00",
          "value": 4,
          "variable": "Cylinders"
         },
         {
          "Name": "chevrolet caprice classic",
          "Origin": "USA",
          "Year": "1977-01-01T00:00:00",
          "value": 8,
          "variable": "Cylinders"
         },
         {
          "Name": "oldsmobile cutlass supreme",
          "Origin": "USA",
          "Year": "1977-01-01T00:00:00",
          "value": 8,
          "variable": "Cylinders"
         },
         {
          "Name": "dodge monaco brougham",
          "Origin": "USA",
          "Year": "1977-01-01T00:00:00",
          "value": 8,
          "variable": "Cylinders"
         },
         {
          "Name": "mercury cougar brougham",
          "Origin": "USA",
          "Year": "1977-01-01T00:00:00",
          "value": 8,
          "variable": "Cylinders"
         },
         {
          "Name": "chevrolet concours",
          "Origin": "USA",
          "Year": "1977-01-01T00:00:00",
          "value": 6,
          "variable": "Cylinders"
         },
         {
          "Name": "buick skylark",
          "Origin": "USA",
          "Year": "1977-01-01T00:00:00",
          "value": 6,
          "variable": "Cylinders"
         },
         {
          "Name": "plymouth volare custom",
          "Origin": "USA",
          "Year": "1977-01-01T00:00:00",
          "value": 6,
          "variable": "Cylinders"
         },
         {
          "Name": "ford granada",
          "Origin": "USA",
          "Year": "1977-01-01T00:00:00",
          "value": 6,
          "variable": "Cylinders"
         },
         {
          "Name": "pontiac grand prix lj",
          "Origin": "USA",
          "Year": "1977-01-01T00:00:00",
          "value": 8,
          "variable": "Cylinders"
         },
         {
          "Name": "chevrolet monte carlo landau",
          "Origin": "USA",
          "Year": "1977-01-01T00:00:00",
          "value": 8,
          "variable": "Cylinders"
         },
         {
          "Name": "chrysler cordoba",
          "Origin": "USA",
          "Year": "1977-01-01T00:00:00",
          "value": 8,
          "variable": "Cylinders"
         },
         {
          "Name": "ford thunderbird",
          "Origin": "USA",
          "Year": "1977-01-01T00:00:00",
          "value": 8,
          "variable": "Cylinders"
         },
         {
          "Name": "volkswagen rabbit custom",
          "Origin": "Europe",
          "Year": "1977-01-01T00:00:00",
          "value": 4,
          "variable": "Cylinders"
         },
         {
          "Name": "pontiac sunbird coupe",
          "Origin": "USA",
          "Year": "1977-01-01T00:00:00",
          "value": 4,
          "variable": "Cylinders"
         },
         {
          "Name": "toyota corolla liftback",
          "Origin": "Japan",
          "Year": "1977-01-01T00:00:00",
          "value": 4,
          "variable": "Cylinders"
         },
         {
          "Name": "ford mustang ii 2+2",
          "Origin": "USA",
          "Year": "1977-01-01T00:00:00",
          "value": 4,
          "variable": "Cylinders"
         },
         {
          "Name": "chevrolet chevette",
          "Origin": "USA",
          "Year": "1977-01-01T00:00:00",
          "value": 4,
          "variable": "Cylinders"
         },
         {
          "Name": "dodge colt m/m",
          "Origin": "USA",
          "Year": "1977-01-01T00:00:00",
          "value": 4,
          "variable": "Cylinders"
         },
         {
          "Name": "subaru dl",
          "Origin": "Japan",
          "Year": "1977-01-01T00:00:00",
          "value": 4,
          "variable": "Cylinders"
         },
         {
          "Name": "volkswagen dasher",
          "Origin": "Europe",
          "Year": "1977-01-01T00:00:00",
          "value": 4,
          "variable": "Cylinders"
         },
         {
          "Name": "datsun 810",
          "Origin": "Japan",
          "Year": "1977-01-01T00:00:00",
          "value": 6,
          "variable": "Cylinders"
         },
         {
          "Name": "bmw 320i",
          "Origin": "Europe",
          "Year": "1977-01-01T00:00:00",
          "value": 4,
          "variable": "Cylinders"
         },
         {
          "Name": "mazda rx-4",
          "Origin": "Japan",
          "Year": "1977-01-01T00:00:00",
          "value": 3,
          "variable": "Cylinders"
         },
         {
          "Name": "volkswagen rabbit custom diesel",
          "Origin": "Europe",
          "Year": "1978-01-01T00:00:00",
          "value": 4,
          "variable": "Cylinders"
         },
         {
          "Name": "ford fiesta",
          "Origin": "USA",
          "Year": "1978-01-01T00:00:00",
          "value": 4,
          "variable": "Cylinders"
         },
         {
          "Name": "mazda glc deluxe",
          "Origin": "Japan",
          "Year": "1978-01-01T00:00:00",
          "value": 4,
          "variable": "Cylinders"
         },
         {
          "Name": "datsun b210 gx",
          "Origin": "Japan",
          "Year": "1978-01-01T00:00:00",
          "value": 4,
          "variable": "Cylinders"
         },
         {
          "Name": "honda civic cvcc",
          "Origin": "Japan",
          "Year": "1978-01-01T00:00:00",
          "value": 4,
          "variable": "Cylinders"
         },
         {
          "Name": "oldsmobile cutlass salon brougham",
          "Origin": "USA",
          "Year": "1978-01-01T00:00:00",
          "value": 8,
          "variable": "Cylinders"
         },
         {
          "Name": "dodge diplomat",
          "Origin": "USA",
          "Year": "1978-01-01T00:00:00",
          "value": 8,
          "variable": "Cylinders"
         },
         {
          "Name": "mercury monarch ghia",
          "Origin": "USA",
          "Year": "1978-01-01T00:00:00",
          "value": 8,
          "variable": "Cylinders"
         },
         {
          "Name": "pontiac phoenix lj",
          "Origin": "USA",
          "Year": "1978-01-01T00:00:00",
          "value": 6,
          "variable": "Cylinders"
         },
         {
          "Name": "chevrolet malibu",
          "Origin": "USA",
          "Year": "1978-01-01T00:00:00",
          "value": 6,
          "variable": "Cylinders"
         },
         {
          "Name": "ford fairmont (auto)",
          "Origin": "USA",
          "Year": "1978-01-01T00:00:00",
          "value": 6,
          "variable": "Cylinders"
         },
         {
          "Name": "ford fairmont (man)",
          "Origin": "USA",
          "Year": "1978-01-01T00:00:00",
          "value": 4,
          "variable": "Cylinders"
         },
         {
          "Name": "plymouth volare",
          "Origin": "USA",
          "Year": "1978-01-01T00:00:00",
          "value": 6,
          "variable": "Cylinders"
         },
         {
          "Name": "amc concord",
          "Origin": "USA",
          "Year": "1978-01-01T00:00:00",
          "value": 6,
          "variable": "Cylinders"
         },
         {
          "Name": "buick century special",
          "Origin": "USA",
          "Year": "1978-01-01T00:00:00",
          "value": 6,
          "variable": "Cylinders"
         },
         {
          "Name": "mercury zephyr",
          "Origin": "USA",
          "Year": "1978-01-01T00:00:00",
          "value": 6,
          "variable": "Cylinders"
         },
         {
          "Name": "dodge aspen",
          "Origin": "USA",
          "Year": "1978-01-01T00:00:00",
          "value": 6,
          "variable": "Cylinders"
         },
         {
          "Name": "amc concord d/l",
          "Origin": "USA",
          "Year": "1978-01-01T00:00:00",
          "value": 6,
          "variable": "Cylinders"
         },
         {
          "Name": "chevrolet monte carlo landau",
          "Origin": "USA",
          "Year": "1978-01-01T00:00:00",
          "value": 8,
          "variable": "Cylinders"
         },
         {
          "Name": "buick regal sport coupe (turbo)",
          "Origin": "USA",
          "Year": "1978-01-01T00:00:00",
          "value": 6,
          "variable": "Cylinders"
         },
         {
          "Name": "ford futura",
          "Origin": "USA",
          "Year": "1978-01-01T00:00:00",
          "value": 8,
          "variable": "Cylinders"
         },
         {
          "Name": "dodge magnum xe",
          "Origin": "USA",
          "Year": "1978-01-01T00:00:00",
          "value": 8,
          "variable": "Cylinders"
         },
         {
          "Name": "chevrolet chevette",
          "Origin": "USA",
          "Year": "1978-01-01T00:00:00",
          "value": 4,
          "variable": "Cylinders"
         },
         {
          "Name": "toyota corona",
          "Origin": "Japan",
          "Year": "1978-01-01T00:00:00",
          "value": 4,
          "variable": "Cylinders"
         },
         {
          "Name": "datsun 510",
          "Origin": "Japan",
          "Year": "1978-01-01T00:00:00",
          "value": 4,
          "variable": "Cylinders"
         },
         {
          "Name": "dodge omni",
          "Origin": "USA",
          "Year": "1978-01-01T00:00:00",
          "value": 4,
          "variable": "Cylinders"
         },
         {
          "Name": "toyota celica gt liftback",
          "Origin": "Japan",
          "Year": "1978-01-01T00:00:00",
          "value": 4,
          "variable": "Cylinders"
         },
         {
          "Name": "plymouth sapporo",
          "Origin": "USA",
          "Year": "1978-01-01T00:00:00",
          "value": 4,
          "variable": "Cylinders"
         },
         {
          "Name": "oldsmobile starfire sx",
          "Origin": "USA",
          "Year": "1978-01-01T00:00:00",
          "value": 4,
          "variable": "Cylinders"
         },
         {
          "Name": "datsun 200-sx",
          "Origin": "Japan",
          "Year": "1978-01-01T00:00:00",
          "value": 4,
          "variable": "Cylinders"
         },
         {
          "Name": "audi 5000",
          "Origin": "Europe",
          "Year": "1978-01-01T00:00:00",
          "value": 5,
          "variable": "Cylinders"
         },
         {
          "Name": "volvo 264gl",
          "Origin": "Europe",
          "Year": "1978-01-01T00:00:00",
          "value": 6,
          "variable": "Cylinders"
         },
         {
          "Name": "saab 99gle",
          "Origin": "Europe",
          "Year": "1978-01-01T00:00:00",
          "value": 4,
          "variable": "Cylinders"
         },
         {
          "Name": "peugeot 604sl",
          "Origin": "Europe",
          "Year": "1978-01-01T00:00:00",
          "value": 6,
          "variable": "Cylinders"
         },
         {
          "Name": "volkswagen scirocco",
          "Origin": "Europe",
          "Year": "1978-01-01T00:00:00",
          "value": 4,
          "variable": "Cylinders"
         },
         {
          "Name": "honda Accelerationord lx",
          "Origin": "Japan",
          "Year": "1978-01-01T00:00:00",
          "value": 4,
          "variable": "Cylinders"
         },
         {
          "Name": "pontiac lemans v6",
          "Origin": "USA",
          "Year": "1979-01-01T00:00:00",
          "value": 6,
          "variable": "Cylinders"
         },
         {
          "Name": "mercury zephyr 6",
          "Origin": "USA",
          "Year": "1979-01-01T00:00:00",
          "value": 6,
          "variable": "Cylinders"
         },
         {
          "Name": "ford fairmont 4",
          "Origin": "USA",
          "Year": "1979-01-01T00:00:00",
          "value": 4,
          "variable": "Cylinders"
         },
         {
          "Name": "amc concord dl 6",
          "Origin": "USA",
          "Year": "1979-01-01T00:00:00",
          "value": 6,
          "variable": "Cylinders"
         },
         {
          "Name": "dodge aspen 6",
          "Origin": "USA",
          "Year": "1979-01-01T00:00:00",
          "value": 6,
          "variable": "Cylinders"
         },
         {
          "Name": "chevrolet caprice classic",
          "Origin": "USA",
          "Year": "1979-01-01T00:00:00",
          "value": 8,
          "variable": "Cylinders"
         },
         {
          "Name": "ford ltd landau",
          "Origin": "USA",
          "Year": "1979-01-01T00:00:00",
          "value": 8,
          "variable": "Cylinders"
         },
         {
          "Name": "mercury grand marquis",
          "Origin": "USA",
          "Year": "1979-01-01T00:00:00",
          "value": 8,
          "variable": "Cylinders"
         },
         {
          "Name": "dodge st. regis",
          "Origin": "USA",
          "Year": "1979-01-01T00:00:00",
          "value": 8,
          "variable": "Cylinders"
         },
         {
          "Name": "buick estate wagon (sw)",
          "Origin": "USA",
          "Year": "1979-01-01T00:00:00",
          "value": 8,
          "variable": "Cylinders"
         },
         {
          "Name": "ford country squire (sw)",
          "Origin": "USA",
          "Year": "1979-01-01T00:00:00",
          "value": 8,
          "variable": "Cylinders"
         },
         {
          "Name": "chevrolet malibu classic (sw)",
          "Origin": "USA",
          "Year": "1979-01-01T00:00:00",
          "value": 8,
          "variable": "Cylinders"
         },
         {
          "Name": "chrysler lebaron town @ country (sw)",
          "Origin": "USA",
          "Year": "1979-01-01T00:00:00",
          "value": 8,
          "variable": "Cylinders"
         },
         {
          "Name": "vw rabbit custom",
          "Origin": "Europe",
          "Year": "1979-01-01T00:00:00",
          "value": 4,
          "variable": "Cylinders"
         },
         {
          "Name": "maxda glc deluxe",
          "Origin": "Japan",
          "Year": "1979-01-01T00:00:00",
          "value": 4,
          "variable": "Cylinders"
         },
         {
          "Name": "dodge colt hatchback custom",
          "Origin": "USA",
          "Year": "1979-01-01T00:00:00",
          "value": 4,
          "variable": "Cylinders"
         },
         {
          "Name": "amc spirit dl",
          "Origin": "USA",
          "Year": "1979-01-01T00:00:00",
          "value": 4,
          "variable": "Cylinders"
         },
         {
          "Name": "mercedes benz 300d",
          "Origin": "Europe",
          "Year": "1979-01-01T00:00:00",
          "value": 5,
          "variable": "Cylinders"
         },
         {
          "Name": "cadillac eldorado",
          "Origin": "USA",
          "Year": "1979-01-01T00:00:00",
          "value": 8,
          "variable": "Cylinders"
         },
         {
          "Name": "peugeot 504",
          "Origin": "Europe",
          "Year": "1979-01-01T00:00:00",
          "value": 4,
          "variable": "Cylinders"
         },
         {
          "Name": "oldsmobile cutlass salon brougham",
          "Origin": "USA",
          "Year": "1979-01-01T00:00:00",
          "value": 8,
          "variable": "Cylinders"
         },
         {
          "Name": "plymouth horizon",
          "Origin": "USA",
          "Year": "1979-01-01T00:00:00",
          "value": 4,
          "variable": "Cylinders"
         },
         {
          "Name": "plymouth horizon tc3",
          "Origin": "USA",
          "Year": "1979-01-01T00:00:00",
          "value": 4,
          "variable": "Cylinders"
         },
         {
          "Name": "datsun 210",
          "Origin": "Japan",
          "Year": "1979-01-01T00:00:00",
          "value": 4,
          "variable": "Cylinders"
         },
         {
          "Name": "fiat strada custom",
          "Origin": "Europe",
          "Year": "1979-01-01T00:00:00",
          "value": 4,
          "variable": "Cylinders"
         },
         {
          "Name": "buick skylark limited",
          "Origin": "USA",
          "Year": "1979-01-01T00:00:00",
          "value": 4,
          "variable": "Cylinders"
         },
         {
          "Name": "chevrolet citation",
          "Origin": "USA",
          "Year": "1979-01-01T00:00:00",
          "value": 6,
          "variable": "Cylinders"
         },
         {
          "Name": "oldsmobile omega brougham",
          "Origin": "USA",
          "Year": "1979-01-01T00:00:00",
          "value": 6,
          "variable": "Cylinders"
         },
         {
          "Name": "pontiac phoenix",
          "Origin": "USA",
          "Year": "1979-01-01T00:00:00",
          "value": 4,
          "variable": "Cylinders"
         },
         {
          "Name": "vw rabbit",
          "Origin": "Europe",
          "Year": "1980-01-01T00:00:00",
          "value": 4,
          "variable": "Cylinders"
         },
         {
          "Name": "toyota corolla tercel",
          "Origin": "Japan",
          "Year": "1980-01-01T00:00:00",
          "value": 4,
          "variable": "Cylinders"
         },
         {
          "Name": "chevrolet chevette",
          "Origin": "USA",
          "Year": "1980-01-01T00:00:00",
          "value": 4,
          "variable": "Cylinders"
         },
         {
          "Name": "datsun 310",
          "Origin": "Japan",
          "Year": "1980-01-01T00:00:00",
          "value": 4,
          "variable": "Cylinders"
         },
         {
          "Name": "chevrolet citation",
          "Origin": "USA",
          "Year": "1980-01-01T00:00:00",
          "value": 4,
          "variable": "Cylinders"
         },
         {
          "Name": "ford fairmont",
          "Origin": "USA",
          "Year": "1980-01-01T00:00:00",
          "value": 4,
          "variable": "Cylinders"
         },
         {
          "Name": "amc concord",
          "Origin": "USA",
          "Year": "1980-01-01T00:00:00",
          "value": 4,
          "variable": "Cylinders"
         },
         {
          "Name": "dodge aspen",
          "Origin": "USA",
          "Year": "1980-01-01T00:00:00",
          "value": 6,
          "variable": "Cylinders"
         },
         {
          "Name": "audi 4000",
          "Origin": "Europe",
          "Year": "1980-01-01T00:00:00",
          "value": 4,
          "variable": "Cylinders"
         },
         {
          "Name": "toyota corona liftback",
          "Origin": "Japan",
          "Year": "1980-01-01T00:00:00",
          "value": 4,
          "variable": "Cylinders"
         },
         {
          "Name": "mazda 626",
          "Origin": "Japan",
          "Year": "1980-01-01T00:00:00",
          "value": 4,
          "variable": "Cylinders"
         },
         {
          "Name": "datsun 510 hatchback",
          "Origin": "Japan",
          "Year": "1980-01-01T00:00:00",
          "value": 4,
          "variable": "Cylinders"
         },
         {
          "Name": "toyota corolla",
          "Origin": "Japan",
          "Year": "1980-01-01T00:00:00",
          "value": 4,
          "variable": "Cylinders"
         },
         {
          "Name": "mazda glc",
          "Origin": "Japan",
          "Year": "1980-01-01T00:00:00",
          "value": 4,
          "variable": "Cylinders"
         },
         {
          "Name": "dodge colt",
          "Origin": "USA",
          "Year": "1980-01-01T00:00:00",
          "value": 4,
          "variable": "Cylinders"
         },
         {
          "Name": "datsun 210",
          "Origin": "Japan",
          "Year": "1980-01-01T00:00:00",
          "value": 4,
          "variable": "Cylinders"
         },
         {
          "Name": "vw rabbit c (diesel)",
          "Origin": "Europe",
          "Year": "1980-01-01T00:00:00",
          "value": 4,
          "variable": "Cylinders"
         },
         {
          "Name": "vw dasher (diesel)",
          "Origin": "Europe",
          "Year": "1980-01-01T00:00:00",
          "value": 4,
          "variable": "Cylinders"
         },
         {
          "Name": "audi 5000s (diesel)",
          "Origin": "Europe",
          "Year": "1980-01-01T00:00:00",
          "value": 5,
          "variable": "Cylinders"
         },
         {
          "Name": "mercedes-benz 240d",
          "Origin": "Europe",
          "Year": "1980-01-01T00:00:00",
          "value": 4,
          "variable": "Cylinders"
         },
         {
          "Name": "honda civic 1500 gl",
          "Origin": "Japan",
          "Year": "1980-01-01T00:00:00",
          "value": 4,
          "variable": "Cylinders"
         },
         {
          "Name": "renault lecar deluxe",
          "Origin": "Europe",
          "Year": "1980-01-01T00:00:00",
          "value": 4,
          "variable": "Cylinders"
         },
         {
          "Name": "subaru dl",
          "Origin": "Japan",
          "Year": "1980-01-01T00:00:00",
          "value": 4,
          "variable": "Cylinders"
         },
         {
          "Name": "vokswagen rabbit",
          "Origin": "Europe",
          "Year": "1980-01-01T00:00:00",
          "value": 4,
          "variable": "Cylinders"
         },
         {
          "Name": "datsun 280-zx",
          "Origin": "Japan",
          "Year": "1980-01-01T00:00:00",
          "value": 6,
          "variable": "Cylinders"
         },
         {
          "Name": "mazda rx-7 gs",
          "Origin": "Japan",
          "Year": "1980-01-01T00:00:00",
          "value": 3,
          "variable": "Cylinders"
         },
         {
          "Name": "triumph tr7 coupe",
          "Origin": "Europe",
          "Year": "1980-01-01T00:00:00",
          "value": 4,
          "variable": "Cylinders"
         },
         {
          "Name": "ford mustang cobra",
          "Origin": "USA",
          "Year": "1980-01-01T00:00:00",
          "value": 4,
          "variable": "Cylinders"
         },
         {
          "Name": "honda Accelerationord",
          "Origin": "Japan",
          "Year": "1980-01-01T00:00:00",
          "value": 4,
          "variable": "Cylinders"
         },
         {
          "Name": "plymouth reliant",
          "Origin": "USA",
          "Year": "1982-01-01T00:00:00",
          "value": 4,
          "variable": "Cylinders"
         },
         {
          "Name": "buick skylark",
          "Origin": "USA",
          "Year": "1982-01-01T00:00:00",
          "value": 4,
          "variable": "Cylinders"
         },
         {
          "Name": "dodge aries wagon (sw)",
          "Origin": "USA",
          "Year": "1982-01-01T00:00:00",
          "value": 4,
          "variable": "Cylinders"
         },
         {
          "Name": "chevrolet citation",
          "Origin": "USA",
          "Year": "1982-01-01T00:00:00",
          "value": 6,
          "variable": "Cylinders"
         },
         {
          "Name": "plymouth reliant",
          "Origin": "USA",
          "Year": "1982-01-01T00:00:00",
          "value": 4,
          "variable": "Cylinders"
         },
         {
          "Name": "toyota starlet",
          "Origin": "Japan",
          "Year": "1982-01-01T00:00:00",
          "value": 4,
          "variable": "Cylinders"
         },
         {
          "Name": "plymouth champ",
          "Origin": "USA",
          "Year": "1982-01-01T00:00:00",
          "value": 4,
          "variable": "Cylinders"
         },
         {
          "Name": "honda civic 1300",
          "Origin": "Japan",
          "Year": "1982-01-01T00:00:00",
          "value": 4,
          "variable": "Cylinders"
         },
         {
          "Name": "subaru",
          "Origin": "Japan",
          "Year": "1982-01-01T00:00:00",
          "value": 4,
          "variable": "Cylinders"
         },
         {
          "Name": "datsun 210",
          "Origin": "Japan",
          "Year": "1982-01-01T00:00:00",
          "value": 4,
          "variable": "Cylinders"
         },
         {
          "Name": "toyota tercel",
          "Origin": "Japan",
          "Year": "1982-01-01T00:00:00",
          "value": 4,
          "variable": "Cylinders"
         },
         {
          "Name": "mazda glc 4",
          "Origin": "Japan",
          "Year": "1982-01-01T00:00:00",
          "value": 4,
          "variable": "Cylinders"
         },
         {
          "Name": "plymouth horizon 4",
          "Origin": "USA",
          "Year": "1982-01-01T00:00:00",
          "value": 4,
          "variable": "Cylinders"
         },
         {
          "Name": "ford escort 4w",
          "Origin": "USA",
          "Year": "1982-01-01T00:00:00",
          "value": 4,
          "variable": "Cylinders"
         },
         {
          "Name": "ford escort 2h",
          "Origin": "USA",
          "Year": "1982-01-01T00:00:00",
          "value": 4,
          "variable": "Cylinders"
         },
         {
          "Name": "volkswagen jetta",
          "Origin": "Europe",
          "Year": "1982-01-01T00:00:00",
          "value": 4,
          "variable": "Cylinders"
         },
         {
          "Name": "renault 18i",
          "Origin": "Europe",
          "Year": "1982-01-01T00:00:00",
          "value": 4,
          "variable": "Cylinders"
         },
         {
          "Name": "honda prelude",
          "Origin": "Japan",
          "Year": "1982-01-01T00:00:00",
          "value": 4,
          "variable": "Cylinders"
         },
         {
          "Name": "toyota corolla",
          "Origin": "Japan",
          "Year": "1982-01-01T00:00:00",
          "value": 4,
          "variable": "Cylinders"
         },
         {
          "Name": "datsun 200sx",
          "Origin": "Japan",
          "Year": "1982-01-01T00:00:00",
          "value": 4,
          "variable": "Cylinders"
         },
         {
          "Name": "mazda 626",
          "Origin": "Japan",
          "Year": "1982-01-01T00:00:00",
          "value": 4,
          "variable": "Cylinders"
         },
         {
          "Name": "peugeot 505s turbo diesel",
          "Origin": "Europe",
          "Year": "1982-01-01T00:00:00",
          "value": 4,
          "variable": "Cylinders"
         },
         {
          "Name": "saab 900s",
          "Origin": "Europe",
          "Year": "1982-01-01T00:00:00",
          "value": 4,
          "variable": "Cylinders"
         },
         {
          "Name": "volvo diesel",
          "Origin": "Europe",
          "Year": "1982-01-01T00:00:00",
          "value": 6,
          "variable": "Cylinders"
         },
         {
          "Name": "toyota cressida",
          "Origin": "Japan",
          "Year": "1982-01-01T00:00:00",
          "value": 6,
          "variable": "Cylinders"
         },
         {
          "Name": "datsun 810 maxima",
          "Origin": "Japan",
          "Year": "1982-01-01T00:00:00",
          "value": 6,
          "variable": "Cylinders"
         },
         {
          "Name": "buick century",
          "Origin": "USA",
          "Year": "1982-01-01T00:00:00",
          "value": 6,
          "variable": "Cylinders"
         },
         {
          "Name": "oldsmobile cutlass ls",
          "Origin": "USA",
          "Year": "1982-01-01T00:00:00",
          "value": 8,
          "variable": "Cylinders"
         },
         {
          "Name": "ford granada gl",
          "Origin": "USA",
          "Year": "1982-01-01T00:00:00",
          "value": 6,
          "variable": "Cylinders"
         },
         {
          "Name": "chrysler lebaron salon",
          "Origin": "USA",
          "Year": "1982-01-01T00:00:00",
          "value": 6,
          "variable": "Cylinders"
         },
         {
          "Name": "chevrolet cavalier",
          "Origin": "USA",
          "Year": "1982-01-01T00:00:00",
          "value": 4,
          "variable": "Cylinders"
         },
         {
          "Name": "chevrolet cavalier wagon",
          "Origin": "USA",
          "Year": "1982-01-01T00:00:00",
          "value": 4,
          "variable": "Cylinders"
         },
         {
          "Name": "chevrolet cavalier 2-door",
          "Origin": "USA",
          "Year": "1982-01-01T00:00:00",
          "value": 4,
          "variable": "Cylinders"
         },
         {
          "Name": "pontiac j2000 se hatchback",
          "Origin": "USA",
          "Year": "1982-01-01T00:00:00",
          "value": 4,
          "variable": "Cylinders"
         },
         {
          "Name": "dodge aries se",
          "Origin": "USA",
          "Year": "1982-01-01T00:00:00",
          "value": 4,
          "variable": "Cylinders"
         },
         {
          "Name": "pontiac phoenix",
          "Origin": "USA",
          "Year": "1982-01-01T00:00:00",
          "value": 4,
          "variable": "Cylinders"
         },
         {
          "Name": "ford fairmont futura",
          "Origin": "USA",
          "Year": "1982-01-01T00:00:00",
          "value": 4,
          "variable": "Cylinders"
         },
         {
          "Name": "amc concord dl",
          "Origin": "USA",
          "Year": "1982-01-01T00:00:00",
          "value": 4,
          "variable": "Cylinders"
         },
         {
          "Name": "volkswagen rabbit l",
          "Origin": "Europe",
          "Year": "1982-01-01T00:00:00",
          "value": 4,
          "variable": "Cylinders"
         },
         {
          "Name": "mazda glc custom l",
          "Origin": "Japan",
          "Year": "1982-01-01T00:00:00",
          "value": 4,
          "variable": "Cylinders"
         },
         {
          "Name": "mazda glc custom",
          "Origin": "Japan",
          "Year": "1982-01-01T00:00:00",
          "value": 4,
          "variable": "Cylinders"
         },
         {
          "Name": "plymouth horizon miser",
          "Origin": "USA",
          "Year": "1982-01-01T00:00:00",
          "value": 4,
          "variable": "Cylinders"
         },
         {
          "Name": "mercury lynx l",
          "Origin": "USA",
          "Year": "1982-01-01T00:00:00",
          "value": 4,
          "variable": "Cylinders"
         },
         {
          "Name": "nissan stanza xe",
          "Origin": "Japan",
          "Year": "1982-01-01T00:00:00",
          "value": 4,
          "variable": "Cylinders"
         },
         {
          "Name": "honda Accelerationord",
          "Origin": "Japan",
          "Year": "1982-01-01T00:00:00",
          "value": 4,
          "variable": "Cylinders"
         },
         {
          "Name": "toyota corolla",
          "Origin": "Japan",
          "Year": "1982-01-01T00:00:00",
          "value": 4,
          "variable": "Cylinders"
         },
         {
          "Name": "honda civic",
          "Origin": "Japan",
          "Year": "1982-01-01T00:00:00",
          "value": 4,
          "variable": "Cylinders"
         },
         {
          "Name": "honda civic (auto)",
          "Origin": "Japan",
          "Year": "1982-01-01T00:00:00",
          "value": 4,
          "variable": "Cylinders"
         },
         {
          "Name": "datsun 310 gx",
          "Origin": "Japan",
          "Year": "1982-01-01T00:00:00",
          "value": 4,
          "variable": "Cylinders"
         },
         {
          "Name": "buick century limited",
          "Origin": "USA",
          "Year": "1982-01-01T00:00:00",
          "value": 6,
          "variable": "Cylinders"
         },
         {
          "Name": "oldsmobile cutlass ciera (diesel)",
          "Origin": "USA",
          "Year": "1982-01-01T00:00:00",
          "value": 6,
          "variable": "Cylinders"
         },
         {
          "Name": "chrysler lebaron medallion",
          "Origin": "USA",
          "Year": "1982-01-01T00:00:00",
          "value": 4,
          "variable": "Cylinders"
         },
         {
          "Name": "ford granada l",
          "Origin": "USA",
          "Year": "1982-01-01T00:00:00",
          "value": 6,
          "variable": "Cylinders"
         },
         {
          "Name": "toyota celica gt",
          "Origin": "Japan",
          "Year": "1982-01-01T00:00:00",
          "value": 4,
          "variable": "Cylinders"
         },
         {
          "Name": "dodge charger 2.2",
          "Origin": "USA",
          "Year": "1982-01-01T00:00:00",
          "value": 4,
          "variable": "Cylinders"
         },
         {
          "Name": "chevrolet camaro",
          "Origin": "USA",
          "Year": "1982-01-01T00:00:00",
          "value": 4,
          "variable": "Cylinders"
         },
         {
          "Name": "ford mustang gl",
          "Origin": "USA",
          "Year": "1982-01-01T00:00:00",
          "value": 4,
          "variable": "Cylinders"
         },
         {
          "Name": "vw pickup",
          "Origin": "Europe",
          "Year": "1982-01-01T00:00:00",
          "value": 4,
          "variable": "Cylinders"
         },
         {
          "Name": "dodge rampage",
          "Origin": "USA",
          "Year": "1982-01-01T00:00:00",
          "value": 4,
          "variable": "Cylinders"
         },
         {
          "Name": "ford ranger",
          "Origin": "USA",
          "Year": "1982-01-01T00:00:00",
          "value": 4,
          "variable": "Cylinders"
         },
         {
          "Name": "chevy s-10",
          "Origin": "USA",
          "Year": "1982-01-01T00:00:00",
          "value": 4,
          "variable": "Cylinders"
         },
         {
          "Name": "chevrolet chevelle malibu",
          "Origin": "USA",
          "Year": "1970-01-01T00:00:00",
          "value": 307,
          "variable": "Displacement"
         },
         {
          "Name": "buick skylark 320",
          "Origin": "USA",
          "Year": "1970-01-01T00:00:00",
          "value": 350,
          "variable": "Displacement"
         },
         {
          "Name": "plymouth satellite",
          "Origin": "USA",
          "Year": "1970-01-01T00:00:00",
          "value": 318,
          "variable": "Displacement"
         },
         {
          "Name": "amc rebel sst",
          "Origin": "USA",
          "Year": "1970-01-01T00:00:00",
          "value": 304,
          "variable": "Displacement"
         },
         {
          "Name": "ford torino",
          "Origin": "USA",
          "Year": "1970-01-01T00:00:00",
          "value": 302,
          "variable": "Displacement"
         },
         {
          "Name": "ford galaxie 500",
          "Origin": "USA",
          "Year": "1970-01-01T00:00:00",
          "value": 429,
          "variable": "Displacement"
         },
         {
          "Name": "chevrolet impala",
          "Origin": "USA",
          "Year": "1970-01-01T00:00:00",
          "value": 454,
          "variable": "Displacement"
         },
         {
          "Name": "plymouth fury iii",
          "Origin": "USA",
          "Year": "1970-01-01T00:00:00",
          "value": 440,
          "variable": "Displacement"
         },
         {
          "Name": "pontiac catalina",
          "Origin": "USA",
          "Year": "1970-01-01T00:00:00",
          "value": 455,
          "variable": "Displacement"
         },
         {
          "Name": "amc ambassador dpl",
          "Origin": "USA",
          "Year": "1970-01-01T00:00:00",
          "value": 390,
          "variable": "Displacement"
         },
         {
          "Name": "citroen ds-21 pallas",
          "Origin": "Europe",
          "Year": "1970-01-01T00:00:00",
          "value": 133,
          "variable": "Displacement"
         },
         {
          "Name": "chevrolet chevelle concours (sw)",
          "Origin": "USA",
          "Year": "1970-01-01T00:00:00",
          "value": 350,
          "variable": "Displacement"
         },
         {
          "Name": "ford torino (sw)",
          "Origin": "USA",
          "Year": "1970-01-01T00:00:00",
          "value": 351,
          "variable": "Displacement"
         },
         {
          "Name": "plymouth satellite (sw)",
          "Origin": "USA",
          "Year": "1970-01-01T00:00:00",
          "value": 383,
          "variable": "Displacement"
         },
         {
          "Name": "amc rebel sst (sw)",
          "Origin": "USA",
          "Year": "1970-01-01T00:00:00",
          "value": 360,
          "variable": "Displacement"
         },
         {
          "Name": "dodge challenger se",
          "Origin": "USA",
          "Year": "1970-01-01T00:00:00",
          "value": 383,
          "variable": "Displacement"
         },
         {
          "Name": "plymouth 'cuda 340",
          "Origin": "USA",
          "Year": "1970-01-01T00:00:00",
          "value": 340,
          "variable": "Displacement"
         },
         {
          "Name": "ford mustang boss 302",
          "Origin": "USA",
          "Year": "1970-01-01T00:00:00",
          "value": 302,
          "variable": "Displacement"
         },
         {
          "Name": "chevrolet monte carlo",
          "Origin": "USA",
          "Year": "1970-01-01T00:00:00",
          "value": 400,
          "variable": "Displacement"
         },
         {
          "Name": "buick estate wagon (sw)",
          "Origin": "USA",
          "Year": "1970-01-01T00:00:00",
          "value": 455,
          "variable": "Displacement"
         },
         {
          "Name": "toyota corona mark ii",
          "Origin": "Japan",
          "Year": "1970-01-01T00:00:00",
          "value": 113,
          "variable": "Displacement"
         },
         {
          "Name": "plymouth duster",
          "Origin": "USA",
          "Year": "1970-01-01T00:00:00",
          "value": 198,
          "variable": "Displacement"
         },
         {
          "Name": "amc hornet",
          "Origin": "USA",
          "Year": "1970-01-01T00:00:00",
          "value": 199,
          "variable": "Displacement"
         },
         {
          "Name": "ford maverick",
          "Origin": "USA",
          "Year": "1970-01-01T00:00:00",
          "value": 200,
          "variable": "Displacement"
         },
         {
          "Name": "datsun pl510",
          "Origin": "Japan",
          "Year": "1970-01-01T00:00:00",
          "value": 97,
          "variable": "Displacement"
         },
         {
          "Name": "volkswagen 1131 deluxe sedan",
          "Origin": "Europe",
          "Year": "1970-01-01T00:00:00",
          "value": 97,
          "variable": "Displacement"
         },
         {
          "Name": "peugeot 504",
          "Origin": "Europe",
          "Year": "1970-01-01T00:00:00",
          "value": 110,
          "variable": "Displacement"
         },
         {
          "Name": "audi 100 ls",
          "Origin": "Europe",
          "Year": "1970-01-01T00:00:00",
          "value": 107,
          "variable": "Displacement"
         },
         {
          "Name": "saab 99e",
          "Origin": "Europe",
          "Year": "1970-01-01T00:00:00",
          "value": 104,
          "variable": "Displacement"
         },
         {
          "Name": "bmw 2002",
          "Origin": "Europe",
          "Year": "1970-01-01T00:00:00",
          "value": 121,
          "variable": "Displacement"
         },
         {
          "Name": "amc gremlin",
          "Origin": "USA",
          "Year": "1970-01-01T00:00:00",
          "value": 199,
          "variable": "Displacement"
         },
         {
          "Name": "ford f250",
          "Origin": "USA",
          "Year": "1970-01-01T00:00:00",
          "value": 360,
          "variable": "Displacement"
         },
         {
          "Name": "chevy c20",
          "Origin": "USA",
          "Year": "1970-01-01T00:00:00",
          "value": 307,
          "variable": "Displacement"
         },
         {
          "Name": "dodge d200",
          "Origin": "USA",
          "Year": "1970-01-01T00:00:00",
          "value": 318,
          "variable": "Displacement"
         },
         {
          "Name": "hi 1200d",
          "Origin": "USA",
          "Year": "1970-01-01T00:00:00",
          "value": 304,
          "variable": "Displacement"
         },
         {
          "Name": "datsun pl510",
          "Origin": "Japan",
          "Year": "1971-01-01T00:00:00",
          "value": 97,
          "variable": "Displacement"
         },
         {
          "Name": "chevrolet vega 2300",
          "Origin": "USA",
          "Year": "1971-01-01T00:00:00",
          "value": 140,
          "variable": "Displacement"
         },
         {
          "Name": "toyota corona",
          "Origin": "Japan",
          "Year": "1971-01-01T00:00:00",
          "value": 113,
          "variable": "Displacement"
         },
         {
          "Name": "ford pinto",
          "Origin": "USA",
          "Year": "1971-01-01T00:00:00",
          "value": 98,
          "variable": "Displacement"
         },
         {
          "Name": "volkswagen super beetle 117",
          "Origin": "Europe",
          "Year": "1971-01-01T00:00:00",
          "value": 97,
          "variable": "Displacement"
         },
         {
          "Name": "amc gremlin",
          "Origin": "USA",
          "Year": "1971-01-01T00:00:00",
          "value": 232,
          "variable": "Displacement"
         },
         {
          "Name": "plymouth satellite custom",
          "Origin": "USA",
          "Year": "1971-01-01T00:00:00",
          "value": 225,
          "variable": "Displacement"
         },
         {
          "Name": "chevrolet chevelle malibu",
          "Origin": "USA",
          "Year": "1971-01-01T00:00:00",
          "value": 250,
          "variable": "Displacement"
         },
         {
          "Name": "ford torino 500",
          "Origin": "USA",
          "Year": "1971-01-01T00:00:00",
          "value": 250,
          "variable": "Displacement"
         },
         {
          "Name": "amc matador",
          "Origin": "USA",
          "Year": "1971-01-01T00:00:00",
          "value": 232,
          "variable": "Displacement"
         },
         {
          "Name": "chevrolet impala",
          "Origin": "USA",
          "Year": "1971-01-01T00:00:00",
          "value": 350,
          "variable": "Displacement"
         },
         {
          "Name": "pontiac catalina brougham",
          "Origin": "USA",
          "Year": "1971-01-01T00:00:00",
          "value": 400,
          "variable": "Displacement"
         },
         {
          "Name": "ford galaxie 500",
          "Origin": "USA",
          "Year": "1971-01-01T00:00:00",
          "value": 351,
          "variable": "Displacement"
         },
         {
          "Name": "plymouth fury iii",
          "Origin": "USA",
          "Year": "1971-01-01T00:00:00",
          "value": 318,
          "variable": "Displacement"
         },
         {
          "Name": "dodge monaco (sw)",
          "Origin": "USA",
          "Year": "1971-01-01T00:00:00",
          "value": 383,
          "variable": "Displacement"
         },
         {
          "Name": "ford country squire (sw)",
          "Origin": "USA",
          "Year": "1971-01-01T00:00:00",
          "value": 400,
          "variable": "Displacement"
         },
         {
          "Name": "pontiac safari (sw)",
          "Origin": "USA",
          "Year": "1971-01-01T00:00:00",
          "value": 400,
          "variable": "Displacement"
         },
         {
          "Name": "amc hornet sportabout (sw)",
          "Origin": "USA",
          "Year": "1971-01-01T00:00:00",
          "value": 258,
          "variable": "Displacement"
         },
         {
          "Name": "chevrolet vega (sw)",
          "Origin": "USA",
          "Year": "1971-01-01T00:00:00",
          "value": 140,
          "variable": "Displacement"
         },
         {
          "Name": "pontiac firebird",
          "Origin": "USA",
          "Year": "1971-01-01T00:00:00",
          "value": 250,
          "variable": "Displacement"
         },
         {
          "Name": "ford mustang",
          "Origin": "USA",
          "Year": "1971-01-01T00:00:00",
          "value": 250,
          "variable": "Displacement"
         },
         {
          "Name": "mercury capri 2000",
          "Origin": "USA",
          "Year": "1971-01-01T00:00:00",
          "value": 122,
          "variable": "Displacement"
         },
         {
          "Name": "opel 1900",
          "Origin": "Europe",
          "Year": "1971-01-01T00:00:00",
          "value": 116,
          "variable": "Displacement"
         },
         {
          "Name": "peugeot 304",
          "Origin": "Europe",
          "Year": "1971-01-01T00:00:00",
          "value": 79,
          "variable": "Displacement"
         },
         {
          "Name": "fiat 124b",
          "Origin": "Europe",
          "Year": "1971-01-01T00:00:00",
          "value": 88,
          "variable": "Displacement"
         },
         {
          "Name": "toyota corolla 1200",
          "Origin": "Japan",
          "Year": "1971-01-01T00:00:00",
          "value": 71,
          "variable": "Displacement"
         },
         {
          "Name": "datsun 1200",
          "Origin": "Japan",
          "Year": "1971-01-01T00:00:00",
          "value": 72,
          "variable": "Displacement"
         },
         {
          "Name": "volkswagen model 111",
          "Origin": "Europe",
          "Year": "1971-01-01T00:00:00",
          "value": 97,
          "variable": "Displacement"
         },
         {
          "Name": "plymouth cricket",
          "Origin": "USA",
          "Year": "1971-01-01T00:00:00",
          "value": 91,
          "variable": "Displacement"
         },
         {
          "Name": "toyota corona hardtop",
          "Origin": "Japan",
          "Year": "1972-01-01T00:00:00",
          "value": 113,
          "variable": "Displacement"
         },
         {
          "Name": "dodge colt hardtop",
          "Origin": "USA",
          "Year": "1972-01-01T00:00:00",
          "value": 97.5,
          "variable": "Displacement"
         },
         {
          "Name": "volkswagen type 3",
          "Origin": "Europe",
          "Year": "1972-01-01T00:00:00",
          "value": 97,
          "variable": "Displacement"
         },
         {
          "Name": "chevrolet vega",
          "Origin": "USA",
          "Year": "1972-01-01T00:00:00",
          "value": 140,
          "variable": "Displacement"
         },
         {
          "Name": "ford pinto runabout",
          "Origin": "USA",
          "Year": "1972-01-01T00:00:00",
          "value": 122,
          "variable": "Displacement"
         },
         {
          "Name": "chevrolet impala",
          "Origin": "USA",
          "Year": "1972-01-01T00:00:00",
          "value": 350,
          "variable": "Displacement"
         },
         {
          "Name": "pontiac catalina",
          "Origin": "USA",
          "Year": "1972-01-01T00:00:00",
          "value": 400,
          "variable": "Displacement"
         },
         {
          "Name": "plymouth fury iii",
          "Origin": "USA",
          "Year": "1972-01-01T00:00:00",
          "value": 318,
          "variable": "Displacement"
         },
         {
          "Name": "ford galaxie 500",
          "Origin": "USA",
          "Year": "1972-01-01T00:00:00",
          "value": 351,
          "variable": "Displacement"
         },
         {
          "Name": "amc ambassador sst",
          "Origin": "USA",
          "Year": "1972-01-01T00:00:00",
          "value": 304,
          "variable": "Displacement"
         },
         {
          "Name": "mercury marquis",
          "Origin": "USA",
          "Year": "1972-01-01T00:00:00",
          "value": 429,
          "variable": "Displacement"
         },
         {
          "Name": "buick lesabre custom",
          "Origin": "USA",
          "Year": "1972-01-01T00:00:00",
          "value": 350,
          "variable": "Displacement"
         },
         {
          "Name": "oldsmobile delta 88 royale",
          "Origin": "USA",
          "Year": "1972-01-01T00:00:00",
          "value": 350,
          "variable": "Displacement"
         },
         {
          "Name": "chrysler newport royal",
          "Origin": "USA",
          "Year": "1972-01-01T00:00:00",
          "value": 400,
          "variable": "Displacement"
         },
         {
          "Name": "mazda rx2 coupe",
          "Origin": "Japan",
          "Year": "1972-01-01T00:00:00",
          "value": 70,
          "variable": "Displacement"
         },
         {
          "Name": "amc matador (sw)",
          "Origin": "USA",
          "Year": "1972-01-01T00:00:00",
          "value": 304,
          "variable": "Displacement"
         },
         {
          "Name": "chevrolet chevelle concours (sw)",
          "Origin": "USA",
          "Year": "1972-01-01T00:00:00",
          "value": 307,
          "variable": "Displacement"
         },
         {
          "Name": "ford gran torino (sw)",
          "Origin": "USA",
          "Year": "1972-01-01T00:00:00",
          "value": 302,
          "variable": "Displacement"
         },
         {
          "Name": "plymouth satellite custom (sw)",
          "Origin": "USA",
          "Year": "1972-01-01T00:00:00",
          "value": 318,
          "variable": "Displacement"
         },
         {
          "Name": "volvo 145e (sw)",
          "Origin": "Europe",
          "Year": "1972-01-01T00:00:00",
          "value": 121,
          "variable": "Displacement"
         },
         {
          "Name": "volkswagen 411 (sw)",
          "Origin": "Europe",
          "Year": "1972-01-01T00:00:00",
          "value": 121,
          "variable": "Displacement"
         },
         {
          "Name": "peugeot 504 (sw)",
          "Origin": "Europe",
          "Year": "1972-01-01T00:00:00",
          "value": 120,
          "variable": "Displacement"
         },
         {
          "Name": "renault 12 (sw)",
          "Origin": "Europe",
          "Year": "1972-01-01T00:00:00",
          "value": 96,
          "variable": "Displacement"
         },
         {
          "Name": "ford pinto (sw)",
          "Origin": "USA",
          "Year": "1972-01-01T00:00:00",
          "value": 122,
          "variable": "Displacement"
         },
         {
          "Name": "datsun 510 (sw)",
          "Origin": "Japan",
          "Year": "1972-01-01T00:00:00",
          "value": 97,
          "variable": "Displacement"
         },
         {
          "Name": "toyouta corona mark ii (sw)",
          "Origin": "Japan",
          "Year": "1972-01-01T00:00:00",
          "value": 120,
          "variable": "Displacement"
         },
         {
          "Name": "dodge colt (sw)",
          "Origin": "USA",
          "Year": "1972-01-01T00:00:00",
          "value": 98,
          "variable": "Displacement"
         },
         {
          "Name": "toyota corolla 1600 (sw)",
          "Origin": "Japan",
          "Year": "1972-01-01T00:00:00",
          "value": 97,
          "variable": "Displacement"
         },
         {
          "Name": "buick century 350",
          "Origin": "USA",
          "Year": "1973-01-01T00:00:00",
          "value": 350,
          "variable": "Displacement"
         },
         {
          "Name": "amc matador",
          "Origin": "USA",
          "Year": "1973-01-01T00:00:00",
          "value": 304,
          "variable": "Displacement"
         },
         {
          "Name": "chevrolet malibu",
          "Origin": "USA",
          "Year": "1973-01-01T00:00:00",
          "value": 350,
          "variable": "Displacement"
         },
         {
          "Name": "ford gran torino",
          "Origin": "USA",
          "Year": "1973-01-01T00:00:00",
          "value": 302,
          "variable": "Displacement"
         },
         {
          "Name": "dodge coronet custom",
          "Origin": "USA",
          "Year": "1973-01-01T00:00:00",
          "value": 318,
          "variable": "Displacement"
         },
         {
          "Name": "mercury marquis brougham",
          "Origin": "USA",
          "Year": "1973-01-01T00:00:00",
          "value": 429,
          "variable": "Displacement"
         },
         {
          "Name": "chevrolet caprice classic",
          "Origin": "USA",
          "Year": "1973-01-01T00:00:00",
          "value": 400,
          "variable": "Displacement"
         },
         {
          "Name": "ford ltd",
          "Origin": "USA",
          "Year": "1973-01-01T00:00:00",
          "value": 351,
          "variable": "Displacement"
         },
         {
          "Name": "plymouth fury gran sedan",
          "Origin": "USA",
          "Year": "1973-01-01T00:00:00",
          "value": 318,
          "variable": "Displacement"
         },
         {
          "Name": "chrysler new yorker brougham",
          "Origin": "USA",
          "Year": "1973-01-01T00:00:00",
          "value": 440,
          "variable": "Displacement"
         },
         {
          "Name": "buick electra 225 custom",
          "Origin": "USA",
          "Year": "1973-01-01T00:00:00",
          "value": 455,
          "variable": "Displacement"
         },
         {
          "Name": "amc ambassador brougham",
          "Origin": "USA",
          "Year": "1973-01-01T00:00:00",
          "value": 360,
          "variable": "Displacement"
         },
         {
          "Name": "plymouth valiant",
          "Origin": "USA",
          "Year": "1973-01-01T00:00:00",
          "value": 225,
          "variable": "Displacement"
         },
         {
          "Name": "chevrolet nova custom",
          "Origin": "USA",
          "Year": "1973-01-01T00:00:00",
          "value": 250,
          "variable": "Displacement"
         },
         {
          "Name": "amc hornet",
          "Origin": "USA",
          "Year": "1973-01-01T00:00:00",
          "value": 232,
          "variable": "Displacement"
         },
         {
          "Name": "ford maverick",
          "Origin": "USA",
          "Year": "1973-01-01T00:00:00",
          "value": 250,
          "variable": "Displacement"
         },
         {
          "Name": "plymouth duster",
          "Origin": "USA",
          "Year": "1973-01-01T00:00:00",
          "value": 198,
          "variable": "Displacement"
         },
         {
          "Name": "volkswagen super beetle",
          "Origin": "Europe",
          "Year": "1973-01-01T00:00:00",
          "value": 97,
          "variable": "Displacement"
         },
         {
          "Name": "chevrolet impala",
          "Origin": "USA",
          "Year": "1973-01-01T00:00:00",
          "value": 400,
          "variable": "Displacement"
         },
         {
          "Name": "ford country",
          "Origin": "USA",
          "Year": "1973-01-01T00:00:00",
          "value": 400,
          "variable": "Displacement"
         },
         {
          "Name": "plymouth custom suburb",
          "Origin": "USA",
          "Year": "1973-01-01T00:00:00",
          "value": 360,
          "variable": "Displacement"
         },
         {
          "Name": "oldsmobile vista cruiser",
          "Origin": "USA",
          "Year": "1973-01-01T00:00:00",
          "value": 350,
          "variable": "Displacement"
         },
         {
          "Name": "amc gremlin",
          "Origin": "USA",
          "Year": "1973-01-01T00:00:00",
          "value": 232,
          "variable": "Displacement"
         },
         {
          "Name": "toyota carina",
          "Origin": "Japan",
          "Year": "1973-01-01T00:00:00",
          "value": 97,
          "variable": "Displacement"
         },
         {
          "Name": "chevrolet vega",
          "Origin": "USA",
          "Year": "1973-01-01T00:00:00",
          "value": 140,
          "variable": "Displacement"
         },
         {
          "Name": "datsun 610",
          "Origin": "Japan",
          "Year": "1973-01-01T00:00:00",
          "value": 108,
          "variable": "Displacement"
         },
         {
          "Name": "maxda rx3",
          "Origin": "Japan",
          "Year": "1973-01-01T00:00:00",
          "value": 70,
          "variable": "Displacement"
         },
         {
          "Name": "ford pinto",
          "Origin": "USA",
          "Year": "1973-01-01T00:00:00",
          "value": 122,
          "variable": "Displacement"
         },
         {
          "Name": "mercury capri v6",
          "Origin": "USA",
          "Year": "1973-01-01T00:00:00",
          "value": 155,
          "variable": "Displacement"
         },
         {
          "Name": "fiat 124 sport coupe",
          "Origin": "Europe",
          "Year": "1973-01-01T00:00:00",
          "value": 98,
          "variable": "Displacement"
         },
         {
          "Name": "chevrolet monte carlo s",
          "Origin": "USA",
          "Year": "1973-01-01T00:00:00",
          "value": 350,
          "variable": "Displacement"
         },
         {
          "Name": "pontiac grand prix",
          "Origin": "USA",
          "Year": "1973-01-01T00:00:00",
          "value": 400,
          "variable": "Displacement"
         },
         {
          "Name": "fiat 128",
          "Origin": "Europe",
          "Year": "1973-01-01T00:00:00",
          "value": 68,
          "variable": "Displacement"
         },
         {
          "Name": "opel manta",
          "Origin": "Europe",
          "Year": "1973-01-01T00:00:00",
          "value": 116,
          "variable": "Displacement"
         },
         {
          "Name": "audi 100ls",
          "Origin": "Europe",
          "Year": "1973-01-01T00:00:00",
          "value": 114,
          "variable": "Displacement"
         },
         {
          "Name": "volvo 144ea",
          "Origin": "Europe",
          "Year": "1973-01-01T00:00:00",
          "value": 121,
          "variable": "Displacement"
         },
         {
          "Name": "dodge dart custom",
          "Origin": "USA",
          "Year": "1973-01-01T00:00:00",
          "value": 318,
          "variable": "Displacement"
         },
         {
          "Name": "saab 99le",
          "Origin": "Europe",
          "Year": "1973-01-01T00:00:00",
          "value": 121,
          "variable": "Displacement"
         },
         {
          "Name": "toyota mark ii",
          "Origin": "Japan",
          "Year": "1973-01-01T00:00:00",
          "value": 156,
          "variable": "Displacement"
         },
         {
          "Name": "oldsmobile omega",
          "Origin": "USA",
          "Year": "1973-01-01T00:00:00",
          "value": 350,
          "variable": "Displacement"
         },
         {
          "Name": "plymouth duster",
          "Origin": "USA",
          "Year": "1974-01-01T00:00:00",
          "value": 198,
          "variable": "Displacement"
         },
         {
          "Name": "ford maverick",
          "Origin": "USA",
          "Year": "1974-01-01T00:00:00",
          "value": 200,
          "variable": "Displacement"
         },
         {
          "Name": "amc hornet",
          "Origin": "USA",
          "Year": "1974-01-01T00:00:00",
          "value": 232,
          "variable": "Displacement"
         },
         {
          "Name": "chevrolet nova",
          "Origin": "USA",
          "Year": "1974-01-01T00:00:00",
          "value": 250,
          "variable": "Displacement"
         },
         {
          "Name": "datsun b210",
          "Origin": "Japan",
          "Year": "1974-01-01T00:00:00",
          "value": 79,
          "variable": "Displacement"
         },
         {
          "Name": "ford pinto",
          "Origin": "USA",
          "Year": "1974-01-01T00:00:00",
          "value": 122,
          "variable": "Displacement"
         },
         {
          "Name": "toyota corolla 1200",
          "Origin": "Japan",
          "Year": "1974-01-01T00:00:00",
          "value": 71,
          "variable": "Displacement"
         },
         {
          "Name": "chevrolet vega",
          "Origin": "USA",
          "Year": "1974-01-01T00:00:00",
          "value": 140,
          "variable": "Displacement"
         },
         {
          "Name": "chevrolet chevelle malibu classic",
          "Origin": "USA",
          "Year": "1974-01-01T00:00:00",
          "value": 250,
          "variable": "Displacement"
         },
         {
          "Name": "amc matador",
          "Origin": "USA",
          "Year": "1974-01-01T00:00:00",
          "value": 258,
          "variable": "Displacement"
         },
         {
          "Name": "plymouth satellite sebring",
          "Origin": "USA",
          "Year": "1974-01-01T00:00:00",
          "value": 225,
          "variable": "Displacement"
         },
         {
          "Name": "ford gran torino",
          "Origin": "USA",
          "Year": "1974-01-01T00:00:00",
          "value": 302,
          "variable": "Displacement"
         },
         {
          "Name": "buick century luxus (sw)",
          "Origin": "USA",
          "Year": "1974-01-01T00:00:00",
          "value": 350,
          "variable": "Displacement"
         },
         {
          "Name": "dodge coronet custom (sw)",
          "Origin": "USA",
          "Year": "1974-01-01T00:00:00",
          "value": 318,
          "variable": "Displacement"
         },
         {
          "Name": "ford gran torino (sw)",
          "Origin": "USA",
          "Year": "1974-01-01T00:00:00",
          "value": 302,
          "variable": "Displacement"
         },
         {
          "Name": "amc matador (sw)",
          "Origin": "USA",
          "Year": "1974-01-01T00:00:00",
          "value": 304,
          "variable": "Displacement"
         },
         {
          "Name": "audi fox",
          "Origin": "Europe",
          "Year": "1974-01-01T00:00:00",
          "value": 98,
          "variable": "Displacement"
         },
         {
          "Name": "volkswagen dasher",
          "Origin": "Europe",
          "Year": "1974-01-01T00:00:00",
          "value": 79,
          "variable": "Displacement"
         },
         {
          "Name": "opel manta",
          "Origin": "Europe",
          "Year": "1974-01-01T00:00:00",
          "value": 97,
          "variable": "Displacement"
         },
         {
          "Name": "toyota corona",
          "Origin": "Japan",
          "Year": "1974-01-01T00:00:00",
          "value": 76,
          "variable": "Displacement"
         },
         {
          "Name": "datsun 710",
          "Origin": "Japan",
          "Year": "1974-01-01T00:00:00",
          "value": 83,
          "variable": "Displacement"
         },
         {
          "Name": "dodge colt",
          "Origin": "USA",
          "Year": "1974-01-01T00:00:00",
          "value": 90,
          "variable": "Displacement"
         },
         {
          "Name": "fiat 128",
          "Origin": "Europe",
          "Year": "1974-01-01T00:00:00",
          "value": 90,
          "variable": "Displacement"
         },
         {
          "Name": "fiat 124 tc",
          "Origin": "Europe",
          "Year": "1974-01-01T00:00:00",
          "value": 116,
          "variable": "Displacement"
         },
         {
          "Name": "honda civic",
          "Origin": "Japan",
          "Year": "1974-01-01T00:00:00",
          "value": 120,
          "variable": "Displacement"
         },
         {
          "Name": "subaru",
          "Origin": "Japan",
          "Year": "1974-01-01T00:00:00",
          "value": 108,
          "variable": "Displacement"
         },
         {
          "Name": "fiat x1.9",
          "Origin": "Europe",
          "Year": "1974-01-01T00:00:00",
          "value": 79,
          "variable": "Displacement"
         },
         {
          "Name": "plymouth valiant custom",
          "Origin": "USA",
          "Year": "1975-01-01T00:00:00",
          "value": 225,
          "variable": "Displacement"
         },
         {
          "Name": "chevrolet nova",
          "Origin": "USA",
          "Year": "1975-01-01T00:00:00",
          "value": 250,
          "variable": "Displacement"
         },
         {
          "Name": "mercury monarch",
          "Origin": "USA",
          "Year": "1975-01-01T00:00:00",
          "value": 250,
          "variable": "Displacement"
         },
         {
          "Name": "ford maverick",
          "Origin": "USA",
          "Year": "1975-01-01T00:00:00",
          "value": 250,
          "variable": "Displacement"
         },
         {
          "Name": "pontiac catalina",
          "Origin": "USA",
          "Year": "1975-01-01T00:00:00",
          "value": 400,
          "variable": "Displacement"
         },
         {
          "Name": "chevrolet bel air",
          "Origin": "USA",
          "Year": "1975-01-01T00:00:00",
          "value": 350,
          "variable": "Displacement"
         },
         {
          "Name": "plymouth grand fury",
          "Origin": "USA",
          "Year": "1975-01-01T00:00:00",
          "value": 318,
          "variable": "Displacement"
         },
         {
          "Name": "ford ltd",
          "Origin": "USA",
          "Year": "1975-01-01T00:00:00",
          "value": 351,
          "variable": "Displacement"
         },
         {
          "Name": "buick century",
          "Origin": "USA",
          "Year": "1975-01-01T00:00:00",
          "value": 231,
          "variable": "Displacement"
         },
         {
          "Name": "chevroelt chevelle malibu",
          "Origin": "USA",
          "Year": "1975-01-01T00:00:00",
          "value": 250,
          "variable": "Displacement"
         },
         {
          "Name": "amc matador",
          "Origin": "USA",
          "Year": "1975-01-01T00:00:00",
          "value": 258,
          "variable": "Displacement"
         },
         {
          "Name": "plymouth fury",
          "Origin": "USA",
          "Year": "1975-01-01T00:00:00",
          "value": 225,
          "variable": "Displacement"
         },
         {
          "Name": "buick skyhawk",
          "Origin": "USA",
          "Year": "1975-01-01T00:00:00",
          "value": 231,
          "variable": "Displacement"
         },
         {
          "Name": "chevrolet monza 2+2",
          "Origin": "USA",
          "Year": "1975-01-01T00:00:00",
          "value": 262,
          "variable": "Displacement"
         },
         {
          "Name": "ford mustang ii",
          "Origin": "USA",
          "Year": "1975-01-01T00:00:00",
          "value": 302,
          "variable": "Displacement"
         },
         {
          "Name": "toyota corolla",
          "Origin": "Japan",
          "Year": "1975-01-01T00:00:00",
          "value": 97,
          "variable": "Displacement"
         },
         {
          "Name": "ford pinto",
          "Origin": "USA",
          "Year": "1975-01-01T00:00:00",
          "value": 140,
          "variable": "Displacement"
         },
         {
          "Name": "amc gremlin",
          "Origin": "USA",
          "Year": "1975-01-01T00:00:00",
          "value": 232,
          "variable": "Displacement"
         },
         {
          "Name": "pontiac astro",
          "Origin": "USA",
          "Year": "1975-01-01T00:00:00",
          "value": 140,
          "variable": "Displacement"
         },
         {
          "Name": "toyota corona",
          "Origin": "Japan",
          "Year": "1975-01-01T00:00:00",
          "value": 134,
          "variable": "Displacement"
         },
         {
          "Name": "volkswagen dasher",
          "Origin": "Europe",
          "Year": "1975-01-01T00:00:00",
          "value": 90,
          "variable": "Displacement"
         },
         {
          "Name": "datsun 710",
          "Origin": "Japan",
          "Year": "1975-01-01T00:00:00",
          "value": 119,
          "variable": "Displacement"
         },
         {
          "Name": "ford pinto",
          "Origin": "USA",
          "Year": "1975-01-01T00:00:00",
          "value": 171,
          "variable": "Displacement"
         },
         {
          "Name": "volkswagen rabbit",
          "Origin": "Europe",
          "Year": "1975-01-01T00:00:00",
          "value": 90,
          "variable": "Displacement"
         },
         {
          "Name": "amc pacer",
          "Origin": "USA",
          "Year": "1975-01-01T00:00:00",
          "value": 232,
          "variable": "Displacement"
         },
         {
          "Name": "audi 100ls",
          "Origin": "Europe",
          "Year": "1975-01-01T00:00:00",
          "value": 115,
          "variable": "Displacement"
         },
         {
          "Name": "peugeot 504",
          "Origin": "Europe",
          "Year": "1975-01-01T00:00:00",
          "value": 120,
          "variable": "Displacement"
         },
         {
          "Name": "volvo 244dl",
          "Origin": "Europe",
          "Year": "1975-01-01T00:00:00",
          "value": 121,
          "variable": "Displacement"
         },
         {
          "Name": "saab 99le",
          "Origin": "Europe",
          "Year": "1975-01-01T00:00:00",
          "value": 121,
          "variable": "Displacement"
         },
         {
          "Name": "honda civic cvcc",
          "Origin": "Japan",
          "Year": "1975-01-01T00:00:00",
          "value": 91,
          "variable": "Displacement"
         },
         {
          "Name": "fiat 131",
          "Origin": "Europe",
          "Year": "1976-01-01T00:00:00",
          "value": 107,
          "variable": "Displacement"
         },
         {
          "Name": "opel 1900",
          "Origin": "Europe",
          "Year": "1976-01-01T00:00:00",
          "value": 116,
          "variable": "Displacement"
         },
         {
          "Name": "capri ii",
          "Origin": "USA",
          "Year": "1976-01-01T00:00:00",
          "value": 140,
          "variable": "Displacement"
         },
         {
          "Name": "dodge colt",
          "Origin": "USA",
          "Year": "1976-01-01T00:00:00",
          "value": 98,
          "variable": "Displacement"
         },
         {
          "Name": "renault 12tl",
          "Origin": "Europe",
          "Year": "1976-01-01T00:00:00",
          "value": 101,
          "variable": "Displacement"
         },
         {
          "Name": "chevrolet chevelle malibu classic",
          "Origin": "USA",
          "Year": "1976-01-01T00:00:00",
          "value": 305,
          "variable": "Displacement"
         },
         {
          "Name": "dodge coronet brougham",
          "Origin": "USA",
          "Year": "1976-01-01T00:00:00",
          "value": 318,
          "variable": "Displacement"
         },
         {
          "Name": "amc matador",
          "Origin": "USA",
          "Year": "1976-01-01T00:00:00",
          "value": 304,
          "variable": "Displacement"
         },
         {
          "Name": "ford gran torino",
          "Origin": "USA",
          "Year": "1976-01-01T00:00:00",
          "value": 351,
          "variable": "Displacement"
         },
         {
          "Name": "plymouth valiant",
          "Origin": "USA",
          "Year": "1976-01-01T00:00:00",
          "value": 225,
          "variable": "Displacement"
         },
         {
          "Name": "chevrolet nova",
          "Origin": "USA",
          "Year": "1976-01-01T00:00:00",
          "value": 250,
          "variable": "Displacement"
         },
         {
          "Name": "ford maverick",
          "Origin": "USA",
          "Year": "1976-01-01T00:00:00",
          "value": 200,
          "variable": "Displacement"
         },
         {
          "Name": "amc hornet",
          "Origin": "USA",
          "Year": "1976-01-01T00:00:00",
          "value": 232,
          "variable": "Displacement"
         },
         {
          "Name": "chevrolet chevette",
          "Origin": "USA",
          "Year": "1976-01-01T00:00:00",
          "value": 85,
          "variable": "Displacement"
         },
         {
          "Name": "chevrolet woody",
          "Origin": "USA",
          "Year": "1976-01-01T00:00:00",
          "value": 98,
          "variable": "Displacement"
         },
         {
          "Name": "vw rabbit",
          "Origin": "Europe",
          "Year": "1976-01-01T00:00:00",
          "value": 90,
          "variable": "Displacement"
         },
         {
          "Name": "honda civic",
          "Origin": "Japan",
          "Year": "1976-01-01T00:00:00",
          "value": 91,
          "variable": "Displacement"
         },
         {
          "Name": "dodge aspen se",
          "Origin": "USA",
          "Year": "1976-01-01T00:00:00",
          "value": 225,
          "variable": "Displacement"
         },
         {
          "Name": "ford granada ghia",
          "Origin": "USA",
          "Year": "1976-01-01T00:00:00",
          "value": 250,
          "variable": "Displacement"
         },
         {
          "Name": "pontiac ventura sj",
          "Origin": "USA",
          "Year": "1976-01-01T00:00:00",
          "value": 250,
          "variable": "Displacement"
         },
         {
          "Name": "amc pacer d/l",
          "Origin": "USA",
          "Year": "1976-01-01T00:00:00",
          "value": 258,
          "variable": "Displacement"
         },
         {
          "Name": "volkswagen rabbit",
          "Origin": "Europe",
          "Year": "1976-01-01T00:00:00",
          "value": 97,
          "variable": "Displacement"
         },
         {
          "Name": "datsun b-210",
          "Origin": "Japan",
          "Year": "1976-01-01T00:00:00",
          "value": 85,
          "variable": "Displacement"
         },
         {
          "Name": "toyota corolla",
          "Origin": "Japan",
          "Year": "1976-01-01T00:00:00",
          "value": 97,
          "variable": "Displacement"
         },
         {
          "Name": "ford pinto",
          "Origin": "USA",
          "Year": "1976-01-01T00:00:00",
          "value": 140,
          "variable": "Displacement"
         },
         {
          "Name": "volvo 245",
          "Origin": "Europe",
          "Year": "1976-01-01T00:00:00",
          "value": 130,
          "variable": "Displacement"
         },
         {
          "Name": "plymouth volare premier v8",
          "Origin": "USA",
          "Year": "1976-01-01T00:00:00",
          "value": 318,
          "variable": "Displacement"
         },
         {
          "Name": "peugeot 504",
          "Origin": "Europe",
          "Year": "1976-01-01T00:00:00",
          "value": 120,
          "variable": "Displacement"
         },
         {
          "Name": "toyota mark ii",
          "Origin": "Japan",
          "Year": "1976-01-01T00:00:00",
          "value": 156,
          "variable": "Displacement"
         },
         {
          "Name": "mercedes-benz 280s",
          "Origin": "Europe",
          "Year": "1976-01-01T00:00:00",
          "value": 168,
          "variable": "Displacement"
         },
         {
          "Name": "cadillac seville",
          "Origin": "USA",
          "Year": "1976-01-01T00:00:00",
          "value": 350,
          "variable": "Displacement"
         },
         {
          "Name": "chevy c10",
          "Origin": "USA",
          "Year": "1976-01-01T00:00:00",
          "value": 350,
          "variable": "Displacement"
         },
         {
          "Name": "ford f108",
          "Origin": "USA",
          "Year": "1976-01-01T00:00:00",
          "value": 302,
          "variable": "Displacement"
         },
         {
          "Name": "dodge d100",
          "Origin": "USA",
          "Year": "1976-01-01T00:00:00",
          "value": 318,
          "variable": "Displacement"
         },
         {
          "Name": "honda Accelerationord cvcc",
          "Origin": "Japan",
          "Year": "1977-01-01T00:00:00",
          "value": 98,
          "variable": "Displacement"
         },
         {
          "Name": "buick opel isuzu deluxe",
          "Origin": "USA",
          "Year": "1977-01-01T00:00:00",
          "value": 111,
          "variable": "Displacement"
         },
         {
          "Name": "renault 5 gtl",
          "Origin": "Europe",
          "Year": "1977-01-01T00:00:00",
          "value": 79,
          "variable": "Displacement"
         },
         {
          "Name": "plymouth arrow gs",
          "Origin": "USA",
          "Year": "1977-01-01T00:00:00",
          "value": 122,
          "variable": "Displacement"
         },
         {
          "Name": "datsun f-10 hatchback",
          "Origin": "Japan",
          "Year": "1977-01-01T00:00:00",
          "value": 85,
          "variable": "Displacement"
         },
         {
          "Name": "chevrolet caprice classic",
          "Origin": "USA",
          "Year": "1977-01-01T00:00:00",
          "value": 305,
          "variable": "Displacement"
         },
         {
          "Name": "oldsmobile cutlass supreme",
          "Origin": "USA",
          "Year": "1977-01-01T00:00:00",
          "value": 260,
          "variable": "Displacement"
         },
         {
          "Name": "dodge monaco brougham",
          "Origin": "USA",
          "Year": "1977-01-01T00:00:00",
          "value": 318,
          "variable": "Displacement"
         },
         {
          "Name": "mercury cougar brougham",
          "Origin": "USA",
          "Year": "1977-01-01T00:00:00",
          "value": 302,
          "variable": "Displacement"
         },
         {
          "Name": "chevrolet concours",
          "Origin": "USA",
          "Year": "1977-01-01T00:00:00",
          "value": 250,
          "variable": "Displacement"
         },
         {
          "Name": "buick skylark",
          "Origin": "USA",
          "Year": "1977-01-01T00:00:00",
          "value": 231,
          "variable": "Displacement"
         },
         {
          "Name": "plymouth volare custom",
          "Origin": "USA",
          "Year": "1977-01-01T00:00:00",
          "value": 225,
          "variable": "Displacement"
         },
         {
          "Name": "ford granada",
          "Origin": "USA",
          "Year": "1977-01-01T00:00:00",
          "value": 250,
          "variable": "Displacement"
         },
         {
          "Name": "pontiac grand prix lj",
          "Origin": "USA",
          "Year": "1977-01-01T00:00:00",
          "value": 400,
          "variable": "Displacement"
         },
         {
          "Name": "chevrolet monte carlo landau",
          "Origin": "USA",
          "Year": "1977-01-01T00:00:00",
          "value": 350,
          "variable": "Displacement"
         },
         {
          "Name": "chrysler cordoba",
          "Origin": "USA",
          "Year": "1977-01-01T00:00:00",
          "value": 400,
          "variable": "Displacement"
         },
         {
          "Name": "ford thunderbird",
          "Origin": "USA",
          "Year": "1977-01-01T00:00:00",
          "value": 351,
          "variable": "Displacement"
         },
         {
          "Name": "volkswagen rabbit custom",
          "Origin": "Europe",
          "Year": "1977-01-01T00:00:00",
          "value": 97,
          "variable": "Displacement"
         },
         {
          "Name": "pontiac sunbird coupe",
          "Origin": "USA",
          "Year": "1977-01-01T00:00:00",
          "value": 151,
          "variable": "Displacement"
         },
         {
          "Name": "toyota corolla liftback",
          "Origin": "Japan",
          "Year": "1977-01-01T00:00:00",
          "value": 97,
          "variable": "Displacement"
         },
         {
          "Name": "ford mustang ii 2+2",
          "Origin": "USA",
          "Year": "1977-01-01T00:00:00",
          "value": 140,
          "variable": "Displacement"
         },
         {
          "Name": "chevrolet chevette",
          "Origin": "USA",
          "Year": "1977-01-01T00:00:00",
          "value": 98,
          "variable": "Displacement"
         },
         {
          "Name": "dodge colt m/m",
          "Origin": "USA",
          "Year": "1977-01-01T00:00:00",
          "value": 98,
          "variable": "Displacement"
         },
         {
          "Name": "subaru dl",
          "Origin": "Japan",
          "Year": "1977-01-01T00:00:00",
          "value": 97,
          "variable": "Displacement"
         },
         {
          "Name": "volkswagen dasher",
          "Origin": "Europe",
          "Year": "1977-01-01T00:00:00",
          "value": 97,
          "variable": "Displacement"
         },
         {
          "Name": "datsun 810",
          "Origin": "Japan",
          "Year": "1977-01-01T00:00:00",
          "value": 146,
          "variable": "Displacement"
         },
         {
          "Name": "bmw 320i",
          "Origin": "Europe",
          "Year": "1977-01-01T00:00:00",
          "value": 121,
          "variable": "Displacement"
         },
         {
          "Name": "mazda rx-4",
          "Origin": "Japan",
          "Year": "1977-01-01T00:00:00",
          "value": 80,
          "variable": "Displacement"
         },
         {
          "Name": "volkswagen rabbit custom diesel",
          "Origin": "Europe",
          "Year": "1978-01-01T00:00:00",
          "value": 90,
          "variable": "Displacement"
         },
         {
          "Name": "ford fiesta",
          "Origin": "USA",
          "Year": "1978-01-01T00:00:00",
          "value": 98,
          "variable": "Displacement"
         },
         {
          "Name": "mazda glc deluxe",
          "Origin": "Japan",
          "Year": "1978-01-01T00:00:00",
          "value": 78,
          "variable": "Displacement"
         },
         {
          "Name": "datsun b210 gx",
          "Origin": "Japan",
          "Year": "1978-01-01T00:00:00",
          "value": 85,
          "variable": "Displacement"
         },
         {
          "Name": "honda civic cvcc",
          "Origin": "Japan",
          "Year": "1978-01-01T00:00:00",
          "value": 91,
          "variable": "Displacement"
         },
         {
          "Name": "oldsmobile cutlass salon brougham",
          "Origin": "USA",
          "Year": "1978-01-01T00:00:00",
          "value": 260,
          "variable": "Displacement"
         },
         {
          "Name": "dodge diplomat",
          "Origin": "USA",
          "Year": "1978-01-01T00:00:00",
          "value": 318,
          "variable": "Displacement"
         },
         {
          "Name": "mercury monarch ghia",
          "Origin": "USA",
          "Year": "1978-01-01T00:00:00",
          "value": 302,
          "variable": "Displacement"
         },
         {
          "Name": "pontiac phoenix lj",
          "Origin": "USA",
          "Year": "1978-01-01T00:00:00",
          "value": 231,
          "variable": "Displacement"
         },
         {
          "Name": "chevrolet malibu",
          "Origin": "USA",
          "Year": "1978-01-01T00:00:00",
          "value": 200,
          "variable": "Displacement"
         },
         {
          "Name": "ford fairmont (auto)",
          "Origin": "USA",
          "Year": "1978-01-01T00:00:00",
          "value": 200,
          "variable": "Displacement"
         },
         {
          "Name": "ford fairmont (man)",
          "Origin": "USA",
          "Year": "1978-01-01T00:00:00",
          "value": 140,
          "variable": "Displacement"
         },
         {
          "Name": "plymouth volare",
          "Origin": "USA",
          "Year": "1978-01-01T00:00:00",
          "value": 225,
          "variable": "Displacement"
         },
         {
          "Name": "amc concord",
          "Origin": "USA",
          "Year": "1978-01-01T00:00:00",
          "value": 232,
          "variable": "Displacement"
         },
         {
          "Name": "buick century special",
          "Origin": "USA",
          "Year": "1978-01-01T00:00:00",
          "value": 231,
          "variable": "Displacement"
         },
         {
          "Name": "mercury zephyr",
          "Origin": "USA",
          "Year": "1978-01-01T00:00:00",
          "value": 200,
          "variable": "Displacement"
         },
         {
          "Name": "dodge aspen",
          "Origin": "USA",
          "Year": "1978-01-01T00:00:00",
          "value": 225,
          "variable": "Displacement"
         },
         {
          "Name": "amc concord d/l",
          "Origin": "USA",
          "Year": "1978-01-01T00:00:00",
          "value": 258,
          "variable": "Displacement"
         },
         {
          "Name": "chevrolet monte carlo landau",
          "Origin": "USA",
          "Year": "1978-01-01T00:00:00",
          "value": 305,
          "variable": "Displacement"
         },
         {
          "Name": "buick regal sport coupe (turbo)",
          "Origin": "USA",
          "Year": "1978-01-01T00:00:00",
          "value": 231,
          "variable": "Displacement"
         },
         {
          "Name": "ford futura",
          "Origin": "USA",
          "Year": "1978-01-01T00:00:00",
          "value": 302,
          "variable": "Displacement"
         },
         {
          "Name": "dodge magnum xe",
          "Origin": "USA",
          "Year": "1978-01-01T00:00:00",
          "value": 318,
          "variable": "Displacement"
         },
         {
          "Name": "chevrolet chevette",
          "Origin": "USA",
          "Year": "1978-01-01T00:00:00",
          "value": 98,
          "variable": "Displacement"
         },
         {
          "Name": "toyota corona",
          "Origin": "Japan",
          "Year": "1978-01-01T00:00:00",
          "value": 134,
          "variable": "Displacement"
         },
         {
          "Name": "datsun 510",
          "Origin": "Japan",
          "Year": "1978-01-01T00:00:00",
          "value": 119,
          "variable": "Displacement"
         },
         {
          "Name": "dodge omni",
          "Origin": "USA",
          "Year": "1978-01-01T00:00:00",
          "value": 105,
          "variable": "Displacement"
         },
         {
          "Name": "toyota celica gt liftback",
          "Origin": "Japan",
          "Year": "1978-01-01T00:00:00",
          "value": 134,
          "variable": "Displacement"
         },
         {
          "Name": "plymouth sapporo",
          "Origin": "USA",
          "Year": "1978-01-01T00:00:00",
          "value": 156,
          "variable": "Displacement"
         },
         {
          "Name": "oldsmobile starfire sx",
          "Origin": "USA",
          "Year": "1978-01-01T00:00:00",
          "value": 151,
          "variable": "Displacement"
         },
         {
          "Name": "datsun 200-sx",
          "Origin": "Japan",
          "Year": "1978-01-01T00:00:00",
          "value": 119,
          "variable": "Displacement"
         },
         {
          "Name": "audi 5000",
          "Origin": "Europe",
          "Year": "1978-01-01T00:00:00",
          "value": 131,
          "variable": "Displacement"
         },
         {
          "Name": "volvo 264gl",
          "Origin": "Europe",
          "Year": "1978-01-01T00:00:00",
          "value": 163,
          "variable": "Displacement"
         },
         {
          "Name": "saab 99gle",
          "Origin": "Europe",
          "Year": "1978-01-01T00:00:00",
          "value": 121,
          "variable": "Displacement"
         },
         {
          "Name": "peugeot 604sl",
          "Origin": "Europe",
          "Year": "1978-01-01T00:00:00",
          "value": 163,
          "variable": "Displacement"
         },
         {
          "Name": "volkswagen scirocco",
          "Origin": "Europe",
          "Year": "1978-01-01T00:00:00",
          "value": 89,
          "variable": "Displacement"
         },
         {
          "Name": "honda Accelerationord lx",
          "Origin": "Japan",
          "Year": "1978-01-01T00:00:00",
          "value": 98,
          "variable": "Displacement"
         },
         {
          "Name": "pontiac lemans v6",
          "Origin": "USA",
          "Year": "1979-01-01T00:00:00",
          "value": 231,
          "variable": "Displacement"
         },
         {
          "Name": "mercury zephyr 6",
          "Origin": "USA",
          "Year": "1979-01-01T00:00:00",
          "value": 200,
          "variable": "Displacement"
         },
         {
          "Name": "ford fairmont 4",
          "Origin": "USA",
          "Year": "1979-01-01T00:00:00",
          "value": 140,
          "variable": "Displacement"
         },
         {
          "Name": "amc concord dl 6",
          "Origin": "USA",
          "Year": "1979-01-01T00:00:00",
          "value": 232,
          "variable": "Displacement"
         },
         {
          "Name": "dodge aspen 6",
          "Origin": "USA",
          "Year": "1979-01-01T00:00:00",
          "value": 225,
          "variable": "Displacement"
         },
         {
          "Name": "chevrolet caprice classic",
          "Origin": "USA",
          "Year": "1979-01-01T00:00:00",
          "value": 305,
          "variable": "Displacement"
         },
         {
          "Name": "ford ltd landau",
          "Origin": "USA",
          "Year": "1979-01-01T00:00:00",
          "value": 302,
          "variable": "Displacement"
         },
         {
          "Name": "mercury grand marquis",
          "Origin": "USA",
          "Year": "1979-01-01T00:00:00",
          "value": 351,
          "variable": "Displacement"
         },
         {
          "Name": "dodge st. regis",
          "Origin": "USA",
          "Year": "1979-01-01T00:00:00",
          "value": 318,
          "variable": "Displacement"
         },
         {
          "Name": "buick estate wagon (sw)",
          "Origin": "USA",
          "Year": "1979-01-01T00:00:00",
          "value": 350,
          "variable": "Displacement"
         },
         {
          "Name": "ford country squire (sw)",
          "Origin": "USA",
          "Year": "1979-01-01T00:00:00",
          "value": 351,
          "variable": "Displacement"
         },
         {
          "Name": "chevrolet malibu classic (sw)",
          "Origin": "USA",
          "Year": "1979-01-01T00:00:00",
          "value": 267,
          "variable": "Displacement"
         },
         {
          "Name": "chrysler lebaron town @ country (sw)",
          "Origin": "USA",
          "Year": "1979-01-01T00:00:00",
          "value": 360,
          "variable": "Displacement"
         },
         {
          "Name": "vw rabbit custom",
          "Origin": "Europe",
          "Year": "1979-01-01T00:00:00",
          "value": 89,
          "variable": "Displacement"
         },
         {
          "Name": "maxda glc deluxe",
          "Origin": "Japan",
          "Year": "1979-01-01T00:00:00",
          "value": 86,
          "variable": "Displacement"
         },
         {
          "Name": "dodge colt hatchback custom",
          "Origin": "USA",
          "Year": "1979-01-01T00:00:00",
          "value": 98,
          "variable": "Displacement"
         },
         {
          "Name": "amc spirit dl",
          "Origin": "USA",
          "Year": "1979-01-01T00:00:00",
          "value": 121,
          "variable": "Displacement"
         },
         {
          "Name": "mercedes benz 300d",
          "Origin": "Europe",
          "Year": "1979-01-01T00:00:00",
          "value": 183,
          "variable": "Displacement"
         },
         {
          "Name": "cadillac eldorado",
          "Origin": "USA",
          "Year": "1979-01-01T00:00:00",
          "value": 350,
          "variable": "Displacement"
         },
         {
          "Name": "peugeot 504",
          "Origin": "Europe",
          "Year": "1979-01-01T00:00:00",
          "value": 141,
          "variable": "Displacement"
         },
         {
          "Name": "oldsmobile cutlass salon brougham",
          "Origin": "USA",
          "Year": "1979-01-01T00:00:00",
          "value": 260,
          "variable": "Displacement"
         },
         {
          "Name": "plymouth horizon",
          "Origin": "USA",
          "Year": "1979-01-01T00:00:00",
          "value": 105,
          "variable": "Displacement"
         },
         {
          "Name": "plymouth horizon tc3",
          "Origin": "USA",
          "Year": "1979-01-01T00:00:00",
          "value": 105,
          "variable": "Displacement"
         },
         {
          "Name": "datsun 210",
          "Origin": "Japan",
          "Year": "1979-01-01T00:00:00",
          "value": 85,
          "variable": "Displacement"
         },
         {
          "Name": "fiat strada custom",
          "Origin": "Europe",
          "Year": "1979-01-01T00:00:00",
          "value": 91,
          "variable": "Displacement"
         },
         {
          "Name": "buick skylark limited",
          "Origin": "USA",
          "Year": "1979-01-01T00:00:00",
          "value": 151,
          "variable": "Displacement"
         },
         {
          "Name": "chevrolet citation",
          "Origin": "USA",
          "Year": "1979-01-01T00:00:00",
          "value": 173,
          "variable": "Displacement"
         },
         {
          "Name": "oldsmobile omega brougham",
          "Origin": "USA",
          "Year": "1979-01-01T00:00:00",
          "value": 173,
          "variable": "Displacement"
         },
         {
          "Name": "pontiac phoenix",
          "Origin": "USA",
          "Year": "1979-01-01T00:00:00",
          "value": 151,
          "variable": "Displacement"
         },
         {
          "Name": "vw rabbit",
          "Origin": "Europe",
          "Year": "1980-01-01T00:00:00",
          "value": 98,
          "variable": "Displacement"
         },
         {
          "Name": "toyota corolla tercel",
          "Origin": "Japan",
          "Year": "1980-01-01T00:00:00",
          "value": 89,
          "variable": "Displacement"
         },
         {
          "Name": "chevrolet chevette",
          "Origin": "USA",
          "Year": "1980-01-01T00:00:00",
          "value": 98,
          "variable": "Displacement"
         },
         {
          "Name": "datsun 310",
          "Origin": "Japan",
          "Year": "1980-01-01T00:00:00",
          "value": 86,
          "variable": "Displacement"
         },
         {
          "Name": "chevrolet citation",
          "Origin": "USA",
          "Year": "1980-01-01T00:00:00",
          "value": 151,
          "variable": "Displacement"
         },
         {
          "Name": "ford fairmont",
          "Origin": "USA",
          "Year": "1980-01-01T00:00:00",
          "value": 140,
          "variable": "Displacement"
         },
         {
          "Name": "amc concord",
          "Origin": "USA",
          "Year": "1980-01-01T00:00:00",
          "value": 151,
          "variable": "Displacement"
         },
         {
          "Name": "dodge aspen",
          "Origin": "USA",
          "Year": "1980-01-01T00:00:00",
          "value": 225,
          "variable": "Displacement"
         },
         {
          "Name": "audi 4000",
          "Origin": "Europe",
          "Year": "1980-01-01T00:00:00",
          "value": 97,
          "variable": "Displacement"
         },
         {
          "Name": "toyota corona liftback",
          "Origin": "Japan",
          "Year": "1980-01-01T00:00:00",
          "value": 134,
          "variable": "Displacement"
         },
         {
          "Name": "mazda 626",
          "Origin": "Japan",
          "Year": "1980-01-01T00:00:00",
          "value": 120,
          "variable": "Displacement"
         },
         {
          "Name": "datsun 510 hatchback",
          "Origin": "Japan",
          "Year": "1980-01-01T00:00:00",
          "value": 119,
          "variable": "Displacement"
         },
         {
          "Name": "toyota corolla",
          "Origin": "Japan",
          "Year": "1980-01-01T00:00:00",
          "value": 108,
          "variable": "Displacement"
         },
         {
          "Name": "mazda glc",
          "Origin": "Japan",
          "Year": "1980-01-01T00:00:00",
          "value": 86,
          "variable": "Displacement"
         },
         {
          "Name": "dodge colt",
          "Origin": "USA",
          "Year": "1980-01-01T00:00:00",
          "value": 156,
          "variable": "Displacement"
         },
         {
          "Name": "datsun 210",
          "Origin": "Japan",
          "Year": "1980-01-01T00:00:00",
          "value": 85,
          "variable": "Displacement"
         },
         {
          "Name": "vw rabbit c (diesel)",
          "Origin": "Europe",
          "Year": "1980-01-01T00:00:00",
          "value": 90,
          "variable": "Displacement"
         },
         {
          "Name": "vw dasher (diesel)",
          "Origin": "Europe",
          "Year": "1980-01-01T00:00:00",
          "value": 90,
          "variable": "Displacement"
         },
         {
          "Name": "audi 5000s (diesel)",
          "Origin": "Europe",
          "Year": "1980-01-01T00:00:00",
          "value": 121,
          "variable": "Displacement"
         },
         {
          "Name": "mercedes-benz 240d",
          "Origin": "Europe",
          "Year": "1980-01-01T00:00:00",
          "value": 146,
          "variable": "Displacement"
         },
         {
          "Name": "honda civic 1500 gl",
          "Origin": "Japan",
          "Year": "1980-01-01T00:00:00",
          "value": 91,
          "variable": "Displacement"
         },
         {
          "Name": "renault lecar deluxe",
          "Origin": "Europe",
          "Year": "1980-01-01T00:00:00",
          "value": 85,
          "variable": "Displacement"
         },
         {
          "Name": "subaru dl",
          "Origin": "Japan",
          "Year": "1980-01-01T00:00:00",
          "value": 97,
          "variable": "Displacement"
         },
         {
          "Name": "vokswagen rabbit",
          "Origin": "Europe",
          "Year": "1980-01-01T00:00:00",
          "value": 89,
          "variable": "Displacement"
         },
         {
          "Name": "datsun 280-zx",
          "Origin": "Japan",
          "Year": "1980-01-01T00:00:00",
          "value": 168,
          "variable": "Displacement"
         },
         {
          "Name": "mazda rx-7 gs",
          "Origin": "Japan",
          "Year": "1980-01-01T00:00:00",
          "value": 70,
          "variable": "Displacement"
         },
         {
          "Name": "triumph tr7 coupe",
          "Origin": "Europe",
          "Year": "1980-01-01T00:00:00",
          "value": 122,
          "variable": "Displacement"
         },
         {
          "Name": "ford mustang cobra",
          "Origin": "USA",
          "Year": "1980-01-01T00:00:00",
          "value": 140,
          "variable": "Displacement"
         },
         {
          "Name": "honda Accelerationord",
          "Origin": "Japan",
          "Year": "1980-01-01T00:00:00",
          "value": 107,
          "variable": "Displacement"
         },
         {
          "Name": "plymouth reliant",
          "Origin": "USA",
          "Year": "1982-01-01T00:00:00",
          "value": 135,
          "variable": "Displacement"
         },
         {
          "Name": "buick skylark",
          "Origin": "USA",
          "Year": "1982-01-01T00:00:00",
          "value": 151,
          "variable": "Displacement"
         },
         {
          "Name": "dodge aries wagon (sw)",
          "Origin": "USA",
          "Year": "1982-01-01T00:00:00",
          "value": 156,
          "variable": "Displacement"
         },
         {
          "Name": "chevrolet citation",
          "Origin": "USA",
          "Year": "1982-01-01T00:00:00",
          "value": 173,
          "variable": "Displacement"
         },
         {
          "Name": "plymouth reliant",
          "Origin": "USA",
          "Year": "1982-01-01T00:00:00",
          "value": 135,
          "variable": "Displacement"
         },
         {
          "Name": "toyota starlet",
          "Origin": "Japan",
          "Year": "1982-01-01T00:00:00",
          "value": 79,
          "variable": "Displacement"
         },
         {
          "Name": "plymouth champ",
          "Origin": "USA",
          "Year": "1982-01-01T00:00:00",
          "value": 86,
          "variable": "Displacement"
         },
         {
          "Name": "honda civic 1300",
          "Origin": "Japan",
          "Year": "1982-01-01T00:00:00",
          "value": 81,
          "variable": "Displacement"
         },
         {
          "Name": "subaru",
          "Origin": "Japan",
          "Year": "1982-01-01T00:00:00",
          "value": 97,
          "variable": "Displacement"
         },
         {
          "Name": "datsun 210",
          "Origin": "Japan",
          "Year": "1982-01-01T00:00:00",
          "value": 85,
          "variable": "Displacement"
         },
         {
          "Name": "toyota tercel",
          "Origin": "Japan",
          "Year": "1982-01-01T00:00:00",
          "value": 89,
          "variable": "Displacement"
         },
         {
          "Name": "mazda glc 4",
          "Origin": "Japan",
          "Year": "1982-01-01T00:00:00",
          "value": 91,
          "variable": "Displacement"
         },
         {
          "Name": "plymouth horizon 4",
          "Origin": "USA",
          "Year": "1982-01-01T00:00:00",
          "value": 105,
          "variable": "Displacement"
         },
         {
          "Name": "ford escort 4w",
          "Origin": "USA",
          "Year": "1982-01-01T00:00:00",
          "value": 98,
          "variable": "Displacement"
         },
         {
          "Name": "ford escort 2h",
          "Origin": "USA",
          "Year": "1982-01-01T00:00:00",
          "value": 98,
          "variable": "Displacement"
         },
         {
          "Name": "volkswagen jetta",
          "Origin": "Europe",
          "Year": "1982-01-01T00:00:00",
          "value": 105,
          "variable": "Displacement"
         },
         {
          "Name": "renault 18i",
          "Origin": "Europe",
          "Year": "1982-01-01T00:00:00",
          "value": 100,
          "variable": "Displacement"
         },
         {
          "Name": "honda prelude",
          "Origin": "Japan",
          "Year": "1982-01-01T00:00:00",
          "value": 107,
          "variable": "Displacement"
         },
         {
          "Name": "toyota corolla",
          "Origin": "Japan",
          "Year": "1982-01-01T00:00:00",
          "value": 108,
          "variable": "Displacement"
         },
         {
          "Name": "datsun 200sx",
          "Origin": "Japan",
          "Year": "1982-01-01T00:00:00",
          "value": 119,
          "variable": "Displacement"
         },
         {
          "Name": "mazda 626",
          "Origin": "Japan",
          "Year": "1982-01-01T00:00:00",
          "value": 120,
          "variable": "Displacement"
         },
         {
          "Name": "peugeot 505s turbo diesel",
          "Origin": "Europe",
          "Year": "1982-01-01T00:00:00",
          "value": 141,
          "variable": "Displacement"
         },
         {
          "Name": "saab 900s",
          "Origin": "Europe",
          "Year": "1982-01-01T00:00:00",
          "value": 121,
          "variable": "Displacement"
         },
         {
          "Name": "volvo diesel",
          "Origin": "Europe",
          "Year": "1982-01-01T00:00:00",
          "value": 145,
          "variable": "Displacement"
         },
         {
          "Name": "toyota cressida",
          "Origin": "Japan",
          "Year": "1982-01-01T00:00:00",
          "value": 168,
          "variable": "Displacement"
         },
         {
          "Name": "datsun 810 maxima",
          "Origin": "Japan",
          "Year": "1982-01-01T00:00:00",
          "value": 146,
          "variable": "Displacement"
         },
         {
          "Name": "buick century",
          "Origin": "USA",
          "Year": "1982-01-01T00:00:00",
          "value": 231,
          "variable": "Displacement"
         },
         {
          "Name": "oldsmobile cutlass ls",
          "Origin": "USA",
          "Year": "1982-01-01T00:00:00",
          "value": 350,
          "variable": "Displacement"
         },
         {
          "Name": "ford granada gl",
          "Origin": "USA",
          "Year": "1982-01-01T00:00:00",
          "value": 200,
          "variable": "Displacement"
         },
         {
          "Name": "chrysler lebaron salon",
          "Origin": "USA",
          "Year": "1982-01-01T00:00:00",
          "value": 225,
          "variable": "Displacement"
         },
         {
          "Name": "chevrolet cavalier",
          "Origin": "USA",
          "Year": "1982-01-01T00:00:00",
          "value": 112,
          "variable": "Displacement"
         },
         {
          "Name": "chevrolet cavalier wagon",
          "Origin": "USA",
          "Year": "1982-01-01T00:00:00",
          "value": 112,
          "variable": "Displacement"
         },
         {
          "Name": "chevrolet cavalier 2-door",
          "Origin": "USA",
          "Year": "1982-01-01T00:00:00",
          "value": 112,
          "variable": "Displacement"
         },
         {
          "Name": "pontiac j2000 se hatchback",
          "Origin": "USA",
          "Year": "1982-01-01T00:00:00",
          "value": 112,
          "variable": "Displacement"
         },
         {
          "Name": "dodge aries se",
          "Origin": "USA",
          "Year": "1982-01-01T00:00:00",
          "value": 135,
          "variable": "Displacement"
         },
         {
          "Name": "pontiac phoenix",
          "Origin": "USA",
          "Year": "1982-01-01T00:00:00",
          "value": 151,
          "variable": "Displacement"
         },
         {
          "Name": "ford fairmont futura",
          "Origin": "USA",
          "Year": "1982-01-01T00:00:00",
          "value": 140,
          "variable": "Displacement"
         },
         {
          "Name": "amc concord dl",
          "Origin": "USA",
          "Year": "1982-01-01T00:00:00",
          "value": 151,
          "variable": "Displacement"
         },
         {
          "Name": "volkswagen rabbit l",
          "Origin": "Europe",
          "Year": "1982-01-01T00:00:00",
          "value": 105,
          "variable": "Displacement"
         },
         {
          "Name": "mazda glc custom l",
          "Origin": "Japan",
          "Year": "1982-01-01T00:00:00",
          "value": 91,
          "variable": "Displacement"
         },
         {
          "Name": "mazda glc custom",
          "Origin": "Japan",
          "Year": "1982-01-01T00:00:00",
          "value": 91,
          "variable": "Displacement"
         },
         {
          "Name": "plymouth horizon miser",
          "Origin": "USA",
          "Year": "1982-01-01T00:00:00",
          "value": 105,
          "variable": "Displacement"
         },
         {
          "Name": "mercury lynx l",
          "Origin": "USA",
          "Year": "1982-01-01T00:00:00",
          "value": 98,
          "variable": "Displacement"
         },
         {
          "Name": "nissan stanza xe",
          "Origin": "Japan",
          "Year": "1982-01-01T00:00:00",
          "value": 120,
          "variable": "Displacement"
         },
         {
          "Name": "honda Accelerationord",
          "Origin": "Japan",
          "Year": "1982-01-01T00:00:00",
          "value": 107,
          "variable": "Displacement"
         },
         {
          "Name": "toyota corolla",
          "Origin": "Japan",
          "Year": "1982-01-01T00:00:00",
          "value": 108,
          "variable": "Displacement"
         },
         {
          "Name": "honda civic",
          "Origin": "Japan",
          "Year": "1982-01-01T00:00:00",
          "value": 91,
          "variable": "Displacement"
         },
         {
          "Name": "honda civic (auto)",
          "Origin": "Japan",
          "Year": "1982-01-01T00:00:00",
          "value": 91,
          "variable": "Displacement"
         },
         {
          "Name": "datsun 310 gx",
          "Origin": "Japan",
          "Year": "1982-01-01T00:00:00",
          "value": 91,
          "variable": "Displacement"
         },
         {
          "Name": "buick century limited",
          "Origin": "USA",
          "Year": "1982-01-01T00:00:00",
          "value": 181,
          "variable": "Displacement"
         },
         {
          "Name": "oldsmobile cutlass ciera (diesel)",
          "Origin": "USA",
          "Year": "1982-01-01T00:00:00",
          "value": 262,
          "variable": "Displacement"
         },
         {
          "Name": "chrysler lebaron medallion",
          "Origin": "USA",
          "Year": "1982-01-01T00:00:00",
          "value": 156,
          "variable": "Displacement"
         },
         {
          "Name": "ford granada l",
          "Origin": "USA",
          "Year": "1982-01-01T00:00:00",
          "value": 232,
          "variable": "Displacement"
         },
         {
          "Name": "toyota celica gt",
          "Origin": "Japan",
          "Year": "1982-01-01T00:00:00",
          "value": 144,
          "variable": "Displacement"
         },
         {
          "Name": "dodge charger 2.2",
          "Origin": "USA",
          "Year": "1982-01-01T00:00:00",
          "value": 135,
          "variable": "Displacement"
         },
         {
          "Name": "chevrolet camaro",
          "Origin": "USA",
          "Year": "1982-01-01T00:00:00",
          "value": 151,
          "variable": "Displacement"
         },
         {
          "Name": "ford mustang gl",
          "Origin": "USA",
          "Year": "1982-01-01T00:00:00",
          "value": 140,
          "variable": "Displacement"
         },
         {
          "Name": "vw pickup",
          "Origin": "Europe",
          "Year": "1982-01-01T00:00:00",
          "value": 97,
          "variable": "Displacement"
         },
         {
          "Name": "dodge rampage",
          "Origin": "USA",
          "Year": "1982-01-01T00:00:00",
          "value": 135,
          "variable": "Displacement"
         },
         {
          "Name": "ford ranger",
          "Origin": "USA",
          "Year": "1982-01-01T00:00:00",
          "value": 120,
          "variable": "Displacement"
         },
         {
          "Name": "chevy s-10",
          "Origin": "USA",
          "Year": "1982-01-01T00:00:00",
          "value": 119,
          "variable": "Displacement"
         },
         {
          "Name": "chevrolet chevelle malibu",
          "Origin": "USA",
          "Year": "1970-01-01T00:00:00",
          "value": 130,
          "variable": "Horsepower"
         },
         {
          "Name": "buick skylark 320",
          "Origin": "USA",
          "Year": "1970-01-01T00:00:00",
          "value": 165,
          "variable": "Horsepower"
         },
         {
          "Name": "plymouth satellite",
          "Origin": "USA",
          "Year": "1970-01-01T00:00:00",
          "value": 150,
          "variable": "Horsepower"
         },
         {
          "Name": "amc rebel sst",
          "Origin": "USA",
          "Year": "1970-01-01T00:00:00",
          "value": 150,
          "variable": "Horsepower"
         },
         {
          "Name": "ford torino",
          "Origin": "USA",
          "Year": "1970-01-01T00:00:00",
          "value": 140,
          "variable": "Horsepower"
         },
         {
          "Name": "ford galaxie 500",
          "Origin": "USA",
          "Year": "1970-01-01T00:00:00",
          "value": 198,
          "variable": "Horsepower"
         },
         {
          "Name": "chevrolet impala",
          "Origin": "USA",
          "Year": "1970-01-01T00:00:00",
          "value": 220,
          "variable": "Horsepower"
         },
         {
          "Name": "plymouth fury iii",
          "Origin": "USA",
          "Year": "1970-01-01T00:00:00",
          "value": 215,
          "variable": "Horsepower"
         },
         {
          "Name": "pontiac catalina",
          "Origin": "USA",
          "Year": "1970-01-01T00:00:00",
          "value": 225,
          "variable": "Horsepower"
         },
         {
          "Name": "amc ambassador dpl",
          "Origin": "USA",
          "Year": "1970-01-01T00:00:00",
          "value": 190,
          "variable": "Horsepower"
         },
         {
          "Name": "citroen ds-21 pallas",
          "Origin": "Europe",
          "Year": "1970-01-01T00:00:00",
          "value": 115,
          "variable": "Horsepower"
         },
         {
          "Name": "chevrolet chevelle concours (sw)",
          "Origin": "USA",
          "Year": "1970-01-01T00:00:00",
          "value": 165,
          "variable": "Horsepower"
         },
         {
          "Name": "ford torino (sw)",
          "Origin": "USA",
          "Year": "1970-01-01T00:00:00",
          "value": 153,
          "variable": "Horsepower"
         },
         {
          "Name": "plymouth satellite (sw)",
          "Origin": "USA",
          "Year": "1970-01-01T00:00:00",
          "value": 175,
          "variable": "Horsepower"
         },
         {
          "Name": "amc rebel sst (sw)",
          "Origin": "USA",
          "Year": "1970-01-01T00:00:00",
          "value": 175,
          "variable": "Horsepower"
         },
         {
          "Name": "dodge challenger se",
          "Origin": "USA",
          "Year": "1970-01-01T00:00:00",
          "value": 170,
          "variable": "Horsepower"
         },
         {
          "Name": "plymouth 'cuda 340",
          "Origin": "USA",
          "Year": "1970-01-01T00:00:00",
          "value": 160,
          "variable": "Horsepower"
         },
         {
          "Name": "ford mustang boss 302",
          "Origin": "USA",
          "Year": "1970-01-01T00:00:00",
          "value": 140,
          "variable": "Horsepower"
         },
         {
          "Name": "chevrolet monte carlo",
          "Origin": "USA",
          "Year": "1970-01-01T00:00:00",
          "value": 150,
          "variable": "Horsepower"
         },
         {
          "Name": "buick estate wagon (sw)",
          "Origin": "USA",
          "Year": "1970-01-01T00:00:00",
          "value": 225,
          "variable": "Horsepower"
         },
         {
          "Name": "toyota corona mark ii",
          "Origin": "Japan",
          "Year": "1970-01-01T00:00:00",
          "value": 95,
          "variable": "Horsepower"
         },
         {
          "Name": "plymouth duster",
          "Origin": "USA",
          "Year": "1970-01-01T00:00:00",
          "value": 95,
          "variable": "Horsepower"
         },
         {
          "Name": "amc hornet",
          "Origin": "USA",
          "Year": "1970-01-01T00:00:00",
          "value": 97,
          "variable": "Horsepower"
         },
         {
          "Name": "ford maverick",
          "Origin": "USA",
          "Year": "1970-01-01T00:00:00",
          "value": 85,
          "variable": "Horsepower"
         },
         {
          "Name": "datsun pl510",
          "Origin": "Japan",
          "Year": "1970-01-01T00:00:00",
          "value": 88,
          "variable": "Horsepower"
         },
         {
          "Name": "volkswagen 1131 deluxe sedan",
          "Origin": "Europe",
          "Year": "1970-01-01T00:00:00",
          "value": 46,
          "variable": "Horsepower"
         },
         {
          "Name": "peugeot 504",
          "Origin": "Europe",
          "Year": "1970-01-01T00:00:00",
          "value": 87,
          "variable": "Horsepower"
         },
         {
          "Name": "audi 100 ls",
          "Origin": "Europe",
          "Year": "1970-01-01T00:00:00",
          "value": 90,
          "variable": "Horsepower"
         },
         {
          "Name": "saab 99e",
          "Origin": "Europe",
          "Year": "1970-01-01T00:00:00",
          "value": 95,
          "variable": "Horsepower"
         },
         {
          "Name": "bmw 2002",
          "Origin": "Europe",
          "Year": "1970-01-01T00:00:00",
          "value": 113,
          "variable": "Horsepower"
         },
         {
          "Name": "amc gremlin",
          "Origin": "USA",
          "Year": "1970-01-01T00:00:00",
          "value": 90,
          "variable": "Horsepower"
         },
         {
          "Name": "ford f250",
          "Origin": "USA",
          "Year": "1970-01-01T00:00:00",
          "value": 215,
          "variable": "Horsepower"
         },
         {
          "Name": "chevy c20",
          "Origin": "USA",
          "Year": "1970-01-01T00:00:00",
          "value": 200,
          "variable": "Horsepower"
         },
         {
          "Name": "dodge d200",
          "Origin": "USA",
          "Year": "1970-01-01T00:00:00",
          "value": 210,
          "variable": "Horsepower"
         },
         {
          "Name": "hi 1200d",
          "Origin": "USA",
          "Year": "1970-01-01T00:00:00",
          "value": 193,
          "variable": "Horsepower"
         },
         {
          "Name": "datsun pl510",
          "Origin": "Japan",
          "Year": "1971-01-01T00:00:00",
          "value": 88,
          "variable": "Horsepower"
         },
         {
          "Name": "chevrolet vega 2300",
          "Origin": "USA",
          "Year": "1971-01-01T00:00:00",
          "value": 90,
          "variable": "Horsepower"
         },
         {
          "Name": "toyota corona",
          "Origin": "Japan",
          "Year": "1971-01-01T00:00:00",
          "value": 95,
          "variable": "Horsepower"
         },
         {
          "Name": "ford pinto",
          "Origin": "USA",
          "Year": "1971-01-01T00:00:00",
          "value": null,
          "variable": "Horsepower"
         },
         {
          "Name": "volkswagen super beetle 117",
          "Origin": "Europe",
          "Year": "1971-01-01T00:00:00",
          "value": 48,
          "variable": "Horsepower"
         },
         {
          "Name": "amc gremlin",
          "Origin": "USA",
          "Year": "1971-01-01T00:00:00",
          "value": 100,
          "variable": "Horsepower"
         },
         {
          "Name": "plymouth satellite custom",
          "Origin": "USA",
          "Year": "1971-01-01T00:00:00",
          "value": 105,
          "variable": "Horsepower"
         },
         {
          "Name": "chevrolet chevelle malibu",
          "Origin": "USA",
          "Year": "1971-01-01T00:00:00",
          "value": 100,
          "variable": "Horsepower"
         },
         {
          "Name": "ford torino 500",
          "Origin": "USA",
          "Year": "1971-01-01T00:00:00",
          "value": 88,
          "variable": "Horsepower"
         },
         {
          "Name": "amc matador",
          "Origin": "USA",
          "Year": "1971-01-01T00:00:00",
          "value": 100,
          "variable": "Horsepower"
         },
         {
          "Name": "chevrolet impala",
          "Origin": "USA",
          "Year": "1971-01-01T00:00:00",
          "value": 165,
          "variable": "Horsepower"
         },
         {
          "Name": "pontiac catalina brougham",
          "Origin": "USA",
          "Year": "1971-01-01T00:00:00",
          "value": 175,
          "variable": "Horsepower"
         },
         {
          "Name": "ford galaxie 500",
          "Origin": "USA",
          "Year": "1971-01-01T00:00:00",
          "value": 153,
          "variable": "Horsepower"
         },
         {
          "Name": "plymouth fury iii",
          "Origin": "USA",
          "Year": "1971-01-01T00:00:00",
          "value": 150,
          "variable": "Horsepower"
         },
         {
          "Name": "dodge monaco (sw)",
          "Origin": "USA",
          "Year": "1971-01-01T00:00:00",
          "value": 180,
          "variable": "Horsepower"
         },
         {
          "Name": "ford country squire (sw)",
          "Origin": "USA",
          "Year": "1971-01-01T00:00:00",
          "value": 170,
          "variable": "Horsepower"
         },
         {
          "Name": "pontiac safari (sw)",
          "Origin": "USA",
          "Year": "1971-01-01T00:00:00",
          "value": 175,
          "variable": "Horsepower"
         },
         {
          "Name": "amc hornet sportabout (sw)",
          "Origin": "USA",
          "Year": "1971-01-01T00:00:00",
          "value": 110,
          "variable": "Horsepower"
         },
         {
          "Name": "chevrolet vega (sw)",
          "Origin": "USA",
          "Year": "1971-01-01T00:00:00",
          "value": 72,
          "variable": "Horsepower"
         },
         {
          "Name": "pontiac firebird",
          "Origin": "USA",
          "Year": "1971-01-01T00:00:00",
          "value": 100,
          "variable": "Horsepower"
         },
         {
          "Name": "ford mustang",
          "Origin": "USA",
          "Year": "1971-01-01T00:00:00",
          "value": 88,
          "variable": "Horsepower"
         },
         {
          "Name": "mercury capri 2000",
          "Origin": "USA",
          "Year": "1971-01-01T00:00:00",
          "value": 86,
          "variable": "Horsepower"
         },
         {
          "Name": "opel 1900",
          "Origin": "Europe",
          "Year": "1971-01-01T00:00:00",
          "value": 90,
          "variable": "Horsepower"
         },
         {
          "Name": "peugeot 304",
          "Origin": "Europe",
          "Year": "1971-01-01T00:00:00",
          "value": 70,
          "variable": "Horsepower"
         },
         {
          "Name": "fiat 124b",
          "Origin": "Europe",
          "Year": "1971-01-01T00:00:00",
          "value": 76,
          "variable": "Horsepower"
         },
         {
          "Name": "toyota corolla 1200",
          "Origin": "Japan",
          "Year": "1971-01-01T00:00:00",
          "value": 65,
          "variable": "Horsepower"
         },
         {
          "Name": "datsun 1200",
          "Origin": "Japan",
          "Year": "1971-01-01T00:00:00",
          "value": 69,
          "variable": "Horsepower"
         },
         {
          "Name": "volkswagen model 111",
          "Origin": "Europe",
          "Year": "1971-01-01T00:00:00",
          "value": 60,
          "variable": "Horsepower"
         },
         {
          "Name": "plymouth cricket",
          "Origin": "USA",
          "Year": "1971-01-01T00:00:00",
          "value": 70,
          "variable": "Horsepower"
         },
         {
          "Name": "toyota corona hardtop",
          "Origin": "Japan",
          "Year": "1972-01-01T00:00:00",
          "value": 95,
          "variable": "Horsepower"
         },
         {
          "Name": "dodge colt hardtop",
          "Origin": "USA",
          "Year": "1972-01-01T00:00:00",
          "value": 80,
          "variable": "Horsepower"
         },
         {
          "Name": "volkswagen type 3",
          "Origin": "Europe",
          "Year": "1972-01-01T00:00:00",
          "value": 54,
          "variable": "Horsepower"
         },
         {
          "Name": "chevrolet vega",
          "Origin": "USA",
          "Year": "1972-01-01T00:00:00",
          "value": 90,
          "variable": "Horsepower"
         },
         {
          "Name": "ford pinto runabout",
          "Origin": "USA",
          "Year": "1972-01-01T00:00:00",
          "value": 86,
          "variable": "Horsepower"
         },
         {
          "Name": "chevrolet impala",
          "Origin": "USA",
          "Year": "1972-01-01T00:00:00",
          "value": 165,
          "variable": "Horsepower"
         },
         {
          "Name": "pontiac catalina",
          "Origin": "USA",
          "Year": "1972-01-01T00:00:00",
          "value": 175,
          "variable": "Horsepower"
         },
         {
          "Name": "plymouth fury iii",
          "Origin": "USA",
          "Year": "1972-01-01T00:00:00",
          "value": 150,
          "variable": "Horsepower"
         },
         {
          "Name": "ford galaxie 500",
          "Origin": "USA",
          "Year": "1972-01-01T00:00:00",
          "value": 153,
          "variable": "Horsepower"
         },
         {
          "Name": "amc ambassador sst",
          "Origin": "USA",
          "Year": "1972-01-01T00:00:00",
          "value": 150,
          "variable": "Horsepower"
         },
         {
          "Name": "mercury marquis",
          "Origin": "USA",
          "Year": "1972-01-01T00:00:00",
          "value": 208,
          "variable": "Horsepower"
         },
         {
          "Name": "buick lesabre custom",
          "Origin": "USA",
          "Year": "1972-01-01T00:00:00",
          "value": 155,
          "variable": "Horsepower"
         },
         {
          "Name": "oldsmobile delta 88 royale",
          "Origin": "USA",
          "Year": "1972-01-01T00:00:00",
          "value": 160,
          "variable": "Horsepower"
         },
         {
          "Name": "chrysler newport royal",
          "Origin": "USA",
          "Year": "1972-01-01T00:00:00",
          "value": 190,
          "variable": "Horsepower"
         },
         {
          "Name": "mazda rx2 coupe",
          "Origin": "Japan",
          "Year": "1972-01-01T00:00:00",
          "value": 97,
          "variable": "Horsepower"
         },
         {
          "Name": "amc matador (sw)",
          "Origin": "USA",
          "Year": "1972-01-01T00:00:00",
          "value": 150,
          "variable": "Horsepower"
         },
         {
          "Name": "chevrolet chevelle concours (sw)",
          "Origin": "USA",
          "Year": "1972-01-01T00:00:00",
          "value": 130,
          "variable": "Horsepower"
         },
         {
          "Name": "ford gran torino (sw)",
          "Origin": "USA",
          "Year": "1972-01-01T00:00:00",
          "value": 140,
          "variable": "Horsepower"
         },
         {
          "Name": "plymouth satellite custom (sw)",
          "Origin": "USA",
          "Year": "1972-01-01T00:00:00",
          "value": 150,
          "variable": "Horsepower"
         },
         {
          "Name": "volvo 145e (sw)",
          "Origin": "Europe",
          "Year": "1972-01-01T00:00:00",
          "value": 112,
          "variable": "Horsepower"
         },
         {
          "Name": "volkswagen 411 (sw)",
          "Origin": "Europe",
          "Year": "1972-01-01T00:00:00",
          "value": 76,
          "variable": "Horsepower"
         },
         {
          "Name": "peugeot 504 (sw)",
          "Origin": "Europe",
          "Year": "1972-01-01T00:00:00",
          "value": 87,
          "variable": "Horsepower"
         },
         {
          "Name": "renault 12 (sw)",
          "Origin": "Europe",
          "Year": "1972-01-01T00:00:00",
          "value": 69,
          "variable": "Horsepower"
         },
         {
          "Name": "ford pinto (sw)",
          "Origin": "USA",
          "Year": "1972-01-01T00:00:00",
          "value": 86,
          "variable": "Horsepower"
         },
         {
          "Name": "datsun 510 (sw)",
          "Origin": "Japan",
          "Year": "1972-01-01T00:00:00",
          "value": 92,
          "variable": "Horsepower"
         },
         {
          "Name": "toyouta corona mark ii (sw)",
          "Origin": "Japan",
          "Year": "1972-01-01T00:00:00",
          "value": 97,
          "variable": "Horsepower"
         },
         {
          "Name": "dodge colt (sw)",
          "Origin": "USA",
          "Year": "1972-01-01T00:00:00",
          "value": 80,
          "variable": "Horsepower"
         },
         {
          "Name": "toyota corolla 1600 (sw)",
          "Origin": "Japan",
          "Year": "1972-01-01T00:00:00",
          "value": 88,
          "variable": "Horsepower"
         },
         {
          "Name": "buick century 350",
          "Origin": "USA",
          "Year": "1973-01-01T00:00:00",
          "value": 175,
          "variable": "Horsepower"
         },
         {
          "Name": "amc matador",
          "Origin": "USA",
          "Year": "1973-01-01T00:00:00",
          "value": 150,
          "variable": "Horsepower"
         },
         {
          "Name": "chevrolet malibu",
          "Origin": "USA",
          "Year": "1973-01-01T00:00:00",
          "value": 145,
          "variable": "Horsepower"
         },
         {
          "Name": "ford gran torino",
          "Origin": "USA",
          "Year": "1973-01-01T00:00:00",
          "value": 137,
          "variable": "Horsepower"
         },
         {
          "Name": "dodge coronet custom",
          "Origin": "USA",
          "Year": "1973-01-01T00:00:00",
          "value": 150,
          "variable": "Horsepower"
         },
         {
          "Name": "mercury marquis brougham",
          "Origin": "USA",
          "Year": "1973-01-01T00:00:00",
          "value": 198,
          "variable": "Horsepower"
         },
         {
          "Name": "chevrolet caprice classic",
          "Origin": "USA",
          "Year": "1973-01-01T00:00:00",
          "value": 150,
          "variable": "Horsepower"
         },
         {
          "Name": "ford ltd",
          "Origin": "USA",
          "Year": "1973-01-01T00:00:00",
          "value": 158,
          "variable": "Horsepower"
         },
         {
          "Name": "plymouth fury gran sedan",
          "Origin": "USA",
          "Year": "1973-01-01T00:00:00",
          "value": 150,
          "variable": "Horsepower"
         },
         {
          "Name": "chrysler new yorker brougham",
          "Origin": "USA",
          "Year": "1973-01-01T00:00:00",
          "value": 215,
          "variable": "Horsepower"
         },
         {
          "Name": "buick electra 225 custom",
          "Origin": "USA",
          "Year": "1973-01-01T00:00:00",
          "value": 225,
          "variable": "Horsepower"
         },
         {
          "Name": "amc ambassador brougham",
          "Origin": "USA",
          "Year": "1973-01-01T00:00:00",
          "value": 175,
          "variable": "Horsepower"
         },
         {
          "Name": "plymouth valiant",
          "Origin": "USA",
          "Year": "1973-01-01T00:00:00",
          "value": 105,
          "variable": "Horsepower"
         },
         {
          "Name": "chevrolet nova custom",
          "Origin": "USA",
          "Year": "1973-01-01T00:00:00",
          "value": 100,
          "variable": "Horsepower"
         },
         {
          "Name": "amc hornet",
          "Origin": "USA",
          "Year": "1973-01-01T00:00:00",
          "value": 100,
          "variable": "Horsepower"
         },
         {
          "Name": "ford maverick",
          "Origin": "USA",
          "Year": "1973-01-01T00:00:00",
          "value": 88,
          "variable": "Horsepower"
         },
         {
          "Name": "plymouth duster",
          "Origin": "USA",
          "Year": "1973-01-01T00:00:00",
          "value": 95,
          "variable": "Horsepower"
         },
         {
          "Name": "volkswagen super beetle",
          "Origin": "Europe",
          "Year": "1973-01-01T00:00:00",
          "value": 46,
          "variable": "Horsepower"
         },
         {
          "Name": "chevrolet impala",
          "Origin": "USA",
          "Year": "1973-01-01T00:00:00",
          "value": 150,
          "variable": "Horsepower"
         },
         {
          "Name": "ford country",
          "Origin": "USA",
          "Year": "1973-01-01T00:00:00",
          "value": 167,
          "variable": "Horsepower"
         },
         {
          "Name": "plymouth custom suburb",
          "Origin": "USA",
          "Year": "1973-01-01T00:00:00",
          "value": 170,
          "variable": "Horsepower"
         },
         {
          "Name": "oldsmobile vista cruiser",
          "Origin": "USA",
          "Year": "1973-01-01T00:00:00",
          "value": 180,
          "variable": "Horsepower"
         },
         {
          "Name": "amc gremlin",
          "Origin": "USA",
          "Year": "1973-01-01T00:00:00",
          "value": 100,
          "variable": "Horsepower"
         },
         {
          "Name": "toyota carina",
          "Origin": "Japan",
          "Year": "1973-01-01T00:00:00",
          "value": 88,
          "variable": "Horsepower"
         },
         {
          "Name": "chevrolet vega",
          "Origin": "USA",
          "Year": "1973-01-01T00:00:00",
          "value": 72,
          "variable": "Horsepower"
         },
         {
          "Name": "datsun 610",
          "Origin": "Japan",
          "Year": "1973-01-01T00:00:00",
          "value": 94,
          "variable": "Horsepower"
         },
         {
          "Name": "maxda rx3",
          "Origin": "Japan",
          "Year": "1973-01-01T00:00:00",
          "value": 90,
          "variable": "Horsepower"
         },
         {
          "Name": "ford pinto",
          "Origin": "USA",
          "Year": "1973-01-01T00:00:00",
          "value": 85,
          "variable": "Horsepower"
         },
         {
          "Name": "mercury capri v6",
          "Origin": "USA",
          "Year": "1973-01-01T00:00:00",
          "value": 107,
          "variable": "Horsepower"
         },
         {
          "Name": "fiat 124 sport coupe",
          "Origin": "Europe",
          "Year": "1973-01-01T00:00:00",
          "value": 90,
          "variable": "Horsepower"
         },
         {
          "Name": "chevrolet monte carlo s",
          "Origin": "USA",
          "Year": "1973-01-01T00:00:00",
          "value": 145,
          "variable": "Horsepower"
         },
         {
          "Name": "pontiac grand prix",
          "Origin": "USA",
          "Year": "1973-01-01T00:00:00",
          "value": 230,
          "variable": "Horsepower"
         },
         {
          "Name": "fiat 128",
          "Origin": "Europe",
          "Year": "1973-01-01T00:00:00",
          "value": 49,
          "variable": "Horsepower"
         },
         {
          "Name": "opel manta",
          "Origin": "Europe",
          "Year": "1973-01-01T00:00:00",
          "value": 75,
          "variable": "Horsepower"
         },
         {
          "Name": "audi 100ls",
          "Origin": "Europe",
          "Year": "1973-01-01T00:00:00",
          "value": 91,
          "variable": "Horsepower"
         },
         {
          "Name": "volvo 144ea",
          "Origin": "Europe",
          "Year": "1973-01-01T00:00:00",
          "value": 112,
          "variable": "Horsepower"
         },
         {
          "Name": "dodge dart custom",
          "Origin": "USA",
          "Year": "1973-01-01T00:00:00",
          "value": 150,
          "variable": "Horsepower"
         },
         {
          "Name": "saab 99le",
          "Origin": "Europe",
          "Year": "1973-01-01T00:00:00",
          "value": 110,
          "variable": "Horsepower"
         },
         {
          "Name": "toyota mark ii",
          "Origin": "Japan",
          "Year": "1973-01-01T00:00:00",
          "value": 122,
          "variable": "Horsepower"
         },
         {
          "Name": "oldsmobile omega",
          "Origin": "USA",
          "Year": "1973-01-01T00:00:00",
          "value": 180,
          "variable": "Horsepower"
         },
         {
          "Name": "plymouth duster",
          "Origin": "USA",
          "Year": "1974-01-01T00:00:00",
          "value": 95,
          "variable": "Horsepower"
         },
         {
          "Name": "ford maverick",
          "Origin": "USA",
          "Year": "1974-01-01T00:00:00",
          "value": null,
          "variable": "Horsepower"
         },
         {
          "Name": "amc hornet",
          "Origin": "USA",
          "Year": "1974-01-01T00:00:00",
          "value": 100,
          "variable": "Horsepower"
         },
         {
          "Name": "chevrolet nova",
          "Origin": "USA",
          "Year": "1974-01-01T00:00:00",
          "value": 100,
          "variable": "Horsepower"
         },
         {
          "Name": "datsun b210",
          "Origin": "Japan",
          "Year": "1974-01-01T00:00:00",
          "value": 67,
          "variable": "Horsepower"
         },
         {
          "Name": "ford pinto",
          "Origin": "USA",
          "Year": "1974-01-01T00:00:00",
          "value": 80,
          "variable": "Horsepower"
         },
         {
          "Name": "toyota corolla 1200",
          "Origin": "Japan",
          "Year": "1974-01-01T00:00:00",
          "value": 65,
          "variable": "Horsepower"
         },
         {
          "Name": "chevrolet vega",
          "Origin": "USA",
          "Year": "1974-01-01T00:00:00",
          "value": 75,
          "variable": "Horsepower"
         },
         {
          "Name": "chevrolet chevelle malibu classic",
          "Origin": "USA",
          "Year": "1974-01-01T00:00:00",
          "value": 100,
          "variable": "Horsepower"
         },
         {
          "Name": "amc matador",
          "Origin": "USA",
          "Year": "1974-01-01T00:00:00",
          "value": 110,
          "variable": "Horsepower"
         },
         {
          "Name": "plymouth satellite sebring",
          "Origin": "USA",
          "Year": "1974-01-01T00:00:00",
          "value": 105,
          "variable": "Horsepower"
         },
         {
          "Name": "ford gran torino",
          "Origin": "USA",
          "Year": "1974-01-01T00:00:00",
          "value": 140,
          "variable": "Horsepower"
         },
         {
          "Name": "buick century luxus (sw)",
          "Origin": "USA",
          "Year": "1974-01-01T00:00:00",
          "value": 150,
          "variable": "Horsepower"
         },
         {
          "Name": "dodge coronet custom (sw)",
          "Origin": "USA",
          "Year": "1974-01-01T00:00:00",
          "value": 150,
          "variable": "Horsepower"
         },
         {
          "Name": "ford gran torino (sw)",
          "Origin": "USA",
          "Year": "1974-01-01T00:00:00",
          "value": 140,
          "variable": "Horsepower"
         },
         {
          "Name": "amc matador (sw)",
          "Origin": "USA",
          "Year": "1974-01-01T00:00:00",
          "value": 150,
          "variable": "Horsepower"
         },
         {
          "Name": "audi fox",
          "Origin": "Europe",
          "Year": "1974-01-01T00:00:00",
          "value": 83,
          "variable": "Horsepower"
         },
         {
          "Name": "volkswagen dasher",
          "Origin": "Europe",
          "Year": "1974-01-01T00:00:00",
          "value": 67,
          "variable": "Horsepower"
         },
         {
          "Name": "opel manta",
          "Origin": "Europe",
          "Year": "1974-01-01T00:00:00",
          "value": 78,
          "variable": "Horsepower"
         },
         {
          "Name": "toyota corona",
          "Origin": "Japan",
          "Year": "1974-01-01T00:00:00",
          "value": 52,
          "variable": "Horsepower"
         },
         {
          "Name": "datsun 710",
          "Origin": "Japan",
          "Year": "1974-01-01T00:00:00",
          "value": 61,
          "variable": "Horsepower"
         },
         {
          "Name": "dodge colt",
          "Origin": "USA",
          "Year": "1974-01-01T00:00:00",
          "value": 75,
          "variable": "Horsepower"
         },
         {
          "Name": "fiat 128",
          "Origin": "Europe",
          "Year": "1974-01-01T00:00:00",
          "value": 75,
          "variable": "Horsepower"
         },
         {
          "Name": "fiat 124 tc",
          "Origin": "Europe",
          "Year": "1974-01-01T00:00:00",
          "value": 75,
          "variable": "Horsepower"
         },
         {
          "Name": "honda civic",
          "Origin": "Japan",
          "Year": "1974-01-01T00:00:00",
          "value": 97,
          "variable": "Horsepower"
         },
         {
          "Name": "subaru",
          "Origin": "Japan",
          "Year": "1974-01-01T00:00:00",
          "value": 93,
          "variable": "Horsepower"
         },
         {
          "Name": "fiat x1.9",
          "Origin": "Europe",
          "Year": "1974-01-01T00:00:00",
          "value": 67,
          "variable": "Horsepower"
         },
         {
          "Name": "plymouth valiant custom",
          "Origin": "USA",
          "Year": "1975-01-01T00:00:00",
          "value": 95,
          "variable": "Horsepower"
         },
         {
          "Name": "chevrolet nova",
          "Origin": "USA",
          "Year": "1975-01-01T00:00:00",
          "value": 105,
          "variable": "Horsepower"
         },
         {
          "Name": "mercury monarch",
          "Origin": "USA",
          "Year": "1975-01-01T00:00:00",
          "value": 72,
          "variable": "Horsepower"
         },
         {
          "Name": "ford maverick",
          "Origin": "USA",
          "Year": "1975-01-01T00:00:00",
          "value": 72,
          "variable": "Horsepower"
         },
         {
          "Name": "pontiac catalina",
          "Origin": "USA",
          "Year": "1975-01-01T00:00:00",
          "value": 170,
          "variable": "Horsepower"
         },
         {
          "Name": "chevrolet bel air",
          "Origin": "USA",
          "Year": "1975-01-01T00:00:00",
          "value": 145,
          "variable": "Horsepower"
         },
         {
          "Name": "plymouth grand fury",
          "Origin": "USA",
          "Year": "1975-01-01T00:00:00",
          "value": 150,
          "variable": "Horsepower"
         },
         {
          "Name": "ford ltd",
          "Origin": "USA",
          "Year": "1975-01-01T00:00:00",
          "value": 148,
          "variable": "Horsepower"
         },
         {
          "Name": "buick century",
          "Origin": "USA",
          "Year": "1975-01-01T00:00:00",
          "value": 110,
          "variable": "Horsepower"
         },
         {
          "Name": "chevroelt chevelle malibu",
          "Origin": "USA",
          "Year": "1975-01-01T00:00:00",
          "value": 105,
          "variable": "Horsepower"
         },
         {
          "Name": "amc matador",
          "Origin": "USA",
          "Year": "1975-01-01T00:00:00",
          "value": 110,
          "variable": "Horsepower"
         },
         {
          "Name": "plymouth fury",
          "Origin": "USA",
          "Year": "1975-01-01T00:00:00",
          "value": 95,
          "variable": "Horsepower"
         },
         {
          "Name": "buick skyhawk",
          "Origin": "USA",
          "Year": "1975-01-01T00:00:00",
          "value": 110,
          "variable": "Horsepower"
         },
         {
          "Name": "chevrolet monza 2+2",
          "Origin": "USA",
          "Year": "1975-01-01T00:00:00",
          "value": 110,
          "variable": "Horsepower"
         },
         {
          "Name": "ford mustang ii",
          "Origin": "USA",
          "Year": "1975-01-01T00:00:00",
          "value": 129,
          "variable": "Horsepower"
         },
         {
          "Name": "toyota corolla",
          "Origin": "Japan",
          "Year": "1975-01-01T00:00:00",
          "value": 75,
          "variable": "Horsepower"
         },
         {
          "Name": "ford pinto",
          "Origin": "USA",
          "Year": "1975-01-01T00:00:00",
          "value": 83,
          "variable": "Horsepower"
         },
         {
          "Name": "amc gremlin",
          "Origin": "USA",
          "Year": "1975-01-01T00:00:00",
          "value": 100,
          "variable": "Horsepower"
         },
         {
          "Name": "pontiac astro",
          "Origin": "USA",
          "Year": "1975-01-01T00:00:00",
          "value": 78,
          "variable": "Horsepower"
         },
         {
          "Name": "toyota corona",
          "Origin": "Japan",
          "Year": "1975-01-01T00:00:00",
          "value": 96,
          "variable": "Horsepower"
         },
         {
          "Name": "volkswagen dasher",
          "Origin": "Europe",
          "Year": "1975-01-01T00:00:00",
          "value": 71,
          "variable": "Horsepower"
         },
         {
          "Name": "datsun 710",
          "Origin": "Japan",
          "Year": "1975-01-01T00:00:00",
          "value": 97,
          "variable": "Horsepower"
         },
         {
          "Name": "ford pinto",
          "Origin": "USA",
          "Year": "1975-01-01T00:00:00",
          "value": 97,
          "variable": "Horsepower"
         },
         {
          "Name": "volkswagen rabbit",
          "Origin": "Europe",
          "Year": "1975-01-01T00:00:00",
          "value": 70,
          "variable": "Horsepower"
         },
         {
          "Name": "amc pacer",
          "Origin": "USA",
          "Year": "1975-01-01T00:00:00",
          "value": 90,
          "variable": "Horsepower"
         },
         {
          "Name": "audi 100ls",
          "Origin": "Europe",
          "Year": "1975-01-01T00:00:00",
          "value": 95,
          "variable": "Horsepower"
         },
         {
          "Name": "peugeot 504",
          "Origin": "Europe",
          "Year": "1975-01-01T00:00:00",
          "value": 88,
          "variable": "Horsepower"
         },
         {
          "Name": "volvo 244dl",
          "Origin": "Europe",
          "Year": "1975-01-01T00:00:00",
          "value": 98,
          "variable": "Horsepower"
         },
         {
          "Name": "saab 99le",
          "Origin": "Europe",
          "Year": "1975-01-01T00:00:00",
          "value": 115,
          "variable": "Horsepower"
         },
         {
          "Name": "honda civic cvcc",
          "Origin": "Japan",
          "Year": "1975-01-01T00:00:00",
          "value": 53,
          "variable": "Horsepower"
         },
         {
          "Name": "fiat 131",
          "Origin": "Europe",
          "Year": "1976-01-01T00:00:00",
          "value": 86,
          "variable": "Horsepower"
         },
         {
          "Name": "opel 1900",
          "Origin": "Europe",
          "Year": "1976-01-01T00:00:00",
          "value": 81,
          "variable": "Horsepower"
         },
         {
          "Name": "capri ii",
          "Origin": "USA",
          "Year": "1976-01-01T00:00:00",
          "value": 92,
          "variable": "Horsepower"
         },
         {
          "Name": "dodge colt",
          "Origin": "USA",
          "Year": "1976-01-01T00:00:00",
          "value": 79,
          "variable": "Horsepower"
         },
         {
          "Name": "renault 12tl",
          "Origin": "Europe",
          "Year": "1976-01-01T00:00:00",
          "value": 83,
          "variable": "Horsepower"
         },
         {
          "Name": "chevrolet chevelle malibu classic",
          "Origin": "USA",
          "Year": "1976-01-01T00:00:00",
          "value": 140,
          "variable": "Horsepower"
         },
         {
          "Name": "dodge coronet brougham",
          "Origin": "USA",
          "Year": "1976-01-01T00:00:00",
          "value": 150,
          "variable": "Horsepower"
         },
         {
          "Name": "amc matador",
          "Origin": "USA",
          "Year": "1976-01-01T00:00:00",
          "value": 120,
          "variable": "Horsepower"
         },
         {
          "Name": "ford gran torino",
          "Origin": "USA",
          "Year": "1976-01-01T00:00:00",
          "value": 152,
          "variable": "Horsepower"
         },
         {
          "Name": "plymouth valiant",
          "Origin": "USA",
          "Year": "1976-01-01T00:00:00",
          "value": 100,
          "variable": "Horsepower"
         },
         {
          "Name": "chevrolet nova",
          "Origin": "USA",
          "Year": "1976-01-01T00:00:00",
          "value": 105,
          "variable": "Horsepower"
         },
         {
          "Name": "ford maverick",
          "Origin": "USA",
          "Year": "1976-01-01T00:00:00",
          "value": 81,
          "variable": "Horsepower"
         },
         {
          "Name": "amc hornet",
          "Origin": "USA",
          "Year": "1976-01-01T00:00:00",
          "value": 90,
          "variable": "Horsepower"
         },
         {
          "Name": "chevrolet chevette",
          "Origin": "USA",
          "Year": "1976-01-01T00:00:00",
          "value": 52,
          "variable": "Horsepower"
         },
         {
          "Name": "chevrolet woody",
          "Origin": "USA",
          "Year": "1976-01-01T00:00:00",
          "value": 60,
          "variable": "Horsepower"
         },
         {
          "Name": "vw rabbit",
          "Origin": "Europe",
          "Year": "1976-01-01T00:00:00",
          "value": 70,
          "variable": "Horsepower"
         },
         {
          "Name": "honda civic",
          "Origin": "Japan",
          "Year": "1976-01-01T00:00:00",
          "value": 53,
          "variable": "Horsepower"
         },
         {
          "Name": "dodge aspen se",
          "Origin": "USA",
          "Year": "1976-01-01T00:00:00",
          "value": 100,
          "variable": "Horsepower"
         },
         {
          "Name": "ford granada ghia",
          "Origin": "USA",
          "Year": "1976-01-01T00:00:00",
          "value": 78,
          "variable": "Horsepower"
         },
         {
          "Name": "pontiac ventura sj",
          "Origin": "USA",
          "Year": "1976-01-01T00:00:00",
          "value": 110,
          "variable": "Horsepower"
         },
         {
          "Name": "amc pacer d/l",
          "Origin": "USA",
          "Year": "1976-01-01T00:00:00",
          "value": 95,
          "variable": "Horsepower"
         },
         {
          "Name": "volkswagen rabbit",
          "Origin": "Europe",
          "Year": "1976-01-01T00:00:00",
          "value": 71,
          "variable": "Horsepower"
         },
         {
          "Name": "datsun b-210",
          "Origin": "Japan",
          "Year": "1976-01-01T00:00:00",
          "value": 70,
          "variable": "Horsepower"
         },
         {
          "Name": "toyota corolla",
          "Origin": "Japan",
          "Year": "1976-01-01T00:00:00",
          "value": 75,
          "variable": "Horsepower"
         },
         {
          "Name": "ford pinto",
          "Origin": "USA",
          "Year": "1976-01-01T00:00:00",
          "value": 72,
          "variable": "Horsepower"
         },
         {
          "Name": "volvo 245",
          "Origin": "Europe",
          "Year": "1976-01-01T00:00:00",
          "value": 102,
          "variable": "Horsepower"
         },
         {
          "Name": "plymouth volare premier v8",
          "Origin": "USA",
          "Year": "1976-01-01T00:00:00",
          "value": 150,
          "variable": "Horsepower"
         },
         {
          "Name": "peugeot 504",
          "Origin": "Europe",
          "Year": "1976-01-01T00:00:00",
          "value": 88,
          "variable": "Horsepower"
         },
         {
          "Name": "toyota mark ii",
          "Origin": "Japan",
          "Year": "1976-01-01T00:00:00",
          "value": 108,
          "variable": "Horsepower"
         },
         {
          "Name": "mercedes-benz 280s",
          "Origin": "Europe",
          "Year": "1976-01-01T00:00:00",
          "value": 120,
          "variable": "Horsepower"
         },
         {
          "Name": "cadillac seville",
          "Origin": "USA",
          "Year": "1976-01-01T00:00:00",
          "value": 180,
          "variable": "Horsepower"
         },
         {
          "Name": "chevy c10",
          "Origin": "USA",
          "Year": "1976-01-01T00:00:00",
          "value": 145,
          "variable": "Horsepower"
         },
         {
          "Name": "ford f108",
          "Origin": "USA",
          "Year": "1976-01-01T00:00:00",
          "value": 130,
          "variable": "Horsepower"
         },
         {
          "Name": "dodge d100",
          "Origin": "USA",
          "Year": "1976-01-01T00:00:00",
          "value": 150,
          "variable": "Horsepower"
         },
         {
          "Name": "honda Accelerationord cvcc",
          "Origin": "Japan",
          "Year": "1977-01-01T00:00:00",
          "value": 68,
          "variable": "Horsepower"
         },
         {
          "Name": "buick opel isuzu deluxe",
          "Origin": "USA",
          "Year": "1977-01-01T00:00:00",
          "value": 80,
          "variable": "Horsepower"
         },
         {
          "Name": "renault 5 gtl",
          "Origin": "Europe",
          "Year": "1977-01-01T00:00:00",
          "value": 58,
          "variable": "Horsepower"
         },
         {
          "Name": "plymouth arrow gs",
          "Origin": "USA",
          "Year": "1977-01-01T00:00:00",
          "value": 96,
          "variable": "Horsepower"
         },
         {
          "Name": "datsun f-10 hatchback",
          "Origin": "Japan",
          "Year": "1977-01-01T00:00:00",
          "value": 70,
          "variable": "Horsepower"
         },
         {
          "Name": "chevrolet caprice classic",
          "Origin": "USA",
          "Year": "1977-01-01T00:00:00",
          "value": 145,
          "variable": "Horsepower"
         },
         {
          "Name": "oldsmobile cutlass supreme",
          "Origin": "USA",
          "Year": "1977-01-01T00:00:00",
          "value": 110,
          "variable": "Horsepower"
         },
         {
          "Name": "dodge monaco brougham",
          "Origin": "USA",
          "Year": "1977-01-01T00:00:00",
          "value": 145,
          "variable": "Horsepower"
         },
         {
          "Name": "mercury cougar brougham",
          "Origin": "USA",
          "Year": "1977-01-01T00:00:00",
          "value": 130,
          "variable": "Horsepower"
         },
         {
          "Name": "chevrolet concours",
          "Origin": "USA",
          "Year": "1977-01-01T00:00:00",
          "value": 110,
          "variable": "Horsepower"
         },
         {
          "Name": "buick skylark",
          "Origin": "USA",
          "Year": "1977-01-01T00:00:00",
          "value": 105,
          "variable": "Horsepower"
         },
         {
          "Name": "plymouth volare custom",
          "Origin": "USA",
          "Year": "1977-01-01T00:00:00",
          "value": 100,
          "variable": "Horsepower"
         },
         {
          "Name": "ford granada",
          "Origin": "USA",
          "Year": "1977-01-01T00:00:00",
          "value": 98,
          "variable": "Horsepower"
         },
         {
          "Name": "pontiac grand prix lj",
          "Origin": "USA",
          "Year": "1977-01-01T00:00:00",
          "value": 180,
          "variable": "Horsepower"
         },
         {
          "Name": "chevrolet monte carlo landau",
          "Origin": "USA",
          "Year": "1977-01-01T00:00:00",
          "value": 170,
          "variable": "Horsepower"
         },
         {
          "Name": "chrysler cordoba",
          "Origin": "USA",
          "Year": "1977-01-01T00:00:00",
          "value": 190,
          "variable": "Horsepower"
         },
         {
          "Name": "ford thunderbird",
          "Origin": "USA",
          "Year": "1977-01-01T00:00:00",
          "value": 149,
          "variable": "Horsepower"
         },
         {
          "Name": "volkswagen rabbit custom",
          "Origin": "Europe",
          "Year": "1977-01-01T00:00:00",
          "value": 78,
          "variable": "Horsepower"
         },
         {
          "Name": "pontiac sunbird coupe",
          "Origin": "USA",
          "Year": "1977-01-01T00:00:00",
          "value": 88,
          "variable": "Horsepower"
         },
         {
          "Name": "toyota corolla liftback",
          "Origin": "Japan",
          "Year": "1977-01-01T00:00:00",
          "value": 75,
          "variable": "Horsepower"
         },
         {
          "Name": "ford mustang ii 2+2",
          "Origin": "USA",
          "Year": "1977-01-01T00:00:00",
          "value": 89,
          "variable": "Horsepower"
         },
         {
          "Name": "chevrolet chevette",
          "Origin": "USA",
          "Year": "1977-01-01T00:00:00",
          "value": 63,
          "variable": "Horsepower"
         },
         {
          "Name": "dodge colt m/m",
          "Origin": "USA",
          "Year": "1977-01-01T00:00:00",
          "value": 83,
          "variable": "Horsepower"
         },
         {
          "Name": "subaru dl",
          "Origin": "Japan",
          "Year": "1977-01-01T00:00:00",
          "value": 67,
          "variable": "Horsepower"
         },
         {
          "Name": "volkswagen dasher",
          "Origin": "Europe",
          "Year": "1977-01-01T00:00:00",
          "value": 78,
          "variable": "Horsepower"
         },
         {
          "Name": "datsun 810",
          "Origin": "Japan",
          "Year": "1977-01-01T00:00:00",
          "value": 97,
          "variable": "Horsepower"
         },
         {
          "Name": "bmw 320i",
          "Origin": "Europe",
          "Year": "1977-01-01T00:00:00",
          "value": 110,
          "variable": "Horsepower"
         },
         {
          "Name": "mazda rx-4",
          "Origin": "Japan",
          "Year": "1977-01-01T00:00:00",
          "value": 110,
          "variable": "Horsepower"
         },
         {
          "Name": "volkswagen rabbit custom diesel",
          "Origin": "Europe",
          "Year": "1978-01-01T00:00:00",
          "value": 48,
          "variable": "Horsepower"
         },
         {
          "Name": "ford fiesta",
          "Origin": "USA",
          "Year": "1978-01-01T00:00:00",
          "value": 66,
          "variable": "Horsepower"
         },
         {
          "Name": "mazda glc deluxe",
          "Origin": "Japan",
          "Year": "1978-01-01T00:00:00",
          "value": 52,
          "variable": "Horsepower"
         },
         {
          "Name": "datsun b210 gx",
          "Origin": "Japan",
          "Year": "1978-01-01T00:00:00",
          "value": 70,
          "variable": "Horsepower"
         },
         {
          "Name": "honda civic cvcc",
          "Origin": "Japan",
          "Year": "1978-01-01T00:00:00",
          "value": 60,
          "variable": "Horsepower"
         },
         {
          "Name": "oldsmobile cutlass salon brougham",
          "Origin": "USA",
          "Year": "1978-01-01T00:00:00",
          "value": 110,
          "variable": "Horsepower"
         },
         {
          "Name": "dodge diplomat",
          "Origin": "USA",
          "Year": "1978-01-01T00:00:00",
          "value": 140,
          "variable": "Horsepower"
         },
         {
          "Name": "mercury monarch ghia",
          "Origin": "USA",
          "Year": "1978-01-01T00:00:00",
          "value": 139,
          "variable": "Horsepower"
         },
         {
          "Name": "pontiac phoenix lj",
          "Origin": "USA",
          "Year": "1978-01-01T00:00:00",
          "value": 105,
          "variable": "Horsepower"
         },
         {
          "Name": "chevrolet malibu",
          "Origin": "USA",
          "Year": "1978-01-01T00:00:00",
          "value": 95,
          "variable": "Horsepower"
         },
         {
          "Name": "ford fairmont (auto)",
          "Origin": "USA",
          "Year": "1978-01-01T00:00:00",
          "value": 85,
          "variable": "Horsepower"
         },
         {
          "Name": "ford fairmont (man)",
          "Origin": "USA",
          "Year": "1978-01-01T00:00:00",
          "value": 88,
          "variable": "Horsepower"
         },
         {
          "Name": "plymouth volare",
          "Origin": "USA",
          "Year": "1978-01-01T00:00:00",
          "value": 100,
          "variable": "Horsepower"
         },
         {
          "Name": "amc concord",
          "Origin": "USA",
          "Year": "1978-01-01T00:00:00",
          "value": 90,
          "variable": "Horsepower"
         },
         {
          "Name": "buick century special",
          "Origin": "USA",
          "Year": "1978-01-01T00:00:00",
          "value": 105,
          "variable": "Horsepower"
         },
         {
          "Name": "mercury zephyr",
          "Origin": "USA",
          "Year": "1978-01-01T00:00:00",
          "value": 85,
          "variable": "Horsepower"
         },
         {
          "Name": "dodge aspen",
          "Origin": "USA",
          "Year": "1978-01-01T00:00:00",
          "value": 110,
          "variable": "Horsepower"
         },
         {
          "Name": "amc concord d/l",
          "Origin": "USA",
          "Year": "1978-01-01T00:00:00",
          "value": 120,
          "variable": "Horsepower"
         },
         {
          "Name": "chevrolet monte carlo landau",
          "Origin": "USA",
          "Year": "1978-01-01T00:00:00",
          "value": 145,
          "variable": "Horsepower"
         },
         {
          "Name": "buick regal sport coupe (turbo)",
          "Origin": "USA",
          "Year": "1978-01-01T00:00:00",
          "value": 165,
          "variable": "Horsepower"
         },
         {
          "Name": "ford futura",
          "Origin": "USA",
          "Year": "1978-01-01T00:00:00",
          "value": 139,
          "variable": "Horsepower"
         },
         {
          "Name": "dodge magnum xe",
          "Origin": "USA",
          "Year": "1978-01-01T00:00:00",
          "value": 140,
          "variable": "Horsepower"
         },
         {
          "Name": "chevrolet chevette",
          "Origin": "USA",
          "Year": "1978-01-01T00:00:00",
          "value": 68,
          "variable": "Horsepower"
         },
         {
          "Name": "toyota corona",
          "Origin": "Japan",
          "Year": "1978-01-01T00:00:00",
          "value": 95,
          "variable": "Horsepower"
         },
         {
          "Name": "datsun 510",
          "Origin": "Japan",
          "Year": "1978-01-01T00:00:00",
          "value": 97,
          "variable": "Horsepower"
         },
         {
          "Name": "dodge omni",
          "Origin": "USA",
          "Year": "1978-01-01T00:00:00",
          "value": 75,
          "variable": "Horsepower"
         },
         {
          "Name": "toyota celica gt liftback",
          "Origin": "Japan",
          "Year": "1978-01-01T00:00:00",
          "value": 95,
          "variable": "Horsepower"
         },
         {
          "Name": "plymouth sapporo",
          "Origin": "USA",
          "Year": "1978-01-01T00:00:00",
          "value": 105,
          "variable": "Horsepower"
         },
         {
          "Name": "oldsmobile starfire sx",
          "Origin": "USA",
          "Year": "1978-01-01T00:00:00",
          "value": 85,
          "variable": "Horsepower"
         },
         {
          "Name": "datsun 200-sx",
          "Origin": "Japan",
          "Year": "1978-01-01T00:00:00",
          "value": 97,
          "variable": "Horsepower"
         },
         {
          "Name": "audi 5000",
          "Origin": "Europe",
          "Year": "1978-01-01T00:00:00",
          "value": 103,
          "variable": "Horsepower"
         },
         {
          "Name": "volvo 264gl",
          "Origin": "Europe",
          "Year": "1978-01-01T00:00:00",
          "value": 125,
          "variable": "Horsepower"
         },
         {
          "Name": "saab 99gle",
          "Origin": "Europe",
          "Year": "1978-01-01T00:00:00",
          "value": 115,
          "variable": "Horsepower"
         },
         {
          "Name": "peugeot 604sl",
          "Origin": "Europe",
          "Year": "1978-01-01T00:00:00",
          "value": 133,
          "variable": "Horsepower"
         },
         {
          "Name": "volkswagen scirocco",
          "Origin": "Europe",
          "Year": "1978-01-01T00:00:00",
          "value": 71,
          "variable": "Horsepower"
         },
         {
          "Name": "honda Accelerationord lx",
          "Origin": "Japan",
          "Year": "1978-01-01T00:00:00",
          "value": 68,
          "variable": "Horsepower"
         },
         {
          "Name": "pontiac lemans v6",
          "Origin": "USA",
          "Year": "1979-01-01T00:00:00",
          "value": 115,
          "variable": "Horsepower"
         },
         {
          "Name": "mercury zephyr 6",
          "Origin": "USA",
          "Year": "1979-01-01T00:00:00",
          "value": 85,
          "variable": "Horsepower"
         },
         {
          "Name": "ford fairmont 4",
          "Origin": "USA",
          "Year": "1979-01-01T00:00:00",
          "value": 88,
          "variable": "Horsepower"
         },
         {
          "Name": "amc concord dl 6",
          "Origin": "USA",
          "Year": "1979-01-01T00:00:00",
          "value": 90,
          "variable": "Horsepower"
         },
         {
          "Name": "dodge aspen 6",
          "Origin": "USA",
          "Year": "1979-01-01T00:00:00",
          "value": 110,
          "variable": "Horsepower"
         },
         {
          "Name": "chevrolet caprice classic",
          "Origin": "USA",
          "Year": "1979-01-01T00:00:00",
          "value": 130,
          "variable": "Horsepower"
         },
         {
          "Name": "ford ltd landau",
          "Origin": "USA",
          "Year": "1979-01-01T00:00:00",
          "value": 129,
          "variable": "Horsepower"
         },
         {
          "Name": "mercury grand marquis",
          "Origin": "USA",
          "Year": "1979-01-01T00:00:00",
          "value": 138,
          "variable": "Horsepower"
         },
         {
          "Name": "dodge st. regis",
          "Origin": "USA",
          "Year": "1979-01-01T00:00:00",
          "value": 135,
          "variable": "Horsepower"
         },
         {
          "Name": "buick estate wagon (sw)",
          "Origin": "USA",
          "Year": "1979-01-01T00:00:00",
          "value": 155,
          "variable": "Horsepower"
         },
         {
          "Name": "ford country squire (sw)",
          "Origin": "USA",
          "Year": "1979-01-01T00:00:00",
          "value": 142,
          "variable": "Horsepower"
         },
         {
          "Name": "chevrolet malibu classic (sw)",
          "Origin": "USA",
          "Year": "1979-01-01T00:00:00",
          "value": 125,
          "variable": "Horsepower"
         },
         {
          "Name": "chrysler lebaron town @ country (sw)",
          "Origin": "USA",
          "Year": "1979-01-01T00:00:00",
          "value": 150,
          "variable": "Horsepower"
         },
         {
          "Name": "vw rabbit custom",
          "Origin": "Europe",
          "Year": "1979-01-01T00:00:00",
          "value": 71,
          "variable": "Horsepower"
         },
         {
          "Name": "maxda glc deluxe",
          "Origin": "Japan",
          "Year": "1979-01-01T00:00:00",
          "value": 65,
          "variable": "Horsepower"
         },
         {
          "Name": "dodge colt hatchback custom",
          "Origin": "USA",
          "Year": "1979-01-01T00:00:00",
          "value": 80,
          "variable": "Horsepower"
         },
         {
          "Name": "amc spirit dl",
          "Origin": "USA",
          "Year": "1979-01-01T00:00:00",
          "value": 80,
          "variable": "Horsepower"
         },
         {
          "Name": "mercedes benz 300d",
          "Origin": "Europe",
          "Year": "1979-01-01T00:00:00",
          "value": 77,
          "variable": "Horsepower"
         },
         {
          "Name": "cadillac eldorado",
          "Origin": "USA",
          "Year": "1979-01-01T00:00:00",
          "value": 125,
          "variable": "Horsepower"
         },
         {
          "Name": "peugeot 504",
          "Origin": "Europe",
          "Year": "1979-01-01T00:00:00",
          "value": 71,
          "variable": "Horsepower"
         },
         {
          "Name": "oldsmobile cutlass salon brougham",
          "Origin": "USA",
          "Year": "1979-01-01T00:00:00",
          "value": 90,
          "variable": "Horsepower"
         },
         {
          "Name": "plymouth horizon",
          "Origin": "USA",
          "Year": "1979-01-01T00:00:00",
          "value": 70,
          "variable": "Horsepower"
         },
         {
          "Name": "plymouth horizon tc3",
          "Origin": "USA",
          "Year": "1979-01-01T00:00:00",
          "value": 70,
          "variable": "Horsepower"
         },
         {
          "Name": "datsun 210",
          "Origin": "Japan",
          "Year": "1979-01-01T00:00:00",
          "value": 65,
          "variable": "Horsepower"
         },
         {
          "Name": "fiat strada custom",
          "Origin": "Europe",
          "Year": "1979-01-01T00:00:00",
          "value": 69,
          "variable": "Horsepower"
         },
         {
          "Name": "buick skylark limited",
          "Origin": "USA",
          "Year": "1979-01-01T00:00:00",
          "value": 90,
          "variable": "Horsepower"
         },
         {
          "Name": "chevrolet citation",
          "Origin": "USA",
          "Year": "1979-01-01T00:00:00",
          "value": 115,
          "variable": "Horsepower"
         },
         {
          "Name": "oldsmobile omega brougham",
          "Origin": "USA",
          "Year": "1979-01-01T00:00:00",
          "value": 115,
          "variable": "Horsepower"
         },
         {
          "Name": "pontiac phoenix",
          "Origin": "USA",
          "Year": "1979-01-01T00:00:00",
          "value": 90,
          "variable": "Horsepower"
         },
         {
          "Name": "vw rabbit",
          "Origin": "Europe",
          "Year": "1980-01-01T00:00:00",
          "value": 76,
          "variable": "Horsepower"
         },
         {
          "Name": "toyota corolla tercel",
          "Origin": "Japan",
          "Year": "1980-01-01T00:00:00",
          "value": 60,
          "variable": "Horsepower"
         },
         {
          "Name": "chevrolet chevette",
          "Origin": "USA",
          "Year": "1980-01-01T00:00:00",
          "value": 70,
          "variable": "Horsepower"
         },
         {
          "Name": "datsun 310",
          "Origin": "Japan",
          "Year": "1980-01-01T00:00:00",
          "value": 65,
          "variable": "Horsepower"
         },
         {
          "Name": "chevrolet citation",
          "Origin": "USA",
          "Year": "1980-01-01T00:00:00",
          "value": 90,
          "variable": "Horsepower"
         },
         {
          "Name": "ford fairmont",
          "Origin": "USA",
          "Year": "1980-01-01T00:00:00",
          "value": 88,
          "variable": "Horsepower"
         },
         {
          "Name": "amc concord",
          "Origin": "USA",
          "Year": "1980-01-01T00:00:00",
          "value": 90,
          "variable": "Horsepower"
         },
         {
          "Name": "dodge aspen",
          "Origin": "USA",
          "Year": "1980-01-01T00:00:00",
          "value": 90,
          "variable": "Horsepower"
         },
         {
          "Name": "audi 4000",
          "Origin": "Europe",
          "Year": "1980-01-01T00:00:00",
          "value": 78,
          "variable": "Horsepower"
         },
         {
          "Name": "toyota corona liftback",
          "Origin": "Japan",
          "Year": "1980-01-01T00:00:00",
          "value": 90,
          "variable": "Horsepower"
         },
         {
          "Name": "mazda 626",
          "Origin": "Japan",
          "Year": "1980-01-01T00:00:00",
          "value": 75,
          "variable": "Horsepower"
         },
         {
          "Name": "datsun 510 hatchback",
          "Origin": "Japan",
          "Year": "1980-01-01T00:00:00",
          "value": 92,
          "variable": "Horsepower"
         },
         {
          "Name": "toyota corolla",
          "Origin": "Japan",
          "Year": "1980-01-01T00:00:00",
          "value": 75,
          "variable": "Horsepower"
         },
         {
          "Name": "mazda glc",
          "Origin": "Japan",
          "Year": "1980-01-01T00:00:00",
          "value": 65,
          "variable": "Horsepower"
         },
         {
          "Name": "dodge colt",
          "Origin": "USA",
          "Year": "1980-01-01T00:00:00",
          "value": 105,
          "variable": "Horsepower"
         },
         {
          "Name": "datsun 210",
          "Origin": "Japan",
          "Year": "1980-01-01T00:00:00",
          "value": 65,
          "variable": "Horsepower"
         },
         {
          "Name": "vw rabbit c (diesel)",
          "Origin": "Europe",
          "Year": "1980-01-01T00:00:00",
          "value": 48,
          "variable": "Horsepower"
         },
         {
          "Name": "vw dasher (diesel)",
          "Origin": "Europe",
          "Year": "1980-01-01T00:00:00",
          "value": 48,
          "variable": "Horsepower"
         },
         {
          "Name": "audi 5000s (diesel)",
          "Origin": "Europe",
          "Year": "1980-01-01T00:00:00",
          "value": 67,
          "variable": "Horsepower"
         },
         {
          "Name": "mercedes-benz 240d",
          "Origin": "Europe",
          "Year": "1980-01-01T00:00:00",
          "value": 67,
          "variable": "Horsepower"
         },
         {
          "Name": "honda civic 1500 gl",
          "Origin": "Japan",
          "Year": "1980-01-01T00:00:00",
          "value": 67,
          "variable": "Horsepower"
         },
         {
          "Name": "renault lecar deluxe",
          "Origin": "Europe",
          "Year": "1980-01-01T00:00:00",
          "value": null,
          "variable": "Horsepower"
         },
         {
          "Name": "subaru dl",
          "Origin": "Japan",
          "Year": "1980-01-01T00:00:00",
          "value": 67,
          "variable": "Horsepower"
         },
         {
          "Name": "vokswagen rabbit",
          "Origin": "Europe",
          "Year": "1980-01-01T00:00:00",
          "value": 62,
          "variable": "Horsepower"
         },
         {
          "Name": "datsun 280-zx",
          "Origin": "Japan",
          "Year": "1980-01-01T00:00:00",
          "value": 132,
          "variable": "Horsepower"
         },
         {
          "Name": "mazda rx-7 gs",
          "Origin": "Japan",
          "Year": "1980-01-01T00:00:00",
          "value": 100,
          "variable": "Horsepower"
         },
         {
          "Name": "triumph tr7 coupe",
          "Origin": "Europe",
          "Year": "1980-01-01T00:00:00",
          "value": 88,
          "variable": "Horsepower"
         },
         {
          "Name": "ford mustang cobra",
          "Origin": "USA",
          "Year": "1980-01-01T00:00:00",
          "value": null,
          "variable": "Horsepower"
         },
         {
          "Name": "honda Accelerationord",
          "Origin": "Japan",
          "Year": "1980-01-01T00:00:00",
          "value": 72,
          "variable": "Horsepower"
         },
         {
          "Name": "plymouth reliant",
          "Origin": "USA",
          "Year": "1982-01-01T00:00:00",
          "value": 84,
          "variable": "Horsepower"
         },
         {
          "Name": "buick skylark",
          "Origin": "USA",
          "Year": "1982-01-01T00:00:00",
          "value": 84,
          "variable": "Horsepower"
         },
         {
          "Name": "dodge aries wagon (sw)",
          "Origin": "USA",
          "Year": "1982-01-01T00:00:00",
          "value": 92,
          "variable": "Horsepower"
         },
         {
          "Name": "chevrolet citation",
          "Origin": "USA",
          "Year": "1982-01-01T00:00:00",
          "value": 110,
          "variable": "Horsepower"
         },
         {
          "Name": "plymouth reliant",
          "Origin": "USA",
          "Year": "1982-01-01T00:00:00",
          "value": 84,
          "variable": "Horsepower"
         },
         {
          "Name": "toyota starlet",
          "Origin": "Japan",
          "Year": "1982-01-01T00:00:00",
          "value": 58,
          "variable": "Horsepower"
         },
         {
          "Name": "plymouth champ",
          "Origin": "USA",
          "Year": "1982-01-01T00:00:00",
          "value": 64,
          "variable": "Horsepower"
         },
         {
          "Name": "honda civic 1300",
          "Origin": "Japan",
          "Year": "1982-01-01T00:00:00",
          "value": 60,
          "variable": "Horsepower"
         },
         {
          "Name": "subaru",
          "Origin": "Japan",
          "Year": "1982-01-01T00:00:00",
          "value": 67,
          "variable": "Horsepower"
         },
         {
          "Name": "datsun 210",
          "Origin": "Japan",
          "Year": "1982-01-01T00:00:00",
          "value": 65,
          "variable": "Horsepower"
         },
         {
          "Name": "toyota tercel",
          "Origin": "Japan",
          "Year": "1982-01-01T00:00:00",
          "value": 62,
          "variable": "Horsepower"
         },
         {
          "Name": "mazda glc 4",
          "Origin": "Japan",
          "Year": "1982-01-01T00:00:00",
          "value": 68,
          "variable": "Horsepower"
         },
         {
          "Name": "plymouth horizon 4",
          "Origin": "USA",
          "Year": "1982-01-01T00:00:00",
          "value": 63,
          "variable": "Horsepower"
         },
         {
          "Name": "ford escort 4w",
          "Origin": "USA",
          "Year": "1982-01-01T00:00:00",
          "value": 65,
          "variable": "Horsepower"
         },
         {
          "Name": "ford escort 2h",
          "Origin": "USA",
          "Year": "1982-01-01T00:00:00",
          "value": 65,
          "variable": "Horsepower"
         },
         {
          "Name": "volkswagen jetta",
          "Origin": "Europe",
          "Year": "1982-01-01T00:00:00",
          "value": 74,
          "variable": "Horsepower"
         },
         {
          "Name": "renault 18i",
          "Origin": "Europe",
          "Year": "1982-01-01T00:00:00",
          "value": null,
          "variable": "Horsepower"
         },
         {
          "Name": "honda prelude",
          "Origin": "Japan",
          "Year": "1982-01-01T00:00:00",
          "value": 75,
          "variable": "Horsepower"
         },
         {
          "Name": "toyota corolla",
          "Origin": "Japan",
          "Year": "1982-01-01T00:00:00",
          "value": 75,
          "variable": "Horsepower"
         },
         {
          "Name": "datsun 200sx",
          "Origin": "Japan",
          "Year": "1982-01-01T00:00:00",
          "value": 100,
          "variable": "Horsepower"
         },
         {
          "Name": "mazda 626",
          "Origin": "Japan",
          "Year": "1982-01-01T00:00:00",
          "value": 74,
          "variable": "Horsepower"
         },
         {
          "Name": "peugeot 505s turbo diesel",
          "Origin": "Europe",
          "Year": "1982-01-01T00:00:00",
          "value": 80,
          "variable": "Horsepower"
         },
         {
          "Name": "saab 900s",
          "Origin": "Europe",
          "Year": "1982-01-01T00:00:00",
          "value": 110,
          "variable": "Horsepower"
         },
         {
          "Name": "volvo diesel",
          "Origin": "Europe",
          "Year": "1982-01-01T00:00:00",
          "value": 76,
          "variable": "Horsepower"
         },
         {
          "Name": "toyota cressida",
          "Origin": "Japan",
          "Year": "1982-01-01T00:00:00",
          "value": 116,
          "variable": "Horsepower"
         },
         {
          "Name": "datsun 810 maxima",
          "Origin": "Japan",
          "Year": "1982-01-01T00:00:00",
          "value": 120,
          "variable": "Horsepower"
         },
         {
          "Name": "buick century",
          "Origin": "USA",
          "Year": "1982-01-01T00:00:00",
          "value": 110,
          "variable": "Horsepower"
         },
         {
          "Name": "oldsmobile cutlass ls",
          "Origin": "USA",
          "Year": "1982-01-01T00:00:00",
          "value": 105,
          "variable": "Horsepower"
         },
         {
          "Name": "ford granada gl",
          "Origin": "USA",
          "Year": "1982-01-01T00:00:00",
          "value": 88,
          "variable": "Horsepower"
         },
         {
          "Name": "chrysler lebaron salon",
          "Origin": "USA",
          "Year": "1982-01-01T00:00:00",
          "value": 85,
          "variable": "Horsepower"
         },
         {
          "Name": "chevrolet cavalier",
          "Origin": "USA",
          "Year": "1982-01-01T00:00:00",
          "value": 88,
          "variable": "Horsepower"
         },
         {
          "Name": "chevrolet cavalier wagon",
          "Origin": "USA",
          "Year": "1982-01-01T00:00:00",
          "value": 88,
          "variable": "Horsepower"
         },
         {
          "Name": "chevrolet cavalier 2-door",
          "Origin": "USA",
          "Year": "1982-01-01T00:00:00",
          "value": 88,
          "variable": "Horsepower"
         },
         {
          "Name": "pontiac j2000 se hatchback",
          "Origin": "USA",
          "Year": "1982-01-01T00:00:00",
          "value": 85,
          "variable": "Horsepower"
         },
         {
          "Name": "dodge aries se",
          "Origin": "USA",
          "Year": "1982-01-01T00:00:00",
          "value": 84,
          "variable": "Horsepower"
         },
         {
          "Name": "pontiac phoenix",
          "Origin": "USA",
          "Year": "1982-01-01T00:00:00",
          "value": 90,
          "variable": "Horsepower"
         },
         {
          "Name": "ford fairmont futura",
          "Origin": "USA",
          "Year": "1982-01-01T00:00:00",
          "value": 92,
          "variable": "Horsepower"
         },
         {
          "Name": "amc concord dl",
          "Origin": "USA",
          "Year": "1982-01-01T00:00:00",
          "value": null,
          "variable": "Horsepower"
         },
         {
          "Name": "volkswagen rabbit l",
          "Origin": "Europe",
          "Year": "1982-01-01T00:00:00",
          "value": 74,
          "variable": "Horsepower"
         },
         {
          "Name": "mazda glc custom l",
          "Origin": "Japan",
          "Year": "1982-01-01T00:00:00",
          "value": 68,
          "variable": "Horsepower"
         },
         {
          "Name": "mazda glc custom",
          "Origin": "Japan",
          "Year": "1982-01-01T00:00:00",
          "value": 68,
          "variable": "Horsepower"
         },
         {
          "Name": "plymouth horizon miser",
          "Origin": "USA",
          "Year": "1982-01-01T00:00:00",
          "value": 63,
          "variable": "Horsepower"
         },
         {
          "Name": "mercury lynx l",
          "Origin": "USA",
          "Year": "1982-01-01T00:00:00",
          "value": 70,
          "variable": "Horsepower"
         },
         {
          "Name": "nissan stanza xe",
          "Origin": "Japan",
          "Year": "1982-01-01T00:00:00",
          "value": 88,
          "variable": "Horsepower"
         },
         {
          "Name": "honda Accelerationord",
          "Origin": "Japan",
          "Year": "1982-01-01T00:00:00",
          "value": 75,
          "variable": "Horsepower"
         },
         {
          "Name": "toyota corolla",
          "Origin": "Japan",
          "Year": "1982-01-01T00:00:00",
          "value": 70,
          "variable": "Horsepower"
         },
         {
          "Name": "honda civic",
          "Origin": "Japan",
          "Year": "1982-01-01T00:00:00",
          "value": 67,
          "variable": "Horsepower"
         },
         {
          "Name": "honda civic (auto)",
          "Origin": "Japan",
          "Year": "1982-01-01T00:00:00",
          "value": 67,
          "variable": "Horsepower"
         },
         {
          "Name": "datsun 310 gx",
          "Origin": "Japan",
          "Year": "1982-01-01T00:00:00",
          "value": 67,
          "variable": "Horsepower"
         },
         {
          "Name": "buick century limited",
          "Origin": "USA",
          "Year": "1982-01-01T00:00:00",
          "value": 110,
          "variable": "Horsepower"
         },
         {
          "Name": "oldsmobile cutlass ciera (diesel)",
          "Origin": "USA",
          "Year": "1982-01-01T00:00:00",
          "value": 85,
          "variable": "Horsepower"
         },
         {
          "Name": "chrysler lebaron medallion",
          "Origin": "USA",
          "Year": "1982-01-01T00:00:00",
          "value": 92,
          "variable": "Horsepower"
         },
         {
          "Name": "ford granada l",
          "Origin": "USA",
          "Year": "1982-01-01T00:00:00",
          "value": 112,
          "variable": "Horsepower"
         },
         {
          "Name": "toyota celica gt",
          "Origin": "Japan",
          "Year": "1982-01-01T00:00:00",
          "value": 96,
          "variable": "Horsepower"
         },
         {
          "Name": "dodge charger 2.2",
          "Origin": "USA",
          "Year": "1982-01-01T00:00:00",
          "value": 84,
          "variable": "Horsepower"
         },
         {
          "Name": "chevrolet camaro",
          "Origin": "USA",
          "Year": "1982-01-01T00:00:00",
          "value": 90,
          "variable": "Horsepower"
         },
         {
          "Name": "ford mustang gl",
          "Origin": "USA",
          "Year": "1982-01-01T00:00:00",
          "value": 86,
          "variable": "Horsepower"
         },
         {
          "Name": "vw pickup",
          "Origin": "Europe",
          "Year": "1982-01-01T00:00:00",
          "value": 52,
          "variable": "Horsepower"
         },
         {
          "Name": "dodge rampage",
          "Origin": "USA",
          "Year": "1982-01-01T00:00:00",
          "value": 84,
          "variable": "Horsepower"
         },
         {
          "Name": "ford ranger",
          "Origin": "USA",
          "Year": "1982-01-01T00:00:00",
          "value": 79,
          "variable": "Horsepower"
         },
         {
          "Name": "chevy s-10",
          "Origin": "USA",
          "Year": "1982-01-01T00:00:00",
          "value": 82,
          "variable": "Horsepower"
         },
         {
          "Name": "chevrolet chevelle malibu",
          "Origin": "USA",
          "Year": "1970-01-01T00:00:00",
          "value": 3504,
          "variable": "Weight_in_lbs"
         },
         {
          "Name": "buick skylark 320",
          "Origin": "USA",
          "Year": "1970-01-01T00:00:00",
          "value": 3693,
          "variable": "Weight_in_lbs"
         },
         {
          "Name": "plymouth satellite",
          "Origin": "USA",
          "Year": "1970-01-01T00:00:00",
          "value": 3436,
          "variable": "Weight_in_lbs"
         },
         {
          "Name": "amc rebel sst",
          "Origin": "USA",
          "Year": "1970-01-01T00:00:00",
          "value": 3433,
          "variable": "Weight_in_lbs"
         },
         {
          "Name": "ford torino",
          "Origin": "USA",
          "Year": "1970-01-01T00:00:00",
          "value": 3449,
          "variable": "Weight_in_lbs"
         },
         {
          "Name": "ford galaxie 500",
          "Origin": "USA",
          "Year": "1970-01-01T00:00:00",
          "value": 4341,
          "variable": "Weight_in_lbs"
         },
         {
          "Name": "chevrolet impala",
          "Origin": "USA",
          "Year": "1970-01-01T00:00:00",
          "value": 4354,
          "variable": "Weight_in_lbs"
         },
         {
          "Name": "plymouth fury iii",
          "Origin": "USA",
          "Year": "1970-01-01T00:00:00",
          "value": 4312,
          "variable": "Weight_in_lbs"
         },
         {
          "Name": "pontiac catalina",
          "Origin": "USA",
          "Year": "1970-01-01T00:00:00",
          "value": 4425,
          "variable": "Weight_in_lbs"
         },
         {
          "Name": "amc ambassador dpl",
          "Origin": "USA",
          "Year": "1970-01-01T00:00:00",
          "value": 3850,
          "variable": "Weight_in_lbs"
         },
         {
          "Name": "citroen ds-21 pallas",
          "Origin": "Europe",
          "Year": "1970-01-01T00:00:00",
          "value": 3090,
          "variable": "Weight_in_lbs"
         },
         {
          "Name": "chevrolet chevelle concours (sw)",
          "Origin": "USA",
          "Year": "1970-01-01T00:00:00",
          "value": 4142,
          "variable": "Weight_in_lbs"
         },
         {
          "Name": "ford torino (sw)",
          "Origin": "USA",
          "Year": "1970-01-01T00:00:00",
          "value": 4034,
          "variable": "Weight_in_lbs"
         },
         {
          "Name": "plymouth satellite (sw)",
          "Origin": "USA",
          "Year": "1970-01-01T00:00:00",
          "value": 4166,
          "variable": "Weight_in_lbs"
         },
         {
          "Name": "amc rebel sst (sw)",
          "Origin": "USA",
          "Year": "1970-01-01T00:00:00",
          "value": 3850,
          "variable": "Weight_in_lbs"
         },
         {
          "Name": "dodge challenger se",
          "Origin": "USA",
          "Year": "1970-01-01T00:00:00",
          "value": 3563,
          "variable": "Weight_in_lbs"
         },
         {
          "Name": "plymouth 'cuda 340",
          "Origin": "USA",
          "Year": "1970-01-01T00:00:00",
          "value": 3609,
          "variable": "Weight_in_lbs"
         },
         {
          "Name": "ford mustang boss 302",
          "Origin": "USA",
          "Year": "1970-01-01T00:00:00",
          "value": 3353,
          "variable": "Weight_in_lbs"
         },
         {
          "Name": "chevrolet monte carlo",
          "Origin": "USA",
          "Year": "1970-01-01T00:00:00",
          "value": 3761,
          "variable": "Weight_in_lbs"
         },
         {
          "Name": "buick estate wagon (sw)",
          "Origin": "USA",
          "Year": "1970-01-01T00:00:00",
          "value": 3086,
          "variable": "Weight_in_lbs"
         },
         {
          "Name": "toyota corona mark ii",
          "Origin": "Japan",
          "Year": "1970-01-01T00:00:00",
          "value": 2372,
          "variable": "Weight_in_lbs"
         },
         {
          "Name": "plymouth duster",
          "Origin": "USA",
          "Year": "1970-01-01T00:00:00",
          "value": 2833,
          "variable": "Weight_in_lbs"
         },
         {
          "Name": "amc hornet",
          "Origin": "USA",
          "Year": "1970-01-01T00:00:00",
          "value": 2774,
          "variable": "Weight_in_lbs"
         },
         {
          "Name": "ford maverick",
          "Origin": "USA",
          "Year": "1970-01-01T00:00:00",
          "value": 2587,
          "variable": "Weight_in_lbs"
         },
         {
          "Name": "datsun pl510",
          "Origin": "Japan",
          "Year": "1970-01-01T00:00:00",
          "value": 2130,
          "variable": "Weight_in_lbs"
         },
         {
          "Name": "volkswagen 1131 deluxe sedan",
          "Origin": "Europe",
          "Year": "1970-01-01T00:00:00",
          "value": 1835,
          "variable": "Weight_in_lbs"
         },
         {
          "Name": "peugeot 504",
          "Origin": "Europe",
          "Year": "1970-01-01T00:00:00",
          "value": 2672,
          "variable": "Weight_in_lbs"
         },
         {
          "Name": "audi 100 ls",
          "Origin": "Europe",
          "Year": "1970-01-01T00:00:00",
          "value": 2430,
          "variable": "Weight_in_lbs"
         },
         {
          "Name": "saab 99e",
          "Origin": "Europe",
          "Year": "1970-01-01T00:00:00",
          "value": 2375,
          "variable": "Weight_in_lbs"
         },
         {
          "Name": "bmw 2002",
          "Origin": "Europe",
          "Year": "1970-01-01T00:00:00",
          "value": 2234,
          "variable": "Weight_in_lbs"
         },
         {
          "Name": "amc gremlin",
          "Origin": "USA",
          "Year": "1970-01-01T00:00:00",
          "value": 2648,
          "variable": "Weight_in_lbs"
         },
         {
          "Name": "ford f250",
          "Origin": "USA",
          "Year": "1970-01-01T00:00:00",
          "value": 4615,
          "variable": "Weight_in_lbs"
         },
         {
          "Name": "chevy c20",
          "Origin": "USA",
          "Year": "1970-01-01T00:00:00",
          "value": 4376,
          "variable": "Weight_in_lbs"
         },
         {
          "Name": "dodge d200",
          "Origin": "USA",
          "Year": "1970-01-01T00:00:00",
          "value": 4382,
          "variable": "Weight_in_lbs"
         },
         {
          "Name": "hi 1200d",
          "Origin": "USA",
          "Year": "1970-01-01T00:00:00",
          "value": 4732,
          "variable": "Weight_in_lbs"
         },
         {
          "Name": "datsun pl510",
          "Origin": "Japan",
          "Year": "1971-01-01T00:00:00",
          "value": 2130,
          "variable": "Weight_in_lbs"
         },
         {
          "Name": "chevrolet vega 2300",
          "Origin": "USA",
          "Year": "1971-01-01T00:00:00",
          "value": 2264,
          "variable": "Weight_in_lbs"
         },
         {
          "Name": "toyota corona",
          "Origin": "Japan",
          "Year": "1971-01-01T00:00:00",
          "value": 2228,
          "variable": "Weight_in_lbs"
         },
         {
          "Name": "ford pinto",
          "Origin": "USA",
          "Year": "1971-01-01T00:00:00",
          "value": 2046,
          "variable": "Weight_in_lbs"
         },
         {
          "Name": "volkswagen super beetle 117",
          "Origin": "Europe",
          "Year": "1971-01-01T00:00:00",
          "value": 1978,
          "variable": "Weight_in_lbs"
         },
         {
          "Name": "amc gremlin",
          "Origin": "USA",
          "Year": "1971-01-01T00:00:00",
          "value": 2634,
          "variable": "Weight_in_lbs"
         },
         {
          "Name": "plymouth satellite custom",
          "Origin": "USA",
          "Year": "1971-01-01T00:00:00",
          "value": 3439,
          "variable": "Weight_in_lbs"
         },
         {
          "Name": "chevrolet chevelle malibu",
          "Origin": "USA",
          "Year": "1971-01-01T00:00:00",
          "value": 3329,
          "variable": "Weight_in_lbs"
         },
         {
          "Name": "ford torino 500",
          "Origin": "USA",
          "Year": "1971-01-01T00:00:00",
          "value": 3302,
          "variable": "Weight_in_lbs"
         },
         {
          "Name": "amc matador",
          "Origin": "USA",
          "Year": "1971-01-01T00:00:00",
          "value": 3288,
          "variable": "Weight_in_lbs"
         },
         {
          "Name": "chevrolet impala",
          "Origin": "USA",
          "Year": "1971-01-01T00:00:00",
          "value": 4209,
          "variable": "Weight_in_lbs"
         },
         {
          "Name": "pontiac catalina brougham",
          "Origin": "USA",
          "Year": "1971-01-01T00:00:00",
          "value": 4464,
          "variable": "Weight_in_lbs"
         },
         {
          "Name": "ford galaxie 500",
          "Origin": "USA",
          "Year": "1971-01-01T00:00:00",
          "value": 4154,
          "variable": "Weight_in_lbs"
         },
         {
          "Name": "plymouth fury iii",
          "Origin": "USA",
          "Year": "1971-01-01T00:00:00",
          "value": 4096,
          "variable": "Weight_in_lbs"
         },
         {
          "Name": "dodge monaco (sw)",
          "Origin": "USA",
          "Year": "1971-01-01T00:00:00",
          "value": 4955,
          "variable": "Weight_in_lbs"
         },
         {
          "Name": "ford country squire (sw)",
          "Origin": "USA",
          "Year": "1971-01-01T00:00:00",
          "value": 4746,
          "variable": "Weight_in_lbs"
         },
         {
          "Name": "pontiac safari (sw)",
          "Origin": "USA",
          "Year": "1971-01-01T00:00:00",
          "value": 5140,
          "variable": "Weight_in_lbs"
         },
         {
          "Name": "amc hornet sportabout (sw)",
          "Origin": "USA",
          "Year": "1971-01-01T00:00:00",
          "value": 2962,
          "variable": "Weight_in_lbs"
         },
         {
          "Name": "chevrolet vega (sw)",
          "Origin": "USA",
          "Year": "1971-01-01T00:00:00",
          "value": 2408,
          "variable": "Weight_in_lbs"
         },
         {
          "Name": "pontiac firebird",
          "Origin": "USA",
          "Year": "1971-01-01T00:00:00",
          "value": 3282,
          "variable": "Weight_in_lbs"
         },
         {
          "Name": "ford mustang",
          "Origin": "USA",
          "Year": "1971-01-01T00:00:00",
          "value": 3139,
          "variable": "Weight_in_lbs"
         },
         {
          "Name": "mercury capri 2000",
          "Origin": "USA",
          "Year": "1971-01-01T00:00:00",
          "value": 2220,
          "variable": "Weight_in_lbs"
         },
         {
          "Name": "opel 1900",
          "Origin": "Europe",
          "Year": "1971-01-01T00:00:00",
          "value": 2123,
          "variable": "Weight_in_lbs"
         },
         {
          "Name": "peugeot 304",
          "Origin": "Europe",
          "Year": "1971-01-01T00:00:00",
          "value": 2074,
          "variable": "Weight_in_lbs"
         },
         {
          "Name": "fiat 124b",
          "Origin": "Europe",
          "Year": "1971-01-01T00:00:00",
          "value": 2065,
          "variable": "Weight_in_lbs"
         },
         {
          "Name": "toyota corolla 1200",
          "Origin": "Japan",
          "Year": "1971-01-01T00:00:00",
          "value": 1773,
          "variable": "Weight_in_lbs"
         },
         {
          "Name": "datsun 1200",
          "Origin": "Japan",
          "Year": "1971-01-01T00:00:00",
          "value": 1613,
          "variable": "Weight_in_lbs"
         },
         {
          "Name": "volkswagen model 111",
          "Origin": "Europe",
          "Year": "1971-01-01T00:00:00",
          "value": 1834,
          "variable": "Weight_in_lbs"
         },
         {
          "Name": "plymouth cricket",
          "Origin": "USA",
          "Year": "1971-01-01T00:00:00",
          "value": 1955,
          "variable": "Weight_in_lbs"
         },
         {
          "Name": "toyota corona hardtop",
          "Origin": "Japan",
          "Year": "1972-01-01T00:00:00",
          "value": 2278,
          "variable": "Weight_in_lbs"
         },
         {
          "Name": "dodge colt hardtop",
          "Origin": "USA",
          "Year": "1972-01-01T00:00:00",
          "value": 2126,
          "variable": "Weight_in_lbs"
         },
         {
          "Name": "volkswagen type 3",
          "Origin": "Europe",
          "Year": "1972-01-01T00:00:00",
          "value": 2254,
          "variable": "Weight_in_lbs"
         },
         {
          "Name": "chevrolet vega",
          "Origin": "USA",
          "Year": "1972-01-01T00:00:00",
          "value": 2408,
          "variable": "Weight_in_lbs"
         },
         {
          "Name": "ford pinto runabout",
          "Origin": "USA",
          "Year": "1972-01-01T00:00:00",
          "value": 2226,
          "variable": "Weight_in_lbs"
         },
         {
          "Name": "chevrolet impala",
          "Origin": "USA",
          "Year": "1972-01-01T00:00:00",
          "value": 4274,
          "variable": "Weight_in_lbs"
         },
         {
          "Name": "pontiac catalina",
          "Origin": "USA",
          "Year": "1972-01-01T00:00:00",
          "value": 4385,
          "variable": "Weight_in_lbs"
         },
         {
          "Name": "plymouth fury iii",
          "Origin": "USA",
          "Year": "1972-01-01T00:00:00",
          "value": 4135,
          "variable": "Weight_in_lbs"
         },
         {
          "Name": "ford galaxie 500",
          "Origin": "USA",
          "Year": "1972-01-01T00:00:00",
          "value": 4129,
          "variable": "Weight_in_lbs"
         },
         {
          "Name": "amc ambassador sst",
          "Origin": "USA",
          "Year": "1972-01-01T00:00:00",
          "value": 3672,
          "variable": "Weight_in_lbs"
         },
         {
          "Name": "mercury marquis",
          "Origin": "USA",
          "Year": "1972-01-01T00:00:00",
          "value": 4633,
          "variable": "Weight_in_lbs"
         },
         {
          "Name": "buick lesabre custom",
          "Origin": "USA",
          "Year": "1972-01-01T00:00:00",
          "value": 4502,
          "variable": "Weight_in_lbs"
         },
         {
          "Name": "oldsmobile delta 88 royale",
          "Origin": "USA",
          "Year": "1972-01-01T00:00:00",
          "value": 4456,
          "variable": "Weight_in_lbs"
         },
         {
          "Name": "chrysler newport royal",
          "Origin": "USA",
          "Year": "1972-01-01T00:00:00",
          "value": 4422,
          "variable": "Weight_in_lbs"
         },
         {
          "Name": "mazda rx2 coupe",
          "Origin": "Japan",
          "Year": "1972-01-01T00:00:00",
          "value": 2330,
          "variable": "Weight_in_lbs"
         },
         {
          "Name": "amc matador (sw)",
          "Origin": "USA",
          "Year": "1972-01-01T00:00:00",
          "value": 3892,
          "variable": "Weight_in_lbs"
         },
         {
          "Name": "chevrolet chevelle concours (sw)",
          "Origin": "USA",
          "Year": "1972-01-01T00:00:00",
          "value": 4098,
          "variable": "Weight_in_lbs"
         },
         {
          "Name": "ford gran torino (sw)",
          "Origin": "USA",
          "Year": "1972-01-01T00:00:00",
          "value": 4294,
          "variable": "Weight_in_lbs"
         },
         {
          "Name": "plymouth satellite custom (sw)",
          "Origin": "USA",
          "Year": "1972-01-01T00:00:00",
          "value": 4077,
          "variable": "Weight_in_lbs"
         },
         {
          "Name": "volvo 145e (sw)",
          "Origin": "Europe",
          "Year": "1972-01-01T00:00:00",
          "value": 2933,
          "variable": "Weight_in_lbs"
         },
         {
          "Name": "volkswagen 411 (sw)",
          "Origin": "Europe",
          "Year": "1972-01-01T00:00:00",
          "value": 2511,
          "variable": "Weight_in_lbs"
         },
         {
          "Name": "peugeot 504 (sw)",
          "Origin": "Europe",
          "Year": "1972-01-01T00:00:00",
          "value": 2979,
          "variable": "Weight_in_lbs"
         },
         {
          "Name": "renault 12 (sw)",
          "Origin": "Europe",
          "Year": "1972-01-01T00:00:00",
          "value": 2189,
          "variable": "Weight_in_lbs"
         },
         {
          "Name": "ford pinto (sw)",
          "Origin": "USA",
          "Year": "1972-01-01T00:00:00",
          "value": 2395,
          "variable": "Weight_in_lbs"
         },
         {
          "Name": "datsun 510 (sw)",
          "Origin": "Japan",
          "Year": "1972-01-01T00:00:00",
          "value": 2288,
          "variable": "Weight_in_lbs"
         },
         {
          "Name": "toyouta corona mark ii (sw)",
          "Origin": "Japan",
          "Year": "1972-01-01T00:00:00",
          "value": 2506,
          "variable": "Weight_in_lbs"
         },
         {
          "Name": "dodge colt (sw)",
          "Origin": "USA",
          "Year": "1972-01-01T00:00:00",
          "value": 2164,
          "variable": "Weight_in_lbs"
         },
         {
          "Name": "toyota corolla 1600 (sw)",
          "Origin": "Japan",
          "Year": "1972-01-01T00:00:00",
          "value": 2100,
          "variable": "Weight_in_lbs"
         },
         {
          "Name": "buick century 350",
          "Origin": "USA",
          "Year": "1973-01-01T00:00:00",
          "value": 4100,
          "variable": "Weight_in_lbs"
         },
         {
          "Name": "amc matador",
          "Origin": "USA",
          "Year": "1973-01-01T00:00:00",
          "value": 3672,
          "variable": "Weight_in_lbs"
         },
         {
          "Name": "chevrolet malibu",
          "Origin": "USA",
          "Year": "1973-01-01T00:00:00",
          "value": 3988,
          "variable": "Weight_in_lbs"
         },
         {
          "Name": "ford gran torino",
          "Origin": "USA",
          "Year": "1973-01-01T00:00:00",
          "value": 4042,
          "variable": "Weight_in_lbs"
         },
         {
          "Name": "dodge coronet custom",
          "Origin": "USA",
          "Year": "1973-01-01T00:00:00",
          "value": 3777,
          "variable": "Weight_in_lbs"
         },
         {
          "Name": "mercury marquis brougham",
          "Origin": "USA",
          "Year": "1973-01-01T00:00:00",
          "value": 4952,
          "variable": "Weight_in_lbs"
         },
         {
          "Name": "chevrolet caprice classic",
          "Origin": "USA",
          "Year": "1973-01-01T00:00:00",
          "value": 4464,
          "variable": "Weight_in_lbs"
         },
         {
          "Name": "ford ltd",
          "Origin": "USA",
          "Year": "1973-01-01T00:00:00",
          "value": 4363,
          "variable": "Weight_in_lbs"
         },
         {
          "Name": "plymouth fury gran sedan",
          "Origin": "USA",
          "Year": "1973-01-01T00:00:00",
          "value": 4237,
          "variable": "Weight_in_lbs"
         },
         {
          "Name": "chrysler new yorker brougham",
          "Origin": "USA",
          "Year": "1973-01-01T00:00:00",
          "value": 4735,
          "variable": "Weight_in_lbs"
         },
         {
          "Name": "buick electra 225 custom",
          "Origin": "USA",
          "Year": "1973-01-01T00:00:00",
          "value": 4951,
          "variable": "Weight_in_lbs"
         },
         {
          "Name": "amc ambassador brougham",
          "Origin": "USA",
          "Year": "1973-01-01T00:00:00",
          "value": 3821,
          "variable": "Weight_in_lbs"
         },
         {
          "Name": "plymouth valiant",
          "Origin": "USA",
          "Year": "1973-01-01T00:00:00",
          "value": 3121,
          "variable": "Weight_in_lbs"
         },
         {
          "Name": "chevrolet nova custom",
          "Origin": "USA",
          "Year": "1973-01-01T00:00:00",
          "value": 3278,
          "variable": "Weight_in_lbs"
         },
         {
          "Name": "amc hornet",
          "Origin": "USA",
          "Year": "1973-01-01T00:00:00",
          "value": 2945,
          "variable": "Weight_in_lbs"
         },
         {
          "Name": "ford maverick",
          "Origin": "USA",
          "Year": "1973-01-01T00:00:00",
          "value": 3021,
          "variable": "Weight_in_lbs"
         },
         {
          "Name": "plymouth duster",
          "Origin": "USA",
          "Year": "1973-01-01T00:00:00",
          "value": 2904,
          "variable": "Weight_in_lbs"
         },
         {
          "Name": "volkswagen super beetle",
          "Origin": "Europe",
          "Year": "1973-01-01T00:00:00",
          "value": 1950,
          "variable": "Weight_in_lbs"
         },
         {
          "Name": "chevrolet impala",
          "Origin": "USA",
          "Year": "1973-01-01T00:00:00",
          "value": 4997,
          "variable": "Weight_in_lbs"
         },
         {
          "Name": "ford country",
          "Origin": "USA",
          "Year": "1973-01-01T00:00:00",
          "value": 4906,
          "variable": "Weight_in_lbs"
         },
         {
          "Name": "plymouth custom suburb",
          "Origin": "USA",
          "Year": "1973-01-01T00:00:00",
          "value": 4654,
          "variable": "Weight_in_lbs"
         },
         {
          "Name": "oldsmobile vista cruiser",
          "Origin": "USA",
          "Year": "1973-01-01T00:00:00",
          "value": 4499,
          "variable": "Weight_in_lbs"
         },
         {
          "Name": "amc gremlin",
          "Origin": "USA",
          "Year": "1973-01-01T00:00:00",
          "value": 2789,
          "variable": "Weight_in_lbs"
         },
         {
          "Name": "toyota carina",
          "Origin": "Japan",
          "Year": "1973-01-01T00:00:00",
          "value": 2279,
          "variable": "Weight_in_lbs"
         },
         {
          "Name": "chevrolet vega",
          "Origin": "USA",
          "Year": "1973-01-01T00:00:00",
          "value": 2401,
          "variable": "Weight_in_lbs"
         },
         {
          "Name": "datsun 610",
          "Origin": "Japan",
          "Year": "1973-01-01T00:00:00",
          "value": 2379,
          "variable": "Weight_in_lbs"
         },
         {
          "Name": "maxda rx3",
          "Origin": "Japan",
          "Year": "1973-01-01T00:00:00",
          "value": 2124,
          "variable": "Weight_in_lbs"
         },
         {
          "Name": "ford pinto",
          "Origin": "USA",
          "Year": "1973-01-01T00:00:00",
          "value": 2310,
          "variable": "Weight_in_lbs"
         },
         {
          "Name": "mercury capri v6",
          "Origin": "USA",
          "Year": "1973-01-01T00:00:00",
          "value": 2472,
          "variable": "Weight_in_lbs"
         },
         {
          "Name": "fiat 124 sport coupe",
          "Origin": "Europe",
          "Year": "1973-01-01T00:00:00",
          "value": 2265,
          "variable": "Weight_in_lbs"
         },
         {
          "Name": "chevrolet monte carlo s",
          "Origin": "USA",
          "Year": "1973-01-01T00:00:00",
          "value": 4082,
          "variable": "Weight_in_lbs"
         },
         {
          "Name": "pontiac grand prix",
          "Origin": "USA",
          "Year": "1973-01-01T00:00:00",
          "value": 4278,
          "variable": "Weight_in_lbs"
         },
         {
          "Name": "fiat 128",
          "Origin": "Europe",
          "Year": "1973-01-01T00:00:00",
          "value": 1867,
          "variable": "Weight_in_lbs"
         },
         {
          "Name": "opel manta",
          "Origin": "Europe",
          "Year": "1973-01-01T00:00:00",
          "value": 2158,
          "variable": "Weight_in_lbs"
         },
         {
          "Name": "audi 100ls",
          "Origin": "Europe",
          "Year": "1973-01-01T00:00:00",
          "value": 2582,
          "variable": "Weight_in_lbs"
         },
         {
          "Name": "volvo 144ea",
          "Origin": "Europe",
          "Year": "1973-01-01T00:00:00",
          "value": 2868,
          "variable": "Weight_in_lbs"
         },
         {
          "Name": "dodge dart custom",
          "Origin": "USA",
          "Year": "1973-01-01T00:00:00",
          "value": 3399,
          "variable": "Weight_in_lbs"
         },
         {
          "Name": "saab 99le",
          "Origin": "Europe",
          "Year": "1973-01-01T00:00:00",
          "value": 2660,
          "variable": "Weight_in_lbs"
         },
         {
          "Name": "toyota mark ii",
          "Origin": "Japan",
          "Year": "1973-01-01T00:00:00",
          "value": 2807,
          "variable": "Weight_in_lbs"
         },
         {
          "Name": "oldsmobile omega",
          "Origin": "USA",
          "Year": "1973-01-01T00:00:00",
          "value": 3664,
          "variable": "Weight_in_lbs"
         },
         {
          "Name": "plymouth duster",
          "Origin": "USA",
          "Year": "1974-01-01T00:00:00",
          "value": 3102,
          "variable": "Weight_in_lbs"
         },
         {
          "Name": "ford maverick",
          "Origin": "USA",
          "Year": "1974-01-01T00:00:00",
          "value": 2875,
          "variable": "Weight_in_lbs"
         },
         {
          "Name": "amc hornet",
          "Origin": "USA",
          "Year": "1974-01-01T00:00:00",
          "value": 2901,
          "variable": "Weight_in_lbs"
         },
         {
          "Name": "chevrolet nova",
          "Origin": "USA",
          "Year": "1974-01-01T00:00:00",
          "value": 3336,
          "variable": "Weight_in_lbs"
         },
         {
          "Name": "datsun b210",
          "Origin": "Japan",
          "Year": "1974-01-01T00:00:00",
          "value": 1950,
          "variable": "Weight_in_lbs"
         },
         {
          "Name": "ford pinto",
          "Origin": "USA",
          "Year": "1974-01-01T00:00:00",
          "value": 2451,
          "variable": "Weight_in_lbs"
         },
         {
          "Name": "toyota corolla 1200",
          "Origin": "Japan",
          "Year": "1974-01-01T00:00:00",
          "value": 1836,
          "variable": "Weight_in_lbs"
         },
         {
          "Name": "chevrolet vega",
          "Origin": "USA",
          "Year": "1974-01-01T00:00:00",
          "value": 2542,
          "variable": "Weight_in_lbs"
         },
         {
          "Name": "chevrolet chevelle malibu classic",
          "Origin": "USA",
          "Year": "1974-01-01T00:00:00",
          "value": 3781,
          "variable": "Weight_in_lbs"
         },
         {
          "Name": "amc matador",
          "Origin": "USA",
          "Year": "1974-01-01T00:00:00",
          "value": 3632,
          "variable": "Weight_in_lbs"
         },
         {
          "Name": "plymouth satellite sebring",
          "Origin": "USA",
          "Year": "1974-01-01T00:00:00",
          "value": 3613,
          "variable": "Weight_in_lbs"
         },
         {
          "Name": "ford gran torino",
          "Origin": "USA",
          "Year": "1974-01-01T00:00:00",
          "value": 4141,
          "variable": "Weight_in_lbs"
         },
         {
          "Name": "buick century luxus (sw)",
          "Origin": "USA",
          "Year": "1974-01-01T00:00:00",
          "value": 4699,
          "variable": "Weight_in_lbs"
         },
         {
          "Name": "dodge coronet custom (sw)",
          "Origin": "USA",
          "Year": "1974-01-01T00:00:00",
          "value": 4457,
          "variable": "Weight_in_lbs"
         },
         {
          "Name": "ford gran torino (sw)",
          "Origin": "USA",
          "Year": "1974-01-01T00:00:00",
          "value": 4638,
          "variable": "Weight_in_lbs"
         },
         {
          "Name": "amc matador (sw)",
          "Origin": "USA",
          "Year": "1974-01-01T00:00:00",
          "value": 4257,
          "variable": "Weight_in_lbs"
         },
         {
          "Name": "audi fox",
          "Origin": "Europe",
          "Year": "1974-01-01T00:00:00",
          "value": 2219,
          "variable": "Weight_in_lbs"
         },
         {
          "Name": "volkswagen dasher",
          "Origin": "Europe",
          "Year": "1974-01-01T00:00:00",
          "value": 1963,
          "variable": "Weight_in_lbs"
         },
         {
          "Name": "opel manta",
          "Origin": "Europe",
          "Year": "1974-01-01T00:00:00",
          "value": 2300,
          "variable": "Weight_in_lbs"
         },
         {
          "Name": "toyota corona",
          "Origin": "Japan",
          "Year": "1974-01-01T00:00:00",
          "value": 1649,
          "variable": "Weight_in_lbs"
         },
         {
          "Name": "datsun 710",
          "Origin": "Japan",
          "Year": "1974-01-01T00:00:00",
          "value": 2003,
          "variable": "Weight_in_lbs"
         },
         {
          "Name": "dodge colt",
          "Origin": "USA",
          "Year": "1974-01-01T00:00:00",
          "value": 2125,
          "variable": "Weight_in_lbs"
         },
         {
          "Name": "fiat 128",
          "Origin": "Europe",
          "Year": "1974-01-01T00:00:00",
          "value": 2108,
          "variable": "Weight_in_lbs"
         },
         {
          "Name": "fiat 124 tc",
          "Origin": "Europe",
          "Year": "1974-01-01T00:00:00",
          "value": 2246,
          "variable": "Weight_in_lbs"
         },
         {
          "Name": "honda civic",
          "Origin": "Japan",
          "Year": "1974-01-01T00:00:00",
          "value": 2489,
          "variable": "Weight_in_lbs"
         },
         {
          "Name": "subaru",
          "Origin": "Japan",
          "Year": "1974-01-01T00:00:00",
          "value": 2391,
          "variable": "Weight_in_lbs"
         },
         {
          "Name": "fiat x1.9",
          "Origin": "Europe",
          "Year": "1974-01-01T00:00:00",
          "value": 2000,
          "variable": "Weight_in_lbs"
         },
         {
          "Name": "plymouth valiant custom",
          "Origin": "USA",
          "Year": "1975-01-01T00:00:00",
          "value": 3264,
          "variable": "Weight_in_lbs"
         },
         {
          "Name": "chevrolet nova",
          "Origin": "USA",
          "Year": "1975-01-01T00:00:00",
          "value": 3459,
          "variable": "Weight_in_lbs"
         },
         {
          "Name": "mercury monarch",
          "Origin": "USA",
          "Year": "1975-01-01T00:00:00",
          "value": 3432,
          "variable": "Weight_in_lbs"
         },
         {
          "Name": "ford maverick",
          "Origin": "USA",
          "Year": "1975-01-01T00:00:00",
          "value": 3158,
          "variable": "Weight_in_lbs"
         },
         {
          "Name": "pontiac catalina",
          "Origin": "USA",
          "Year": "1975-01-01T00:00:00",
          "value": 4668,
          "variable": "Weight_in_lbs"
         },
         {
          "Name": "chevrolet bel air",
          "Origin": "USA",
          "Year": "1975-01-01T00:00:00",
          "value": 4440,
          "variable": "Weight_in_lbs"
         },
         {
          "Name": "plymouth grand fury",
          "Origin": "USA",
          "Year": "1975-01-01T00:00:00",
          "value": 4498,
          "variable": "Weight_in_lbs"
         },
         {
          "Name": "ford ltd",
          "Origin": "USA",
          "Year": "1975-01-01T00:00:00",
          "value": 4657,
          "variable": "Weight_in_lbs"
         },
         {
          "Name": "buick century",
          "Origin": "USA",
          "Year": "1975-01-01T00:00:00",
          "value": 3907,
          "variable": "Weight_in_lbs"
         },
         {
          "Name": "chevroelt chevelle malibu",
          "Origin": "USA",
          "Year": "1975-01-01T00:00:00",
          "value": 3897,
          "variable": "Weight_in_lbs"
         },
         {
          "Name": "amc matador",
          "Origin": "USA",
          "Year": "1975-01-01T00:00:00",
          "value": 3730,
          "variable": "Weight_in_lbs"
         },
         {
          "Name": "plymouth fury",
          "Origin": "USA",
          "Year": "1975-01-01T00:00:00",
          "value": 3785,
          "variable": "Weight_in_lbs"
         },
         {
          "Name": "buick skyhawk",
          "Origin": "USA",
          "Year": "1975-01-01T00:00:00",
          "value": 3039,
          "variable": "Weight_in_lbs"
         },
         {
          "Name": "chevrolet monza 2+2",
          "Origin": "USA",
          "Year": "1975-01-01T00:00:00",
          "value": 3221,
          "variable": "Weight_in_lbs"
         },
         {
          "Name": "ford mustang ii",
          "Origin": "USA",
          "Year": "1975-01-01T00:00:00",
          "value": 3169,
          "variable": "Weight_in_lbs"
         },
         {
          "Name": "toyota corolla",
          "Origin": "Japan",
          "Year": "1975-01-01T00:00:00",
          "value": 2171,
          "variable": "Weight_in_lbs"
         },
         {
          "Name": "ford pinto",
          "Origin": "USA",
          "Year": "1975-01-01T00:00:00",
          "value": 2639,
          "variable": "Weight_in_lbs"
         },
         {
          "Name": "amc gremlin",
          "Origin": "USA",
          "Year": "1975-01-01T00:00:00",
          "value": 2914,
          "variable": "Weight_in_lbs"
         },
         {
          "Name": "pontiac astro",
          "Origin": "USA",
          "Year": "1975-01-01T00:00:00",
          "value": 2592,
          "variable": "Weight_in_lbs"
         },
         {
          "Name": "toyota corona",
          "Origin": "Japan",
          "Year": "1975-01-01T00:00:00",
          "value": 2702,
          "variable": "Weight_in_lbs"
         },
         {
          "Name": "volkswagen dasher",
          "Origin": "Europe",
          "Year": "1975-01-01T00:00:00",
          "value": 2223,
          "variable": "Weight_in_lbs"
         },
         {
          "Name": "datsun 710",
          "Origin": "Japan",
          "Year": "1975-01-01T00:00:00",
          "value": 2545,
          "variable": "Weight_in_lbs"
         },
         {
          "Name": "ford pinto",
          "Origin": "USA",
          "Year": "1975-01-01T00:00:00",
          "value": 2984,
          "variable": "Weight_in_lbs"
         },
         {
          "Name": "volkswagen rabbit",
          "Origin": "Europe",
          "Year": "1975-01-01T00:00:00",
          "value": 1937,
          "variable": "Weight_in_lbs"
         },
         {
          "Name": "amc pacer",
          "Origin": "USA",
          "Year": "1975-01-01T00:00:00",
          "value": 3211,
          "variable": "Weight_in_lbs"
         },
         {
          "Name": "audi 100ls",
          "Origin": "Europe",
          "Year": "1975-01-01T00:00:00",
          "value": 2694,
          "variable": "Weight_in_lbs"
         },
         {
          "Name": "peugeot 504",
          "Origin": "Europe",
          "Year": "1975-01-01T00:00:00",
          "value": 2957,
          "variable": "Weight_in_lbs"
         },
         {
          "Name": "volvo 244dl",
          "Origin": "Europe",
          "Year": "1975-01-01T00:00:00",
          "value": 2945,
          "variable": "Weight_in_lbs"
         },
         {
          "Name": "saab 99le",
          "Origin": "Europe",
          "Year": "1975-01-01T00:00:00",
          "value": 2671,
          "variable": "Weight_in_lbs"
         },
         {
          "Name": "honda civic cvcc",
          "Origin": "Japan",
          "Year": "1975-01-01T00:00:00",
          "value": 1795,
          "variable": "Weight_in_lbs"
         },
         {
          "Name": "fiat 131",
          "Origin": "Europe",
          "Year": "1976-01-01T00:00:00",
          "value": 2464,
          "variable": "Weight_in_lbs"
         },
         {
          "Name": "opel 1900",
          "Origin": "Europe",
          "Year": "1976-01-01T00:00:00",
          "value": 2220,
          "variable": "Weight_in_lbs"
         },
         {
          "Name": "capri ii",
          "Origin": "USA",
          "Year": "1976-01-01T00:00:00",
          "value": 2572,
          "variable": "Weight_in_lbs"
         },
         {
          "Name": "dodge colt",
          "Origin": "USA",
          "Year": "1976-01-01T00:00:00",
          "value": 2255,
          "variable": "Weight_in_lbs"
         },
         {
          "Name": "renault 12tl",
          "Origin": "Europe",
          "Year": "1976-01-01T00:00:00",
          "value": 2202,
          "variable": "Weight_in_lbs"
         },
         {
          "Name": "chevrolet chevelle malibu classic",
          "Origin": "USA",
          "Year": "1976-01-01T00:00:00",
          "value": 4215,
          "variable": "Weight_in_lbs"
         },
         {
          "Name": "dodge coronet brougham",
          "Origin": "USA",
          "Year": "1976-01-01T00:00:00",
          "value": 4190,
          "variable": "Weight_in_lbs"
         },
         {
          "Name": "amc matador",
          "Origin": "USA",
          "Year": "1976-01-01T00:00:00",
          "value": 3962,
          "variable": "Weight_in_lbs"
         },
         {
          "Name": "ford gran torino",
          "Origin": "USA",
          "Year": "1976-01-01T00:00:00",
          "value": 4215,
          "variable": "Weight_in_lbs"
         },
         {
          "Name": "plymouth valiant",
          "Origin": "USA",
          "Year": "1976-01-01T00:00:00",
          "value": 3233,
          "variable": "Weight_in_lbs"
         },
         {
          "Name": "chevrolet nova",
          "Origin": "USA",
          "Year": "1976-01-01T00:00:00",
          "value": 3353,
          "variable": "Weight_in_lbs"
         },
         {
          "Name": "ford maverick",
          "Origin": "USA",
          "Year": "1976-01-01T00:00:00",
          "value": 3012,
          "variable": "Weight_in_lbs"
         },
         {
          "Name": "amc hornet",
          "Origin": "USA",
          "Year": "1976-01-01T00:00:00",
          "value": 3085,
          "variable": "Weight_in_lbs"
         },
         {
          "Name": "chevrolet chevette",
          "Origin": "USA",
          "Year": "1976-01-01T00:00:00",
          "value": 2035,
          "variable": "Weight_in_lbs"
         },
         {
          "Name": "chevrolet woody",
          "Origin": "USA",
          "Year": "1976-01-01T00:00:00",
          "value": 2164,
          "variable": "Weight_in_lbs"
         },
         {
          "Name": "vw rabbit",
          "Origin": "Europe",
          "Year": "1976-01-01T00:00:00",
          "value": 1937,
          "variable": "Weight_in_lbs"
         },
         {
          "Name": "honda civic",
          "Origin": "Japan",
          "Year": "1976-01-01T00:00:00",
          "value": 1795,
          "variable": "Weight_in_lbs"
         },
         {
          "Name": "dodge aspen se",
          "Origin": "USA",
          "Year": "1976-01-01T00:00:00",
          "value": 3651,
          "variable": "Weight_in_lbs"
         },
         {
          "Name": "ford granada ghia",
          "Origin": "USA",
          "Year": "1976-01-01T00:00:00",
          "value": 3574,
          "variable": "Weight_in_lbs"
         },
         {
          "Name": "pontiac ventura sj",
          "Origin": "USA",
          "Year": "1976-01-01T00:00:00",
          "value": 3645,
          "variable": "Weight_in_lbs"
         },
         {
          "Name": "amc pacer d/l",
          "Origin": "USA",
          "Year": "1976-01-01T00:00:00",
          "value": 3193,
          "variable": "Weight_in_lbs"
         },
         {
          "Name": "volkswagen rabbit",
          "Origin": "Europe",
          "Year": "1976-01-01T00:00:00",
          "value": 1825,
          "variable": "Weight_in_lbs"
         },
         {
          "Name": "datsun b-210",
          "Origin": "Japan",
          "Year": "1976-01-01T00:00:00",
          "value": 1990,
          "variable": "Weight_in_lbs"
         },
         {
          "Name": "toyota corolla",
          "Origin": "Japan",
          "Year": "1976-01-01T00:00:00",
          "value": 2155,
          "variable": "Weight_in_lbs"
         },
         {
          "Name": "ford pinto",
          "Origin": "USA",
          "Year": "1976-01-01T00:00:00",
          "value": 2565,
          "variable": "Weight_in_lbs"
         },
         {
          "Name": "volvo 245",
          "Origin": "Europe",
          "Year": "1976-01-01T00:00:00",
          "value": 3150,
          "variable": "Weight_in_lbs"
         },
         {
          "Name": "plymouth volare premier v8",
          "Origin": "USA",
          "Year": "1976-01-01T00:00:00",
          "value": 3940,
          "variable": "Weight_in_lbs"
         },
         {
          "Name": "peugeot 504",
          "Origin": "Europe",
          "Year": "1976-01-01T00:00:00",
          "value": 3270,
          "variable": "Weight_in_lbs"
         },
         {
          "Name": "toyota mark ii",
          "Origin": "Japan",
          "Year": "1976-01-01T00:00:00",
          "value": 2930,
          "variable": "Weight_in_lbs"
         },
         {
          "Name": "mercedes-benz 280s",
          "Origin": "Europe",
          "Year": "1976-01-01T00:00:00",
          "value": 3820,
          "variable": "Weight_in_lbs"
         },
         {
          "Name": "cadillac seville",
          "Origin": "USA",
          "Year": "1976-01-01T00:00:00",
          "value": 4380,
          "variable": "Weight_in_lbs"
         },
         {
          "Name": "chevy c10",
          "Origin": "USA",
          "Year": "1976-01-01T00:00:00",
          "value": 4055,
          "variable": "Weight_in_lbs"
         },
         {
          "Name": "ford f108",
          "Origin": "USA",
          "Year": "1976-01-01T00:00:00",
          "value": 3870,
          "variable": "Weight_in_lbs"
         },
         {
          "Name": "dodge d100",
          "Origin": "USA",
          "Year": "1976-01-01T00:00:00",
          "value": 3755,
          "variable": "Weight_in_lbs"
         },
         {
          "Name": "honda Accelerationord cvcc",
          "Origin": "Japan",
          "Year": "1977-01-01T00:00:00",
          "value": 2045,
          "variable": "Weight_in_lbs"
         },
         {
          "Name": "buick opel isuzu deluxe",
          "Origin": "USA",
          "Year": "1977-01-01T00:00:00",
          "value": 2155,
          "variable": "Weight_in_lbs"
         },
         {
          "Name": "renault 5 gtl",
          "Origin": "Europe",
          "Year": "1977-01-01T00:00:00",
          "value": 1825,
          "variable": "Weight_in_lbs"
         },
         {
          "Name": "plymouth arrow gs",
          "Origin": "USA",
          "Year": "1977-01-01T00:00:00",
          "value": 2300,
          "variable": "Weight_in_lbs"
         },
         {
          "Name": "datsun f-10 hatchback",
          "Origin": "Japan",
          "Year": "1977-01-01T00:00:00",
          "value": 1945,
          "variable": "Weight_in_lbs"
         },
         {
          "Name": "chevrolet caprice classic",
          "Origin": "USA",
          "Year": "1977-01-01T00:00:00",
          "value": 3880,
          "variable": "Weight_in_lbs"
         },
         {
          "Name": "oldsmobile cutlass supreme",
          "Origin": "USA",
          "Year": "1977-01-01T00:00:00",
          "value": 4060,
          "variable": "Weight_in_lbs"
         },
         {
          "Name": "dodge monaco brougham",
          "Origin": "USA",
          "Year": "1977-01-01T00:00:00",
          "value": 4140,
          "variable": "Weight_in_lbs"
         },
         {
          "Name": "mercury cougar brougham",
          "Origin": "USA",
          "Year": "1977-01-01T00:00:00",
          "value": 4295,
          "variable": "Weight_in_lbs"
         },
         {
          "Name": "chevrolet concours",
          "Origin": "USA",
          "Year": "1977-01-01T00:00:00",
          "value": 3520,
          "variable": "Weight_in_lbs"
         },
         {
          "Name": "buick skylark",
          "Origin": "USA",
          "Year": "1977-01-01T00:00:00",
          "value": 3425,
          "variable": "Weight_in_lbs"
         },
         {
          "Name": "plymouth volare custom",
          "Origin": "USA",
          "Year": "1977-01-01T00:00:00",
          "value": 3630,
          "variable": "Weight_in_lbs"
         },
         {
          "Name": "ford granada",
          "Origin": "USA",
          "Year": "1977-01-01T00:00:00",
          "value": 3525,
          "variable": "Weight_in_lbs"
         },
         {
          "Name": "pontiac grand prix lj",
          "Origin": "USA",
          "Year": "1977-01-01T00:00:00",
          "value": 4220,
          "variable": "Weight_in_lbs"
         },
         {
          "Name": "chevrolet monte carlo landau",
          "Origin": "USA",
          "Year": "1977-01-01T00:00:00",
          "value": 4165,
          "variable": "Weight_in_lbs"
         },
         {
          "Name": "chrysler cordoba",
          "Origin": "USA",
          "Year": "1977-01-01T00:00:00",
          "value": 4325,
          "variable": "Weight_in_lbs"
         },
         {
          "Name": "ford thunderbird",
          "Origin": "USA",
          "Year": "1977-01-01T00:00:00",
          "value": 4335,
          "variable": "Weight_in_lbs"
         },
         {
          "Name": "volkswagen rabbit custom",
          "Origin": "Europe",
          "Year": "1977-01-01T00:00:00",
          "value": 1940,
          "variable": "Weight_in_lbs"
         },
         {
          "Name": "pontiac sunbird coupe",
          "Origin": "USA",
          "Year": "1977-01-01T00:00:00",
          "value": 2740,
          "variable": "Weight_in_lbs"
         },
         {
          "Name": "toyota corolla liftback",
          "Origin": "Japan",
          "Year": "1977-01-01T00:00:00",
          "value": 2265,
          "variable": "Weight_in_lbs"
         },
         {
          "Name": "ford mustang ii 2+2",
          "Origin": "USA",
          "Year": "1977-01-01T00:00:00",
          "value": 2755,
          "variable": "Weight_in_lbs"
         },
         {
          "Name": "chevrolet chevette",
          "Origin": "USA",
          "Year": "1977-01-01T00:00:00",
          "value": 2051,
          "variable": "Weight_in_lbs"
         },
         {
          "Name": "dodge colt m/m",
          "Origin": "USA",
          "Year": "1977-01-01T00:00:00",
          "value": 2075,
          "variable": "Weight_in_lbs"
         },
         {
          "Name": "subaru dl",
          "Origin": "Japan",
          "Year": "1977-01-01T00:00:00",
          "value": 1985,
          "variable": "Weight_in_lbs"
         },
         {
          "Name": "volkswagen dasher",
          "Origin": "Europe",
          "Year": "1977-01-01T00:00:00",
          "value": 2190,
          "variable": "Weight_in_lbs"
         },
         {
          "Name": "datsun 810",
          "Origin": "Japan",
          "Year": "1977-01-01T00:00:00",
          "value": 2815,
          "variable": "Weight_in_lbs"
         },
         {
          "Name": "bmw 320i",
          "Origin": "Europe",
          "Year": "1977-01-01T00:00:00",
          "value": 2600,
          "variable": "Weight_in_lbs"
         },
         {
          "Name": "mazda rx-4",
          "Origin": "Japan",
          "Year": "1977-01-01T00:00:00",
          "value": 2720,
          "variable": "Weight_in_lbs"
         },
         {
          "Name": "volkswagen rabbit custom diesel",
          "Origin": "Europe",
          "Year": "1978-01-01T00:00:00",
          "value": 1985,
          "variable": "Weight_in_lbs"
         },
         {
          "Name": "ford fiesta",
          "Origin": "USA",
          "Year": "1978-01-01T00:00:00",
          "value": 1800,
          "variable": "Weight_in_lbs"
         },
         {
          "Name": "mazda glc deluxe",
          "Origin": "Japan",
          "Year": "1978-01-01T00:00:00",
          "value": 1985,
          "variable": "Weight_in_lbs"
         },
         {
          "Name": "datsun b210 gx",
          "Origin": "Japan",
          "Year": "1978-01-01T00:00:00",
          "value": 2070,
          "variable": "Weight_in_lbs"
         },
         {
          "Name": "honda civic cvcc",
          "Origin": "Japan",
          "Year": "1978-01-01T00:00:00",
          "value": 1800,
          "variable": "Weight_in_lbs"
         },
         {
          "Name": "oldsmobile cutlass salon brougham",
          "Origin": "USA",
          "Year": "1978-01-01T00:00:00",
          "value": 3365,
          "variable": "Weight_in_lbs"
         },
         {
          "Name": "dodge diplomat",
          "Origin": "USA",
          "Year": "1978-01-01T00:00:00",
          "value": 3735,
          "variable": "Weight_in_lbs"
         },
         {
          "Name": "mercury monarch ghia",
          "Origin": "USA",
          "Year": "1978-01-01T00:00:00",
          "value": 3570,
          "variable": "Weight_in_lbs"
         },
         {
          "Name": "pontiac phoenix lj",
          "Origin": "USA",
          "Year": "1978-01-01T00:00:00",
          "value": 3535,
          "variable": "Weight_in_lbs"
         },
         {
          "Name": "chevrolet malibu",
          "Origin": "USA",
          "Year": "1978-01-01T00:00:00",
          "value": 3155,
          "variable": "Weight_in_lbs"
         },
         {
          "Name": "ford fairmont (auto)",
          "Origin": "USA",
          "Year": "1978-01-01T00:00:00",
          "value": 2965,
          "variable": "Weight_in_lbs"
         },
         {
          "Name": "ford fairmont (man)",
          "Origin": "USA",
          "Year": "1978-01-01T00:00:00",
          "value": 2720,
          "variable": "Weight_in_lbs"
         },
         {
          "Name": "plymouth volare",
          "Origin": "USA",
          "Year": "1978-01-01T00:00:00",
          "value": 3430,
          "variable": "Weight_in_lbs"
         },
         {
          "Name": "amc concord",
          "Origin": "USA",
          "Year": "1978-01-01T00:00:00",
          "value": 3210,
          "variable": "Weight_in_lbs"
         },
         {
          "Name": "buick century special",
          "Origin": "USA",
          "Year": "1978-01-01T00:00:00",
          "value": 3380,
          "variable": "Weight_in_lbs"
         },
         {
          "Name": "mercury zephyr",
          "Origin": "USA",
          "Year": "1978-01-01T00:00:00",
          "value": 3070,
          "variable": "Weight_in_lbs"
         },
         {
          "Name": "dodge aspen",
          "Origin": "USA",
          "Year": "1978-01-01T00:00:00",
          "value": 3620,
          "variable": "Weight_in_lbs"
         },
         {
          "Name": "amc concord d/l",
          "Origin": "USA",
          "Year": "1978-01-01T00:00:00",
          "value": 3410,
          "variable": "Weight_in_lbs"
         },
         {
          "Name": "chevrolet monte carlo landau",
          "Origin": "USA",
          "Year": "1978-01-01T00:00:00",
          "value": 3425,
          "variable": "Weight_in_lbs"
         },
         {
          "Name": "buick regal sport coupe (turbo)",
          "Origin": "USA",
          "Year": "1978-01-01T00:00:00",
          "value": 3445,
          "variable": "Weight_in_lbs"
         },
         {
          "Name": "ford futura",
          "Origin": "USA",
          "Year": "1978-01-01T00:00:00",
          "value": 3205,
          "variable": "Weight_in_lbs"
         },
         {
          "Name": "dodge magnum xe",
          "Origin": "USA",
          "Year": "1978-01-01T00:00:00",
          "value": 4080,
          "variable": "Weight_in_lbs"
         },
         {
          "Name": "chevrolet chevette",
          "Origin": "USA",
          "Year": "1978-01-01T00:00:00",
          "value": 2155,
          "variable": "Weight_in_lbs"
         },
         {
          "Name": "toyota corona",
          "Origin": "Japan",
          "Year": "1978-01-01T00:00:00",
          "value": 2560,
          "variable": "Weight_in_lbs"
         },
         {
          "Name": "datsun 510",
          "Origin": "Japan",
          "Year": "1978-01-01T00:00:00",
          "value": 2300,
          "variable": "Weight_in_lbs"
         },
         {
          "Name": "dodge omni",
          "Origin": "USA",
          "Year": "1978-01-01T00:00:00",
          "value": 2230,
          "variable": "Weight_in_lbs"
         },
         {
          "Name": "toyota celica gt liftback",
          "Origin": "Japan",
          "Year": "1978-01-01T00:00:00",
          "value": 2515,
          "variable": "Weight_in_lbs"
         },
         {
          "Name": "plymouth sapporo",
          "Origin": "USA",
          "Year": "1978-01-01T00:00:00",
          "value": 2745,
          "variable": "Weight_in_lbs"
         },
         {
          "Name": "oldsmobile starfire sx",
          "Origin": "USA",
          "Year": "1978-01-01T00:00:00",
          "value": 2855,
          "variable": "Weight_in_lbs"
         },
         {
          "Name": "datsun 200-sx",
          "Origin": "Japan",
          "Year": "1978-01-01T00:00:00",
          "value": 2405,
          "variable": "Weight_in_lbs"
         },
         {
          "Name": "audi 5000",
          "Origin": "Europe",
          "Year": "1978-01-01T00:00:00",
          "value": 2830,
          "variable": "Weight_in_lbs"
         },
         {
          "Name": "volvo 264gl",
          "Origin": "Europe",
          "Year": "1978-01-01T00:00:00",
          "value": 3140,
          "variable": "Weight_in_lbs"
         },
         {
          "Name": "saab 99gle",
          "Origin": "Europe",
          "Year": "1978-01-01T00:00:00",
          "value": 2795,
          "variable": "Weight_in_lbs"
         },
         {
          "Name": "peugeot 604sl",
          "Origin": "Europe",
          "Year": "1978-01-01T00:00:00",
          "value": 3410,
          "variable": "Weight_in_lbs"
         },
         {
          "Name": "volkswagen scirocco",
          "Origin": "Europe",
          "Year": "1978-01-01T00:00:00",
          "value": 1990,
          "variable": "Weight_in_lbs"
         },
         {
          "Name": "honda Accelerationord lx",
          "Origin": "Japan",
          "Year": "1978-01-01T00:00:00",
          "value": 2135,
          "variable": "Weight_in_lbs"
         },
         {
          "Name": "pontiac lemans v6",
          "Origin": "USA",
          "Year": "1979-01-01T00:00:00",
          "value": 3245,
          "variable": "Weight_in_lbs"
         },
         {
          "Name": "mercury zephyr 6",
          "Origin": "USA",
          "Year": "1979-01-01T00:00:00",
          "value": 2990,
          "variable": "Weight_in_lbs"
         },
         {
          "Name": "ford fairmont 4",
          "Origin": "USA",
          "Year": "1979-01-01T00:00:00",
          "value": 2890,
          "variable": "Weight_in_lbs"
         },
         {
          "Name": "amc concord dl 6",
          "Origin": "USA",
          "Year": "1979-01-01T00:00:00",
          "value": 3265,
          "variable": "Weight_in_lbs"
         },
         {
          "Name": "dodge aspen 6",
          "Origin": "USA",
          "Year": "1979-01-01T00:00:00",
          "value": 3360,
          "variable": "Weight_in_lbs"
         },
         {
          "Name": "chevrolet caprice classic",
          "Origin": "USA",
          "Year": "1979-01-01T00:00:00",
          "value": 3840,
          "variable": "Weight_in_lbs"
         },
         {
          "Name": "ford ltd landau",
          "Origin": "USA",
          "Year": "1979-01-01T00:00:00",
          "value": 3725,
          "variable": "Weight_in_lbs"
         },
         {
          "Name": "mercury grand marquis",
          "Origin": "USA",
          "Year": "1979-01-01T00:00:00",
          "value": 3955,
          "variable": "Weight_in_lbs"
         },
         {
          "Name": "dodge st. regis",
          "Origin": "USA",
          "Year": "1979-01-01T00:00:00",
          "value": 3830,
          "variable": "Weight_in_lbs"
         },
         {
          "Name": "buick estate wagon (sw)",
          "Origin": "USA",
          "Year": "1979-01-01T00:00:00",
          "value": 4360,
          "variable": "Weight_in_lbs"
         },
         {
          "Name": "ford country squire (sw)",
          "Origin": "USA",
          "Year": "1979-01-01T00:00:00",
          "value": 4054,
          "variable": "Weight_in_lbs"
         },
         {
          "Name": "chevrolet malibu classic (sw)",
          "Origin": "USA",
          "Year": "1979-01-01T00:00:00",
          "value": 3605,
          "variable": "Weight_in_lbs"
         },
         {
          "Name": "chrysler lebaron town @ country (sw)",
          "Origin": "USA",
          "Year": "1979-01-01T00:00:00",
          "value": 3940,
          "variable": "Weight_in_lbs"
         },
         {
          "Name": "vw rabbit custom",
          "Origin": "Europe",
          "Year": "1979-01-01T00:00:00",
          "value": 1925,
          "variable": "Weight_in_lbs"
         },
         {
          "Name": "maxda glc deluxe",
          "Origin": "Japan",
          "Year": "1979-01-01T00:00:00",
          "value": 1975,
          "variable": "Weight_in_lbs"
         },
         {
          "Name": "dodge colt hatchback custom",
          "Origin": "USA",
          "Year": "1979-01-01T00:00:00",
          "value": 1915,
          "variable": "Weight_in_lbs"
         },
         {
          "Name": "amc spirit dl",
          "Origin": "USA",
          "Year": "1979-01-01T00:00:00",
          "value": 2670,
          "variable": "Weight_in_lbs"
         },
         {
          "Name": "mercedes benz 300d",
          "Origin": "Europe",
          "Year": "1979-01-01T00:00:00",
          "value": 3530,
          "variable": "Weight_in_lbs"
         },
         {
          "Name": "cadillac eldorado",
          "Origin": "USA",
          "Year": "1979-01-01T00:00:00",
          "value": 3900,
          "variable": "Weight_in_lbs"
         },
         {
          "Name": "peugeot 504",
          "Origin": "Europe",
          "Year": "1979-01-01T00:00:00",
          "value": 3190,
          "variable": "Weight_in_lbs"
         },
         {
          "Name": "oldsmobile cutlass salon brougham",
          "Origin": "USA",
          "Year": "1979-01-01T00:00:00",
          "value": 3420,
          "variable": "Weight_in_lbs"
         },
         {
          "Name": "plymouth horizon",
          "Origin": "USA",
          "Year": "1979-01-01T00:00:00",
          "value": 2200,
          "variable": "Weight_in_lbs"
         },
         {
          "Name": "plymouth horizon tc3",
          "Origin": "USA",
          "Year": "1979-01-01T00:00:00",
          "value": 2150,
          "variable": "Weight_in_lbs"
         },
         {
          "Name": "datsun 210",
          "Origin": "Japan",
          "Year": "1979-01-01T00:00:00",
          "value": 2020,
          "variable": "Weight_in_lbs"
         },
         {
          "Name": "fiat strada custom",
          "Origin": "Europe",
          "Year": "1979-01-01T00:00:00",
          "value": 2130,
          "variable": "Weight_in_lbs"
         },
         {
          "Name": "buick skylark limited",
          "Origin": "USA",
          "Year": "1979-01-01T00:00:00",
          "value": 2670,
          "variable": "Weight_in_lbs"
         },
         {
          "Name": "chevrolet citation",
          "Origin": "USA",
          "Year": "1979-01-01T00:00:00",
          "value": 2595,
          "variable": "Weight_in_lbs"
         },
         {
          "Name": "oldsmobile omega brougham",
          "Origin": "USA",
          "Year": "1979-01-01T00:00:00",
          "value": 2700,
          "variable": "Weight_in_lbs"
         },
         {
          "Name": "pontiac phoenix",
          "Origin": "USA",
          "Year": "1979-01-01T00:00:00",
          "value": 2556,
          "variable": "Weight_in_lbs"
         },
         {
          "Name": "vw rabbit",
          "Origin": "Europe",
          "Year": "1980-01-01T00:00:00",
          "value": 2144,
          "variable": "Weight_in_lbs"
         },
         {
          "Name": "toyota corolla tercel",
          "Origin": "Japan",
          "Year": "1980-01-01T00:00:00",
          "value": 1968,
          "variable": "Weight_in_lbs"
         },
         {
          "Name": "chevrolet chevette",
          "Origin": "USA",
          "Year": "1980-01-01T00:00:00",
          "value": 2120,
          "variable": "Weight_in_lbs"
         },
         {
          "Name": "datsun 310",
          "Origin": "Japan",
          "Year": "1980-01-01T00:00:00",
          "value": 2019,
          "variable": "Weight_in_lbs"
         },
         {
          "Name": "chevrolet citation",
          "Origin": "USA",
          "Year": "1980-01-01T00:00:00",
          "value": 2678,
          "variable": "Weight_in_lbs"
         },
         {
          "Name": "ford fairmont",
          "Origin": "USA",
          "Year": "1980-01-01T00:00:00",
          "value": 2870,
          "variable": "Weight_in_lbs"
         },
         {
          "Name": "amc concord",
          "Origin": "USA",
          "Year": "1980-01-01T00:00:00",
          "value": 3003,
          "variable": "Weight_in_lbs"
         },
         {
          "Name": "dodge aspen",
          "Origin": "USA",
          "Year": "1980-01-01T00:00:00",
          "value": 3381,
          "variable": "Weight_in_lbs"
         },
         {
          "Name": "audi 4000",
          "Origin": "Europe",
          "Year": "1980-01-01T00:00:00",
          "value": 2188,
          "variable": "Weight_in_lbs"
         },
         {
          "Name": "toyota corona liftback",
          "Origin": "Japan",
          "Year": "1980-01-01T00:00:00",
          "value": 2711,
          "variable": "Weight_in_lbs"
         },
         {
          "Name": "mazda 626",
          "Origin": "Japan",
          "Year": "1980-01-01T00:00:00",
          "value": 2542,
          "variable": "Weight_in_lbs"
         },
         {
          "Name": "datsun 510 hatchback",
          "Origin": "Japan",
          "Year": "1980-01-01T00:00:00",
          "value": 2434,
          "variable": "Weight_in_lbs"
         },
         {
          "Name": "toyota corolla",
          "Origin": "Japan",
          "Year": "1980-01-01T00:00:00",
          "value": 2265,
          "variable": "Weight_in_lbs"
         },
         {
          "Name": "mazda glc",
          "Origin": "Japan",
          "Year": "1980-01-01T00:00:00",
          "value": 2110,
          "variable": "Weight_in_lbs"
         },
         {
          "Name": "dodge colt",
          "Origin": "USA",
          "Year": "1980-01-01T00:00:00",
          "value": 2800,
          "variable": "Weight_in_lbs"
         },
         {
          "Name": "datsun 210",
          "Origin": "Japan",
          "Year": "1980-01-01T00:00:00",
          "value": 2110,
          "variable": "Weight_in_lbs"
         },
         {
          "Name": "vw rabbit c (diesel)",
          "Origin": "Europe",
          "Year": "1980-01-01T00:00:00",
          "value": 2085,
          "variable": "Weight_in_lbs"
         },
         {
          "Name": "vw dasher (diesel)",
          "Origin": "Europe",
          "Year": "1980-01-01T00:00:00",
          "value": 2335,
          "variable": "Weight_in_lbs"
         },
         {
          "Name": "audi 5000s (diesel)",
          "Origin": "Europe",
          "Year": "1980-01-01T00:00:00",
          "value": 2950,
          "variable": "Weight_in_lbs"
         },
         {
          "Name": "mercedes-benz 240d",
          "Origin": "Europe",
          "Year": "1980-01-01T00:00:00",
          "value": 3250,
          "variable": "Weight_in_lbs"
         },
         {
          "Name": "honda civic 1500 gl",
          "Origin": "Japan",
          "Year": "1980-01-01T00:00:00",
          "value": 1850,
          "variable": "Weight_in_lbs"
         },
         {
          "Name": "renault lecar deluxe",
          "Origin": "Europe",
          "Year": "1980-01-01T00:00:00",
          "value": 1835,
          "variable": "Weight_in_lbs"
         },
         {
          "Name": "subaru dl",
          "Origin": "Japan",
          "Year": "1980-01-01T00:00:00",
          "value": 2145,
          "variable": "Weight_in_lbs"
         },
         {
          "Name": "vokswagen rabbit",
          "Origin": "Europe",
          "Year": "1980-01-01T00:00:00",
          "value": 1845,
          "variable": "Weight_in_lbs"
         },
         {
          "Name": "datsun 280-zx",
          "Origin": "Japan",
          "Year": "1980-01-01T00:00:00",
          "value": 2910,
          "variable": "Weight_in_lbs"
         },
         {
          "Name": "mazda rx-7 gs",
          "Origin": "Japan",
          "Year": "1980-01-01T00:00:00",
          "value": 2420,
          "variable": "Weight_in_lbs"
         },
         {
          "Name": "triumph tr7 coupe",
          "Origin": "Europe",
          "Year": "1980-01-01T00:00:00",
          "value": 2500,
          "variable": "Weight_in_lbs"
         },
         {
          "Name": "ford mustang cobra",
          "Origin": "USA",
          "Year": "1980-01-01T00:00:00",
          "value": 2905,
          "variable": "Weight_in_lbs"
         },
         {
          "Name": "honda Accelerationord",
          "Origin": "Japan",
          "Year": "1980-01-01T00:00:00",
          "value": 2290,
          "variable": "Weight_in_lbs"
         },
         {
          "Name": "plymouth reliant",
          "Origin": "USA",
          "Year": "1982-01-01T00:00:00",
          "value": 2490,
          "variable": "Weight_in_lbs"
         },
         {
          "Name": "buick skylark",
          "Origin": "USA",
          "Year": "1982-01-01T00:00:00",
          "value": 2635,
          "variable": "Weight_in_lbs"
         },
         {
          "Name": "dodge aries wagon (sw)",
          "Origin": "USA",
          "Year": "1982-01-01T00:00:00",
          "value": 2620,
          "variable": "Weight_in_lbs"
         },
         {
          "Name": "chevrolet citation",
          "Origin": "USA",
          "Year": "1982-01-01T00:00:00",
          "value": 2725,
          "variable": "Weight_in_lbs"
         },
         {
          "Name": "plymouth reliant",
          "Origin": "USA",
          "Year": "1982-01-01T00:00:00",
          "value": 2385,
          "variable": "Weight_in_lbs"
         },
         {
          "Name": "toyota starlet",
          "Origin": "Japan",
          "Year": "1982-01-01T00:00:00",
          "value": 1755,
          "variable": "Weight_in_lbs"
         },
         {
          "Name": "plymouth champ",
          "Origin": "USA",
          "Year": "1982-01-01T00:00:00",
          "value": 1875,
          "variable": "Weight_in_lbs"
         },
         {
          "Name": "honda civic 1300",
          "Origin": "Japan",
          "Year": "1982-01-01T00:00:00",
          "value": 1760,
          "variable": "Weight_in_lbs"
         },
         {
          "Name": "subaru",
          "Origin": "Japan",
          "Year": "1982-01-01T00:00:00",
          "value": 2065,
          "variable": "Weight_in_lbs"
         },
         {
          "Name": "datsun 210",
          "Origin": "Japan",
          "Year": "1982-01-01T00:00:00",
          "value": 1975,
          "variable": "Weight_in_lbs"
         },
         {
          "Name": "toyota tercel",
          "Origin": "Japan",
          "Year": "1982-01-01T00:00:00",
          "value": 2050,
          "variable": "Weight_in_lbs"
         },
         {
          "Name": "mazda glc 4",
          "Origin": "Japan",
          "Year": "1982-01-01T00:00:00",
          "value": 1985,
          "variable": "Weight_in_lbs"
         },
         {
          "Name": "plymouth horizon 4",
          "Origin": "USA",
          "Year": "1982-01-01T00:00:00",
          "value": 2215,
          "variable": "Weight_in_lbs"
         },
         {
          "Name": "ford escort 4w",
          "Origin": "USA",
          "Year": "1982-01-01T00:00:00",
          "value": 2045,
          "variable": "Weight_in_lbs"
         },
         {
          "Name": "ford escort 2h",
          "Origin": "USA",
          "Year": "1982-01-01T00:00:00",
          "value": 2380,
          "variable": "Weight_in_lbs"
         },
         {
          "Name": "volkswagen jetta",
          "Origin": "Europe",
          "Year": "1982-01-01T00:00:00",
          "value": 2190,
          "variable": "Weight_in_lbs"
         },
         {
          "Name": "renault 18i",
          "Origin": "Europe",
          "Year": "1982-01-01T00:00:00",
          "value": 2320,
          "variable": "Weight_in_lbs"
         },
         {
          "Name": "honda prelude",
          "Origin": "Japan",
          "Year": "1982-01-01T00:00:00",
          "value": 2210,
          "variable": "Weight_in_lbs"
         },
         {
          "Name": "toyota corolla",
          "Origin": "Japan",
          "Year": "1982-01-01T00:00:00",
          "value": 2350,
          "variable": "Weight_in_lbs"
         },
         {
          "Name": "datsun 200sx",
          "Origin": "Japan",
          "Year": "1982-01-01T00:00:00",
          "value": 2615,
          "variable": "Weight_in_lbs"
         },
         {
          "Name": "mazda 626",
          "Origin": "Japan",
          "Year": "1982-01-01T00:00:00",
          "value": 2635,
          "variable": "Weight_in_lbs"
         },
         {
          "Name": "peugeot 505s turbo diesel",
          "Origin": "Europe",
          "Year": "1982-01-01T00:00:00",
          "value": 3230,
          "variable": "Weight_in_lbs"
         },
         {
          "Name": "saab 900s",
          "Origin": "Europe",
          "Year": "1982-01-01T00:00:00",
          "value": 2800,
          "variable": "Weight_in_lbs"
         },
         {
          "Name": "volvo diesel",
          "Origin": "Europe",
          "Year": "1982-01-01T00:00:00",
          "value": 3160,
          "variable": "Weight_in_lbs"
         },
         {
          "Name": "toyota cressida",
          "Origin": "Japan",
          "Year": "1982-01-01T00:00:00",
          "value": 2900,
          "variable": "Weight_in_lbs"
         },
         {
          "Name": "datsun 810 maxima",
          "Origin": "Japan",
          "Year": "1982-01-01T00:00:00",
          "value": 2930,
          "variable": "Weight_in_lbs"
         },
         {
          "Name": "buick century",
          "Origin": "USA",
          "Year": "1982-01-01T00:00:00",
          "value": 3415,
          "variable": "Weight_in_lbs"
         },
         {
          "Name": "oldsmobile cutlass ls",
          "Origin": "USA",
          "Year": "1982-01-01T00:00:00",
          "value": 3725,
          "variable": "Weight_in_lbs"
         },
         {
          "Name": "ford granada gl",
          "Origin": "USA",
          "Year": "1982-01-01T00:00:00",
          "value": 3060,
          "variable": "Weight_in_lbs"
         },
         {
          "Name": "chrysler lebaron salon",
          "Origin": "USA",
          "Year": "1982-01-01T00:00:00",
          "value": 3465,
          "variable": "Weight_in_lbs"
         },
         {
          "Name": "chevrolet cavalier",
          "Origin": "USA",
          "Year": "1982-01-01T00:00:00",
          "value": 2605,
          "variable": "Weight_in_lbs"
         },
         {
          "Name": "chevrolet cavalier wagon",
          "Origin": "USA",
          "Year": "1982-01-01T00:00:00",
          "value": 2640,
          "variable": "Weight_in_lbs"
         },
         {
          "Name": "chevrolet cavalier 2-door",
          "Origin": "USA",
          "Year": "1982-01-01T00:00:00",
          "value": 2395,
          "variable": "Weight_in_lbs"
         },
         {
          "Name": "pontiac j2000 se hatchback",
          "Origin": "USA",
          "Year": "1982-01-01T00:00:00",
          "value": 2575,
          "variable": "Weight_in_lbs"
         },
         {
          "Name": "dodge aries se",
          "Origin": "USA",
          "Year": "1982-01-01T00:00:00",
          "value": 2525,
          "variable": "Weight_in_lbs"
         },
         {
          "Name": "pontiac phoenix",
          "Origin": "USA",
          "Year": "1982-01-01T00:00:00",
          "value": 2735,
          "variable": "Weight_in_lbs"
         },
         {
          "Name": "ford fairmont futura",
          "Origin": "USA",
          "Year": "1982-01-01T00:00:00",
          "value": 2865,
          "variable": "Weight_in_lbs"
         },
         {
          "Name": "amc concord dl",
          "Origin": "USA",
          "Year": "1982-01-01T00:00:00",
          "value": 3035,
          "variable": "Weight_in_lbs"
         },
         {
          "Name": "volkswagen rabbit l",
          "Origin": "Europe",
          "Year": "1982-01-01T00:00:00",
          "value": 1980,
          "variable": "Weight_in_lbs"
         },
         {
          "Name": "mazda glc custom l",
          "Origin": "Japan",
          "Year": "1982-01-01T00:00:00",
          "value": 2025,
          "variable": "Weight_in_lbs"
         },
         {
          "Name": "mazda glc custom",
          "Origin": "Japan",
          "Year": "1982-01-01T00:00:00",
          "value": 1970,
          "variable": "Weight_in_lbs"
         },
         {
          "Name": "plymouth horizon miser",
          "Origin": "USA",
          "Year": "1982-01-01T00:00:00",
          "value": 2125,
          "variable": "Weight_in_lbs"
         },
         {
          "Name": "mercury lynx l",
          "Origin": "USA",
          "Year": "1982-01-01T00:00:00",
          "value": 2125,
          "variable": "Weight_in_lbs"
         },
         {
          "Name": "nissan stanza xe",
          "Origin": "Japan",
          "Year": "1982-01-01T00:00:00",
          "value": 2160,
          "variable": "Weight_in_lbs"
         },
         {
          "Name": "honda Accelerationord",
          "Origin": "Japan",
          "Year": "1982-01-01T00:00:00",
          "value": 2205,
          "variable": "Weight_in_lbs"
         },
         {
          "Name": "toyota corolla",
          "Origin": "Japan",
          "Year": "1982-01-01T00:00:00",
          "value": 2245,
          "variable": "Weight_in_lbs"
         },
         {
          "Name": "honda civic",
          "Origin": "Japan",
          "Year": "1982-01-01T00:00:00",
          "value": 1965,
          "variable": "Weight_in_lbs"
         },
         {
          "Name": "honda civic (auto)",
          "Origin": "Japan",
          "Year": "1982-01-01T00:00:00",
          "value": 1965,
          "variable": "Weight_in_lbs"
         },
         {
          "Name": "datsun 310 gx",
          "Origin": "Japan",
          "Year": "1982-01-01T00:00:00",
          "value": 1995,
          "variable": "Weight_in_lbs"
         },
         {
          "Name": "buick century limited",
          "Origin": "USA",
          "Year": "1982-01-01T00:00:00",
          "value": 2945,
          "variable": "Weight_in_lbs"
         },
         {
          "Name": "oldsmobile cutlass ciera (diesel)",
          "Origin": "USA",
          "Year": "1982-01-01T00:00:00",
          "value": 3015,
          "variable": "Weight_in_lbs"
         },
         {
          "Name": "chrysler lebaron medallion",
          "Origin": "USA",
          "Year": "1982-01-01T00:00:00",
          "value": 2585,
          "variable": "Weight_in_lbs"
         },
         {
          "Name": "ford granada l",
          "Origin": "USA",
          "Year": "1982-01-01T00:00:00",
          "value": 2835,
          "variable": "Weight_in_lbs"
         },
         {
          "Name": "toyota celica gt",
          "Origin": "Japan",
          "Year": "1982-01-01T00:00:00",
          "value": 2665,
          "variable": "Weight_in_lbs"
         },
         {
          "Name": "dodge charger 2.2",
          "Origin": "USA",
          "Year": "1982-01-01T00:00:00",
          "value": 2370,
          "variable": "Weight_in_lbs"
         },
         {
          "Name": "chevrolet camaro",
          "Origin": "USA",
          "Year": "1982-01-01T00:00:00",
          "value": 2950,
          "variable": "Weight_in_lbs"
         },
         {
          "Name": "ford mustang gl",
          "Origin": "USA",
          "Year": "1982-01-01T00:00:00",
          "value": 2790,
          "variable": "Weight_in_lbs"
         },
         {
          "Name": "vw pickup",
          "Origin": "Europe",
          "Year": "1982-01-01T00:00:00",
          "value": 2130,
          "variable": "Weight_in_lbs"
         },
         {
          "Name": "dodge rampage",
          "Origin": "USA",
          "Year": "1982-01-01T00:00:00",
          "value": 2295,
          "variable": "Weight_in_lbs"
         },
         {
          "Name": "ford ranger",
          "Origin": "USA",
          "Year": "1982-01-01T00:00:00",
          "value": 2625,
          "variable": "Weight_in_lbs"
         },
         {
          "Name": "chevy s-10",
          "Origin": "USA",
          "Year": "1982-01-01T00:00:00",
          "value": 2720,
          "variable": "Weight_in_lbs"
         },
         {
          "Name": "chevrolet chevelle malibu",
          "Origin": "USA",
          "Year": "1970-01-01T00:00:00",
          "value": 12,
          "variable": "Acceleration"
         },
         {
          "Name": "buick skylark 320",
          "Origin": "USA",
          "Year": "1970-01-01T00:00:00",
          "value": 11.5,
          "variable": "Acceleration"
         },
         {
          "Name": "plymouth satellite",
          "Origin": "USA",
          "Year": "1970-01-01T00:00:00",
          "value": 11,
          "variable": "Acceleration"
         },
         {
          "Name": "amc rebel sst",
          "Origin": "USA",
          "Year": "1970-01-01T00:00:00",
          "value": 12,
          "variable": "Acceleration"
         },
         {
          "Name": "ford torino",
          "Origin": "USA",
          "Year": "1970-01-01T00:00:00",
          "value": 10.5,
          "variable": "Acceleration"
         },
         {
          "Name": "ford galaxie 500",
          "Origin": "USA",
          "Year": "1970-01-01T00:00:00",
          "value": 10,
          "variable": "Acceleration"
         },
         {
          "Name": "chevrolet impala",
          "Origin": "USA",
          "Year": "1970-01-01T00:00:00",
          "value": 9,
          "variable": "Acceleration"
         },
         {
          "Name": "plymouth fury iii",
          "Origin": "USA",
          "Year": "1970-01-01T00:00:00",
          "value": 8.5,
          "variable": "Acceleration"
         },
         {
          "Name": "pontiac catalina",
          "Origin": "USA",
          "Year": "1970-01-01T00:00:00",
          "value": 10,
          "variable": "Acceleration"
         },
         {
          "Name": "amc ambassador dpl",
          "Origin": "USA",
          "Year": "1970-01-01T00:00:00",
          "value": 8.5,
          "variable": "Acceleration"
         },
         {
          "Name": "citroen ds-21 pallas",
          "Origin": "Europe",
          "Year": "1970-01-01T00:00:00",
          "value": 17.5,
          "variable": "Acceleration"
         },
         {
          "Name": "chevrolet chevelle concours (sw)",
          "Origin": "USA",
          "Year": "1970-01-01T00:00:00",
          "value": 11.5,
          "variable": "Acceleration"
         },
         {
          "Name": "ford torino (sw)",
          "Origin": "USA",
          "Year": "1970-01-01T00:00:00",
          "value": 11,
          "variable": "Acceleration"
         },
         {
          "Name": "plymouth satellite (sw)",
          "Origin": "USA",
          "Year": "1970-01-01T00:00:00",
          "value": 10.5,
          "variable": "Acceleration"
         },
         {
          "Name": "amc rebel sst (sw)",
          "Origin": "USA",
          "Year": "1970-01-01T00:00:00",
          "value": 11,
          "variable": "Acceleration"
         },
         {
          "Name": "dodge challenger se",
          "Origin": "USA",
          "Year": "1970-01-01T00:00:00",
          "value": 10,
          "variable": "Acceleration"
         },
         {
          "Name": "plymouth 'cuda 340",
          "Origin": "USA",
          "Year": "1970-01-01T00:00:00",
          "value": 8,
          "variable": "Acceleration"
         },
         {
          "Name": "ford mustang boss 302",
          "Origin": "USA",
          "Year": "1970-01-01T00:00:00",
          "value": 8,
          "variable": "Acceleration"
         },
         {
          "Name": "chevrolet monte carlo",
          "Origin": "USA",
          "Year": "1970-01-01T00:00:00",
          "value": 9.5,
          "variable": "Acceleration"
         },
         {
          "Name": "buick estate wagon (sw)",
          "Origin": "USA",
          "Year": "1970-01-01T00:00:00",
          "value": 10,
          "variable": "Acceleration"
         },
         {
          "Name": "toyota corona mark ii",
          "Origin": "Japan",
          "Year": "1970-01-01T00:00:00",
          "value": 15,
          "variable": "Acceleration"
         },
         {
          "Name": "plymouth duster",
          "Origin": "USA",
          "Year": "1970-01-01T00:00:00",
          "value": 15.5,
          "variable": "Acceleration"
         },
         {
          "Name": "amc hornet",
          "Origin": "USA",
          "Year": "1970-01-01T00:00:00",
          "value": 15.5,
          "variable": "Acceleration"
         },
         {
          "Name": "ford maverick",
          "Origin": "USA",
          "Year": "1970-01-01T00:00:00",
          "value": 16,
          "variable": "Acceleration"
         },
         {
          "Name": "datsun pl510",
          "Origin": "Japan",
          "Year": "1970-01-01T00:00:00",
          "value": 14.5,
          "variable": "Acceleration"
         },
         {
          "Name": "volkswagen 1131 deluxe sedan",
          "Origin": "Europe",
          "Year": "1970-01-01T00:00:00",
          "value": 20.5,
          "variable": "Acceleration"
         },
         {
          "Name": "peugeot 504",
          "Origin": "Europe",
          "Year": "1970-01-01T00:00:00",
          "value": 17.5,
          "variable": "Acceleration"
         },
         {
          "Name": "audi 100 ls",
          "Origin": "Europe",
          "Year": "1970-01-01T00:00:00",
          "value": 14.5,
          "variable": "Acceleration"
         },
         {
          "Name": "saab 99e",
          "Origin": "Europe",
          "Year": "1970-01-01T00:00:00",
          "value": 17.5,
          "variable": "Acceleration"
         },
         {
          "Name": "bmw 2002",
          "Origin": "Europe",
          "Year": "1970-01-01T00:00:00",
          "value": 12.5,
          "variable": "Acceleration"
         },
         {
          "Name": "amc gremlin",
          "Origin": "USA",
          "Year": "1970-01-01T00:00:00",
          "value": 15,
          "variable": "Acceleration"
         },
         {
          "Name": "ford f250",
          "Origin": "USA",
          "Year": "1970-01-01T00:00:00",
          "value": 14,
          "variable": "Acceleration"
         },
         {
          "Name": "chevy c20",
          "Origin": "USA",
          "Year": "1970-01-01T00:00:00",
          "value": 15,
          "variable": "Acceleration"
         },
         {
          "Name": "dodge d200",
          "Origin": "USA",
          "Year": "1970-01-01T00:00:00",
          "value": 13.5,
          "variable": "Acceleration"
         },
         {
          "Name": "hi 1200d",
          "Origin": "USA",
          "Year": "1970-01-01T00:00:00",
          "value": 18.5,
          "variable": "Acceleration"
         },
         {
          "Name": "datsun pl510",
          "Origin": "Japan",
          "Year": "1971-01-01T00:00:00",
          "value": 14.5,
          "variable": "Acceleration"
         },
         {
          "Name": "chevrolet vega 2300",
          "Origin": "USA",
          "Year": "1971-01-01T00:00:00",
          "value": 15.5,
          "variable": "Acceleration"
         },
         {
          "Name": "toyota corona",
          "Origin": "Japan",
          "Year": "1971-01-01T00:00:00",
          "value": 14,
          "variable": "Acceleration"
         },
         {
          "Name": "ford pinto",
          "Origin": "USA",
          "Year": "1971-01-01T00:00:00",
          "value": 19,
          "variable": "Acceleration"
         },
         {
          "Name": "volkswagen super beetle 117",
          "Origin": "Europe",
          "Year": "1971-01-01T00:00:00",
          "value": 20,
          "variable": "Acceleration"
         },
         {
          "Name": "amc gremlin",
          "Origin": "USA",
          "Year": "1971-01-01T00:00:00",
          "value": 13,
          "variable": "Acceleration"
         },
         {
          "Name": "plymouth satellite custom",
          "Origin": "USA",
          "Year": "1971-01-01T00:00:00",
          "value": 15.5,
          "variable": "Acceleration"
         },
         {
          "Name": "chevrolet chevelle malibu",
          "Origin": "USA",
          "Year": "1971-01-01T00:00:00",
          "value": 15.5,
          "variable": "Acceleration"
         },
         {
          "Name": "ford torino 500",
          "Origin": "USA",
          "Year": "1971-01-01T00:00:00",
          "value": 15.5,
          "variable": "Acceleration"
         },
         {
          "Name": "amc matador",
          "Origin": "USA",
          "Year": "1971-01-01T00:00:00",
          "value": 15.5,
          "variable": "Acceleration"
         },
         {
          "Name": "chevrolet impala",
          "Origin": "USA",
          "Year": "1971-01-01T00:00:00",
          "value": 12,
          "variable": "Acceleration"
         },
         {
          "Name": "pontiac catalina brougham",
          "Origin": "USA",
          "Year": "1971-01-01T00:00:00",
          "value": 11.5,
          "variable": "Acceleration"
         },
         {
          "Name": "ford galaxie 500",
          "Origin": "USA",
          "Year": "1971-01-01T00:00:00",
          "value": 13.5,
          "variable": "Acceleration"
         },
         {
          "Name": "plymouth fury iii",
          "Origin": "USA",
          "Year": "1971-01-01T00:00:00",
          "value": 13,
          "variable": "Acceleration"
         },
         {
          "Name": "dodge monaco (sw)",
          "Origin": "USA",
          "Year": "1971-01-01T00:00:00",
          "value": 11.5,
          "variable": "Acceleration"
         },
         {
          "Name": "ford country squire (sw)",
          "Origin": "USA",
          "Year": "1971-01-01T00:00:00",
          "value": 12,
          "variable": "Acceleration"
         },
         {
          "Name": "pontiac safari (sw)",
          "Origin": "USA",
          "Year": "1971-01-01T00:00:00",
          "value": 12,
          "variable": "Acceleration"
         },
         {
          "Name": "amc hornet sportabout (sw)",
          "Origin": "USA",
          "Year": "1971-01-01T00:00:00",
          "value": 13.5,
          "variable": "Acceleration"
         },
         {
          "Name": "chevrolet vega (sw)",
          "Origin": "USA",
          "Year": "1971-01-01T00:00:00",
          "value": 19,
          "variable": "Acceleration"
         },
         {
          "Name": "pontiac firebird",
          "Origin": "USA",
          "Year": "1971-01-01T00:00:00",
          "value": 15,
          "variable": "Acceleration"
         },
         {
          "Name": "ford mustang",
          "Origin": "USA",
          "Year": "1971-01-01T00:00:00",
          "value": 14.5,
          "variable": "Acceleration"
         },
         {
          "Name": "mercury capri 2000",
          "Origin": "USA",
          "Year": "1971-01-01T00:00:00",
          "value": 14,
          "variable": "Acceleration"
         },
         {
          "Name": "opel 1900",
          "Origin": "Europe",
          "Year": "1971-01-01T00:00:00",
          "value": 14,
          "variable": "Acceleration"
         },
         {
          "Name": "peugeot 304",
          "Origin": "Europe",
          "Year": "1971-01-01T00:00:00",
          "value": 19.5,
          "variable": "Acceleration"
         },
         {
          "Name": "fiat 124b",
          "Origin": "Europe",
          "Year": "1971-01-01T00:00:00",
          "value": 14.5,
          "variable": "Acceleration"
         },
         {
          "Name": "toyota corolla 1200",
          "Origin": "Japan",
          "Year": "1971-01-01T00:00:00",
          "value": 19,
          "variable": "Acceleration"
         },
         {
          "Name": "datsun 1200",
          "Origin": "Japan",
          "Year": "1971-01-01T00:00:00",
          "value": 18,
          "variable": "Acceleration"
         },
         {
          "Name": "volkswagen model 111",
          "Origin": "Europe",
          "Year": "1971-01-01T00:00:00",
          "value": 19,
          "variable": "Acceleration"
         },
         {
          "Name": "plymouth cricket",
          "Origin": "USA",
          "Year": "1971-01-01T00:00:00",
          "value": 20.5,
          "variable": "Acceleration"
         },
         {
          "Name": "toyota corona hardtop",
          "Origin": "Japan",
          "Year": "1972-01-01T00:00:00",
          "value": 15.5,
          "variable": "Acceleration"
         },
         {
          "Name": "dodge colt hardtop",
          "Origin": "USA",
          "Year": "1972-01-01T00:00:00",
          "value": 17,
          "variable": "Acceleration"
         },
         {
          "Name": "volkswagen type 3",
          "Origin": "Europe",
          "Year": "1972-01-01T00:00:00",
          "value": 23.5,
          "variable": "Acceleration"
         },
         {
          "Name": "chevrolet vega",
          "Origin": "USA",
          "Year": "1972-01-01T00:00:00",
          "value": 19.5,
          "variable": "Acceleration"
         },
         {
          "Name": "ford pinto runabout",
          "Origin": "USA",
          "Year": "1972-01-01T00:00:00",
          "value": 16.5,
          "variable": "Acceleration"
         },
         {
          "Name": "chevrolet impala",
          "Origin": "USA",
          "Year": "1972-01-01T00:00:00",
          "value": 12,
          "variable": "Acceleration"
         },
         {
          "Name": "pontiac catalina",
          "Origin": "USA",
          "Year": "1972-01-01T00:00:00",
          "value": 12,
          "variable": "Acceleration"
         },
         {
          "Name": "plymouth fury iii",
          "Origin": "USA",
          "Year": "1972-01-01T00:00:00",
          "value": 13.5,
          "variable": "Acceleration"
         },
         {
          "Name": "ford galaxie 500",
          "Origin": "USA",
          "Year": "1972-01-01T00:00:00",
          "value": 13,
          "variable": "Acceleration"
         },
         {
          "Name": "amc ambassador sst",
          "Origin": "USA",
          "Year": "1972-01-01T00:00:00",
          "value": 11.5,
          "variable": "Acceleration"
         },
         {
          "Name": "mercury marquis",
          "Origin": "USA",
          "Year": "1972-01-01T00:00:00",
          "value": 11,
          "variable": "Acceleration"
         },
         {
          "Name": "buick lesabre custom",
          "Origin": "USA",
          "Year": "1972-01-01T00:00:00",
          "value": 13.5,
          "variable": "Acceleration"
         },
         {
          "Name": "oldsmobile delta 88 royale",
          "Origin": "USA",
          "Year": "1972-01-01T00:00:00",
          "value": 13.5,
          "variable": "Acceleration"
         },
         {
          "Name": "chrysler newport royal",
          "Origin": "USA",
          "Year": "1972-01-01T00:00:00",
          "value": 12.5,
          "variable": "Acceleration"
         },
         {
          "Name": "mazda rx2 coupe",
          "Origin": "Japan",
          "Year": "1972-01-01T00:00:00",
          "value": 13.5,
          "variable": "Acceleration"
         },
         {
          "Name": "amc matador (sw)",
          "Origin": "USA",
          "Year": "1972-01-01T00:00:00",
          "value": 12.5,
          "variable": "Acceleration"
         },
         {
          "Name": "chevrolet chevelle concours (sw)",
          "Origin": "USA",
          "Year": "1972-01-01T00:00:00",
          "value": 14,
          "variable": "Acceleration"
         },
         {
          "Name": "ford gran torino (sw)",
          "Origin": "USA",
          "Year": "1972-01-01T00:00:00",
          "value": 16,
          "variable": "Acceleration"
         },
         {
          "Name": "plymouth satellite custom (sw)",
          "Origin": "USA",
          "Year": "1972-01-01T00:00:00",
          "value": 14,
          "variable": "Acceleration"
         },
         {
          "Name": "volvo 145e (sw)",
          "Origin": "Europe",
          "Year": "1972-01-01T00:00:00",
          "value": 14.5,
          "variable": "Acceleration"
         },
         {
          "Name": "volkswagen 411 (sw)",
          "Origin": "Europe",
          "Year": "1972-01-01T00:00:00",
          "value": 18,
          "variable": "Acceleration"
         },
         {
          "Name": "peugeot 504 (sw)",
          "Origin": "Europe",
          "Year": "1972-01-01T00:00:00",
          "value": 19.5,
          "variable": "Acceleration"
         },
         {
          "Name": "renault 12 (sw)",
          "Origin": "Europe",
          "Year": "1972-01-01T00:00:00",
          "value": 18,
          "variable": "Acceleration"
         },
         {
          "Name": "ford pinto (sw)",
          "Origin": "USA",
          "Year": "1972-01-01T00:00:00",
          "value": 16,
          "variable": "Acceleration"
         },
         {
          "Name": "datsun 510 (sw)",
          "Origin": "Japan",
          "Year": "1972-01-01T00:00:00",
          "value": 17,
          "variable": "Acceleration"
         },
         {
          "Name": "toyouta corona mark ii (sw)",
          "Origin": "Japan",
          "Year": "1972-01-01T00:00:00",
          "value": 14.5,
          "variable": "Acceleration"
         },
         {
          "Name": "dodge colt (sw)",
          "Origin": "USA",
          "Year": "1972-01-01T00:00:00",
          "value": 15,
          "variable": "Acceleration"
         },
         {
          "Name": "toyota corolla 1600 (sw)",
          "Origin": "Japan",
          "Year": "1972-01-01T00:00:00",
          "value": 16.5,
          "variable": "Acceleration"
         },
         {
          "Name": "buick century 350",
          "Origin": "USA",
          "Year": "1973-01-01T00:00:00",
          "value": 13,
          "variable": "Acceleration"
         },
         {
          "Name": "amc matador",
          "Origin": "USA",
          "Year": "1973-01-01T00:00:00",
          "value": 11.5,
          "variable": "Acceleration"
         },
         {
          "Name": "chevrolet malibu",
          "Origin": "USA",
          "Year": "1973-01-01T00:00:00",
          "value": 13,
          "variable": "Acceleration"
         },
         {
          "Name": "ford gran torino",
          "Origin": "USA",
          "Year": "1973-01-01T00:00:00",
          "value": 14.5,
          "variable": "Acceleration"
         },
         {
          "Name": "dodge coronet custom",
          "Origin": "USA",
          "Year": "1973-01-01T00:00:00",
          "value": 12.5,
          "variable": "Acceleration"
         },
         {
          "Name": "mercury marquis brougham",
          "Origin": "USA",
          "Year": "1973-01-01T00:00:00",
          "value": 11.5,
          "variable": "Acceleration"
         },
         {
          "Name": "chevrolet caprice classic",
          "Origin": "USA",
          "Year": "1973-01-01T00:00:00",
          "value": 12,
          "variable": "Acceleration"
         },
         {
          "Name": "ford ltd",
          "Origin": "USA",
          "Year": "1973-01-01T00:00:00",
          "value": 13,
          "variable": "Acceleration"
         },
         {
          "Name": "plymouth fury gran sedan",
          "Origin": "USA",
          "Year": "1973-01-01T00:00:00",
          "value": 14.5,
          "variable": "Acceleration"
         },
         {
          "Name": "chrysler new yorker brougham",
          "Origin": "USA",
          "Year": "1973-01-01T00:00:00",
          "value": 11,
          "variable": "Acceleration"
         },
         {
          "Name": "buick electra 225 custom",
          "Origin": "USA",
          "Year": "1973-01-01T00:00:00",
          "value": 11,
          "variable": "Acceleration"
         },
         {
          "Name": "amc ambassador brougham",
          "Origin": "USA",
          "Year": "1973-01-01T00:00:00",
          "value": 11,
          "variable": "Acceleration"
         },
         {
          "Name": "plymouth valiant",
          "Origin": "USA",
          "Year": "1973-01-01T00:00:00",
          "value": 16.5,
          "variable": "Acceleration"
         },
         {
          "Name": "chevrolet nova custom",
          "Origin": "USA",
          "Year": "1973-01-01T00:00:00",
          "value": 18,
          "variable": "Acceleration"
         },
         {
          "Name": "amc hornet",
          "Origin": "USA",
          "Year": "1973-01-01T00:00:00",
          "value": 16,
          "variable": "Acceleration"
         },
         {
          "Name": "ford maverick",
          "Origin": "USA",
          "Year": "1973-01-01T00:00:00",
          "value": 16.5,
          "variable": "Acceleration"
         },
         {
          "Name": "plymouth duster",
          "Origin": "USA",
          "Year": "1973-01-01T00:00:00",
          "value": 16,
          "variable": "Acceleration"
         },
         {
          "Name": "volkswagen super beetle",
          "Origin": "Europe",
          "Year": "1973-01-01T00:00:00",
          "value": 21,
          "variable": "Acceleration"
         },
         {
          "Name": "chevrolet impala",
          "Origin": "USA",
          "Year": "1973-01-01T00:00:00",
          "value": 14,
          "variable": "Acceleration"
         },
         {
          "Name": "ford country",
          "Origin": "USA",
          "Year": "1973-01-01T00:00:00",
          "value": 12.5,
          "variable": "Acceleration"
         },
         {
          "Name": "plymouth custom suburb",
          "Origin": "USA",
          "Year": "1973-01-01T00:00:00",
          "value": 13,
          "variable": "Acceleration"
         },
         {
          "Name": "oldsmobile vista cruiser",
          "Origin": "USA",
          "Year": "1973-01-01T00:00:00",
          "value": 12.5,
          "variable": "Acceleration"
         },
         {
          "Name": "amc gremlin",
          "Origin": "USA",
          "Year": "1973-01-01T00:00:00",
          "value": 15,
          "variable": "Acceleration"
         },
         {
          "Name": "toyota carina",
          "Origin": "Japan",
          "Year": "1973-01-01T00:00:00",
          "value": 19,
          "variable": "Acceleration"
         },
         {
          "Name": "chevrolet vega",
          "Origin": "USA",
          "Year": "1973-01-01T00:00:00",
          "value": 19.5,
          "variable": "Acceleration"
         },
         {
          "Name": "datsun 610",
          "Origin": "Japan",
          "Year": "1973-01-01T00:00:00",
          "value": 16.5,
          "variable": "Acceleration"
         },
         {
          "Name": "maxda rx3",
          "Origin": "Japan",
          "Year": "1973-01-01T00:00:00",
          "value": 13.5,
          "variable": "Acceleration"
         },
         {
          "Name": "ford pinto",
          "Origin": "USA",
          "Year": "1973-01-01T00:00:00",
          "value": 18.5,
          "variable": "Acceleration"
         },
         {
          "Name": "mercury capri v6",
          "Origin": "USA",
          "Year": "1973-01-01T00:00:00",
          "value": 14,
          "variable": "Acceleration"
         },
         {
          "Name": "fiat 124 sport coupe",
          "Origin": "Europe",
          "Year": "1973-01-01T00:00:00",
          "value": 15.5,
          "variable": "Acceleration"
         },
         {
          "Name": "chevrolet monte carlo s",
          "Origin": "USA",
          "Year": "1973-01-01T00:00:00",
          "value": 13,
          "variable": "Acceleration"
         },
         {
          "Name": "pontiac grand prix",
          "Origin": "USA",
          "Year": "1973-01-01T00:00:00",
          "value": 9.5,
          "variable": "Acceleration"
         },
         {
          "Name": "fiat 128",
          "Origin": "Europe",
          "Year": "1973-01-01T00:00:00",
          "value": 19.5,
          "variable": "Acceleration"
         },
         {
          "Name": "opel manta",
          "Origin": "Europe",
          "Year": "1973-01-01T00:00:00",
          "value": 15.5,
          "variable": "Acceleration"
         },
         {
          "Name": "audi 100ls",
          "Origin": "Europe",
          "Year": "1973-01-01T00:00:00",
          "value": 14,
          "variable": "Acceleration"
         },
         {
          "Name": "volvo 144ea",
          "Origin": "Europe",
          "Year": "1973-01-01T00:00:00",
          "value": 15.5,
          "variable": "Acceleration"
         },
         {
          "Name": "dodge dart custom",
          "Origin": "USA",
          "Year": "1973-01-01T00:00:00",
          "value": 11,
          "variable": "Acceleration"
         },
         {
          "Name": "saab 99le",
          "Origin": "Europe",
          "Year": "1973-01-01T00:00:00",
          "value": 14,
          "variable": "Acceleration"
         },
         {
          "Name": "toyota mark ii",
          "Origin": "Japan",
          "Year": "1973-01-01T00:00:00",
          "value": 13.5,
          "variable": "Acceleration"
         },
         {
          "Name": "oldsmobile omega",
          "Origin": "USA",
          "Year": "1973-01-01T00:00:00",
          "value": 11,
          "variable": "Acceleration"
         },
         {
          "Name": "plymouth duster",
          "Origin": "USA",
          "Year": "1974-01-01T00:00:00",
          "value": 16.5,
          "variable": "Acceleration"
         },
         {
          "Name": "ford maverick",
          "Origin": "USA",
          "Year": "1974-01-01T00:00:00",
          "value": 17,
          "variable": "Acceleration"
         },
         {
          "Name": "amc hornet",
          "Origin": "USA",
          "Year": "1974-01-01T00:00:00",
          "value": 16,
          "variable": "Acceleration"
         },
         {
          "Name": "chevrolet nova",
          "Origin": "USA",
          "Year": "1974-01-01T00:00:00",
          "value": 17,
          "variable": "Acceleration"
         },
         {
          "Name": "datsun b210",
          "Origin": "Japan",
          "Year": "1974-01-01T00:00:00",
          "value": 19,
          "variable": "Acceleration"
         },
         {
          "Name": "ford pinto",
          "Origin": "USA",
          "Year": "1974-01-01T00:00:00",
          "value": 16.5,
          "variable": "Acceleration"
         },
         {
          "Name": "toyota corolla 1200",
          "Origin": "Japan",
          "Year": "1974-01-01T00:00:00",
          "value": 21,
          "variable": "Acceleration"
         },
         {
          "Name": "chevrolet vega",
          "Origin": "USA",
          "Year": "1974-01-01T00:00:00",
          "value": 17,
          "variable": "Acceleration"
         },
         {
          "Name": "chevrolet chevelle malibu classic",
          "Origin": "USA",
          "Year": "1974-01-01T00:00:00",
          "value": 17,
          "variable": "Acceleration"
         },
         {
          "Name": "amc matador",
          "Origin": "USA",
          "Year": "1974-01-01T00:00:00",
          "value": 18,
          "variable": "Acceleration"
         },
         {
          "Name": "plymouth satellite sebring",
          "Origin": "USA",
          "Year": "1974-01-01T00:00:00",
          "value": 16.5,
          "variable": "Acceleration"
         },
         {
          "Name": "ford gran torino",
          "Origin": "USA",
          "Year": "1974-01-01T00:00:00",
          "value": 14,
          "variable": "Acceleration"
         },
         {
          "Name": "buick century luxus (sw)",
          "Origin": "USA",
          "Year": "1974-01-01T00:00:00",
          "value": 14.5,
          "variable": "Acceleration"
         },
         {
          "Name": "dodge coronet custom (sw)",
          "Origin": "USA",
          "Year": "1974-01-01T00:00:00",
          "value": 13.5,
          "variable": "Acceleration"
         },
         {
          "Name": "ford gran torino (sw)",
          "Origin": "USA",
          "Year": "1974-01-01T00:00:00",
          "value": 16,
          "variable": "Acceleration"
         },
         {
          "Name": "amc matador (sw)",
          "Origin": "USA",
          "Year": "1974-01-01T00:00:00",
          "value": 15.5,
          "variable": "Acceleration"
         },
         {
          "Name": "audi fox",
          "Origin": "Europe",
          "Year": "1974-01-01T00:00:00",
          "value": 16.5,
          "variable": "Acceleration"
         },
         {
          "Name": "volkswagen dasher",
          "Origin": "Europe",
          "Year": "1974-01-01T00:00:00",
          "value": 15.5,
          "variable": "Acceleration"
         },
         {
          "Name": "opel manta",
          "Origin": "Europe",
          "Year": "1974-01-01T00:00:00",
          "value": 14.5,
          "variable": "Acceleration"
         },
         {
          "Name": "toyota corona",
          "Origin": "Japan",
          "Year": "1974-01-01T00:00:00",
          "value": 16.5,
          "variable": "Acceleration"
         },
         {
          "Name": "datsun 710",
          "Origin": "Japan",
          "Year": "1974-01-01T00:00:00",
          "value": 19,
          "variable": "Acceleration"
         },
         {
          "Name": "dodge colt",
          "Origin": "USA",
          "Year": "1974-01-01T00:00:00",
          "value": 14.5,
          "variable": "Acceleration"
         },
         {
          "Name": "fiat 128",
          "Origin": "Europe",
          "Year": "1974-01-01T00:00:00",
          "value": 15.5,
          "variable": "Acceleration"
         },
         {
          "Name": "fiat 124 tc",
          "Origin": "Europe",
          "Year": "1974-01-01T00:00:00",
          "value": 14,
          "variable": "Acceleration"
         },
         {
          "Name": "honda civic",
          "Origin": "Japan",
          "Year": "1974-01-01T00:00:00",
          "value": 15,
          "variable": "Acceleration"
         },
         {
          "Name": "subaru",
          "Origin": "Japan",
          "Year": "1974-01-01T00:00:00",
          "value": 15.5,
          "variable": "Acceleration"
         },
         {
          "Name": "fiat x1.9",
          "Origin": "Europe",
          "Year": "1974-01-01T00:00:00",
          "value": 16,
          "variable": "Acceleration"
         },
         {
          "Name": "plymouth valiant custom",
          "Origin": "USA",
          "Year": "1975-01-01T00:00:00",
          "value": 16,
          "variable": "Acceleration"
         },
         {
          "Name": "chevrolet nova",
          "Origin": "USA",
          "Year": "1975-01-01T00:00:00",
          "value": 16,
          "variable": "Acceleration"
         },
         {
          "Name": "mercury monarch",
          "Origin": "USA",
          "Year": "1975-01-01T00:00:00",
          "value": 21,
          "variable": "Acceleration"
         },
         {
          "Name": "ford maverick",
          "Origin": "USA",
          "Year": "1975-01-01T00:00:00",
          "value": 19.5,
          "variable": "Acceleration"
         },
         {
          "Name": "pontiac catalina",
          "Origin": "USA",
          "Year": "1975-01-01T00:00:00",
          "value": 11.5,
          "variable": "Acceleration"
         },
         {
          "Name": "chevrolet bel air",
          "Origin": "USA",
          "Year": "1975-01-01T00:00:00",
          "value": 14,
          "variable": "Acceleration"
         },
         {
          "Name": "plymouth grand fury",
          "Origin": "USA",
          "Year": "1975-01-01T00:00:00",
          "value": 14.5,
          "variable": "Acceleration"
         },
         {
          "Name": "ford ltd",
          "Origin": "USA",
          "Year": "1975-01-01T00:00:00",
          "value": 13.5,
          "variable": "Acceleration"
         },
         {
          "Name": "buick century",
          "Origin": "USA",
          "Year": "1975-01-01T00:00:00",
          "value": 21,
          "variable": "Acceleration"
         },
         {
          "Name": "chevroelt chevelle malibu",
          "Origin": "USA",
          "Year": "1975-01-01T00:00:00",
          "value": 18.5,
          "variable": "Acceleration"
         },
         {
          "Name": "amc matador",
          "Origin": "USA",
          "Year": "1975-01-01T00:00:00",
          "value": 19,
          "variable": "Acceleration"
         },
         {
          "Name": "plymouth fury",
          "Origin": "USA",
          "Year": "1975-01-01T00:00:00",
          "value": 19,
          "variable": "Acceleration"
         },
         {
          "Name": "buick skyhawk",
          "Origin": "USA",
          "Year": "1975-01-01T00:00:00",
          "value": 15,
          "variable": "Acceleration"
         },
         {
          "Name": "chevrolet monza 2+2",
          "Origin": "USA",
          "Year": "1975-01-01T00:00:00",
          "value": 13.5,
          "variable": "Acceleration"
         },
         {
          "Name": "ford mustang ii",
          "Origin": "USA",
          "Year": "1975-01-01T00:00:00",
          "value": 12,
          "variable": "Acceleration"
         },
         {
          "Name": "toyota corolla",
          "Origin": "Japan",
          "Year": "1975-01-01T00:00:00",
          "value": 16,
          "variable": "Acceleration"
         },
         {
          "Name": "ford pinto",
          "Origin": "USA",
          "Year": "1975-01-01T00:00:00",
          "value": 17,
          "variable": "Acceleration"
         },
         {
          "Name": "amc gremlin",
          "Origin": "USA",
          "Year": "1975-01-01T00:00:00",
          "value": 16,
          "variable": "Acceleration"
         },
         {
          "Name": "pontiac astro",
          "Origin": "USA",
          "Year": "1975-01-01T00:00:00",
          "value": 18.5,
          "variable": "Acceleration"
         },
         {
          "Name": "toyota corona",
          "Origin": "Japan",
          "Year": "1975-01-01T00:00:00",
          "value": 13.5,
          "variable": "Acceleration"
         },
         {
          "Name": "volkswagen dasher",
          "Origin": "Europe",
          "Year": "1975-01-01T00:00:00",
          "value": 16.5,
          "variable": "Acceleration"
         },
         {
          "Name": "datsun 710",
          "Origin": "Japan",
          "Year": "1975-01-01T00:00:00",
          "value": 17,
          "variable": "Acceleration"
         },
         {
          "Name": "ford pinto",
          "Origin": "USA",
          "Year": "1975-01-01T00:00:00",
          "value": 14.5,
          "variable": "Acceleration"
         },
         {
          "Name": "volkswagen rabbit",
          "Origin": "Europe",
          "Year": "1975-01-01T00:00:00",
          "value": 14,
          "variable": "Acceleration"
         },
         {
          "Name": "amc pacer",
          "Origin": "USA",
          "Year": "1975-01-01T00:00:00",
          "value": 17,
          "variable": "Acceleration"
         },
         {
          "Name": "audi 100ls",
          "Origin": "Europe",
          "Year": "1975-01-01T00:00:00",
          "value": 15,
          "variable": "Acceleration"
         },
         {
          "Name": "peugeot 504",
          "Origin": "Europe",
          "Year": "1975-01-01T00:00:00",
          "value": 17,
          "variable": "Acceleration"
         },
         {
          "Name": "volvo 244dl",
          "Origin": "Europe",
          "Year": "1975-01-01T00:00:00",
          "value": 14.5,
          "variable": "Acceleration"
         },
         {
          "Name": "saab 99le",
          "Origin": "Europe",
          "Year": "1975-01-01T00:00:00",
          "value": 13.5,
          "variable": "Acceleration"
         },
         {
          "Name": "honda civic cvcc",
          "Origin": "Japan",
          "Year": "1975-01-01T00:00:00",
          "value": 17.5,
          "variable": "Acceleration"
         },
         {
          "Name": "fiat 131",
          "Origin": "Europe",
          "Year": "1976-01-01T00:00:00",
          "value": 15.5,
          "variable": "Acceleration"
         },
         {
          "Name": "opel 1900",
          "Origin": "Europe",
          "Year": "1976-01-01T00:00:00",
          "value": 16.9,
          "variable": "Acceleration"
         },
         {
          "Name": "capri ii",
          "Origin": "USA",
          "Year": "1976-01-01T00:00:00",
          "value": 14.9,
          "variable": "Acceleration"
         },
         {
          "Name": "dodge colt",
          "Origin": "USA",
          "Year": "1976-01-01T00:00:00",
          "value": 17.7,
          "variable": "Acceleration"
         },
         {
          "Name": "renault 12tl",
          "Origin": "Europe",
          "Year": "1976-01-01T00:00:00",
          "value": 15.3,
          "variable": "Acceleration"
         },
         {
          "Name": "chevrolet chevelle malibu classic",
          "Origin": "USA",
          "Year": "1976-01-01T00:00:00",
          "value": 13,
          "variable": "Acceleration"
         },
         {
          "Name": "dodge coronet brougham",
          "Origin": "USA",
          "Year": "1976-01-01T00:00:00",
          "value": 13,
          "variable": "Acceleration"
         },
         {
          "Name": "amc matador",
          "Origin": "USA",
          "Year": "1976-01-01T00:00:00",
          "value": 13.9,
          "variable": "Acceleration"
         },
         {
          "Name": "ford gran torino",
          "Origin": "USA",
          "Year": "1976-01-01T00:00:00",
          "value": 12.8,
          "variable": "Acceleration"
         },
         {
          "Name": "plymouth valiant",
          "Origin": "USA",
          "Year": "1976-01-01T00:00:00",
          "value": 15.4,
          "variable": "Acceleration"
         },
         {
          "Name": "chevrolet nova",
          "Origin": "USA",
          "Year": "1976-01-01T00:00:00",
          "value": 14.5,
          "variable": "Acceleration"
         },
         {
          "Name": "ford maverick",
          "Origin": "USA",
          "Year": "1976-01-01T00:00:00",
          "value": 17.6,
          "variable": "Acceleration"
         },
         {
          "Name": "amc hornet",
          "Origin": "USA",
          "Year": "1976-01-01T00:00:00",
          "value": 17.6,
          "variable": "Acceleration"
         },
         {
          "Name": "chevrolet chevette",
          "Origin": "USA",
          "Year": "1976-01-01T00:00:00",
          "value": 22.2,
          "variable": "Acceleration"
         },
         {
          "Name": "chevrolet woody",
          "Origin": "USA",
          "Year": "1976-01-01T00:00:00",
          "value": 22.1,
          "variable": "Acceleration"
         },
         {
          "Name": "vw rabbit",
          "Origin": "Europe",
          "Year": "1976-01-01T00:00:00",
          "value": 14.2,
          "variable": "Acceleration"
         },
         {
          "Name": "honda civic",
          "Origin": "Japan",
          "Year": "1976-01-01T00:00:00",
          "value": 17.4,
          "variable": "Acceleration"
         },
         {
          "Name": "dodge aspen se",
          "Origin": "USA",
          "Year": "1976-01-01T00:00:00",
          "value": 17.7,
          "variable": "Acceleration"
         },
         {
          "Name": "ford granada ghia",
          "Origin": "USA",
          "Year": "1976-01-01T00:00:00",
          "value": 21,
          "variable": "Acceleration"
         },
         {
          "Name": "pontiac ventura sj",
          "Origin": "USA",
          "Year": "1976-01-01T00:00:00",
          "value": 16.2,
          "variable": "Acceleration"
         },
         {
          "Name": "amc pacer d/l",
          "Origin": "USA",
          "Year": "1976-01-01T00:00:00",
          "value": 17.8,
          "variable": "Acceleration"
         },
         {
          "Name": "volkswagen rabbit",
          "Origin": "Europe",
          "Year": "1976-01-01T00:00:00",
          "value": 12.2,
          "variable": "Acceleration"
         },
         {
          "Name": "datsun b-210",
          "Origin": "Japan",
          "Year": "1976-01-01T00:00:00",
          "value": 17,
          "variable": "Acceleration"
         },
         {
          "Name": "toyota corolla",
          "Origin": "Japan",
          "Year": "1976-01-01T00:00:00",
          "value": 16.4,
          "variable": "Acceleration"
         },
         {
          "Name": "ford pinto",
          "Origin": "USA",
          "Year": "1976-01-01T00:00:00",
          "value": 13.6,
          "variable": "Acceleration"
         },
         {
          "Name": "volvo 245",
          "Origin": "Europe",
          "Year": "1976-01-01T00:00:00",
          "value": 15.7,
          "variable": "Acceleration"
         },
         {
          "Name": "plymouth volare premier v8",
          "Origin": "USA",
          "Year": "1976-01-01T00:00:00",
          "value": 13.2,
          "variable": "Acceleration"
         },
         {
          "Name": "peugeot 504",
          "Origin": "Europe",
          "Year": "1976-01-01T00:00:00",
          "value": 21.9,
          "variable": "Acceleration"
         },
         {
          "Name": "toyota mark ii",
          "Origin": "Japan",
          "Year": "1976-01-01T00:00:00",
          "value": 15.5,
          "variable": "Acceleration"
         },
         {
          "Name": "mercedes-benz 280s",
          "Origin": "Europe",
          "Year": "1976-01-01T00:00:00",
          "value": 16.7,
          "variable": "Acceleration"
         },
         {
          "Name": "cadillac seville",
          "Origin": "USA",
          "Year": "1976-01-01T00:00:00",
          "value": 12.1,
          "variable": "Acceleration"
         },
         {
          "Name": "chevy c10",
          "Origin": "USA",
          "Year": "1976-01-01T00:00:00",
          "value": 12,
          "variable": "Acceleration"
         },
         {
          "Name": "ford f108",
          "Origin": "USA",
          "Year": "1976-01-01T00:00:00",
          "value": 15,
          "variable": "Acceleration"
         },
         {
          "Name": "dodge d100",
          "Origin": "USA",
          "Year": "1976-01-01T00:00:00",
          "value": 14,
          "variable": "Acceleration"
         },
         {
          "Name": "honda Accelerationord cvcc",
          "Origin": "Japan",
          "Year": "1977-01-01T00:00:00",
          "value": 18.5,
          "variable": "Acceleration"
         },
         {
          "Name": "buick opel isuzu deluxe",
          "Origin": "USA",
          "Year": "1977-01-01T00:00:00",
          "value": 14.8,
          "variable": "Acceleration"
         },
         {
          "Name": "renault 5 gtl",
          "Origin": "Europe",
          "Year": "1977-01-01T00:00:00",
          "value": 18.6,
          "variable": "Acceleration"
         },
         {
          "Name": "plymouth arrow gs",
          "Origin": "USA",
          "Year": "1977-01-01T00:00:00",
          "value": 15.5,
          "variable": "Acceleration"
         },
         {
          "Name": "datsun f-10 hatchback",
          "Origin": "Japan",
          "Year": "1977-01-01T00:00:00",
          "value": 16.8,
          "variable": "Acceleration"
         },
         {
          "Name": "chevrolet caprice classic",
          "Origin": "USA",
          "Year": "1977-01-01T00:00:00",
          "value": 12.5,
          "variable": "Acceleration"
         },
         {
          "Name": "oldsmobile cutlass supreme",
          "Origin": "USA",
          "Year": "1977-01-01T00:00:00",
          "value": 19,
          "variable": "Acceleration"
         },
         {
          "Name": "dodge monaco brougham",
          "Origin": "USA",
          "Year": "1977-01-01T00:00:00",
          "value": 13.7,
          "variable": "Acceleration"
         },
         {
          "Name": "mercury cougar brougham",
          "Origin": "USA",
          "Year": "1977-01-01T00:00:00",
          "value": 14.9,
          "variable": "Acceleration"
         },
         {
          "Name": "chevrolet concours",
          "Origin": "USA",
          "Year": "1977-01-01T00:00:00",
          "value": 16.4,
          "variable": "Acceleration"
         },
         {
          "Name": "buick skylark",
          "Origin": "USA",
          "Year": "1977-01-01T00:00:00",
          "value": 16.9,
          "variable": "Acceleration"
         },
         {
          "Name": "plymouth volare custom",
          "Origin": "USA",
          "Year": "1977-01-01T00:00:00",
          "value": 17.7,
          "variable": "Acceleration"
         },
         {
          "Name": "ford granada",
          "Origin": "USA",
          "Year": "1977-01-01T00:00:00",
          "value": 19,
          "variable": "Acceleration"
         },
         {
          "Name": "pontiac grand prix lj",
          "Origin": "USA",
          "Year": "1977-01-01T00:00:00",
          "value": 11.1,
          "variable": "Acceleration"
         },
         {
          "Name": "chevrolet monte carlo landau",
          "Origin": "USA",
          "Year": "1977-01-01T00:00:00",
          "value": 11.4,
          "variable": "Acceleration"
         },
         {
          "Name": "chrysler cordoba",
          "Origin": "USA",
          "Year": "1977-01-01T00:00:00",
          "value": 12.2,
          "variable": "Acceleration"
         },
         {
          "Name": "ford thunderbird",
          "Origin": "USA",
          "Year": "1977-01-01T00:00:00",
          "value": 14.5,
          "variable": "Acceleration"
         },
         {
          "Name": "volkswagen rabbit custom",
          "Origin": "Europe",
          "Year": "1977-01-01T00:00:00",
          "value": 14.5,
          "variable": "Acceleration"
         },
         {
          "Name": "pontiac sunbird coupe",
          "Origin": "USA",
          "Year": "1977-01-01T00:00:00",
          "value": 16,
          "variable": "Acceleration"
         },
         {
          "Name": "toyota corolla liftback",
          "Origin": "Japan",
          "Year": "1977-01-01T00:00:00",
          "value": 18.2,
          "variable": "Acceleration"
         },
         {
          "Name": "ford mustang ii 2+2",
          "Origin": "USA",
          "Year": "1977-01-01T00:00:00",
          "value": 15.8,
          "variable": "Acceleration"
         },
         {
          "Name": "chevrolet chevette",
          "Origin": "USA",
          "Year": "1977-01-01T00:00:00",
          "value": 17,
          "variable": "Acceleration"
         },
         {
          "Name": "dodge colt m/m",
          "Origin": "USA",
          "Year": "1977-01-01T00:00:00",
          "value": 15.9,
          "variable": "Acceleration"
         },
         {
          "Name": "subaru dl",
          "Origin": "Japan",
          "Year": "1977-01-01T00:00:00",
          "value": 16.4,
          "variable": "Acceleration"
         },
         {
          "Name": "volkswagen dasher",
          "Origin": "Europe",
          "Year": "1977-01-01T00:00:00",
          "value": 14.1,
          "variable": "Acceleration"
         },
         {
          "Name": "datsun 810",
          "Origin": "Japan",
          "Year": "1977-01-01T00:00:00",
          "value": 14.5,
          "variable": "Acceleration"
         },
         {
          "Name": "bmw 320i",
          "Origin": "Europe",
          "Year": "1977-01-01T00:00:00",
          "value": 12.8,
          "variable": "Acceleration"
         },
         {
          "Name": "mazda rx-4",
          "Origin": "Japan",
          "Year": "1977-01-01T00:00:00",
          "value": 13.5,
          "variable": "Acceleration"
         },
         {
          "Name": "volkswagen rabbit custom diesel",
          "Origin": "Europe",
          "Year": "1978-01-01T00:00:00",
          "value": 21.5,
          "variable": "Acceleration"
         },
         {
          "Name": "ford fiesta",
          "Origin": "USA",
          "Year": "1978-01-01T00:00:00",
          "value": 14.4,
          "variable": "Acceleration"
         },
         {
          "Name": "mazda glc deluxe",
          "Origin": "Japan",
          "Year": "1978-01-01T00:00:00",
          "value": 19.4,
          "variable": "Acceleration"
         },
         {
          "Name": "datsun b210 gx",
          "Origin": "Japan",
          "Year": "1978-01-01T00:00:00",
          "value": 18.6,
          "variable": "Acceleration"
         },
         {
          "Name": "honda civic cvcc",
          "Origin": "Japan",
          "Year": "1978-01-01T00:00:00",
          "value": 16.4,
          "variable": "Acceleration"
         },
         {
          "Name": "oldsmobile cutlass salon brougham",
          "Origin": "USA",
          "Year": "1978-01-01T00:00:00",
          "value": 15.5,
          "variable": "Acceleration"
         },
         {
          "Name": "dodge diplomat",
          "Origin": "USA",
          "Year": "1978-01-01T00:00:00",
          "value": 13.2,
          "variable": "Acceleration"
         },
         {
          "Name": "mercury monarch ghia",
          "Origin": "USA",
          "Year": "1978-01-01T00:00:00",
          "value": 12.8,
          "variable": "Acceleration"
         },
         {
          "Name": "pontiac phoenix lj",
          "Origin": "USA",
          "Year": "1978-01-01T00:00:00",
          "value": 19.2,
          "variable": "Acceleration"
         },
         {
          "Name": "chevrolet malibu",
          "Origin": "USA",
          "Year": "1978-01-01T00:00:00",
          "value": 18.2,
          "variable": "Acceleration"
         },
         {
          "Name": "ford fairmont (auto)",
          "Origin": "USA",
          "Year": "1978-01-01T00:00:00",
          "value": 15.8,
          "variable": "Acceleration"
         },
         {
          "Name": "ford fairmont (man)",
          "Origin": "USA",
          "Year": "1978-01-01T00:00:00",
          "value": 15.4,
          "variable": "Acceleration"
         },
         {
          "Name": "plymouth volare",
          "Origin": "USA",
          "Year": "1978-01-01T00:00:00",
          "value": 17.2,
          "variable": "Acceleration"
         },
         {
          "Name": "amc concord",
          "Origin": "USA",
          "Year": "1978-01-01T00:00:00",
          "value": 17.2,
          "variable": "Acceleration"
         },
         {
          "Name": "buick century special",
          "Origin": "USA",
          "Year": "1978-01-01T00:00:00",
          "value": 15.8,
          "variable": "Acceleration"
         },
         {
          "Name": "mercury zephyr",
          "Origin": "USA",
          "Year": "1978-01-01T00:00:00",
          "value": 16.7,
          "variable": "Acceleration"
         },
         {
          "Name": "dodge aspen",
          "Origin": "USA",
          "Year": "1978-01-01T00:00:00",
          "value": 18.7,
          "variable": "Acceleration"
         },
         {
          "Name": "amc concord d/l",
          "Origin": "USA",
          "Year": "1978-01-01T00:00:00",
          "value": 15.1,
          "variable": "Acceleration"
         },
         {
          "Name": "chevrolet monte carlo landau",
          "Origin": "USA",
          "Year": "1978-01-01T00:00:00",
          "value": 13.2,
          "variable": "Acceleration"
         },
         {
          "Name": "buick regal sport coupe (turbo)",
          "Origin": "USA",
          "Year": "1978-01-01T00:00:00",
          "value": 13.4,
          "variable": "Acceleration"
         },
         {
          "Name": "ford futura",
          "Origin": "USA",
          "Year": "1978-01-01T00:00:00",
          "value": 11.2,
          "variable": "Acceleration"
         },
         {
          "Name": "dodge magnum xe",
          "Origin": "USA",
          "Year": "1978-01-01T00:00:00",
          "value": 13.7,
          "variable": "Acceleration"
         },
         {
          "Name": "chevrolet chevette",
          "Origin": "USA",
          "Year": "1978-01-01T00:00:00",
          "value": 16.5,
          "variable": "Acceleration"
         },
         {
          "Name": "toyota corona",
          "Origin": "Japan",
          "Year": "1978-01-01T00:00:00",
          "value": 14.2,
          "variable": "Acceleration"
         },
         {
          "Name": "datsun 510",
          "Origin": "Japan",
          "Year": "1978-01-01T00:00:00",
          "value": 14.7,
          "variable": "Acceleration"
         },
         {
          "Name": "dodge omni",
          "Origin": "USA",
          "Year": "1978-01-01T00:00:00",
          "value": 14.5,
          "variable": "Acceleration"
         },
         {
          "Name": "toyota celica gt liftback",
          "Origin": "Japan",
          "Year": "1978-01-01T00:00:00",
          "value": 14.8,
          "variable": "Acceleration"
         },
         {
          "Name": "plymouth sapporo",
          "Origin": "USA",
          "Year": "1978-01-01T00:00:00",
          "value": 16.7,
          "variable": "Acceleration"
         },
         {
          "Name": "oldsmobile starfire sx",
          "Origin": "USA",
          "Year": "1978-01-01T00:00:00",
          "value": 17.6,
          "variable": "Acceleration"
         },
         {
          "Name": "datsun 200-sx",
          "Origin": "Japan",
          "Year": "1978-01-01T00:00:00",
          "value": 14.9,
          "variable": "Acceleration"
         },
         {
          "Name": "audi 5000",
          "Origin": "Europe",
          "Year": "1978-01-01T00:00:00",
          "value": 15.9,
          "variable": "Acceleration"
         },
         {
          "Name": "volvo 264gl",
          "Origin": "Europe",
          "Year": "1978-01-01T00:00:00",
          "value": 13.6,
          "variable": "Acceleration"
         },
         {
          "Name": "saab 99gle",
          "Origin": "Europe",
          "Year": "1978-01-01T00:00:00",
          "value": 15.7,
          "variable": "Acceleration"
         },
         {
          "Name": "peugeot 604sl",
          "Origin": "Europe",
          "Year": "1978-01-01T00:00:00",
          "value": 15.8,
          "variable": "Acceleration"
         },
         {
          "Name": "volkswagen scirocco",
          "Origin": "Europe",
          "Year": "1978-01-01T00:00:00",
          "value": 14.9,
          "variable": "Acceleration"
         },
         {
          "Name": "honda Accelerationord lx",
          "Origin": "Japan",
          "Year": "1978-01-01T00:00:00",
          "value": 16.6,
          "variable": "Acceleration"
         },
         {
          "Name": "pontiac lemans v6",
          "Origin": "USA",
          "Year": "1979-01-01T00:00:00",
          "value": 15.4,
          "variable": "Acceleration"
         },
         {
          "Name": "mercury zephyr 6",
          "Origin": "USA",
          "Year": "1979-01-01T00:00:00",
          "value": 18.2,
          "variable": "Acceleration"
         },
         {
          "Name": "ford fairmont 4",
          "Origin": "USA",
          "Year": "1979-01-01T00:00:00",
          "value": 17.3,
          "variable": "Acceleration"
         },
         {
          "Name": "amc concord dl 6",
          "Origin": "USA",
          "Year": "1979-01-01T00:00:00",
          "value": 18.2,
          "variable": "Acceleration"
         },
         {
          "Name": "dodge aspen 6",
          "Origin": "USA",
          "Year": "1979-01-01T00:00:00",
          "value": 16.6,
          "variable": "Acceleration"
         },
         {
          "Name": "chevrolet caprice classic",
          "Origin": "USA",
          "Year": "1979-01-01T00:00:00",
          "value": 15.4,
          "variable": "Acceleration"
         },
         {
          "Name": "ford ltd landau",
          "Origin": "USA",
          "Year": "1979-01-01T00:00:00",
          "value": 13.4,
          "variable": "Acceleration"
         },
         {
          "Name": "mercury grand marquis",
          "Origin": "USA",
          "Year": "1979-01-01T00:00:00",
          "value": 13.2,
          "variable": "Acceleration"
         },
         {
          "Name": "dodge st. regis",
          "Origin": "USA",
          "Year": "1979-01-01T00:00:00",
          "value": 15.2,
          "variable": "Acceleration"
         },
         {
          "Name": "buick estate wagon (sw)",
          "Origin": "USA",
          "Year": "1979-01-01T00:00:00",
          "value": 14.9,
          "variable": "Acceleration"
         },
         {
          "Name": "ford country squire (sw)",
          "Origin": "USA",
          "Year": "1979-01-01T00:00:00",
          "value": 14.3,
          "variable": "Acceleration"
         },
         {
          "Name": "chevrolet malibu classic (sw)",
          "Origin": "USA",
          "Year": "1979-01-01T00:00:00",
          "value": 15,
          "variable": "Acceleration"
         },
         {
          "Name": "chrysler lebaron town @ country (sw)",
          "Origin": "USA",
          "Year": "1979-01-01T00:00:00",
          "value": 13,
          "variable": "Acceleration"
         },
         {
          "Name": "vw rabbit custom",
          "Origin": "Europe",
          "Year": "1979-01-01T00:00:00",
          "value": 14,
          "variable": "Acceleration"
         },
         {
          "Name": "maxda glc deluxe",
          "Origin": "Japan",
          "Year": "1979-01-01T00:00:00",
          "value": 15.2,
          "variable": "Acceleration"
         },
         {
          "Name": "dodge colt hatchback custom",
          "Origin": "USA",
          "Year": "1979-01-01T00:00:00",
          "value": 14.4,
          "variable": "Acceleration"
         },
         {
          "Name": "amc spirit dl",
          "Origin": "USA",
          "Year": "1979-01-01T00:00:00",
          "value": 15,
          "variable": "Acceleration"
         },
         {
          "Name": "mercedes benz 300d",
          "Origin": "Europe",
          "Year": "1979-01-01T00:00:00",
          "value": 20.1,
          "variable": "Acceleration"
         },
         {
          "Name": "cadillac eldorado",
          "Origin": "USA",
          "Year": "1979-01-01T00:00:00",
          "value": 17.4,
          "variable": "Acceleration"
         },
         {
          "Name": "peugeot 504",
          "Origin": "Europe",
          "Year": "1979-01-01T00:00:00",
          "value": 24.8,
          "variable": "Acceleration"
         },
         {
          "Name": "oldsmobile cutlass salon brougham",
          "Origin": "USA",
          "Year": "1979-01-01T00:00:00",
          "value": 22.2,
          "variable": "Acceleration"
         },
         {
          "Name": "plymouth horizon",
          "Origin": "USA",
          "Year": "1979-01-01T00:00:00",
          "value": 13.2,
          "variable": "Acceleration"
         },
         {
          "Name": "plymouth horizon tc3",
          "Origin": "USA",
          "Year": "1979-01-01T00:00:00",
          "value": 14.9,
          "variable": "Acceleration"
         },
         {
          "Name": "datsun 210",
          "Origin": "Japan",
          "Year": "1979-01-01T00:00:00",
          "value": 19.2,
          "variable": "Acceleration"
         },
         {
          "Name": "fiat strada custom",
          "Origin": "Europe",
          "Year": "1979-01-01T00:00:00",
          "value": 14.7,
          "variable": "Acceleration"
         },
         {
          "Name": "buick skylark limited",
          "Origin": "USA",
          "Year": "1979-01-01T00:00:00",
          "value": 16,
          "variable": "Acceleration"
         },
         {
          "Name": "chevrolet citation",
          "Origin": "USA",
          "Year": "1979-01-01T00:00:00",
          "value": 11.3,
          "variable": "Acceleration"
         },
         {
          "Name": "oldsmobile omega brougham",
          "Origin": "USA",
          "Year": "1979-01-01T00:00:00",
          "value": 12.9,
          "variable": "Acceleration"
         },
         {
          "Name": "pontiac phoenix",
          "Origin": "USA",
          "Year": "1979-01-01T00:00:00",
          "value": 13.2,
          "variable": "Acceleration"
         },
         {
          "Name": "vw rabbit",
          "Origin": "Europe",
          "Year": "1980-01-01T00:00:00",
          "value": 14.7,
          "variable": "Acceleration"
         },
         {
          "Name": "toyota corolla tercel",
          "Origin": "Japan",
          "Year": "1980-01-01T00:00:00",
          "value": 18.8,
          "variable": "Acceleration"
         },
         {
          "Name": "chevrolet chevette",
          "Origin": "USA",
          "Year": "1980-01-01T00:00:00",
          "value": 15.5,
          "variable": "Acceleration"
         },
         {
          "Name": "datsun 310",
          "Origin": "Japan",
          "Year": "1980-01-01T00:00:00",
          "value": 16.4,
          "variable": "Acceleration"
         },
         {
          "Name": "chevrolet citation",
          "Origin": "USA",
          "Year": "1980-01-01T00:00:00",
          "value": 16.5,
          "variable": "Acceleration"
         },
         {
          "Name": "ford fairmont",
          "Origin": "USA",
          "Year": "1980-01-01T00:00:00",
          "value": 18.1,
          "variable": "Acceleration"
         },
         {
          "Name": "amc concord",
          "Origin": "USA",
          "Year": "1980-01-01T00:00:00",
          "value": 20.1,
          "variable": "Acceleration"
         },
         {
          "Name": "dodge aspen",
          "Origin": "USA",
          "Year": "1980-01-01T00:00:00",
          "value": 18.7,
          "variable": "Acceleration"
         },
         {
          "Name": "audi 4000",
          "Origin": "Europe",
          "Year": "1980-01-01T00:00:00",
          "value": 15.8,
          "variable": "Acceleration"
         },
         {
          "Name": "toyota corona liftback",
          "Origin": "Japan",
          "Year": "1980-01-01T00:00:00",
          "value": 15.5,
          "variable": "Acceleration"
         },
         {
          "Name": "mazda 626",
          "Origin": "Japan",
          "Year": "1980-01-01T00:00:00",
          "value": 17.5,
          "variable": "Acceleration"
         },
         {
          "Name": "datsun 510 hatchback",
          "Origin": "Japan",
          "Year": "1980-01-01T00:00:00",
          "value": 15,
          "variable": "Acceleration"
         },
         {
          "Name": "toyota corolla",
          "Origin": "Japan",
          "Year": "1980-01-01T00:00:00",
          "value": 15.2,
          "variable": "Acceleration"
         },
         {
          "Name": "mazda glc",
          "Origin": "Japan",
          "Year": "1980-01-01T00:00:00",
          "value": 17.9,
          "variable": "Acceleration"
         },
         {
          "Name": "dodge colt",
          "Origin": "USA",
          "Year": "1980-01-01T00:00:00",
          "value": 14.4,
          "variable": "Acceleration"
         },
         {
          "Name": "datsun 210",
          "Origin": "Japan",
          "Year": "1980-01-01T00:00:00",
          "value": 19.2,
          "variable": "Acceleration"
         },
         {
          "Name": "vw rabbit c (diesel)",
          "Origin": "Europe",
          "Year": "1980-01-01T00:00:00",
          "value": 21.7,
          "variable": "Acceleration"
         },
         {
          "Name": "vw dasher (diesel)",
          "Origin": "Europe",
          "Year": "1980-01-01T00:00:00",
          "value": 23.7,
          "variable": "Acceleration"
         },
         {
          "Name": "audi 5000s (diesel)",
          "Origin": "Europe",
          "Year": "1980-01-01T00:00:00",
          "value": 19.9,
          "variable": "Acceleration"
         },
         {
          "Name": "mercedes-benz 240d",
          "Origin": "Europe",
          "Year": "1980-01-01T00:00:00",
          "value": 21.8,
          "variable": "Acceleration"
         },
         {
          "Name": "honda civic 1500 gl",
          "Origin": "Japan",
          "Year": "1980-01-01T00:00:00",
          "value": 13.8,
          "variable": "Acceleration"
         },
         {
          "Name": "renault lecar deluxe",
          "Origin": "Europe",
          "Year": "1980-01-01T00:00:00",
          "value": 17.3,
          "variable": "Acceleration"
         },
         {
          "Name": "subaru dl",
          "Origin": "Japan",
          "Year": "1980-01-01T00:00:00",
          "value": 18,
          "variable": "Acceleration"
         },
         {
          "Name": "vokswagen rabbit",
          "Origin": "Europe",
          "Year": "1980-01-01T00:00:00",
          "value": 15.3,
          "variable": "Acceleration"
         },
         {
          "Name": "datsun 280-zx",
          "Origin": "Japan",
          "Year": "1980-01-01T00:00:00",
          "value": 11.4,
          "variable": "Acceleration"
         },
         {
          "Name": "mazda rx-7 gs",
          "Origin": "Japan",
          "Year": "1980-01-01T00:00:00",
          "value": 12.5,
          "variable": "Acceleration"
         },
         {
          "Name": "triumph tr7 coupe",
          "Origin": "Europe",
          "Year": "1980-01-01T00:00:00",
          "value": 15.1,
          "variable": "Acceleration"
         },
         {
          "Name": "ford mustang cobra",
          "Origin": "USA",
          "Year": "1980-01-01T00:00:00",
          "value": 14.3,
          "variable": "Acceleration"
         },
         {
          "Name": "honda Accelerationord",
          "Origin": "Japan",
          "Year": "1980-01-01T00:00:00",
          "value": 17,
          "variable": "Acceleration"
         },
         {
          "Name": "plymouth reliant",
          "Origin": "USA",
          "Year": "1982-01-01T00:00:00",
          "value": 15.7,
          "variable": "Acceleration"
         },
         {
          "Name": "buick skylark",
          "Origin": "USA",
          "Year": "1982-01-01T00:00:00",
          "value": 16.4,
          "variable": "Acceleration"
         },
         {
          "Name": "dodge aries wagon (sw)",
          "Origin": "USA",
          "Year": "1982-01-01T00:00:00",
          "value": 14.4,
          "variable": "Acceleration"
         },
         {
          "Name": "chevrolet citation",
          "Origin": "USA",
          "Year": "1982-01-01T00:00:00",
          "value": 12.6,
          "variable": "Acceleration"
         },
         {
          "Name": "plymouth reliant",
          "Origin": "USA",
          "Year": "1982-01-01T00:00:00",
          "value": 12.9,
          "variable": "Acceleration"
         },
         {
          "Name": "toyota starlet",
          "Origin": "Japan",
          "Year": "1982-01-01T00:00:00",
          "value": 16.9,
          "variable": "Acceleration"
         },
         {
          "Name": "plymouth champ",
          "Origin": "USA",
          "Year": "1982-01-01T00:00:00",
          "value": 16.4,
          "variable": "Acceleration"
         },
         {
          "Name": "honda civic 1300",
          "Origin": "Japan",
          "Year": "1982-01-01T00:00:00",
          "value": 16.1,
          "variable": "Acceleration"
         },
         {
          "Name": "subaru",
          "Origin": "Japan",
          "Year": "1982-01-01T00:00:00",
          "value": 17.8,
          "variable": "Acceleration"
         },
         {
          "Name": "datsun 210",
          "Origin": "Japan",
          "Year": "1982-01-01T00:00:00",
          "value": 19.4,
          "variable": "Acceleration"
         },
         {
          "Name": "toyota tercel",
          "Origin": "Japan",
          "Year": "1982-01-01T00:00:00",
          "value": 17.3,
          "variable": "Acceleration"
         },
         {
          "Name": "mazda glc 4",
          "Origin": "Japan",
          "Year": "1982-01-01T00:00:00",
          "value": 16,
          "variable": "Acceleration"
         },
         {
          "Name": "plymouth horizon 4",
          "Origin": "USA",
          "Year": "1982-01-01T00:00:00",
          "value": 14.9,
          "variable": "Acceleration"
         },
         {
          "Name": "ford escort 4w",
          "Origin": "USA",
          "Year": "1982-01-01T00:00:00",
          "value": 16.2,
          "variable": "Acceleration"
         },
         {
          "Name": "ford escort 2h",
          "Origin": "USA",
          "Year": "1982-01-01T00:00:00",
          "value": 20.7,
          "variable": "Acceleration"
         },
         {
          "Name": "volkswagen jetta",
          "Origin": "Europe",
          "Year": "1982-01-01T00:00:00",
          "value": 14.2,
          "variable": "Acceleration"
         },
         {
          "Name": "renault 18i",
          "Origin": "Europe",
          "Year": "1982-01-01T00:00:00",
          "value": 15.8,
          "variable": "Acceleration"
         },
         {
          "Name": "honda prelude",
          "Origin": "Japan",
          "Year": "1982-01-01T00:00:00",
          "value": 14.4,
          "variable": "Acceleration"
         },
         {
          "Name": "toyota corolla",
          "Origin": "Japan",
          "Year": "1982-01-01T00:00:00",
          "value": 16.8,
          "variable": "Acceleration"
         },
         {
          "Name": "datsun 200sx",
          "Origin": "Japan",
          "Year": "1982-01-01T00:00:00",
          "value": 14.8,
          "variable": "Acceleration"
         },
         {
          "Name": "mazda 626",
          "Origin": "Japan",
          "Year": "1982-01-01T00:00:00",
          "value": 18.3,
          "variable": "Acceleration"
         },
         {
          "Name": "peugeot 505s turbo diesel",
          "Origin": "Europe",
          "Year": "1982-01-01T00:00:00",
          "value": 20.4,
          "variable": "Acceleration"
         },
         {
          "Name": "saab 900s",
          "Origin": "Europe",
          "Year": "1982-01-01T00:00:00",
          "value": 15.4,
          "variable": "Acceleration"
         },
         {
          "Name": "volvo diesel",
          "Origin": "Europe",
          "Year": "1982-01-01T00:00:00",
          "value": 19.6,
          "variable": "Acceleration"
         },
         {
          "Name": "toyota cressida",
          "Origin": "Japan",
          "Year": "1982-01-01T00:00:00",
          "value": 12.6,
          "variable": "Acceleration"
         },
         {
          "Name": "datsun 810 maxima",
          "Origin": "Japan",
          "Year": "1982-01-01T00:00:00",
          "value": 13.8,
          "variable": "Acceleration"
         },
         {
          "Name": "buick century",
          "Origin": "USA",
          "Year": "1982-01-01T00:00:00",
          "value": 15.8,
          "variable": "Acceleration"
         },
         {
          "Name": "oldsmobile cutlass ls",
          "Origin": "USA",
          "Year": "1982-01-01T00:00:00",
          "value": 19,
          "variable": "Acceleration"
         },
         {
          "Name": "ford granada gl",
          "Origin": "USA",
          "Year": "1982-01-01T00:00:00",
          "value": 17.1,
          "variable": "Acceleration"
         },
         {
          "Name": "chrysler lebaron salon",
          "Origin": "USA",
          "Year": "1982-01-01T00:00:00",
          "value": 16.6,
          "variable": "Acceleration"
         },
         {
          "Name": "chevrolet cavalier",
          "Origin": "USA",
          "Year": "1982-01-01T00:00:00",
          "value": 19.6,
          "variable": "Acceleration"
         },
         {
          "Name": "chevrolet cavalier wagon",
          "Origin": "USA",
          "Year": "1982-01-01T00:00:00",
          "value": 18.6,
          "variable": "Acceleration"
         },
         {
          "Name": "chevrolet cavalier 2-door",
          "Origin": "USA",
          "Year": "1982-01-01T00:00:00",
          "value": 18,
          "variable": "Acceleration"
         },
         {
          "Name": "pontiac j2000 se hatchback",
          "Origin": "USA",
          "Year": "1982-01-01T00:00:00",
          "value": 16.2,
          "variable": "Acceleration"
         },
         {
          "Name": "dodge aries se",
          "Origin": "USA",
          "Year": "1982-01-01T00:00:00",
          "value": 16,
          "variable": "Acceleration"
         },
         {
          "Name": "pontiac phoenix",
          "Origin": "USA",
          "Year": "1982-01-01T00:00:00",
          "value": 18,
          "variable": "Acceleration"
         },
         {
          "Name": "ford fairmont futura",
          "Origin": "USA",
          "Year": "1982-01-01T00:00:00",
          "value": 16.4,
          "variable": "Acceleration"
         },
         {
          "Name": "amc concord dl",
          "Origin": "USA",
          "Year": "1982-01-01T00:00:00",
          "value": 20.5,
          "variable": "Acceleration"
         },
         {
          "Name": "volkswagen rabbit l",
          "Origin": "Europe",
          "Year": "1982-01-01T00:00:00",
          "value": 15.3,
          "variable": "Acceleration"
         },
         {
          "Name": "mazda glc custom l",
          "Origin": "Japan",
          "Year": "1982-01-01T00:00:00",
          "value": 18.2,
          "variable": "Acceleration"
         },
         {
          "Name": "mazda glc custom",
          "Origin": "Japan",
          "Year": "1982-01-01T00:00:00",
          "value": 17.6,
          "variable": "Acceleration"
         },
         {
          "Name": "plymouth horizon miser",
          "Origin": "USA",
          "Year": "1982-01-01T00:00:00",
          "value": 14.7,
          "variable": "Acceleration"
         },
         {
          "Name": "mercury lynx l",
          "Origin": "USA",
          "Year": "1982-01-01T00:00:00",
          "value": 17.3,
          "variable": "Acceleration"
         },
         {
          "Name": "nissan stanza xe",
          "Origin": "Japan",
          "Year": "1982-01-01T00:00:00",
          "value": 14.5,
          "variable": "Acceleration"
         },
         {
          "Name": "honda Accelerationord",
          "Origin": "Japan",
          "Year": "1982-01-01T00:00:00",
          "value": 14.5,
          "variable": "Acceleration"
         },
         {
          "Name": "toyota corolla",
          "Origin": "Japan",
          "Year": "1982-01-01T00:00:00",
          "value": 16.9,
          "variable": "Acceleration"
         },
         {
          "Name": "honda civic",
          "Origin": "Japan",
          "Year": "1982-01-01T00:00:00",
          "value": 15,
          "variable": "Acceleration"
         },
         {
          "Name": "honda civic (auto)",
          "Origin": "Japan",
          "Year": "1982-01-01T00:00:00",
          "value": 15.7,
          "variable": "Acceleration"
         },
         {
          "Name": "datsun 310 gx",
          "Origin": "Japan",
          "Year": "1982-01-01T00:00:00",
          "value": 16.2,
          "variable": "Acceleration"
         },
         {
          "Name": "buick century limited",
          "Origin": "USA",
          "Year": "1982-01-01T00:00:00",
          "value": 16.4,
          "variable": "Acceleration"
         },
         {
          "Name": "oldsmobile cutlass ciera (diesel)",
          "Origin": "USA",
          "Year": "1982-01-01T00:00:00",
          "value": 17,
          "variable": "Acceleration"
         },
         {
          "Name": "chrysler lebaron medallion",
          "Origin": "USA",
          "Year": "1982-01-01T00:00:00",
          "value": 14.5,
          "variable": "Acceleration"
         },
         {
          "Name": "ford granada l",
          "Origin": "USA",
          "Year": "1982-01-01T00:00:00",
          "value": 14.7,
          "variable": "Acceleration"
         },
         {
          "Name": "toyota celica gt",
          "Origin": "Japan",
          "Year": "1982-01-01T00:00:00",
          "value": 13.9,
          "variable": "Acceleration"
         },
         {
          "Name": "dodge charger 2.2",
          "Origin": "USA",
          "Year": "1982-01-01T00:00:00",
          "value": 13,
          "variable": "Acceleration"
         },
         {
          "Name": "chevrolet camaro",
          "Origin": "USA",
          "Year": "1982-01-01T00:00:00",
          "value": 17.3,
          "variable": "Acceleration"
         },
         {
          "Name": "ford mustang gl",
          "Origin": "USA",
          "Year": "1982-01-01T00:00:00",
          "value": 15.6,
          "variable": "Acceleration"
         },
         {
          "Name": "vw pickup",
          "Origin": "Europe",
          "Year": "1982-01-01T00:00:00",
          "value": 24.6,
          "variable": "Acceleration"
         },
         {
          "Name": "dodge rampage",
          "Origin": "USA",
          "Year": "1982-01-01T00:00:00",
          "value": 11.6,
          "variable": "Acceleration"
         },
         {
          "Name": "ford ranger",
          "Origin": "USA",
          "Year": "1982-01-01T00:00:00",
          "value": 18.6,
          "variable": "Acceleration"
         },
         {
          "Name": "chevy s-10",
          "Origin": "USA",
          "Year": "1982-01-01T00:00:00",
          "value": 19.4,
          "variable": "Acceleration"
         }
        ]
       },
       "encoding": {
        "color": {
         "field": "variable",
         "type": "nominal"
        },
        "x": {
         "field": "Year",
         "type": "temporal"
        },
        "y": {
         "field": "value",
         "type": "quantitative"
        }
       },
       "mark": "line"
      },
      "text/plain": [
       "<VegaLite 4 object>\n",
       "\n",
       "If you see this message, it means the renderer has not been properly enabled\n",
       "for the frontend that you are using. For more information, see\n",
       "https://altair-viz.github.io/user_guide/troubleshooting.html\n"
      ]
     },
     "execution_count": 27,
     "metadata": {},
     "output_type": "execute_result"
    }
   ],
   "source": [
    "alt.Chart(melted_cars).mark_line().encode(\n",
    "    x='Year',\n",
    "    y='value',\n",
    "    color='variable',\n",
    "\n",
    ")"
   ]
  },
  {
   "cell_type": "code",
   "execution_count": 9,
   "metadata": {},
   "outputs": [],
   "source": [
    "import pandas as pd"
   ]
  },
  {
   "cell_type": "code",
   "execution_count": 10,
   "metadata": {},
   "outputs": [],
   "source": [
    "humanist_vols = pd.read_csv('web_scraped_humanist_listserv.csv')"
   ]
  },
  {
   "cell_type": "code",
   "execution_count": 11,
   "metadata": {},
   "outputs": [],
   "source": [
    "humanist_vols['humanities_computing_counts'] = humanist_vols['text'].str.count('Humanities Computing')\n",
    "humanist_vols['digital_humanities_counts'] = humanist_vols['text'].str.count('Digital Humanities')"
   ]
  },
  {
   "cell_type": "code",
   "execution_count": 12,
   "metadata": {},
   "outputs": [
    {
     "data": {
      "text/plain": [
       "<AxesSubplot:>"
      ]
     },
     "execution_count": 12,
     "metadata": {},
     "output_type": "execute_result"
    },
    {
     "data": {
      "image/png": "[encoded data removed]",
      "text/plain": [
       "<Figure size 432x288 with 1 Axes>"
      ]
     },
     "metadata": {
      "needs_background": "light"
     },
     "output_type": "display_data"
    }
   ],
   "source": [
    "counts = humanist_vols[['digital_humanities_counts', 'humanities_computing_counts']]\n",
    "counts.plot()"
   ]
  },
  {
   "cell_type": "code",
   "execution_count": null,
   "metadata": {},
   "outputs": [],
   "source": [
    "alt.Chart(counts).mark_line().encode(\n",
    "    x='dates'\n",
    "    y='counts'\n",
    ")"
   ]
  },
  {
   "cell_type": "code",
   "execution_count": 16,
   "metadata": {},
   "outputs": [
    {
     "data": {
      "text/html": [
       "<div>\n",
       "<style scoped>\n",
       "    .dataframe tbody tr th:only-of-type {\n",
       "        vertical-align: middle;\n",
       "    }\n",
       "\n",
       "    .dataframe tbody tr th {\n",
       "        vertical-align: top;\n",
       "    }\n",
       "\n",
       "    .dataframe thead th {\n",
       "        text-align: right;\n",
       "    }\n",
       "</style>\n",
       "<table border=\"1\" class=\"dataframe\">\n",
       "  <thead>\n",
       "    <tr style=\"text-align: right;\">\n",
       "      <th></th>\n",
       "      <th>dates</th>\n",
       "      <th>humanities_computing_counts</th>\n",
       "      <th>digital_humanities_counts</th>\n",
       "      <th>url</th>\n",
       "    </tr>\n",
       "  </thead>\n",
       "  <tbody>\n",
       "    <tr>\n",
       "      <th>0</th>\n",
       "      <td>1987-1988</td>\n",
       "      <td>48</td>\n",
       "      <td>0</td>\n",
       "      <td>https://humanist.kdl.kcl.ac.uk/Archives/Conver...</td>\n",
       "    </tr>\n",
       "  </tbody>\n",
       "</table>\n",
       "</div>"
      ],
      "text/plain": [
       "       dates  humanities_computing_counts  digital_humanities_counts  \\\n",
       "0  1987-1988                           48                          0   \n",
       "\n",
       "                                                 url  \n",
       "0  https://humanist.kdl.kcl.ac.uk/Archives/Conver...  "
      ]
     },
     "execution_count": 16,
     "metadata": {},
     "output_type": "execute_result"
    }
   ],
   "source": [
    "subset_humanist_vols = humanist_vols[['dates', 'humanities_computing_counts','digital_humanities_counts', 'url']]\n",
    "subset_humanist_vols[0:1]"
   ]
  },
  {
   "cell_type": "code",
   "execution_count": 28,
   "metadata": {},
   "outputs": [],
   "source": [
    "melted_humanist_vols = subset_humanist_vols.melt(id_vars=['dates', 'url'])"
   ]
  },
  {
   "cell_type": "code",
   "execution_count": 29,
   "metadata": {},
   "outputs": [
    {
     "data": {
      "text/plain": [
       "array(['humanities_computing_counts', 'digital_humanities_counts'],\n",
       "      dtype=object)"
      ]
     },
     "execution_count": 29,
     "metadata": {},
     "output_type": "execute_result"
    }
   ],
   "source": [
    "melted_humanist_vols.variable.unique()"
   ]
  },
  {
   "cell_type": "code",
   "execution_count": 36,
   "metadata": {},
   "outputs": [],
   "source": [
    "melted_humanist_vols['year'] = melted_humanist_vols.dates.str.split('-').str[0]\n",
    "melted_humanist_vols['year'] = pd.to_datetime(melted_humanist_vols['year'], format='%Y')"
   ]
  },
  {
   "cell_type": "code",
   "execution_count": 37,
   "metadata": {},
   "outputs": [
    {
     "data": {
      "text/plain": [
       "dates               object\n",
       "url                 object\n",
       "variable            object\n",
       "value                int64\n",
       "year        datetime64[ns]\n",
       "dtype: object"
      ]
     },
     "execution_count": 37,
     "metadata": {},
     "output_type": "execute_result"
    }
   ],
   "source": [
    "melted_humanist_vols.dtypes"
   ]
  },
  {
   "cell_type": "code",
   "execution_count": 47,
   "metadata": {},
   "outputs": [],
   "source": [
    "word_counts_chart = alt.Chart(melted_humanist_vols).mark_line().encode(\n",
    "    x='year:T',\n",
    "    y='value:Q',\n",
    "    color='variable:N',\n",
    "    tooltip=['value:Q', 'variable:N', 'dates', 'url']\n",
    ")"
   ]
  },
  {
   "cell_type": "code",
   "execution_count": 44,
   "metadata": {},
   "outputs": [],
   "source": [
    "humanist_vols['volume_size'] = humanist_vols['text'].str.count('\\n')\n",
    "subset_humanist_volume_size = humanist_vols[['volume_size', 'dates']]"
   ]
  },
  {
   "cell_type": "code",
   "execution_count": 46,
   "metadata": {},
   "outputs": [],
   "source": [
    "volume_size_chart = alt.Chart(subset_humanist_volume_size).mark_bar().encode(\n",
    "    x='dates',\n",
    "    y='volume_size',\n",
    ")\n"
   ]
  },
  {
   "cell_type": "code",
   "execution_count": 48,
   "metadata": {},
   "outputs": [
    {
     "data": {
      "application/vnd.vegalite.v4+json": {
       "$schema": "https://vega.github.io/schema/vega-lite/v4.17.0.json",
       "config": {
        "view": {
         "continuousHeight": 300,
         "continuousWidth": 400
        }
       },
       "datasets": {
        "data-1e15d74eb6def15db201971b62569be1": [
         {
          "dates": "1987-1988",
          "volume_size": 50794
         },
         {
          "dates": "1988-1989",
          "volume_size": 36109
         },
         {
          "dates": "1989-1990",
          "volume_size": 108695
         },
         {
          "dates": "1990-1991",
          "volume_size": 118929
         },
         {
          "dates": "1991-1992",
          "volume_size": 81193
         },
         {
          "dates": "1992-1993",
          "volume_size": 59957
         },
         {
          "dates": "1993-1994",
          "volume_size": 71763
         },
         {
          "dates": "1994-1995",
          "volume_size": 46569
         },
         {
          "dates": "1995-1996",
          "volume_size": 61076
         },
         {
          "dates": "1996-1997",
          "volume_size": 52506
         },
         {
          "dates": "1997-1998",
          "volume_size": 89100
         },
         {
          "dates": "1998-1999",
          "volume_size": 70304
         },
         {
          "dates": "1999-2000",
          "volume_size": 72668
         },
         {
          "dates": "2000-2001",
          "volume_size": 89197
         },
         {
          "dates": "2001-2002",
          "volume_size": 85729
         },
         {
          "dates": "2002-2003",
          "volume_size": 80580
         },
         {
          "dates": "2003-2004",
          "volume_size": 95265
         },
         {
          "dates": "2004-2005",
          "volume_size": 55776
         },
         {
          "dates": "2005-2006",
          "volume_size": 53619
         },
         {
          "dates": "2006-2007",
          "volume_size": 44493
         },
         {
          "dates": "2007-2008",
          "volume_size": 38994
         }
        ],
        "data-78f96a5eb8f9101c9523112fb8e1ef86": [
         {
          "dates": "1987-1988",
          "url": "https://humanist.kdl.kcl.ac.uk/Archives/Converted_Text/humanist.1987-1988.txt",
          "value": 48,
          "variable": "humanities_computing_counts",
          "year": "1987-01-01T00:00:00"
         },
         {
          "dates": "1988-1989",
          "url": "https://humanist.kdl.kcl.ac.uk/Archives/Converted_Text/humanist.1988-1989.txt",
          "value": 43,
          "variable": "humanities_computing_counts",
          "year": "1988-01-01T00:00:00"
         },
         {
          "dates": "1989-1990",
          "url": "https://humanist.kdl.kcl.ac.uk/Archives/Converted_Text/humanist.1989-1990.txt",
          "value": 56,
          "variable": "humanities_computing_counts",
          "year": "1989-01-01T00:00:00"
         },
         {
          "dates": "1990-1991",
          "url": "https://humanist.kdl.kcl.ac.uk/Archives/Converted_Text/humanist.1990-1991.txt",
          "value": 74,
          "variable": "humanities_computing_counts",
          "year": "1990-01-01T00:00:00"
         },
         {
          "dates": "1991-1992",
          "url": "https://humanist.kdl.kcl.ac.uk/Archives/Converted_Text/humanist.1991-1992.txt",
          "value": 79,
          "variable": "humanities_computing_counts",
          "year": "1991-01-01T00:00:00"
         },
         {
          "dates": "1992-1993",
          "url": "https://humanist.kdl.kcl.ac.uk/Archives/Converted_Text/humanist.1992-1993.txt",
          "value": 35,
          "variable": "humanities_computing_counts",
          "year": "1992-01-01T00:00:00"
         },
         {
          "dates": "1993-1994",
          "url": "https://humanist.kdl.kcl.ac.uk/Archives/Converted_Text/humanist.1993-1994.txt",
          "value": 60,
          "variable": "humanities_computing_counts",
          "year": "1993-01-01T00:00:00"
         },
         {
          "dates": "1994-1995",
          "url": "https://humanist.kdl.kcl.ac.uk/Archives/Converted_Text/humanist.1994-1995.txt",
          "value": 37,
          "variable": "humanities_computing_counts",
          "year": "1994-01-01T00:00:00"
         },
         {
          "dates": "1995-1996",
          "url": "https://humanist.kdl.kcl.ac.uk/Archives/Converted_Text/humanist.1995-1996.txt",
          "value": 26,
          "variable": "humanities_computing_counts",
          "year": "1995-01-01T00:00:00"
         },
         {
          "dates": "1996-1997",
          "url": "https://humanist.kdl.kcl.ac.uk/Archives/Converted_Text/humanist.1996-1997.txt",
          "value": 44,
          "variable": "humanities_computing_counts",
          "year": "1996-01-01T00:00:00"
         },
         {
          "dates": "1997-1998",
          "url": "https://humanist.kdl.kcl.ac.uk/Archives/Converted_Text/humanist.1997-1998.txt",
          "value": 99,
          "variable": "humanities_computing_counts",
          "year": "1997-01-01T00:00:00"
         },
         {
          "dates": "1998-1999",
          "url": "https://humanist.kdl.kcl.ac.uk/Archives/Converted_Text/humanist.1998-1999.txt",
          "value": 83,
          "variable": "humanities_computing_counts",
          "year": "1998-01-01T00:00:00"
         },
         {
          "dates": "1999-2000",
          "url": "https://humanist.kdl.kcl.ac.uk/Archives/Converted_Text/humanist.1999-2000.txt",
          "value": 104,
          "variable": "humanities_computing_counts",
          "year": "1999-01-01T00:00:00"
         },
         {
          "dates": "2000-2001",
          "url": "https://humanist.kdl.kcl.ac.uk/Archives/Converted_Text/humanist.2000-2001.txt",
          "value": 110,
          "variable": "humanities_computing_counts",
          "year": "2000-01-01T00:00:00"
         },
         {
          "dates": "2001-2002",
          "url": "https://humanist.kdl.kcl.ac.uk/Archives/Converted_Text/humanist.2001-2002.txt",
          "value": 154,
          "variable": "humanities_computing_counts",
          "year": "2001-01-01T00:00:00"
         },
         {
          "dates": "2002-2003",
          "url": "https://humanist.kdl.kcl.ac.uk/Archives/Converted_Text/humanist.2002-2003.txt",
          "value": 80,
          "variable": "humanities_computing_counts",
          "year": "2002-01-01T00:00:00"
         },
         {
          "dates": "2003-2004",
          "url": "https://humanist.kdl.kcl.ac.uk/Archives/Converted_Text/humanist.2003-2004.txt",
          "value": 78,
          "variable": "humanities_computing_counts",
          "year": "2003-01-01T00:00:00"
         },
         {
          "dates": "2004-2005",
          "url": "https://humanist.kdl.kcl.ac.uk/Archives/Converted_Text/humanist.2004-2005.txt",
          "value": 104,
          "variable": "humanities_computing_counts",
          "year": "2004-01-01T00:00:00"
         },
         {
          "dates": "2005-2006",
          "url": "https://humanist.kdl.kcl.ac.uk/Archives/Converted_Text/humanist.2005-2006.txt",
          "value": 152,
          "variable": "humanities_computing_counts",
          "year": "2005-01-01T00:00:00"
         },
         {
          "dates": "2006-2007",
          "url": "https://humanist.kdl.kcl.ac.uk/Archives/Converted_Text/humanist.2006-2007.txt",
          "value": 181,
          "variable": "humanities_computing_counts",
          "year": "2006-01-01T00:00:00"
         },
         {
          "dates": "2007-2008",
          "url": "https://humanist.kdl.kcl.ac.uk/Archives/Converted_Text/humanist.2007-2008.txt",
          "value": 148,
          "variable": "humanities_computing_counts",
          "year": "2007-01-01T00:00:00"
         },
         {
          "dates": "1987-1988",
          "url": "https://humanist.kdl.kcl.ac.uk/Archives/Converted_Text/humanist.1987-1988.txt",
          "value": 0,
          "variable": "digital_humanities_counts",
          "year": "1987-01-01T00:00:00"
         },
         {
          "dates": "1988-1989",
          "url": "https://humanist.kdl.kcl.ac.uk/Archives/Converted_Text/humanist.1988-1989.txt",
          "value": 0,
          "variable": "digital_humanities_counts",
          "year": "1988-01-01T00:00:00"
         },
         {
          "dates": "1989-1990",
          "url": "https://humanist.kdl.kcl.ac.uk/Archives/Converted_Text/humanist.1989-1990.txt",
          "value": 0,
          "variable": "digital_humanities_counts",
          "year": "1989-01-01T00:00:00"
         },
         {
          "dates": "1990-1991",
          "url": "https://humanist.kdl.kcl.ac.uk/Archives/Converted_Text/humanist.1990-1991.txt",
          "value": 0,
          "variable": "digital_humanities_counts",
          "year": "1990-01-01T00:00:00"
         },
         {
          "dates": "1991-1992",
          "url": "https://humanist.kdl.kcl.ac.uk/Archives/Converted_Text/humanist.1991-1992.txt",
          "value": 0,
          "variable": "digital_humanities_counts",
          "year": "1991-01-01T00:00:00"
         },
         {
          "dates": "1992-1993",
          "url": "https://humanist.kdl.kcl.ac.uk/Archives/Converted_Text/humanist.1992-1993.txt",
          "value": 0,
          "variable": "digital_humanities_counts",
          "year": "1992-01-01T00:00:00"
         },
         {
          "dates": "1993-1994",
          "url": "https://humanist.kdl.kcl.ac.uk/Archives/Converted_Text/humanist.1993-1994.txt",
          "value": 0,
          "variable": "digital_humanities_counts",
          "year": "1993-01-01T00:00:00"
         },
         {
          "dates": "1994-1995",
          "url": "https://humanist.kdl.kcl.ac.uk/Archives/Converted_Text/humanist.1994-1995.txt",
          "value": 0,
          "variable": "digital_humanities_counts",
          "year": "1994-01-01T00:00:00"
         },
         {
          "dates": "1995-1996",
          "url": "https://humanist.kdl.kcl.ac.uk/Archives/Converted_Text/humanist.1995-1996.txt",
          "value": 0,
          "variable": "digital_humanities_counts",
          "year": "1995-01-01T00:00:00"
         },
         {
          "dates": "1996-1997",
          "url": "https://humanist.kdl.kcl.ac.uk/Archives/Converted_Text/humanist.1996-1997.txt",
          "value": 0,
          "variable": "digital_humanities_counts",
          "year": "1996-01-01T00:00:00"
         },
         {
          "dates": "1997-1998",
          "url": "https://humanist.kdl.kcl.ac.uk/Archives/Converted_Text/humanist.1997-1998.txt",
          "value": 0,
          "variable": "digital_humanities_counts",
          "year": "1997-01-01T00:00:00"
         },
         {
          "dates": "1998-1999",
          "url": "https://humanist.kdl.kcl.ac.uk/Archives/Converted_Text/humanist.1998-1999.txt",
          "value": 0,
          "variable": "digital_humanities_counts",
          "year": "1998-01-01T00:00:00"
         },
         {
          "dates": "1999-2000",
          "url": "https://humanist.kdl.kcl.ac.uk/Archives/Converted_Text/humanist.1999-2000.txt",
          "value": 0,
          "variable": "digital_humanities_counts",
          "year": "1999-01-01T00:00:00"
         },
         {
          "dates": "2000-2001",
          "url": "https://humanist.kdl.kcl.ac.uk/Archives/Converted_Text/humanist.2000-2001.txt",
          "value": 0,
          "variable": "digital_humanities_counts",
          "year": "2000-01-01T00:00:00"
         },
         {
          "dates": "2001-2002",
          "url": "https://humanist.kdl.kcl.ac.uk/Archives/Converted_Text/humanist.2001-2002.txt",
          "value": 12,
          "variable": "digital_humanities_counts",
          "year": "2001-01-01T00:00:00"
         },
         {
          "dates": "2002-2003",
          "url": "https://humanist.kdl.kcl.ac.uk/Archives/Converted_Text/humanist.2002-2003.txt",
          "value": 4,
          "variable": "digital_humanities_counts",
          "year": "2002-01-01T00:00:00"
         },
         {
          "dates": "2003-2004",
          "url": "https://humanist.kdl.kcl.ac.uk/Archives/Converted_Text/humanist.2003-2004.txt",
          "value": 9,
          "variable": "digital_humanities_counts",
          "year": "2003-01-01T00:00:00"
         },
         {
          "dates": "2004-2005",
          "url": "https://humanist.kdl.kcl.ac.uk/Archives/Converted_Text/humanist.2004-2005.txt",
          "value": 24,
          "variable": "digital_humanities_counts",
          "year": "2004-01-01T00:00:00"
         },
         {
          "dates": "2005-2006",
          "url": "https://humanist.kdl.kcl.ac.uk/Archives/Converted_Text/humanist.2005-2006.txt",
          "value": 78,
          "variable": "digital_humanities_counts",
          "year": "2005-01-01T00:00:00"
         },
         {
          "dates": "2006-2007",
          "url": "https://humanist.kdl.kcl.ac.uk/Archives/Converted_Text/humanist.2006-2007.txt",
          "value": 125,
          "variable": "digital_humanities_counts",
          "year": "2006-01-01T00:00:00"
         },
         {
          "dates": "2007-2008",
          "url": "https://humanist.kdl.kcl.ac.uk/Archives/Converted_Text/humanist.2007-2008.txt",
          "value": 109,
          "variable": "digital_humanities_counts",
          "year": "2007-01-01T00:00:00"
         }
        ]
       },
       "hconcat": [
        {
         "data": {
          "name": "data-78f96a5eb8f9101c9523112fb8e1ef86"
         },
         "encoding": {
          "color": {
           "field": "variable",
           "type": "nominal"
          },
          "tooltip": [
           {
            "field": "value",
            "type": "quantitative"
           },
           {
            "field": "variable",
            "type": "nominal"
           },
           {
            "field": "dates",
            "type": "nominal"
           },
           {
            "field": "url",
            "type": "nominal"
           }
          ],
          "x": {
           "field": "year",
           "type": "temporal"
          },
          "y": {
           "field": "value",
           "type": "quantitative"
          }
         },
         "mark": "line"
        },
        {
         "data": {
          "name": "data-1e15d74eb6def15db201971b62569be1"
         },
         "encoding": {
          "x": {
           "field": "dates",
           "type": "nominal"
          },
          "y": {
           "field": "volume_size",
           "type": "quantitative"
          }
         },
         "mark": "bar"
        }
       ]
      },
      "text/plain": [
       "<VegaLite 4 object>\n",
       "\n",
       "If you see this message, it means the renderer has not been properly enabled\n",
       "for the frontend that you are using. For more information, see\n",
       "https://altair-viz.github.io/user_guide/troubleshooting.html\n"
      ]
     },
     "execution_count": 48,
     "metadata": {},
     "output_type": "execute_result"
    }
   ],
   "source": [
    "alt.hconcat(word_counts_chart, volume_size_chart)"
   ]
  },
  {
   "cell_type": "code",
   "execution_count": 49,
   "metadata": {},
   "outputs": [
    {
     "data": {
      "application/vnd.vegalite.v4+json": {
       "$schema": "https://vega.github.io/schema/vega-lite/v4.17.0.json",
       "config": {
        "view": {
         "continuousHeight": 300,
         "continuousWidth": 400
        }
       },
       "data": {
        "name": "data-1e15d74eb6def15db201971b62569be1"
       },
       "datasets": {
        "data-1e15d74eb6def15db201971b62569be1": [
         {
          "dates": "1987-1988",
          "volume_size": 50794
         },
         {
          "dates": "1988-1989",
          "volume_size": 36109
         },
         {
          "dates": "1989-1990",
          "volume_size": 108695
         },
         {
          "dates": "1990-1991",
          "volume_size": 118929
         },
         {
          "dates": "1991-1992",
          "volume_size": 81193
         },
         {
          "dates": "1992-1993",
          "volume_size": 59957
         },
         {
          "dates": "1993-1994",
          "volume_size": 71763
         },
         {
          "dates": "1994-1995",
          "volume_size": 46569
         },
         {
          "dates": "1995-1996",
          "volume_size": 61076
         },
         {
          "dates": "1996-1997",
          "volume_size": 52506
         },
         {
          "dates": "1997-1998",
          "volume_size": 89100
         },
         {
          "dates": "1998-1999",
          "volume_size": 70304
         },
         {
          "dates": "1999-2000",
          "volume_size": 72668
         },
         {
          "dates": "2000-2001",
          "volume_size": 89197
         },
         {
          "dates": "2001-2002",
          "volume_size": 85729
         },
         {
          "dates": "2002-2003",
          "volume_size": 80580
         },
         {
          "dates": "2003-2004",
          "volume_size": 95265
         },
         {
          "dates": "2004-2005",
          "volume_size": 55776
         },
         {
          "dates": "2005-2006",
          "volume_size": 53619
         },
         {
          "dates": "2006-2007",
          "volume_size": 44493
         },
         {
          "dates": "2007-2008",
          "volume_size": 38994
         }
        ]
       },
       "encoding": {
        "x": {
         "field": "dates",
         "type": "nominal"
        },
        "y": {
         "field": "volume_size",
         "type": "quantitative"
        }
       },
       "mark": "bar"
      },
      "text/plain": [
       "<VegaLite 4 object>\n",
       "\n",
       "If you see this message, it means the renderer has not been properly enabled\n",
       "for the frontend that you are using. For more information, see\n",
       "https://altair-viz.github.io/user_guide/troubleshooting.html\n"
      ]
     },
     "execution_count": 49,
     "metadata": {},
     "output_type": "execute_result"
    }
   ],
   "source": [
    "volume_size_chart"
   ]
  },
  {
   "cell_type": "code",
   "execution_count": null,
   "metadata": {},
   "outputs": [],
   "source": []
  }
 ],
 "metadata": {
  "kernelspec": {
   "display_name": "is310_env",
   "language": "python",
   "name": "is310_env"
  },
  "language_info": {
   "codemirror_mode": {
    "name": "ipython",
    "version": 3
   },
   "file_extension": ".py",
   "mimetype": "text/x-python",
   "name": "python",
   "nbconvert_exporter": "python",
   "pygments_lexer": "ipython3",
   "version": "3.9.10"
  },
  "orig_nbformat": 4
 },
 "nbformat": 4,
 "nbformat_minor": 2
}
