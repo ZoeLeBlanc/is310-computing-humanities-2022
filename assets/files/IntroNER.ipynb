{
 "cells": [
  {
   "cell_type": "code",
   "execution_count": 55,
   "metadata": {},
   "outputs": [],
   "source": [
    "import spacy\n",
    "import numpy as np\n",
    "import pandas as pd"
   ]
  },
  {
   "cell_type": "code",
   "execution_count": 56,
   "metadata": {},
   "outputs": [],
   "source": [
    "df = pd.read_csv('cleaned_pudding_public_scripts.csv')"
   ]
  },
  {
   "cell_type": "code",
   "execution_count": 57,
   "metadata": {},
   "outputs": [],
   "source": [
    "nlp = spacy.load('en_core_web_sm')\n",
    "# Or use the default model, which has fewer features:\n",
    "# nlp = spacy.load('en')"
   ]
  },
  {
   "cell_type": "code",
   "execution_count": 58,
   "metadata": {},
   "outputs": [
    {
     "name": "stdout",
     "output_type": "stream",
     "text": [
      "Apple 0 5 ORG\n",
      "U.K. 27 31 GPE\n",
      "$1 billion 44 54 MONEY\n"
     ]
    }
   ],
   "source": [
    "doc = nlp(\"Apple is looking at buying U.K. startup for $1 billion\")\n",
    "\n",
    "for ent in doc.ents:\n",
    "    print(ent.text, ent.start_char, ent.end_char, ent.label_)"
   ]
  },
  {
   "cell_type": "code",
   "execution_count": 59,
   "metadata": {},
   "outputs": [
    {
     "data": {
      "text/plain": [
       "(Apple, U.K., $1 billion)"
      ]
     },
     "execution_count": 59,
     "metadata": {},
     "output_type": "execute_result"
    }
   ],
   "source": [
    "doc.ents"
   ]
  },
  {
   "cell_type": "code",
   "execution_count": 60,
   "metadata": {},
   "outputs": [],
   "source": [
    "# [prop for prop in dir(doc) if not prop.startswith('_')]"
   ]
  },
  {
   "cell_type": "code",
   "execution_count": 61,
   "metadata": {},
   "outputs": [
    {
     "data": {
      "text/plain": [
       "(spacy.tokens.token.Token, Apple)"
      ]
     },
     "execution_count": 61,
     "metadata": {},
     "output_type": "execute_result"
    }
   ],
   "source": [
    "first_word = doc[0]\n",
    "type(first_word), first_word"
   ]
  },
  {
   "cell_type": "code",
   "execution_count": 62,
   "metadata": {},
   "outputs": [
    {
     "data": {
      "text/html": [
       "<span class=\"tex2jax_ignore\"><svg xmlns=\"http://www.w3.org/2000/svg\" xmlns:xlink=\"http://www.w3.org/1999/xlink\" xml:lang=\"en\" id=\"dbafaddea517421e9c1770b10628db6e-0\" class=\"displacy\" width=\"1975\" height=\"487.0\" direction=\"ltr\" style=\"max-width: none; height: 487.0px; color: #000000; background: #ffffff; font-family: Arial; direction: ltr\">\n",
       "<text class=\"displacy-token\" fill=\"currentColor\" text-anchor=\"middle\" y=\"397.0\">\n",
       "    <tspan class=\"displacy-word\" fill=\"currentColor\" x=\"50\">Apple</tspan>\n",
       "    <tspan class=\"displacy-tag\" dy=\"2em\" fill=\"currentColor\" x=\"50\">PROPN</tspan>\n",
       "</text>\n",
       "\n",
       "<text class=\"displacy-token\" fill=\"currentColor\" text-anchor=\"middle\" y=\"397.0\">\n",
       "    <tspan class=\"displacy-word\" fill=\"currentColor\" x=\"225\">is</tspan>\n",
       "    <tspan class=\"displacy-tag\" dy=\"2em\" fill=\"currentColor\" x=\"225\">AUX</tspan>\n",
       "</text>\n",
       "\n",
       "<text class=\"displacy-token\" fill=\"currentColor\" text-anchor=\"middle\" y=\"397.0\">\n",
       "    <tspan class=\"displacy-word\" fill=\"currentColor\" x=\"400\">looking</tspan>\n",
       "    <tspan class=\"displacy-tag\" dy=\"2em\" fill=\"currentColor\" x=\"400\">VERB</tspan>\n",
       "</text>\n",
       "\n",
       "<text class=\"displacy-token\" fill=\"currentColor\" text-anchor=\"middle\" y=\"397.0\">\n",
       "    <tspan class=\"displacy-word\" fill=\"currentColor\" x=\"575\">at</tspan>\n",
       "    <tspan class=\"displacy-tag\" dy=\"2em\" fill=\"currentColor\" x=\"575\">ADP</tspan>\n",
       "</text>\n",
       "\n",
       "<text class=\"displacy-token\" fill=\"currentColor\" text-anchor=\"middle\" y=\"397.0\">\n",
       "    <tspan class=\"displacy-word\" fill=\"currentColor\" x=\"750\">buying</tspan>\n",
       "    <tspan class=\"displacy-tag\" dy=\"2em\" fill=\"currentColor\" x=\"750\">VERB</tspan>\n",
       "</text>\n",
       "\n",
       "<text class=\"displacy-token\" fill=\"currentColor\" text-anchor=\"middle\" y=\"397.0\">\n",
       "    <tspan class=\"displacy-word\" fill=\"currentColor\" x=\"925\">U.K.</tspan>\n",
       "    <tspan class=\"displacy-tag\" dy=\"2em\" fill=\"currentColor\" x=\"925\">PROPN</tspan>\n",
       "</text>\n",
       "\n",
       "<text class=\"displacy-token\" fill=\"currentColor\" text-anchor=\"middle\" y=\"397.0\">\n",
       "    <tspan class=\"displacy-word\" fill=\"currentColor\" x=\"1100\">startup</tspan>\n",
       "    <tspan class=\"displacy-tag\" dy=\"2em\" fill=\"currentColor\" x=\"1100\">VERB</tspan>\n",
       "</text>\n",
       "\n",
       "<text class=\"displacy-token\" fill=\"currentColor\" text-anchor=\"middle\" y=\"397.0\">\n",
       "    <tspan class=\"displacy-word\" fill=\"currentColor\" x=\"1275\">for</tspan>\n",
       "    <tspan class=\"displacy-tag\" dy=\"2em\" fill=\"currentColor\" x=\"1275\">ADP</tspan>\n",
       "</text>\n",
       "\n",
       "<text class=\"displacy-token\" fill=\"currentColor\" text-anchor=\"middle\" y=\"397.0\">\n",
       "    <tspan class=\"displacy-word\" fill=\"currentColor\" x=\"1450\">$</tspan>\n",
       "    <tspan class=\"displacy-tag\" dy=\"2em\" fill=\"currentColor\" x=\"1450\">SYM</tspan>\n",
       "</text>\n",
       "\n",
       "<text class=\"displacy-token\" fill=\"currentColor\" text-anchor=\"middle\" y=\"397.0\">\n",
       "    <tspan class=\"displacy-word\" fill=\"currentColor\" x=\"1625\">1</tspan>\n",
       "    <tspan class=\"displacy-tag\" dy=\"2em\" fill=\"currentColor\" x=\"1625\">NUM</tspan>\n",
       "</text>\n",
       "\n",
       "<text class=\"displacy-token\" fill=\"currentColor\" text-anchor=\"middle\" y=\"397.0\">\n",
       "    <tspan class=\"displacy-word\" fill=\"currentColor\" x=\"1800\">billion</tspan>\n",
       "    <tspan class=\"displacy-tag\" dy=\"2em\" fill=\"currentColor\" x=\"1800\">NUM</tspan>\n",
       "</text>\n",
       "\n",
       "<g class=\"displacy-arrow\">\n",
       "    <path class=\"displacy-arc\" id=\"arrow-dbafaddea517421e9c1770b10628db6e-0-0\" stroke-width=\"2px\" d=\"M70,352.0 C70,177.0 390.0,177.0 390.0,352.0\" fill=\"none\" stroke=\"currentColor\"/>\n",
       "    <text dy=\"1.25em\" style=\"font-size: 0.8em; letter-spacing: 1px\">\n",
       "        <textPath xlink:href=\"#arrow-dbafaddea517421e9c1770b10628db6e-0-0\" class=\"displacy-label\" startOffset=\"50%\" side=\"left\" fill=\"currentColor\" text-anchor=\"middle\">nsubj</textPath>\n",
       "    </text>\n",
       "    <path class=\"displacy-arrowhead\" d=\"M70,354.0 L62,342.0 78,342.0\" fill=\"currentColor\"/>\n",
       "</g>\n",
       "\n",
       "<g class=\"displacy-arrow\">\n",
       "    <path class=\"displacy-arc\" id=\"arrow-dbafaddea517421e9c1770b10628db6e-0-1\" stroke-width=\"2px\" d=\"M245,352.0 C245,264.5 385.0,264.5 385.0,352.0\" fill=\"none\" stroke=\"currentColor\"/>\n",
       "    <text dy=\"1.25em\" style=\"font-size: 0.8em; letter-spacing: 1px\">\n",
       "        <textPath xlink:href=\"#arrow-dbafaddea517421e9c1770b10628db6e-0-1\" class=\"displacy-label\" startOffset=\"50%\" side=\"left\" fill=\"currentColor\" text-anchor=\"middle\">aux</textPath>\n",
       "    </text>\n",
       "    <path class=\"displacy-arrowhead\" d=\"M245,354.0 L237,342.0 253,342.0\" fill=\"currentColor\"/>\n",
       "</g>\n",
       "\n",
       "<g class=\"displacy-arrow\">\n",
       "    <path class=\"displacy-arc\" id=\"arrow-dbafaddea517421e9c1770b10628db6e-0-2\" stroke-width=\"2px\" d=\"M420,352.0 C420,264.5 560.0,264.5 560.0,352.0\" fill=\"none\" stroke=\"currentColor\"/>\n",
       "    <text dy=\"1.25em\" style=\"font-size: 0.8em; letter-spacing: 1px\">\n",
       "        <textPath xlink:href=\"#arrow-dbafaddea517421e9c1770b10628db6e-0-2\" class=\"displacy-label\" startOffset=\"50%\" side=\"left\" fill=\"currentColor\" text-anchor=\"middle\">prep</textPath>\n",
       "    </text>\n",
       "    <path class=\"displacy-arrowhead\" d=\"M560.0,354.0 L568.0,342.0 552.0,342.0\" fill=\"currentColor\"/>\n",
       "</g>\n",
       "\n",
       "<g class=\"displacy-arrow\">\n",
       "    <path class=\"displacy-arc\" id=\"arrow-dbafaddea517421e9c1770b10628db6e-0-3\" stroke-width=\"2px\" d=\"M595,352.0 C595,264.5 735.0,264.5 735.0,352.0\" fill=\"none\" stroke=\"currentColor\"/>\n",
       "    <text dy=\"1.25em\" style=\"font-size: 0.8em; letter-spacing: 1px\">\n",
       "        <textPath xlink:href=\"#arrow-dbafaddea517421e9c1770b10628db6e-0-3\" class=\"displacy-label\" startOffset=\"50%\" side=\"left\" fill=\"currentColor\" text-anchor=\"middle\">pcomp</textPath>\n",
       "    </text>\n",
       "    <path class=\"displacy-arrowhead\" d=\"M735.0,354.0 L743.0,342.0 727.0,342.0\" fill=\"currentColor\"/>\n",
       "</g>\n",
       "\n",
       "<g class=\"displacy-arrow\">\n",
       "    <path class=\"displacy-arc\" id=\"arrow-dbafaddea517421e9c1770b10628db6e-0-4\" stroke-width=\"2px\" d=\"M770,352.0 C770,264.5 910.0,264.5 910.0,352.0\" fill=\"none\" stroke=\"currentColor\"/>\n",
       "    <text dy=\"1.25em\" style=\"font-size: 0.8em; letter-spacing: 1px\">\n",
       "        <textPath xlink:href=\"#arrow-dbafaddea517421e9c1770b10628db6e-0-4\" class=\"displacy-label\" startOffset=\"50%\" side=\"left\" fill=\"currentColor\" text-anchor=\"middle\">dobj</textPath>\n",
       "    </text>\n",
       "    <path class=\"displacy-arrowhead\" d=\"M910.0,354.0 L918.0,342.0 902.0,342.0\" fill=\"currentColor\"/>\n",
       "</g>\n",
       "\n",
       "<g class=\"displacy-arrow\">\n",
       "    <path class=\"displacy-arc\" id=\"arrow-dbafaddea517421e9c1770b10628db6e-0-5\" stroke-width=\"2px\" d=\"M420,352.0 C420,2.0 1100.0,2.0 1100.0,352.0\" fill=\"none\" stroke=\"currentColor\"/>\n",
       "    <text dy=\"1.25em\" style=\"font-size: 0.8em; letter-spacing: 1px\">\n",
       "        <textPath xlink:href=\"#arrow-dbafaddea517421e9c1770b10628db6e-0-5\" class=\"displacy-label\" startOffset=\"50%\" side=\"left\" fill=\"currentColor\" text-anchor=\"middle\">dep</textPath>\n",
       "    </text>\n",
       "    <path class=\"displacy-arrowhead\" d=\"M1100.0,354.0 L1108.0,342.0 1092.0,342.0\" fill=\"currentColor\"/>\n",
       "</g>\n",
       "\n",
       "<g class=\"displacy-arrow\">\n",
       "    <path class=\"displacy-arc\" id=\"arrow-dbafaddea517421e9c1770b10628db6e-0-6\" stroke-width=\"2px\" d=\"M1120,352.0 C1120,264.5 1260.0,264.5 1260.0,352.0\" fill=\"none\" stroke=\"currentColor\"/>\n",
       "    <text dy=\"1.25em\" style=\"font-size: 0.8em; letter-spacing: 1px\">\n",
       "        <textPath xlink:href=\"#arrow-dbafaddea517421e9c1770b10628db6e-0-6\" class=\"displacy-label\" startOffset=\"50%\" side=\"left\" fill=\"currentColor\" text-anchor=\"middle\">prep</textPath>\n",
       "    </text>\n",
       "    <path class=\"displacy-arrowhead\" d=\"M1260.0,354.0 L1268.0,342.0 1252.0,342.0\" fill=\"currentColor\"/>\n",
       "</g>\n",
       "\n",
       "<g class=\"displacy-arrow\">\n",
       "    <path class=\"displacy-arc\" id=\"arrow-dbafaddea517421e9c1770b10628db6e-0-7\" stroke-width=\"2px\" d=\"M1470,352.0 C1470,177.0 1790.0,177.0 1790.0,352.0\" fill=\"none\" stroke=\"currentColor\"/>\n",
       "    <text dy=\"1.25em\" style=\"font-size: 0.8em; letter-spacing: 1px\">\n",
       "        <textPath xlink:href=\"#arrow-dbafaddea517421e9c1770b10628db6e-0-7\" class=\"displacy-label\" startOffset=\"50%\" side=\"left\" fill=\"currentColor\" text-anchor=\"middle\">quantmod</textPath>\n",
       "    </text>\n",
       "    <path class=\"displacy-arrowhead\" d=\"M1470,354.0 L1462,342.0 1478,342.0\" fill=\"currentColor\"/>\n",
       "</g>\n",
       "\n",
       "<g class=\"displacy-arrow\">\n",
       "    <path class=\"displacy-arc\" id=\"arrow-dbafaddea517421e9c1770b10628db6e-0-8\" stroke-width=\"2px\" d=\"M1645,352.0 C1645,264.5 1785.0,264.5 1785.0,352.0\" fill=\"none\" stroke=\"currentColor\"/>\n",
       "    <text dy=\"1.25em\" style=\"font-size: 0.8em; letter-spacing: 1px\">\n",
       "        <textPath xlink:href=\"#arrow-dbafaddea517421e9c1770b10628db6e-0-8\" class=\"displacy-label\" startOffset=\"50%\" side=\"left\" fill=\"currentColor\" text-anchor=\"middle\">compound</textPath>\n",
       "    </text>\n",
       "    <path class=\"displacy-arrowhead\" d=\"M1645,354.0 L1637,342.0 1653,342.0\" fill=\"currentColor\"/>\n",
       "</g>\n",
       "\n",
       "<g class=\"displacy-arrow\">\n",
       "    <path class=\"displacy-arc\" id=\"arrow-dbafaddea517421e9c1770b10628db6e-0-9\" stroke-width=\"2px\" d=\"M1295,352.0 C1295,89.5 1795.0,89.5 1795.0,352.0\" fill=\"none\" stroke=\"currentColor\"/>\n",
       "    <text dy=\"1.25em\" style=\"font-size: 0.8em; letter-spacing: 1px\">\n",
       "        <textPath xlink:href=\"#arrow-dbafaddea517421e9c1770b10628db6e-0-9\" class=\"displacy-label\" startOffset=\"50%\" side=\"left\" fill=\"currentColor\" text-anchor=\"middle\">pobj</textPath>\n",
       "    </text>\n",
       "    <path class=\"displacy-arrowhead\" d=\"M1795.0,354.0 L1803.0,342.0 1787.0,342.0\" fill=\"currentColor\"/>\n",
       "</g>\n",
       "</svg></span>"
      ],
      "text/plain": [
       "<IPython.core.display.HTML object>"
      ]
     },
     "metadata": {},
     "output_type": "display_data"
    }
   ],
   "source": [
    "from spacy import displacy\n",
    "displacy.render(doc, style=\"dep\")\n"
   ]
  },
  {
   "cell_type": "code",
   "execution_count": 63,
   "metadata": {},
   "outputs": [],
   "source": [
    "kill_bill_script = df[df.title.str.contains('Kill')].script.values[0]"
   ]
  },
  {
   "cell_type": "code",
   "execution_count": 64,
   "metadata": {},
   "outputs": [],
   "source": [
    "doc = nlp(kill_bill_script)"
   ]
  },
  {
   "cell_type": "code",
   "execution_count": 65,
   "metadata": {},
   "outputs": [],
   "source": [
    "# for ent in doc.ents:\n",
    "#     if ent.label_ == 'GPE':\n",
    "#         print(ent.text, ent.label_)"
   ]
  },
  {
   "cell_type": "code",
   "execution_count": 66,
   "metadata": {},
   "outputs": [],
   "source": [
    "# from spacy import displacy\n",
    "# displacy.render(doc, style=\"ent\")"
   ]
  },
  {
   "cell_type": "code",
   "execution_count": 67,
   "metadata": {},
   "outputs": [],
   "source": [
    "import warnings\n",
    "warnings.filterwarnings(\"ignore\")"
   ]
  },
  {
   "cell_type": "code",
   "execution_count": 68,
   "metadata": {},
   "outputs": [],
   "source": [
    "def get_entities(row, type_entity):\n",
    "    doc = nlp(row.script)\n",
    "    entities =[]\n",
    "    # entities = [ent for ent in doc.ents if ent.label_ == type_entity]\n",
    "    for ent in doc.ents:\n",
    "        if ent.label_ == type_entity:\n",
    "            entities.append(ent.text)\n",
    "    return entities\n",
    "    \n",
    "subset_df = df[df.title.str.contains('Twilight')][0:1]\n",
    "\n",
    "subset_df['identified_entities'] = subset_df.apply(get_entities, axis=1, type_entity='PERSON')"
   ]
  },
  {
   "cell_type": "code",
   "execution_count": 73,
   "metadata": {},
   "outputs": [],
   "source": [
    "# print(df[df.title.str.contains('Twilight')][0:1].script.values[0])"
   ]
  },
  {
   "cell_type": "code",
   "execution_count": 74,
   "metadata": {},
   "outputs": [],
   "source": [
    "character_list_df = pd.read_csv('character_list5.csv', encoding='latin-1')\n",
    "metadata_df = pd.read_csv('meta_data7.csv', encoding='latin-1')\n",
    "character_mapping_df = pd.read_csv('character_mapping.csv', encoding='latin-1')"
   ]
  },
  {
   "cell_type": "code",
   "execution_count": 77,
   "metadata": {},
   "outputs": [],
   "source": [
    "merged_metadata_character_df = character_list_df.merge(metadata_df, on='script_id', how='left')"
   ]
  },
  {
   "cell_type": "code",
   "execution_count": 78,
   "metadata": {},
   "outputs": [
    {
     "data": {
      "text/html": [
       "<div>\n",
       "<style scoped>\n",
       "    .dataframe tbody tr th:only-of-type {\n",
       "        vertical-align: middle;\n",
       "    }\n",
       "\n",
       "    .dataframe tbody tr th {\n",
       "        vertical-align: top;\n",
       "    }\n",
       "\n",
       "    .dataframe thead th {\n",
       "        text-align: right;\n",
       "    }\n",
       "</style>\n",
       "<table border=\"1\" class=\"dataframe\">\n",
       "  <thead>\n",
       "    <tr style=\"text-align: right;\">\n",
       "      <th></th>\n",
       "      <th>script_id</th>\n",
       "      <th>imdb_character_name</th>\n",
       "      <th>words</th>\n",
       "      <th>gender</th>\n",
       "      <th>age</th>\n",
       "      <th>imdb_id</th>\n",
       "      <th>title</th>\n",
       "      <th>year</th>\n",
       "      <th>gross</th>\n",
       "      <th>lines_data</th>\n",
       "    </tr>\n",
       "  </thead>\n",
       "  <tbody>\n",
       "    <tr>\n",
       "      <th>0</th>\n",
       "      <td>280</td>\n",
       "      <td>betty</td>\n",
       "      <td>311</td>\n",
       "      <td>f</td>\n",
       "      <td>35.0</td>\n",
       "      <td>tt0112579</td>\n",
       "      <td>The Bridges of Madison County</td>\n",
       "      <td>1995</td>\n",
       "      <td>142.0</td>\n",
       "      <td>4332023434343443203433434334433434343434434344...</td>\n",
       "    </tr>\n",
       "    <tr>\n",
       "      <th>1</th>\n",
       "      <td>280</td>\n",
       "      <td>carolyn johnson</td>\n",
       "      <td>873</td>\n",
       "      <td>f</td>\n",
       "      <td>NaN</td>\n",
       "      <td>tt0112579</td>\n",
       "      <td>The Bridges of Madison County</td>\n",
       "      <td>1995</td>\n",
       "      <td>142.0</td>\n",
       "      <td>4332023434343443203433434334433434343434434344...</td>\n",
       "    </tr>\n",
       "    <tr>\n",
       "      <th>2</th>\n",
       "      <td>280</td>\n",
       "      <td>eleanor</td>\n",
       "      <td>138</td>\n",
       "      <td>f</td>\n",
       "      <td>NaN</td>\n",
       "      <td>tt0112579</td>\n",
       "      <td>The Bridges of Madison County</td>\n",
       "      <td>1995</td>\n",
       "      <td>142.0</td>\n",
       "      <td>4332023434343443203433434334433434343434434344...</td>\n",
       "    </tr>\n",
       "    <tr>\n",
       "      <th>3</th>\n",
       "      <td>280</td>\n",
       "      <td>francesca johns</td>\n",
       "      <td>2251</td>\n",
       "      <td>f</td>\n",
       "      <td>46.0</td>\n",
       "      <td>tt0112579</td>\n",
       "      <td>The Bridges of Madison County</td>\n",
       "      <td>1995</td>\n",
       "      <td>142.0</td>\n",
       "      <td>4332023434343443203433434334433434343434434344...</td>\n",
       "    </tr>\n",
       "    <tr>\n",
       "      <th>4</th>\n",
       "      <td>280</td>\n",
       "      <td>madge</td>\n",
       "      <td>190</td>\n",
       "      <td>f</td>\n",
       "      <td>46.0</td>\n",
       "      <td>tt0112579</td>\n",
       "      <td>The Bridges of Madison County</td>\n",
       "      <td>1995</td>\n",
       "      <td>142.0</td>\n",
       "      <td>4332023434343443203433434334433434343434434344...</td>\n",
       "    </tr>\n",
       "  </tbody>\n",
       "</table>\n",
       "</div>"
      ],
      "text/plain": [
       "   script_id imdb_character_name  words gender   age    imdb_id  \\\n",
       "0        280               betty    311      f  35.0  tt0112579   \n",
       "1        280     carolyn johnson    873      f   NaN  tt0112579   \n",
       "2        280             eleanor    138      f   NaN  tt0112579   \n",
       "3        280     francesca johns   2251      f  46.0  tt0112579   \n",
       "4        280               madge    190      f  46.0  tt0112579   \n",
       "\n",
       "                           title  year  gross  \\\n",
       "0  The Bridges of Madison County  1995  142.0   \n",
       "1  The Bridges of Madison County  1995  142.0   \n",
       "2  The Bridges of Madison County  1995  142.0   \n",
       "3  The Bridges of Madison County  1995  142.0   \n",
       "4  The Bridges of Madison County  1995  142.0   \n",
       "\n",
       "                                          lines_data  \n",
       "0  4332023434343443203433434334433434343434434344...  \n",
       "1  4332023434343443203433434334433434343434434344...  \n",
       "2  4332023434343443203433434334433434343434434344...  \n",
       "3  4332023434343443203433434334433434343434434344...  \n",
       "4  4332023434343443203433434334433434343434434344...  "
      ]
     },
     "execution_count": 78,
     "metadata": {},
     "output_type": "execute_result"
    }
   ],
   "source": [
    "merged_metadata_character_df.head()"
   ]
  },
  {
   "cell_type": "code",
   "execution_count": 79,
   "metadata": {},
   "outputs": [
    {
     "data": {
      "text/html": [
       "<div>\n",
       "<style scoped>\n",
       "    .dataframe tbody tr th:only-of-type {\n",
       "        vertical-align: middle;\n",
       "    }\n",
       "\n",
       "    .dataframe tbody tr th {\n",
       "        vertical-align: top;\n",
       "    }\n",
       "\n",
       "    .dataframe thead th {\n",
       "        text-align: right;\n",
       "    }\n",
       "</style>\n",
       "<table border=\"1\" class=\"dataframe\">\n",
       "  <thead>\n",
       "    <tr style=\"text-align: right;\">\n",
       "      <th></th>\n",
       "      <th>imdb_id</th>\n",
       "      <th>script_id</th>\n",
       "      <th>title</th>\n",
       "      <th>year</th>\n",
       "      <th>gross_ia</th>\n",
       "      <th>link</th>\n",
       "      <th>status_code</th>\n",
       "      <th>script</th>\n",
       "      <th>script_length</th>\n",
       "      <th>identified_entities</th>\n",
       "      <th>imdb_character_name</th>\n",
       "      <th>words</th>\n",
       "      <th>gender</th>\n",
       "      <th>age</th>\n",
       "      <th>gross</th>\n",
       "      <th>lines_data</th>\n",
       "    </tr>\n",
       "  </thead>\n",
       "  <tbody>\n",
       "    <tr>\n",
       "      <th>0</th>\n",
       "      <td>tt1259571</td>\n",
       "      <td>5164</td>\n",
       "      <td>The Twilight Saga: New Moon</td>\n",
       "      <td>2009</td>\n",
       "      <td>344.0</td>\n",
       "      <td>http://www.imsdb.com/scripts/Twilight-New-Moon...</td>\n",
       "      <td>200.0</td>\n",
       "      <td>\\n\\n\\n\\n\\n\\n\\n\\n\\n\\n\\n\\n\\n\\n\\n\\n\\n\\n\\n\\nThe In...</td>\n",
       "      <td>244703</td>\n",
       "      <td>[Drama\\nFamily, Fantasy\\nFilm-Noir, Melissa Ro...</td>\n",
       "      <td>alice cullen</td>\n",
       "      <td>1200</td>\n",
       "      <td>f</td>\n",
       "      <td>22.0</td>\n",
       "      <td>344.0</td>\n",
       "      <td>1452445303446332253244454134430204464354443254...</td>\n",
       "    </tr>\n",
       "    <tr>\n",
       "      <th>1</th>\n",
       "      <td>tt1259571</td>\n",
       "      <td>5164</td>\n",
       "      <td>The Twilight Saga: New Moon</td>\n",
       "      <td>2009</td>\n",
       "      <td>344.0</td>\n",
       "      <td>http://www.imsdb.com/scripts/Twilight-New-Moon...</td>\n",
       "      <td>200.0</td>\n",
       "      <td>\\n\\n\\n\\n\\n\\n\\n\\n\\n\\n\\n\\n\\n\\n\\n\\n\\n\\n\\n\\nThe In...</td>\n",
       "      <td>244703</td>\n",
       "      <td>[Drama\\nFamily, Fantasy\\nFilm-Noir, Melissa Ro...</td>\n",
       "      <td>angela</td>\n",
       "      <td>138</td>\n",
       "      <td>f</td>\n",
       "      <td>19.0</td>\n",
       "      <td>344.0</td>\n",
       "      <td>1452445303446332253244454134430204464354443254...</td>\n",
       "    </tr>\n",
       "    <tr>\n",
       "      <th>2</th>\n",
       "      <td>tt1259571</td>\n",
       "      <td>5164</td>\n",
       "      <td>The Twilight Saga: New Moon</td>\n",
       "      <td>2009</td>\n",
       "      <td>344.0</td>\n",
       "      <td>http://www.imsdb.com/scripts/Twilight-New-Moon...</td>\n",
       "      <td>200.0</td>\n",
       "      <td>\\n\\n\\n\\n\\n\\n\\n\\n\\n\\n\\n\\n\\n\\n\\n\\n\\n\\n\\n\\nThe In...</td>\n",
       "      <td>244703</td>\n",
       "      <td>[Drama\\nFamily, Fantasy\\nFilm-Noir, Melissa Ro...</td>\n",
       "      <td>aro</td>\n",
       "      <td>442</td>\n",
       "      <td>m</td>\n",
       "      <td>40.0</td>\n",
       "      <td>344.0</td>\n",
       "      <td>1452445303446332253244454134430204464354443254...</td>\n",
       "    </tr>\n",
       "    <tr>\n",
       "      <th>3</th>\n",
       "      <td>tt1259571</td>\n",
       "      <td>5164</td>\n",
       "      <td>The Twilight Saga: New Moon</td>\n",
       "      <td>2009</td>\n",
       "      <td>344.0</td>\n",
       "      <td>http://www.imsdb.com/scripts/Twilight-New-Moon...</td>\n",
       "      <td>200.0</td>\n",
       "      <td>\\n\\n\\n\\n\\n\\n\\n\\n\\n\\n\\n\\n\\n\\n\\n\\n\\n\\n\\n\\nThe In...</td>\n",
       "      <td>244703</td>\n",
       "      <td>[Drama\\nFamily, Fantasy\\nFilm-Noir, Melissa Ro...</td>\n",
       "      <td>bella swan</td>\n",
       "      <td>6542</td>\n",
       "      <td>f</td>\n",
       "      <td>19.0</td>\n",
       "      <td>344.0</td>\n",
       "      <td>1452445303446332253244454134430204464354443254...</td>\n",
       "    </tr>\n",
       "    <tr>\n",
       "      <th>4</th>\n",
       "      <td>tt1259571</td>\n",
       "      <td>5164</td>\n",
       "      <td>The Twilight Saga: New Moon</td>\n",
       "      <td>2009</td>\n",
       "      <td>344.0</td>\n",
       "      <td>http://www.imsdb.com/scripts/Twilight-New-Moon...</td>\n",
       "      <td>200.0</td>\n",
       "      <td>\\n\\n\\n\\n\\n\\n\\n\\n\\n\\n\\n\\n\\n\\n\\n\\n\\n\\n\\n\\nThe In...</td>\n",
       "      <td>244703</td>\n",
       "      <td>[Drama\\nFamily, Fantasy\\nFilm-Noir, Melissa Ro...</td>\n",
       "      <td>charlie swan</td>\n",
       "      <td>878</td>\n",
       "      <td>m</td>\n",
       "      <td>43.0</td>\n",
       "      <td>344.0</td>\n",
       "      <td>1452445303446332253244454134430204464354443254...</td>\n",
       "    </tr>\n",
       "  </tbody>\n",
       "</table>\n",
       "</div>"
      ],
      "text/plain": [
       "     imdb_id  script_id                        title  year  gross_ia  \\\n",
       "0  tt1259571       5164  The Twilight Saga: New Moon  2009     344.0   \n",
       "1  tt1259571       5164  The Twilight Saga: New Moon  2009     344.0   \n",
       "2  tt1259571       5164  The Twilight Saga: New Moon  2009     344.0   \n",
       "3  tt1259571       5164  The Twilight Saga: New Moon  2009     344.0   \n",
       "4  tt1259571       5164  The Twilight Saga: New Moon  2009     344.0   \n",
       "\n",
       "                                                link  status_code  \\\n",
       "0  http://www.imsdb.com/scripts/Twilight-New-Moon...        200.0   \n",
       "1  http://www.imsdb.com/scripts/Twilight-New-Moon...        200.0   \n",
       "2  http://www.imsdb.com/scripts/Twilight-New-Moon...        200.0   \n",
       "3  http://www.imsdb.com/scripts/Twilight-New-Moon...        200.0   \n",
       "4  http://www.imsdb.com/scripts/Twilight-New-Moon...        200.0   \n",
       "\n",
       "                                              script  script_length  \\\n",
       "0  \\n\\n\\n\\n\\n\\n\\n\\n\\n\\n\\n\\n\\n\\n\\n\\n\\n\\n\\n\\nThe In...         244703   \n",
       "1  \\n\\n\\n\\n\\n\\n\\n\\n\\n\\n\\n\\n\\n\\n\\n\\n\\n\\n\\n\\nThe In...         244703   \n",
       "2  \\n\\n\\n\\n\\n\\n\\n\\n\\n\\n\\n\\n\\n\\n\\n\\n\\n\\n\\n\\nThe In...         244703   \n",
       "3  \\n\\n\\n\\n\\n\\n\\n\\n\\n\\n\\n\\n\\n\\n\\n\\n\\n\\n\\n\\nThe In...         244703   \n",
       "4  \\n\\n\\n\\n\\n\\n\\n\\n\\n\\n\\n\\n\\n\\n\\n\\n\\n\\n\\n\\nThe In...         244703   \n",
       "\n",
       "                                 identified_entities imdb_character_name  \\\n",
       "0  [Drama\\nFamily, Fantasy\\nFilm-Noir, Melissa Ro...        alice cullen   \n",
       "1  [Drama\\nFamily, Fantasy\\nFilm-Noir, Melissa Ro...              angela   \n",
       "2  [Drama\\nFamily, Fantasy\\nFilm-Noir, Melissa Ro...                 aro   \n",
       "3  [Drama\\nFamily, Fantasy\\nFilm-Noir, Melissa Ro...          bella swan   \n",
       "4  [Drama\\nFamily, Fantasy\\nFilm-Noir, Melissa Ro...        charlie swan   \n",
       "\n",
       "   words gender   age  gross  \\\n",
       "0   1200      f  22.0  344.0   \n",
       "1    138      f  19.0  344.0   \n",
       "2    442      m  40.0  344.0   \n",
       "3   6542      f  19.0  344.0   \n",
       "4    878      m  43.0  344.0   \n",
       "\n",
       "                                          lines_data  \n",
       "0  1452445303446332253244454134430204464354443254...  \n",
       "1  1452445303446332253244454134430204464354443254...  \n",
       "2  1452445303446332253244454134430204464354443254...  \n",
       "3  1452445303446332253244454134430204464354443254...  \n",
       "4  1452445303446332253244454134430204464354443254...  "
      ]
     },
     "execution_count": 79,
     "metadata": {},
     "output_type": "execute_result"
    }
   ],
   "source": [
    "# subset_exploded_df = subset_df.explode('identified_entities')\n",
    "# subset_exploded_df = subset_exploded_df.drop_duplicates()\n",
    "\n",
    "# grouped_character_list = merged_filmscripts_metadata_df.groupby(['title'])['imdb_character_name'].apply(list).reset_index(name='character_list')\n",
    "\n",
    "# grouped_merged_character_list = merged_filmscripts_metadata_df.merge(grouped_character_list, on='title', how='left')\n",
    "\n",
    "merged_filmscripts_metadata_df = subset_df.merge(merged_metadata_character_df, on=['script_id', 'year', 'title', 'imdb_id'], how='left')\n",
    "\n",
    "\n",
    "merged_filmscripts_metadata_df.head()"
   ]
  },
  {
   "cell_type": "code",
   "execution_count": 83,
   "metadata": {},
   "outputs": [],
   "source": [
    "identified_characters = merged_filmscripts_metadata_df.imdb_character_name.values.tolist()"
   ]
  },
  {
   "cell_type": "code",
   "execution_count": 89,
   "metadata": {},
   "outputs": [],
   "source": [
    "patterns = []\n",
    "for name in identified_characters:\n",
    "    if len(name.split(' ')) == 1:\n",
    "        pattern = {\"label\": \"PERSON\", \"pattern\": [{\"LOWER\": f\"{name}\"}], \"id\": f\"{name}\"}\n",
    "        patterns.append(pattern)\n",
    "    elif len(name.split(' ')) > 1:\n",
    "        pattern = {\"label\": \"PERSON\", \"pattern\": [{\"LOWER\": f\"{name.split(' ')[0]}\"}, {\"LOWER\": f\"{name.split(' ')[1]}\"}], \"id\": f\"{'-'.join(name.split(' '))}\"}\n",
    "        patterns.append(pattern)"
   ]
  },
  {
   "cell_type": "code",
   "execution_count": 91,
   "metadata": {},
   "outputs": [
    {
     "data": {
      "text/plain": [
       "[{'label': 'PERSON',\n",
       "  'pattern': [{'LOWER': 'alice'}, {'LOWER': 'cullen'}],\n",
       "  'id': 'alice-cullen'}]"
      ]
     },
     "execution_count": 91,
     "metadata": {},
     "output_type": "execute_result"
    }
   ],
   "source": [
    "patterns[0:1]"
   ]
  },
  {
   "cell_type": "code",
   "execution_count": 92,
   "metadata": {},
   "outputs": [
    {
     "name": "stdout",
     "output_type": "stream",
     "text": [
      "example rule {'label': 'PERSON', 'pattern': [{'LOWER': 'angela'}], 'id': 'angela'}\n"
     ]
    }
   ],
   "source": [
    "list_names = [{\"label\": \"PERSON\", \"pattern\": [{\"LOWER\": f\"{name}\"}], \"id\": f\"{name}\"} for name in identified_characters if len(name.split(' ')) == 1]\n",
    "\n",
    "list_full_names = [{\"label\": \"PERSON\", \"pattern\": [{\"LOWER\": f\"{name.split(' ')[0]}\"}, {\"LOWER\": f\"{name.split(' ')[1]}\"}], \"id\": f\"{'-'.join(name.split(' '))}\"} for name in identified_characters if len(name.split(' ')) > 1]\n",
    "\n",
    "all_names = list_names + list_full_names\n",
    "print('example rule', all_names[0])\n"
   ]
  },
  {
   "cell_type": "code",
   "execution_count": 93,
   "metadata": {},
   "outputs": [],
   "source": [
    "full_nlp = spacy.load(\"en_core_web_sm\")\n",
    "ruler = full_nlp.add_pipe(\"entity_ruler\")\n",
    "ruler.add_patterns(all_names)\n"
   ]
  },
  {
   "cell_type": "code",
   "execution_count": 94,
   "metadata": {},
   "outputs": [],
   "source": [
    "def get_entities(row, type_entity):\n",
    "    doc = full_nlp(row.script)\n",
    "    entities =[]\n",
    "    # entities = [ent for ent in doc.ents if ent.label_ == type_entity]\n",
    "    for ent in doc.ents:\n",
    "        if ent.label_ == type_entity:\n",
    "            entities.append(ent.text)\n",
    "    return entities\n",
    "    \n",
    "subset_df = df[df.title.str.contains('Twilight')][0:1]\n",
    "\n",
    "subset_df['improved_identified_entities'] = subset_df.apply(get_entities, axis=1, type_entity='PERSON')"
   ]
  },
  {
   "cell_type": "code",
   "execution_count": 99,
   "metadata": {},
   "outputs": [],
   "source": [
    "improved_characters = subset_df.improved_identified_entities.values[0]"
   ]
  },
  {
   "cell_type": "code",
   "execution_count": 98,
   "metadata": {},
   "outputs": [],
   "source": [
    "from nltk.tokenize import sent_tokenize\n",
    "sentences = sent_tokenize(subset_df.script.values[0])\n"
   ]
  },
  {
   "cell_type": "code",
   "execution_count": 100,
   "metadata": {},
   "outputs": [],
   "source": [
    "rows = []\n",
    "\n",
    "for sent in sentences:\n",
    "    for char in improved_characters:\n",
    "        if char in sent.lower():\n",
    "            rows.append({'script': sent, 'character': char})"
   ]
  },
  {
   "cell_type": "code",
   "execution_count": 101,
   "metadata": {},
   "outputs": [],
   "source": [
    "characters_sentences_df = pd.DataFrame(rows)"
   ]
  },
  {
   "cell_type": "code",
   "execution_count": 102,
   "metadata": {},
   "outputs": [
    {
     "data": {
      "text/html": [
       "<div>\n",
       "<style scoped>\n",
       "    .dataframe tbody tr th:only-of-type {\n",
       "        vertical-align: middle;\n",
       "    }\n",
       "\n",
       "    .dataframe tbody tr th {\n",
       "        vertical-align: top;\n",
       "    }\n",
       "\n",
       "    .dataframe thead th {\n",
       "        text-align: right;\n",
       "    }\n",
       "</style>\n",
       "<table border=\"1\" class=\"dataframe\">\n",
       "  <thead>\n",
       "    <tr style=\"text-align: right;\">\n",
       "      <th></th>\n",
       "      <th>script</th>\n",
       "      <th>character</th>\n",
       "    </tr>\n",
       "  </thead>\n",
       "  <tbody>\n",
       "    <tr>\n",
       "      <th>0</th>\n",
       "      <td>JACOB BLACK, 16, jogs up, carrying a used car ...</td>\n",
       "      <td>black ponytail</td>\n",
       "    </tr>\n",
       "    <tr>\n",
       "      <th>1</th>\n",
       "      <td>BELLA\\r\\n              God, Jacob, what are th...</td>\n",
       "      <td>rez</td>\n",
       "    </tr>\n",
       "    <tr>\n",
       "      <th>2</th>\n",
       "      <td>BELLA\\r\\n              God, Jacob, what are th...</td>\n",
       "      <td>rez</td>\n",
       "    </tr>\n",
       "    <tr>\n",
       "      <th>3</th>\n",
       "      <td>He faces forward again, jaw tight, mind workin...</td>\n",
       "      <td>jaw tight</td>\n",
       "    </tr>\n",
       "    <tr>\n",
       "      <th>4</th>\n",
       "      <td>(leans closer, grins)                         ...</td>\n",
       "      <td>grins</td>\n",
       "    </tr>\n",
       "  </tbody>\n",
       "</table>\n",
       "</div>"
      ],
      "text/plain": [
       "                                              script       character\n",
       "0  JACOB BLACK, 16, jogs up, carrying a used car ...  black ponytail\n",
       "1  BELLA\\r\\n              God, Jacob, what are th...             rez\n",
       "2  BELLA\\r\\n              God, Jacob, what are th...             rez\n",
       "3  He faces forward again, jaw tight, mind workin...       jaw tight\n",
       "4  (leans closer, grins)                         ...           grins"
      ]
     },
     "execution_count": 102,
     "metadata": {},
     "output_type": "execute_result"
    }
   ],
   "source": [
    "characters_sentences_df.head()"
   ]
  },
  {
   "cell_type": "code",
   "execution_count": null,
   "metadata": {},
   "outputs": [],
   "source": [
    "# characters_sentences_df.character = characters_sentences_df.character.str.replace(\"\\r\", \"\")\n",
    "# characters_sentences_df.character = characters_sentences_df.character.str.replace(\"\\n\", \"\")\n",
    "# characters_sentences_df.character = characters_sentences_df.character.str.strip()\n",
    "# characters_sentences_df.drop_duplicates(inplace=True)"
   ]
  },
  {
   "cell_type": "code",
   "execution_count": 106,
   "metadata": {},
   "outputs": [],
   "source": [
    "import itertools\n",
    "\n",
    "# https://docs.python.org/3/library/itertools.html"
   ]
  },
  {
   "cell_type": "code",
   "execution_count": 107,
   "metadata": {},
   "outputs": [
    {
     "data": {
      "text/html": [
       "<div>\n",
       "<style scoped>\n",
       "    .dataframe tbody tr th:only-of-type {\n",
       "        vertical-align: middle;\n",
       "    }\n",
       "\n",
       "    .dataframe tbody tr th {\n",
       "        vertical-align: top;\n",
       "    }\n",
       "\n",
       "    .dataframe thead th {\n",
       "        text-align: right;\n",
       "    }\n",
       "</style>\n",
       "<table border=\"1\" class=\"dataframe\">\n",
       "  <thead>\n",
       "    <tr style=\"text-align: right;\">\n",
       "      <th></th>\n",
       "    </tr>\n",
       "  </thead>\n",
       "  <tbody>\n",
       "  </tbody>\n",
       "</table>\n",
       "</div>"
      ],
      "text/plain": [
       "Empty DataFrame\n",
       "Columns: []\n",
       "Index: []"
      ]
     },
     "execution_count": 107,
     "metadata": {},
     "output_type": "execute_result"
    }
   ],
   "source": [
    "char_rows = []\n",
    "def get_character_network(rows):\n",
    "    if len(rows.character) > 1:\n",
    "        chars = rows.character.tolist()\n",
    "        chars.sort()\n",
    "        combos = itertools.combinations(chars, 2)\n",
    "        for c in combos:\n",
    "            char_rows.append({'source': c[0], 'target': c[1]})\n",
    "    # return [{'source': row.character, 'target': char} for char in row.characters_in_script]\n",
    "\n",
    "characters_sentences_df.groupby('script').apply(get_character_network)"
   ]
  },
  {
   "cell_type": "code",
   "execution_count": 108,
   "metadata": {},
   "outputs": [],
   "source": [
    "char_df = pd.DataFrame(char_rows)\n",
    "char_network = char_df.groupby(['source','target']).size().reset_index(name='weight')"
   ]
  },
  {
   "cell_type": "code",
   "execution_count": 109,
   "metadata": {},
   "outputs": [],
   "source": [
    "char_df.to_csv('char_df_network.csv', index=False)"
   ]
  },
  {
   "cell_type": "code",
   "execution_count": null,
   "metadata": {},
   "outputs": [],
   "source": []
  }
 ],
 "metadata": {
  "interpreter": {
   "hash": "b8087021d93a066a5e378473bedf63069d425a0836de933e31df96113e534e5c"
  },
  "kernelspec": {
   "display_name": "Python 3.9.10 ('is310_env': venv)",
   "language": "python",
   "name": "python3"
  },
  "language_info": {
   "codemirror_mode": {
    "name": "ipython",
    "version": 3
   },
   "file_extension": ".py",
   "mimetype": "text/x-python",
   "name": "python",
   "nbconvert_exporter": "python",
   "pygments_lexer": "ipython3",
   "version": "3.9.10"
  },
  "orig_nbformat": 4
 },
 "nbformat": 4,
 "nbformat_minor": 2
}
